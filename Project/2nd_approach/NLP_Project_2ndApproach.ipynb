{
  "cells": [
    {
      "cell_type": "markdown",
      "metadata": {
        "id": "S5K-wU9_43SD"
      },
      "source": [
        "# Setup"
      ]
    },
    {
      "cell_type": "code",
      "execution_count": 8,
      "metadata": {
        "execution": {
          "iopub.execute_input": "2022-12-18T13:16:02.745125Z",
          "iopub.status.busy": "2022-12-18T13:16:02.743912Z",
          "iopub.status.idle": "2022-12-18T13:16:18.963122Z",
          "shell.execute_reply": "2022-12-18T13:16:18.962022Z",
          "shell.execute_reply.started": "2022-12-18T13:16:02.744969Z"
        },
        "id": "l42regX-3cUb",
        "colab": {
          "base_uri": "https://localhost:8080/"
        },
        "outputId": "83a44d16-b751-4ecf-8242-33e27645064a"
      },
      "outputs": [
        {
          "output_type": "stream",
          "name": "stdout",
          "text": [
            "Looking in indexes: https://pypi.org/simple, https://us-python.pkg.dev/colab-wheels/public/simple/\n",
            "Collecting transformers\n",
            "  Downloading transformers-4.25.1-py3-none-any.whl (5.8 MB)\n",
            "\u001b[K     |████████████████████████████████| 5.8 MB 4.7 MB/s \n",
            "\u001b[?25hRequirement already satisfied: tqdm>=4.27 in /usr/local/lib/python3.8/dist-packages (from transformers) (4.64.1)\n",
            "Requirement already satisfied: regex!=2019.12.17 in /usr/local/lib/python3.8/dist-packages (from transformers) (2022.6.2)\n",
            "Requirement already satisfied: filelock in /usr/local/lib/python3.8/dist-packages (from transformers) (3.8.2)\n",
            "Collecting tokenizers!=0.11.3,<0.14,>=0.11.1\n",
            "  Downloading tokenizers-0.13.2-cp38-cp38-manylinux_2_17_x86_64.manylinux2014_x86_64.whl (7.6 MB)\n",
            "\u001b[K     |████████████████████████████████| 7.6 MB 39.1 MB/s \n",
            "\u001b[?25hRequirement already satisfied: pyyaml>=5.1 in /usr/local/lib/python3.8/dist-packages (from transformers) (6.0)\n",
            "Requirement already satisfied: requests in /usr/local/lib/python3.8/dist-packages (from transformers) (2.23.0)\n",
            "Collecting huggingface-hub<1.0,>=0.10.0\n",
            "  Downloading huggingface_hub-0.11.1-py3-none-any.whl (182 kB)\n",
            "\u001b[K     |████████████████████████████████| 182 kB 44.6 MB/s \n",
            "\u001b[?25hRequirement already satisfied: packaging>=20.0 in /usr/local/lib/python3.8/dist-packages (from transformers) (21.3)\n",
            "Requirement already satisfied: numpy>=1.17 in /usr/local/lib/python3.8/dist-packages (from transformers) (1.21.6)\n",
            "Requirement already satisfied: typing-extensions>=3.7.4.3 in /usr/local/lib/python3.8/dist-packages (from huggingface-hub<1.0,>=0.10.0->transformers) (4.4.0)\n",
            "Requirement already satisfied: pyparsing!=3.0.5,>=2.0.2 in /usr/local/lib/python3.8/dist-packages (from packaging>=20.0->transformers) (3.0.9)\n",
            "Requirement already satisfied: urllib3!=1.25.0,!=1.25.1,<1.26,>=1.21.1 in /usr/local/lib/python3.8/dist-packages (from requests->transformers) (1.24.3)\n",
            "Requirement already satisfied: chardet<4,>=3.0.2 in /usr/local/lib/python3.8/dist-packages (from requests->transformers) (3.0.4)\n",
            "Requirement already satisfied: certifi>=2017.4.17 in /usr/local/lib/python3.8/dist-packages (from requests->transformers) (2022.12.7)\n",
            "Requirement already satisfied: idna<3,>=2.5 in /usr/local/lib/python3.8/dist-packages (from requests->transformers) (2.10)\n",
            "Installing collected packages: tokenizers, huggingface-hub, transformers\n",
            "Successfully installed huggingface-hub-0.11.1 tokenizers-0.13.2 transformers-4.25.1\n",
            "Looking in indexes: https://pypi.org/simple, https://us-python.pkg.dev/colab-wheels/public/simple/\n",
            "Collecting datasets\n",
            "  Downloading datasets-2.8.0-py3-none-any.whl (452 kB)\n",
            "\u001b[K     |████████████████████████████████| 452 kB 5.0 MB/s \n",
            "\u001b[?25hCollecting xxhash\n",
            "  Downloading xxhash-3.2.0-cp38-cp38-manylinux_2_17_x86_64.manylinux2014_x86_64.whl (213 kB)\n",
            "\u001b[K     |████████████████████████████████| 213 kB 51.5 MB/s \n",
            "\u001b[?25hRequirement already satisfied: pandas in /usr/local/lib/python3.8/dist-packages (from datasets) (1.3.5)\n",
            "Requirement already satisfied: pyarrow>=6.0.0 in /usr/local/lib/python3.8/dist-packages (from datasets) (9.0.0)\n",
            "Requirement already satisfied: huggingface-hub<1.0.0,>=0.2.0 in /usr/local/lib/python3.8/dist-packages (from datasets) (0.11.1)\n",
            "Requirement already satisfied: dill<0.3.7 in /usr/local/lib/python3.8/dist-packages (from datasets) (0.3.6)\n",
            "Requirement already satisfied: pyyaml>=5.1 in /usr/local/lib/python3.8/dist-packages (from datasets) (6.0)\n",
            "Requirement already satisfied: aiohttp in /usr/local/lib/python3.8/dist-packages (from datasets) (3.8.3)\n",
            "Requirement already satisfied: tqdm>=4.62.1 in /usr/local/lib/python3.8/dist-packages (from datasets) (4.64.1)\n",
            "Requirement already satisfied: numpy>=1.17 in /usr/local/lib/python3.8/dist-packages (from datasets) (1.21.6)\n",
            "Requirement already satisfied: fsspec[http]>=2021.11.1 in /usr/local/lib/python3.8/dist-packages (from datasets) (2022.11.0)\n",
            "Collecting responses<0.19\n",
            "  Downloading responses-0.18.0-py3-none-any.whl (38 kB)\n",
            "Requirement already satisfied: requests>=2.19.0 in /usr/local/lib/python3.8/dist-packages (from datasets) (2.23.0)\n",
            "Collecting multiprocess\n",
            "  Downloading multiprocess-0.70.14-py38-none-any.whl (132 kB)\n",
            "\u001b[K     |████████████████████████████████| 132 kB 52.8 MB/s \n",
            "\u001b[?25hRequirement already satisfied: packaging in /usr/local/lib/python3.8/dist-packages (from datasets) (21.3)\n",
            "Requirement already satisfied: charset-normalizer<3.0,>=2.0 in /usr/local/lib/python3.8/dist-packages (from aiohttp->datasets) (2.1.1)\n",
            "Requirement already satisfied: multidict<7.0,>=4.5 in /usr/local/lib/python3.8/dist-packages (from aiohttp->datasets) (6.0.3)\n",
            "Requirement already satisfied: async-timeout<5.0,>=4.0.0a3 in /usr/local/lib/python3.8/dist-packages (from aiohttp->datasets) (4.0.2)\n",
            "Requirement already satisfied: attrs>=17.3.0 in /usr/local/lib/python3.8/dist-packages (from aiohttp->datasets) (22.1.0)\n",
            "Requirement already satisfied: frozenlist>=1.1.1 in /usr/local/lib/python3.8/dist-packages (from aiohttp->datasets) (1.3.3)\n",
            "Requirement already satisfied: aiosignal>=1.1.2 in /usr/local/lib/python3.8/dist-packages (from aiohttp->datasets) (1.3.1)\n",
            "Requirement already satisfied: yarl<2.0,>=1.0 in /usr/local/lib/python3.8/dist-packages (from aiohttp->datasets) (1.8.2)\n",
            "Requirement already satisfied: filelock in /usr/local/lib/python3.8/dist-packages (from huggingface-hub<1.0.0,>=0.2.0->datasets) (3.8.2)\n",
            "Requirement already satisfied: typing-extensions>=3.7.4.3 in /usr/local/lib/python3.8/dist-packages (from huggingface-hub<1.0.0,>=0.2.0->datasets) (4.4.0)\n",
            "Requirement already satisfied: pyparsing!=3.0.5,>=2.0.2 in /usr/local/lib/python3.8/dist-packages (from packaging->datasets) (3.0.9)\n",
            "Requirement already satisfied: urllib3!=1.25.0,!=1.25.1,<1.26,>=1.21.1 in /usr/local/lib/python3.8/dist-packages (from requests>=2.19.0->datasets) (1.24.3)\n",
            "Requirement already satisfied: certifi>=2017.4.17 in /usr/local/lib/python3.8/dist-packages (from requests>=2.19.0->datasets) (2022.12.7)\n",
            "Requirement already satisfied: chardet<4,>=3.0.2 in /usr/local/lib/python3.8/dist-packages (from requests>=2.19.0->datasets) (3.0.4)\n",
            "Requirement already satisfied: idna<3,>=2.5 in /usr/local/lib/python3.8/dist-packages (from requests>=2.19.0->datasets) (2.10)\n",
            "Collecting urllib3!=1.25.0,!=1.25.1,<1.26,>=1.21.1\n",
            "  Downloading urllib3-1.25.11-py2.py3-none-any.whl (127 kB)\n",
            "\u001b[K     |████████████████████████████████| 127 kB 60.9 MB/s \n",
            "\u001b[?25hRequirement already satisfied: pytz>=2017.3 in /usr/local/lib/python3.8/dist-packages (from pandas->datasets) (2022.6)\n",
            "Requirement already satisfied: python-dateutil>=2.7.3 in /usr/local/lib/python3.8/dist-packages (from pandas->datasets) (2.8.2)\n",
            "Requirement already satisfied: six>=1.5 in /usr/local/lib/python3.8/dist-packages (from python-dateutil>=2.7.3->pandas->datasets) (1.15.0)\n",
            "Installing collected packages: urllib3, xxhash, responses, multiprocess, datasets\n",
            "  Attempting uninstall: urllib3\n",
            "    Found existing installation: urllib3 1.24.3\n",
            "    Uninstalling urllib3-1.24.3:\n",
            "      Successfully uninstalled urllib3-1.24.3\n",
            "Successfully installed datasets-2.8.0 multiprocess-0.70.14 responses-0.18.0 urllib3-1.25.11 xxhash-3.2.0\n",
            "Looking in indexes: https://pypi.org/simple, https://us-python.pkg.dev/colab-wheels/public/simple/\n",
            "Collecting sentence_transformers\n",
            "  Downloading sentence-transformers-2.2.2.tar.gz (85 kB)\n",
            "\u001b[K     |████████████████████████████████| 85 kB 2.7 MB/s \n",
            "\u001b[?25hRequirement already satisfied: transformers<5.0.0,>=4.6.0 in /usr/local/lib/python3.8/dist-packages (from sentence_transformers) (4.25.1)\n",
            "Requirement already satisfied: tqdm in /usr/local/lib/python3.8/dist-packages (from sentence_transformers) (4.64.1)\n",
            "Requirement already satisfied: torch>=1.6.0 in /usr/local/lib/python3.8/dist-packages (from sentence_transformers) (1.13.0+cu116)\n",
            "Requirement already satisfied: torchvision in /usr/local/lib/python3.8/dist-packages (from sentence_transformers) (0.14.0+cu116)\n",
            "Requirement already satisfied: numpy in /usr/local/lib/python3.8/dist-packages (from sentence_transformers) (1.21.6)\n",
            "Requirement already satisfied: scikit-learn in /usr/local/lib/python3.8/dist-packages (from sentence_transformers) (1.0.2)\n",
            "Requirement already satisfied: scipy in /usr/local/lib/python3.8/dist-packages (from sentence_transformers) (1.7.3)\n",
            "Requirement already satisfied: nltk in /usr/local/lib/python3.8/dist-packages (from sentence_transformers) (3.7)\n",
            "Collecting sentencepiece\n",
            "  Downloading sentencepiece-0.1.97-cp38-cp38-manylinux_2_17_x86_64.manylinux2014_x86_64.whl (1.3 MB)\n",
            "\u001b[K     |████████████████████████████████| 1.3 MB 36.0 MB/s \n",
            "\u001b[?25hRequirement already satisfied: huggingface-hub>=0.4.0 in /usr/local/lib/python3.8/dist-packages (from sentence_transformers) (0.11.1)\n",
            "Requirement already satisfied: packaging>=20.9 in /usr/local/lib/python3.8/dist-packages (from huggingface-hub>=0.4.0->sentence_transformers) (21.3)\n",
            "Requirement already satisfied: pyyaml>=5.1 in /usr/local/lib/python3.8/dist-packages (from huggingface-hub>=0.4.0->sentence_transformers) (6.0)\n",
            "Requirement already satisfied: filelock in /usr/local/lib/python3.8/dist-packages (from huggingface-hub>=0.4.0->sentence_transformers) (3.8.2)\n",
            "Requirement already satisfied: typing-extensions>=3.7.4.3 in /usr/local/lib/python3.8/dist-packages (from huggingface-hub>=0.4.0->sentence_transformers) (4.4.0)\n",
            "Requirement already satisfied: requests in /usr/local/lib/python3.8/dist-packages (from huggingface-hub>=0.4.0->sentence_transformers) (2.23.0)\n",
            "Requirement already satisfied: pyparsing!=3.0.5,>=2.0.2 in /usr/local/lib/python3.8/dist-packages (from packaging>=20.9->huggingface-hub>=0.4.0->sentence_transformers) (3.0.9)\n",
            "Requirement already satisfied: regex!=2019.12.17 in /usr/local/lib/python3.8/dist-packages (from transformers<5.0.0,>=4.6.0->sentence_transformers) (2022.6.2)\n",
            "Requirement already satisfied: tokenizers!=0.11.3,<0.14,>=0.11.1 in /usr/local/lib/python3.8/dist-packages (from transformers<5.0.0,>=4.6.0->sentence_transformers) (0.13.2)\n",
            "Requirement already satisfied: click in /usr/local/lib/python3.8/dist-packages (from nltk->sentence_transformers) (7.1.2)\n",
            "Requirement already satisfied: joblib in /usr/local/lib/python3.8/dist-packages (from nltk->sentence_transformers) (1.2.0)\n",
            "Requirement already satisfied: certifi>=2017.4.17 in /usr/local/lib/python3.8/dist-packages (from requests->huggingface-hub>=0.4.0->sentence_transformers) (2022.12.7)\n",
            "Requirement already satisfied: idna<3,>=2.5 in /usr/local/lib/python3.8/dist-packages (from requests->huggingface-hub>=0.4.0->sentence_transformers) (2.10)\n",
            "Requirement already satisfied: chardet<4,>=3.0.2 in /usr/local/lib/python3.8/dist-packages (from requests->huggingface-hub>=0.4.0->sentence_transformers) (3.0.4)\n",
            "Requirement already satisfied: urllib3!=1.25.0,!=1.25.1,<1.26,>=1.21.1 in /usr/local/lib/python3.8/dist-packages (from requests->huggingface-hub>=0.4.0->sentence_transformers) (1.25.11)\n",
            "Requirement already satisfied: threadpoolctl>=2.0.0 in /usr/local/lib/python3.8/dist-packages (from scikit-learn->sentence_transformers) (3.1.0)\n",
            "Requirement already satisfied: pillow!=8.3.*,>=5.3.0 in /usr/local/lib/python3.8/dist-packages (from torchvision->sentence_transformers) (7.1.2)\n",
            "Building wheels for collected packages: sentence-transformers\n",
            "  Building wheel for sentence-transformers (setup.py) ... \u001b[?25l\u001b[?25hdone\n",
            "  Created wheel for sentence-transformers: filename=sentence_transformers-2.2.2-py3-none-any.whl size=125938 sha256=33f2f0f1da5ad05002c71de61f6237a11c8b2bd34ede27e00154849bf4a58a75\n",
            "  Stored in directory: /root/.cache/pip/wheels/5e/6f/8c/d88aec621f3f542d26fac0342bef5e693335d125f4e54aeffe\n",
            "Successfully built sentence-transformers\n",
            "Installing collected packages: sentencepiece, sentence-transformers\n",
            "Successfully installed sentence-transformers-2.2.2 sentencepiece-0.1.97\n",
            "Looking in indexes: https://pypi.org/simple, https://us-python.pkg.dev/colab-wheels/public/simple/\n",
            "Requirement already satisfied: wordcloud in /usr/local/lib/python3.8/dist-packages (1.8.2.2)\n",
            "Requirement already satisfied: matplotlib in /usr/local/lib/python3.8/dist-packages (from wordcloud) (3.2.2)\n",
            "Requirement already satisfied: pillow in /usr/local/lib/python3.8/dist-packages (from wordcloud) (7.1.2)\n",
            "Requirement already satisfied: numpy>=1.6.1 in /usr/local/lib/python3.8/dist-packages (from wordcloud) (1.21.6)\n",
            "Requirement already satisfied: pyparsing!=2.0.4,!=2.1.2,!=2.1.6,>=2.0.1 in /usr/local/lib/python3.8/dist-packages (from matplotlib->wordcloud) (3.0.9)\n",
            "Requirement already satisfied: cycler>=0.10 in /usr/local/lib/python3.8/dist-packages (from matplotlib->wordcloud) (0.11.0)\n",
            "Requirement already satisfied: python-dateutil>=2.1 in /usr/local/lib/python3.8/dist-packages (from matplotlib->wordcloud) (2.8.2)\n",
            "Requirement already satisfied: kiwisolver>=1.0.1 in /usr/local/lib/python3.8/dist-packages (from matplotlib->wordcloud) (1.4.4)\n",
            "Requirement already satisfied: six>=1.5 in /usr/local/lib/python3.8/dist-packages (from python-dateutil>=2.1->matplotlib->wordcloud) (1.15.0)\n"
          ]
        }
      ],
      "source": [
        "!pip install transformers\n",
        "!pip install datasets\n",
        "!pip install sentence_transformers\n",
        "!pip install wordcloud\n",
        "!git clone https://github.com/pan-webis-de/pan-code.git\n",
        "\n",
        "#!sudo apt install texlive texlive-latex-extra texlive-fonts-recommended dvipng\n",
        "#!pip install latex\n",
        "#!sudo apt-get install texlive-latex-extra texlive-fonts-recommended dvipng cm-super\n"
      ]
    },
    {
      "cell_type": "code",
      "execution_count": 7,
      "metadata": {
        "execution": {
          "iopub.execute_input": "2022-12-18T13:16:18.965304Z",
          "iopub.status.busy": "2022-12-18T13:16:18.964990Z",
          "iopub.status.idle": "2022-12-18T13:16:18.970008Z",
          "shell.execute_reply": "2022-12-18T13:16:18.969281Z",
          "shell.execute_reply.started": "2022-12-18T13:16:18.965279Z"
        },
        "id": "dl5GYOw8l6-Q"
      },
      "outputs": [],
      "source": [
        "base_seed = 42"
      ]
    },
    {
      "cell_type": "code",
      "execution_count": 11,
      "metadata": {
        "execution": {
          "iopub.execute_input": "2022-12-18T13:16:18.971424Z",
          "iopub.status.busy": "2022-12-18T13:16:18.971197Z",
          "iopub.status.idle": "2022-12-18T13:16:22.856899Z",
          "shell.execute_reply": "2022-12-18T13:16:22.855916Z",
          "shell.execute_reply.started": "2022-12-18T13:16:18.971404Z"
        },
        "id": "OTUSTPKm45zH"
      },
      "outputs": [],
      "source": [
        "import os\n",
        "import pandas as pd\n",
        "import json\n",
        "from pandas import json_normalize\n",
        "import re\n",
        "import matplotlib.pyplot as plt\n",
        "import numpy as np\n",
        "from sklearn.metrics import classification_report, f1_score\n",
        "from sklearn.metrics.pairwise import cosine_distances\n",
        "import sys\n",
        "\n",
        "import torch\n",
        "\n",
        "import os\n",
        "sys.path.append(os.path.abspath(\"pan-code/clef22/style-change-detection/evaluator\"))\n",
        "from evaluator import *\n",
        "from sentence_transformers import SentenceTransformer, InputExample, util, losses\n",
        "from transformers import AutoTokenizer\n",
        "from torch.utils.data import Dataset, DataLoader\n",
        "from typing import List\n",
        "import random\n",
        "import math\n",
        "\n",
        "\n"
      ]
    },
    {
      "cell_type": "code",
      "execution_count": 2,
      "metadata": {
        "execution": {
          "iopub.execute_input": "2022-12-16T12:25:09.586711Z",
          "iopub.status.busy": "2022-12-16T12:25:09.586130Z",
          "iopub.status.idle": "2022-12-16T12:25:09.590233Z",
          "shell.execute_reply": "2022-12-16T12:25:09.589379Z",
          "shell.execute_reply.started": "2022-12-16T12:25:09.586690Z"
        },
        "id": "iknl4m6W5AJ3"
      },
      "outputs": [],
      "source": [
        "#!unzip pan22.zip\n"
      ]
    },
    {
      "cell_type": "markdown",
      "metadata": {
        "id": "waLaH04b5acW"
      },
      "source": [
        "#  Data management"
      ]
    },
    {
      "cell_type": "code",
      "execution_count": 4,
      "metadata": {
        "execution": {
          "iopub.execute_input": "2022-12-18T13:16:22.859803Z",
          "iopub.status.busy": "2022-12-18T13:16:22.859070Z",
          "iopub.status.idle": "2022-12-18T13:16:22.870549Z",
          "shell.execute_reply": "2022-12-18T13:16:22.869878Z",
          "shell.execute_reply.started": "2022-12-18T13:16:22.859768Z"
        },
        "id": "x3VMjBTq5f-b"
      },
      "outputs": [],
      "source": [
        "def create_dataframe(directory : str):\n",
        "  \"\"\"\n",
        "  Read a set of individual files in the PAN original format from a directory and\n",
        "  parse the result into a single dataframe\n",
        "  \"\"\"\n",
        "  \n",
        "  train_set = []\n",
        "  for filename in os.listdir(directory):\n",
        "      f = os.path.join(directory, filename)\n",
        "      if f.endswith('.json'):\n",
        "            train_set.append(f)\n",
        "\n",
        "  train_set.sort(key=lambda f: int(re.sub('\\D', '', f))) #sorting alphabetically files by name in order to have the correct order\n",
        "\n",
        "  data = []\n",
        "  for name in train_set:\n",
        "    with open(name) as json_data:\n",
        "      data_dict = json.load(json_data)\n",
        "      data.append(data_dict)\n",
        "\n",
        "  df = json_normalize(data)\n",
        "  \n",
        "  train_set_text = []\n",
        "  for filename in os.listdir(directory):\n",
        "      f = os.path.join(directory, filename)\n",
        "      if f.endswith('.txt'):\n",
        "            train_set_text.append(f)\n",
        "\n",
        "  train_set_text.sort(key=lambda f: int(re.sub('\\D', '', f)))\n",
        "\n",
        "  text_list = []\n",
        "  for file in train_set_text:\n",
        "    with open(file) as f:\n",
        "      content = f.read()\n",
        "      text_list.append(content)\n",
        "\n",
        "  df['input_text'] = text_list\n",
        "\n",
        "  splitted_text = []\n",
        "  for text in df['input_text']:\n",
        "    split = text.splitlines()\n",
        "    splitted_text.append(split)\n",
        "\n",
        "  df['splitted_text'] = pd.Series(splitted_text)\n",
        "\n",
        "  #Sanity check, checking if we have splitted correctly (according to the datset) the input text \n",
        "  for i in range(len(df.index)):\n",
        "    if len(df['splitted_text'].iloc[i]) != len(df['paragraph-authors'].iloc[i]):\n",
        "      print(\"we have a problem at row: \",i)\n",
        "    \n",
        "  return df"
      ]
    },
    {
      "cell_type": "code",
      "execution_count": 12,
      "metadata": {
        "execution": {
          "iopub.execute_input": "2022-12-18T13:16:22.872354Z",
          "iopub.status.busy": "2022-12-18T13:16:22.871584Z",
          "iopub.status.idle": "2022-12-18T13:16:22.875954Z",
          "shell.execute_reply": "2022-12-18T13:16:22.875428Z",
          "shell.execute_reply.started": "2022-12-18T13:16:22.872323Z"
        },
        "id": "tErOjgmyEBRl"
      },
      "outputs": [],
      "source": [
        "device = torch.device(\"cuda\") if torch.cuda.is_available() else torch.device(\"cpu\")\n"
      ]
    },
    {
      "cell_type": "markdown",
      "metadata": {
        "id": "bTcl2Wh33uEf"
      },
      "source": [
        "# Utility functions"
      ]
    },
    {
      "cell_type": "code",
      "execution_count": 17,
      "metadata": {
        "execution": {
          "iopub.execute_input": "2022-12-18T13:16:22.877395Z",
          "iopub.status.busy": "2022-12-18T13:16:22.876831Z",
          "iopub.status.idle": "2022-12-18T13:16:22.880751Z",
          "shell.execute_reply": "2022-12-18T13:16:22.880270Z",
          "shell.execute_reply.started": "2022-12-18T13:16:22.877372Z"
        },
        "id": "6Lyavd_illKM"
      },
      "outputs": [],
      "source": [
        "def set_reproducibility(seed):\n",
        "  random.seed(seed)\n",
        "  np.random.seed(seed)\n",
        "  \n",
        "  # Pytorch\n",
        "  torch.use_deterministic_algorithms(True)\n",
        "  torch.manual_seed(seed)"
      ]
    },
    {
      "cell_type": "code",
      "execution_count": null,
      "metadata": {
        "execution": {
          "iopub.execute_input": "2022-12-18T13:16:22.882182Z",
          "iopub.status.busy": "2022-12-18T13:16:22.881626Z",
          "iopub.status.idle": "2022-12-18T13:16:22.890408Z",
          "shell.execute_reply": "2022-12-18T13:16:22.889780Z",
          "shell.execute_reply.started": "2022-12-18T13:16:22.882159Z"
        },
        "id": "fFQT7Xql3yOI"
      },
      "outputs": [],
      "source": [
        "def create_contrastive_examples(documents : List[List[str]], authors : List[List[str]], tokenizer : AutoTokenizer, max_length : int, max_samples : int):\n",
        "  \"\"\"\n",
        "  Build a contrastive dataset from a set of passages and the authors they were written by\n",
        "  If the created dataset contains more samples than the max_samples parameter, discard the excess ones\n",
        "\n",
        "  :param documents: The documents from which to sample examples\n",
        "  :param authors: The author list for the relative documents \n",
        "  :param tokenizer: Model tokenizer\n",
        "  :param max_length: Maximum length of the tokenization step\n",
        "  :param max_samples: Maximum number of samples to return, if None no limit is set \n",
        "  \"\"\"\n",
        "  rows = []\n",
        "  # Splitting data.\n",
        "  for document, author in zip(documents, authors):\n",
        "    if len(author) != len(document):\n",
        "      continue\n",
        "    for i in range(len(document)):\n",
        "      for j in range(len(document)):\n",
        "        if i != j:\n",
        "          new_row = {}\n",
        "\n",
        "          text1 = document[i][:sum([len(t) + 1 for t in tokenizer.tokenize(document[i])[:max_length]])]\n",
        "          text2 = document[j][:sum([len(t) + 1 for t in tokenizer.tokenize(document[j])[:max_length]])]\n",
        "\n",
        "          new_row[\"text1\"] = text1\n",
        "          new_row[\"text2\"] = text2\n",
        "\n",
        "          if author[i] != author[j]:\n",
        "            new_row[\"label\"] = 0 # 0 if different\n",
        "          else:\n",
        "            new_row[\"label\"] = 1 # 1 if same\n",
        "\n",
        "          rows.append(new_row)\n",
        "\n",
        "  df = pd.DataFrame(rows, columns=['text1', 'text2', 'label'])\n",
        "\n",
        "  # Sample the required positive and negative samples\n",
        "  pos_samples = df[df[\"label\"] == 1]\n",
        "  neg_samples = df[df[\"label\"] == 0]\n",
        "  print(len(pos_samples))\n",
        "  print(len(neg_samples))\n",
        "  if len(pos_samples) > max_samples//2:\n",
        "      pos_samples = pos_samples.sample(max_samples//2)\n",
        "  if len(neg_samples) > max_samples//2:\n",
        "      neg_samples = neg_samples.sample(max_samples//2)    \n",
        "\n",
        "  df = pd.concat([pos_samples, neg_samples], axis=0, ignore_index=True).sample(frac=1)\n",
        "\n",
        "  # From this create a dataset which can be handled by sentence-transformers\n",
        "  train_examples = []\n",
        "  for i, row in df.iterrows():\n",
        "    train_examples.append(InputExample(texts=[row[\"text1\"], row[\"text2\"]], label=row[\"label\"]))\n",
        "  \n",
        "  return np.array(train_examples)"
      ]
    },
    {
      "cell_type": "code",
      "execution_count": null,
      "metadata": {
        "execution": {
          "iopub.execute_input": "2022-12-18T13:16:22.892060Z",
          "iopub.status.busy": "2022-12-18T13:16:22.891576Z",
          "iopub.status.idle": "2022-12-18T13:16:22.907782Z",
          "shell.execute_reply": "2022-12-18T13:16:22.907309Z",
          "shell.execute_reply.started": "2022-12-18T13:16:22.892036Z"
        },
        "id": "pajDaJa9B2Pe"
      },
      "outputs": [],
      "source": [
        "# Semi hard/hard negative mining\n",
        "# Create triplet dataset\n",
        "def create_triplet_examples(documents : List[List[str]], authors : List[List[str]], tokenizer : AutoTokenizer, max_length : int, n_per_document : int,\n",
        "                            max_samples : int, model : SentenceTransformer, margin : float, mine_all=True, mine_hard=False, mine_semihard = False, is_task1 = False):\n",
        "  \"\"\"\n",
        "  Build a triplet dataset from a set of passages and the authors they were written by\n",
        "  If the created dataset contains more samples than the max_samples parameter, discard the excess ones\n",
        "  :param documents: The documents from which to sample examples\n",
        "  :param authors: The author list for the relative documents \n",
        "  :param tokenizer: Model tokenizer\n",
        "  :param max_length: Maximum length of the tokenization step\n",
        "  :param n_per_document: how many triplets to sample from each document at most\n",
        "  :param max_samples: Maximum number of samples to return, if None no limit is set \n",
        "  :param model: Untrained model, used to check which examples are easy/hard/semi-hard \n",
        "  :param margin: Model margin\n",
        "  :param mine_all: if true do not care about easy/hard examples and take all of them\n",
        "  :param mine_hard: if true mine hard examples\n",
        "  :param mine_semihard: if true mine semi-hard examples\n",
        "  :param is_task1: set to true if the current task is task1, where we want to mine the change\n",
        "  \"\"\"\n",
        "  rows = []\n",
        "  rows_hard = []\n",
        "  rows_shard = []\n",
        "  # Splitting data.\n",
        "  for document, author in zip(documents, authors):\n",
        "    used_idxs = []\n",
        "    n_remaining = n_per_document\n",
        "    \n",
        "    # Get the indexes of each author\n",
        "    author_idxs = {}\n",
        "    for index, value in enumerate(author):\n",
        "      if value not in author_idxs:\n",
        "          author_idxs[value] = []\n",
        "      author_idxs[value].append(index)\n",
        "    \n",
        "    if is_task1:\n",
        "      # Take the hard example (the change one)\n",
        "      changes = [int(author[i] == author[i+1]) for i in range(len(author)-1)]\n",
        "      change_idx = changes.index(0)\n",
        "\n",
        "      try:\n",
        "        a_idx = random.choice([x for x in author_idxs[author[change_idx]] if x != change_idx])\n",
        "      except IndexError:\n",
        "        continue\n",
        "      pos_idx = change_idx\n",
        "      neg_idx = change_idx+1\n",
        "\n",
        "      new_row = {}\n",
        "\n",
        "      new_row[\"anchor\"] = document[a_idx][:sum([len(t) + 1 for t in tokenizer.tokenize(document[a_idx])[:max_length]])]\n",
        "      new_row[\"pos\"] = document[pos_idx][:sum([len(t) + 1 for t in tokenizer.tokenize(document[pos_idx])[:max_length]])]\n",
        "      new_row[\"neg\"] = document[neg_idx][:sum([len(t) + 1 for t in tokenizer.tokenize(document[neg_idx])[:max_length]])]\n",
        "\n",
        "      rows_shard.append(new_row)\n",
        "      used_idxs.append((a_idx, pos_idx, neg_idx))\n",
        "\n",
        "      n_remaining -= 1\n",
        "    else:\n",
        "      if all([len(author_idxs[k])==1 for k in author_idxs]):\n",
        "          continue\n",
        "\n",
        "    # I could compute how many combinations are possible but it's too hard\n",
        "    idx_errors = 0\n",
        "    while n_remaining > 0:\n",
        "      if idx_errors > 5:\n",
        "        break\n",
        "      try:\n",
        "        # Sample a random author\n",
        "        anchor_author = random.choice(list(author_idxs.keys()))\n",
        "\n",
        "        # Get a paragraph from that author (anchor)\n",
        "        a_idx = random.choice(author_idxs[anchor_author])\n",
        "\n",
        "        # Get another paragraph from the same author\n",
        "        pos_idx = random.choice([x for x in author_idxs[anchor_author] if x != a_idx])\n",
        "\n",
        "        # Sample another author\n",
        "        neg_author = random.choice([x for x in list(author_idxs.keys()) if x != anchor_author])\n",
        "\n",
        "        # Get a paragraph from that author\n",
        "        neg_idx = random.choice(author_idxs[neg_author])\n",
        "      except IndexError:\n",
        "        idx_errors += 1\n",
        "        continue\n",
        "\n",
        "      if (a_idx, pos_idx, neg_idx) in used_idxs:\n",
        "        idx_errors += 1\n",
        "        continue\n",
        "\n",
        "      else:\n",
        "        used_idxs.append((a_idx, pos_idx, neg_idx))\n",
        "        new_row = {}\n",
        "\n",
        "        new_row[\"anchor\"] = document[a_idx][:sum([len(t) + 1 for t in tokenizer.tokenize(document[a_idx])[:max_length]])]\n",
        "        new_row[\"pos\"] = document[pos_idx][:sum([len(t) + 1 for t in tokenizer.tokenize(document[pos_idx])[:max_length]])]\n",
        "        new_row[\"neg\"] = document[neg_idx][:sum([len(t) + 1 for t in tokenizer.tokenize(document[neg_idx])[:max_length]])]\n",
        "\n",
        "        if mine_hard or mine_semihard:\n",
        "          # Compute embeddings\n",
        "          a_embedding = model.encode([new_row[\"anchor\"]], convert_to_tensor=True)\n",
        "          p_embedding = model.encode([new_row[\"pos\"]], convert_to_tensor=True)\n",
        "          n_embedding = model.encode([new_row[\"neg\"]], convert_to_tensor=True)\n",
        "\n",
        "          # Compute distance between anchor and positive\n",
        "          a_p_dist = 1 - util.cos_sim(a_embedding, p_embedding).cpu().item()\n",
        "          # Compute distance between anchor and negative\n",
        "          a_n_dist = 1 - util.cos_sim(a_embedding, n_embedding).cpu().item()\n",
        "\n",
        "          if a_n_dist < a_p_dist:\n",
        "            # Hard example\n",
        "            if mine_hard:\n",
        "              rows_hard.append(new_row)\n",
        "          elif a_n_dist < a_p_dist + margin and a_n_dist > a_p_dist:\n",
        "            # Semi hard example\n",
        "            if mine_semihard:\n",
        "              rows_shard.append(new_row)\n",
        "          else:\n",
        "            if mine_all:\n",
        "              rows.append(new_row)\n",
        "          n_remaining -= 1\n",
        "        else:\n",
        "          rows.append(new_row)\n",
        "          n_remaining -= 1\n",
        "\n",
        "  print(f\"N easy:{len(rows)}, N hard: {len(rows_hard)}, N semihard:{len(rows_shard)}\")\n",
        "  random.shuffle(rows_shard)\n",
        "  random.shuffle(rows_hard)\n",
        "  random.shuffle(rows)\n",
        "\n",
        "  all_rows = [*rows_shard, *rows_hard, *rows]\n",
        "  if len(all_rows) < max_samples:\n",
        "    all_rows = all_rows[:max_samples]\n",
        "  print(len(all_rows))\n",
        "\n",
        "  df = pd.DataFrame(all_rows, columns=['anchor', 'pos', 'neg'])\n",
        "\n",
        "  # From this create a dataset which can be handled by sentence-transformers\n",
        "  train_examples = []\n",
        "  for i, row in df.iterrows():\n",
        "    train_examples.append(InputExample(texts=[row[\"anchor\"], row[\"pos\"], row[\"neg\"]]))\n",
        "  \n",
        "  return np.array(train_examples)"
      ]
    },
    {
      "cell_type": "code",
      "execution_count": null,
      "metadata": {
        "execution": {
          "iopub.execute_input": "2022-12-18T13:16:23.128033Z",
          "iopub.status.busy": "2022-12-18T13:16:23.127124Z",
          "iopub.status.idle": "2022-12-18T13:16:23.136538Z",
          "shell.execute_reply": "2022-12-18T13:16:23.136052Z",
          "shell.execute_reply.started": "2022-12-18T13:16:23.127999Z"
        },
        "id": "aDR4Tq1oDwL3"
      },
      "outputs": [],
      "source": [
        "def compute_same_diff_contrastive(model : SentenceTransformer, dataloader : DataLoader):\n",
        "  \"\"\"\n",
        "  Function used on a contrastive dataset to evaluate model predictions wrt similarity\n",
        "  Separates training samples in 2 groups, those which represent same-author examples and those which represent different-authors examples\n",
        "  Returns two lists, one containing the computed similarities for the first set and one for the second set\n",
        "\n",
        "  :param model: Trained model\n",
        "  :param dataloader: Train dataloader\n",
        "  \"\"\"\n",
        "  model = model.to(device)\n",
        "  model.eval()\n",
        "  same_sims = []\n",
        "  diff_sims = []\n",
        "\n",
        "  for idx, batch in enumerate(dataloader):\n",
        "      author_info = batch[1]\n",
        "\n",
        "      with torch.no_grad():\n",
        "          text1 = {k:batch[0][0][k].to(device) for k in batch[0][0]}\n",
        "          embeddings1 = model(text1)[\"sentence_embedding\"]\n",
        "\n",
        "          text2 = {k:batch[0][1][k].to(device) for k in batch[0][1]}\n",
        "          embeddings2 = model(text2)[\"sentence_embedding\"]\n",
        "          \n",
        "      \n",
        "      for i in range(len(author_info)):\n",
        "          same = author_info[i]\n",
        "          sim = util.cos_sim(embeddings1[i], embeddings2[i]).cpu().item()\n",
        "          if same == 1:\n",
        "              same_sims.append(sim)\n",
        "          else:\n",
        "              diff_sims.append(sim)\n",
        "  return same_sims, diff_sims\n",
        "\n",
        "def compute_same_diff_triplet(model : SentenceTransformer, dataloader : DataLoader):\n",
        "  \"\"\"\n",
        "  Function used on a triplet dataset to evaluate model predictions wrt similarity\n",
        "  For each triplet example computes the similarity between the anchor and the positive and puts the result in set1, then computes\n",
        "  the similarity between the anchor and the negative and puts the result in set2\n",
        "  Returns two lists, one containing the computed similarities for the first set and one for the second set\n",
        "\n",
        "  :param model: Trained model\n",
        "  :param dataloader: Train dataloader\n",
        "  \"\"\"\n",
        "  model.eval()\n",
        "  same_sims = []\n",
        "  diff_sims = []\n",
        "\n",
        "  for idx, batch in enumerate(dataloader):\n",
        "      with torch.no_grad():\n",
        "          anchor = {k:batch[0][0][k].to(device) for k in batch[0][0]}\n",
        "          embeddings_a = model(anchor)[\"sentence_embedding\"]\n",
        "\n",
        "          pos = {k:batch[0][1][k].to(device) for k in batch[0][1]}\n",
        "          embeddings_p = model(pos)[\"sentence_embedding\"]\n",
        "\n",
        "          neg = {k:batch[0][2][k].to(device) for k in batch[0][2]}\n",
        "          embeddings_n = model(neg)[\"sentence_embedding\"]\n",
        "\n",
        "      for i in range(anchor[\"input_ids\"].shape[0]):\n",
        "\n",
        "          sim_pos = util.cos_sim(embeddings_a[i], embeddings_p[i]).cpu().item()\n",
        "          sim_neg = util.cos_sim(embeddings_a[i], embeddings_n[i]).cpu().item()\n",
        "\n",
        "          same_sims.append(sim_pos)\n",
        "          \n",
        "          diff_sims.append(sim_neg)\n",
        "  return same_sims, diff_sims"
      ]
    },
    {
      "cell_type": "markdown",
      "metadata": {
        "id": "0EK6Vg7s7Uj0"
      },
      "source": [
        "# Task 1\n",
        "\n"
      ]
    },
    {
      "cell_type": "markdown",
      "source": [
        "The first task. The objective is given a set of sentences to find the point where the author of those sentences change.\n",
        "In task 1 there is only a single occurrence of this change"
      ],
      "metadata": {
        "id": "UZUZZOWezpKC"
      }
    },
    {
      "cell_type": "code",
      "execution_count": null,
      "metadata": {
        "colab": {
          "base_uri": "https://localhost:8080/",
          "height": 206
        },
        "execution": {
          "iopub.execute_input": "2022-12-17T15:49:17.512905Z",
          "iopub.status.busy": "2022-12-17T15:49:17.512374Z",
          "iopub.status.idle": "2022-12-17T15:49:27.157608Z",
          "shell.execute_reply": "2022-12-17T15:49:27.156633Z",
          "shell.execute_reply.started": "2022-12-17T15:49:17.512865Z"
        },
        "id": "vclzpkhN7WEQ",
        "outputId": "bc88a409-1926-44f2-d9fc-539fc6219fa0"
      },
      "outputs": [
        {
          "data": {
            "text/html": [
              "<div>\n",
              "<style scoped>\n",
              "    .dataframe tbody tr th:only-of-type {\n",
              "        vertical-align: middle;\n",
              "    }\n",
              "\n",
              "    .dataframe tbody tr th {\n",
              "        vertical-align: top;\n",
              "    }\n",
              "\n",
              "    .dataframe thead th {\n",
              "        text-align: right;\n",
              "    }\n",
              "</style>\n",
              "<table border=\"1\" class=\"dataframe\">\n",
              "  <thead>\n",
              "    <tr style=\"text-align: right;\">\n",
              "      <th></th>\n",
              "      <th>authors</th>\n",
              "      <th>site</th>\n",
              "      <th>multi-author</th>\n",
              "      <th>changes</th>\n",
              "      <th>paragraph-authors</th>\n",
              "      <th>input_text</th>\n",
              "      <th>splitted_text</th>\n",
              "    </tr>\n",
              "  </thead>\n",
              "  <tbody>\n",
              "    <tr>\n",
              "      <th>0</th>\n",
              "      <td>2</td>\n",
              "      <td>serverfault.com.7z</td>\n",
              "      <td>1</td>\n",
              "      <td>[0, 0, 1, 0, 0]</td>\n",
              "      <td>[1, 1, 1, 2, 2, 2]</td>\n",
              "      <td>If you can handle a slight delay in the data y...</td>\n",
              "      <td>[If you can handle a slight delay in the data ...</td>\n",
              "    </tr>\n",
              "    <tr>\n",
              "      <th>1</th>\n",
              "      <td>2</td>\n",
              "      <td>serverfault.com.7z</td>\n",
              "      <td>1</td>\n",
              "      <td>[0, 1, 0, 0, 0, 0]</td>\n",
              "      <td>[1, 1, 2, 2, 2, 2, 2]</td>\n",
              "      <td>I figured i'd share my method which worked to ...</td>\n",
              "      <td>[I figured i'd share my method which worked to...</td>\n",
              "    </tr>\n",
              "    <tr>\n",
              "      <th>2</th>\n",
              "      <td>2</td>\n",
              "      <td>networkengineering.stackexchange.com.7z</td>\n",
              "      <td>1</td>\n",
              "      <td>[1, 0, 0, 0]</td>\n",
              "      <td>[1, 2, 2, 2, 2]</td>\n",
              "      <td>This is not possible the way I want to impleme...</td>\n",
              "      <td>[This is not possible the way I want to implem...</td>\n",
              "    </tr>\n",
              "    <tr>\n",
              "      <th>3</th>\n",
              "      <td>2</td>\n",
              "      <td>serverfault.com.7z</td>\n",
              "      <td>1</td>\n",
              "      <td>[0, 0, 0, 0, 1, 0, 0, 0, 0]</td>\n",
              "      <td>[1, 1, 1, 1, 1, 2, 2, 2, 2, 2]</td>\n",
              "      <td>We have central HQ building and a lot of small...</td>\n",
              "      <td>[We have central HQ building and a lot of smal...</td>\n",
              "    </tr>\n",
              "    <tr>\n",
              "      <th>4</th>\n",
              "      <td>2</td>\n",
              "      <td>cstheory.stackexchange.com.7z</td>\n",
              "      <td>1</td>\n",
              "      <td>[1, 0, 0]</td>\n",
              "      <td>[1, 2, 2, 2]</td>\n",
              "      <td>Moser's proof of the constructive Lovasz Local...</td>\n",
              "      <td>[Moser's proof of the constructive Lovasz Loca...</td>\n",
              "    </tr>\n",
              "  </tbody>\n",
              "</table>\n",
              "</div>"
            ],
            "text/plain": [
              "   authors                                     site  multi-author  \\\n",
              "0        2                       serverfault.com.7z             1   \n",
              "1        2                       serverfault.com.7z             1   \n",
              "2        2  networkengineering.stackexchange.com.7z             1   \n",
              "3        2                       serverfault.com.7z             1   \n",
              "4        2            cstheory.stackexchange.com.7z             1   \n",
              "\n",
              "                       changes               paragraph-authors  \\\n",
              "0              [0, 0, 1, 0, 0]              [1, 1, 1, 2, 2, 2]   \n",
              "1           [0, 1, 0, 0, 0, 0]           [1, 1, 2, 2, 2, 2, 2]   \n",
              "2                 [1, 0, 0, 0]                 [1, 2, 2, 2, 2]   \n",
              "3  [0, 0, 0, 0, 1, 0, 0, 0, 0]  [1, 1, 1, 1, 1, 2, 2, 2, 2, 2]   \n",
              "4                    [1, 0, 0]                    [1, 2, 2, 2]   \n",
              "\n",
              "                                          input_text  \\\n",
              "0  If you can handle a slight delay in the data y...   \n",
              "1  I figured i'd share my method which worked to ...   \n",
              "2  This is not possible the way I want to impleme...   \n",
              "3  We have central HQ building and a lot of small...   \n",
              "4  Moser's proof of the constructive Lovasz Local...   \n",
              "\n",
              "                                       splitted_text  \n",
              "0  [If you can handle a slight delay in the data ...  \n",
              "1  [I figured i'd share my method which worked to...  \n",
              "2  [This is not possible the way I want to implem...  \n",
              "3  [We have central HQ building and a lot of smal...  \n",
              "4  [Moser's proof of the constructive Lovasz Loca...  "
            ]
          },
          "execution_count": 18,
          "metadata": {},
          "output_type": "execute_result"
        }
      ],
      "source": [
        "train_directory = './dataset1/train'\n",
        "df_train = create_dataframe(train_directory)\n",
        "df_train.head()\n",
        "\n",
        "valid_directory = './dataset1/validation'\n",
        "df_valid = create_dataframe(valid_directory)\n",
        "df_valid.head()"
      ]
    },
    {
      "cell_type": "markdown",
      "source": [
        "### Inference strategy\n",
        "Given a SentenceTransformer model encoder and a set of sentences we predict where the change of author happens with the following approach:\n",
        "- For each successive pair of passages compute their embeddings using the model\n",
        "- Compute the cosine similarity between these embeddings, this is the similarity between the two passages according to our model\n",
        "- Find the least similar successive passages, the change is set to happen there"
      ],
      "metadata": {
        "id": "q_2yBzGyudGb"
      }
    },
    {
      "cell_type": "code",
      "execution_count": null,
      "metadata": {
        "execution": {
          "iopub.execute_input": "2022-12-17T16:20:05.851214Z",
          "iopub.status.busy": "2022-12-17T16:20:05.850852Z",
          "iopub.status.idle": "2022-12-17T16:20:05.858123Z",
          "shell.execute_reply": "2022-12-17T16:20:05.857275Z",
          "shell.execute_reply.started": "2022-12-17T16:20:05.851187Z"
        },
        "id": "wYrxQNi14oIq"
      },
      "outputs": [],
      "source": [
        "def prediction_task1(model : SentenceTransformer, sentences : List[str]):\n",
        "  \"\"\"\n",
        "  Perform inference on a set of sentences\n",
        "  \"\"\"\n",
        "\n",
        "  # Get metric embeddings\n",
        "  embeddings = model.encode(sentences, convert_to_tensor=True)\n",
        "\n",
        "  similarity_scores = []\n",
        "  # For each successive embedding find their similarity\n",
        "  for i in range(len(sentences)-1):\n",
        "    sim = util.cos_sim(embeddings[i], embeddings[i+1])\n",
        "    similarity_scores.append(sim.item()) \n",
        "  \n",
        "  # Put the change at the position where similarity is lowest\n",
        "  change_idx = np.argmin(similarity_scores)\n",
        "\n",
        "  out_changes = np.zeros(len(similarity_scores))\n",
        "  out_changes[change_idx] = 1\n",
        "  return out_changes\n",
        "\n",
        "# Evaluator function\n",
        "def evaluate_mmodel_task1(model : SentenceTransformer, df : pd.DataFrame, save_pred_to_disk=None):\n",
        "  \"\"\"\n",
        "  Evaluate a SentenceTransformer encoder model using the task1 inference method on a dataframe of examples\n",
        "  \"\"\"\n",
        "  valid_labels = []\n",
        "  y_preds = []\n",
        "\n",
        "  for i, row in df.iterrows():\n",
        "    sentences = row[\"splitted_text\"]\n",
        "\n",
        "    out_changes = prediction_task1(model, sentences)\n",
        "    valid_labels += row[\"changes\"]\n",
        "\n",
        "    y_preds += list(out_changes)\n",
        "\n",
        "\n",
        "  print(classification_report(valid_labels, y_preds))\n",
        "  if not save_pred_to_disk is None:\n",
        "    np.save(save_pred_to_disk, y_preds)\n"
      ]
    },
    {
      "cell_type": "markdown",
      "metadata": {
        "id": "YuuBWHGN_u6q"
      },
      "source": [
        "## Model 1 - Frozen SBERT\n"
      ]
    },
    {
      "cell_type": "markdown",
      "source": [
        "The first baseline model, where no training is performed and the inference strategy is used as is"
      ],
      "metadata": {
        "id": "Cdgw9Z6ozJYL"
      }
    },
    {
      "cell_type": "code",
      "execution_count": null,
      "metadata": {
        "execution": {
          "iopub.execute_input": "2022-12-16T12:25:09.772341Z",
          "iopub.status.busy": "2022-12-16T12:25:09.772182Z",
          "iopub.status.idle": "2022-12-16T12:25:11.012863Z",
          "shell.execute_reply": "2022-12-16T12:25:11.012246Z",
          "shell.execute_reply.started": "2022-12-16T12:25:09.772327Z"
        },
        "id": "buUTkjJeveRc"
      },
      "outputs": [],
      "source": [
        "set_reproducibility(base_seed)\n",
        "# Instantiate model\n",
        "#model_type = \"all-mpnet-base-v2\"\n",
        "model_type = 'AnnaWegmann/Style-Embedding'\n",
        "\n",
        "model = SentenceTransformer(model_type)\n"
      ]
    },
    {
      "cell_type": "code",
      "execution_count": null,
      "metadata": {
        "colab": {
          "base_uri": "https://localhost:8080/"
        },
        "execution": {
          "iopub.execute_input": "2022-12-16T12:25:11.013850Z",
          "iopub.status.busy": "2022-12-16T12:25:11.013668Z",
          "iopub.status.idle": "2022-12-16T12:25:19.649116Z",
          "shell.execute_reply": "2022-12-16T12:25:19.648489Z",
          "shell.execute_reply.started": "2022-12-16T12:25:11.013833Z"
        },
        "id": "d-EBEGGKwIdR",
        "outputId": "be11858b-1c06-44f5-b2ba-29408411db7b"
      },
      "outputs": [
        {
          "name": "stdout",
          "output_type": "stream",
          "text": [
            "              precision    recall  f1-score   support\n",
            "\n",
            "           0       0.91      0.91      0.91      1841\n",
            "           1       0.48      0.48      0.48       300\n",
            "\n",
            "    accuracy                           0.85      2141\n",
            "   macro avg       0.70      0.70      0.70      2141\n",
            "weighted avg       0.85      0.85      0.85      2141\n",
            "\n"
          ]
        }
      ],
      "source": [
        "evaluate_mmodel_task1(model, df_valid)"
      ]
    },
    {
      "cell_type": "markdown",
      "metadata": {
        "id": "pZl-4KF-_2B4"
      },
      "source": [
        "## Model 2 - Trained SBERT with contrastive loss \n"
      ]
    },
    {
      "cell_type": "markdown",
      "source": [
        "Second model, build a contrastive dataset and train the model using contrastive loss.  \n",
        "A single sample of this dataset is a triplet composed of:\n",
        "- a passage $x_1$\n",
        "- a passage $x_2$\n",
        "- An integer, either 0 or 1, in the first case the author of the two passages is the same, in the second case the two passages were written by different authors."
      ],
      "metadata": {
        "id": "bpLi5FLUzbod"
      }
    },
    {
      "cell_type": "code",
      "execution_count": null,
      "metadata": {
        "execution": {
          "iopub.execute_input": "2022-12-16T12:25:19.650410Z",
          "iopub.status.busy": "2022-12-16T12:25:19.650233Z",
          "iopub.status.idle": "2022-12-16T12:25:20.756976Z",
          "shell.execute_reply": "2022-12-16T12:25:20.756382Z",
          "shell.execute_reply.started": "2022-12-16T12:25:19.650395Z"
        },
        "id": "mq5UvyxUAXXg"
      },
      "outputs": [],
      "source": [
        "set_reproducibility(base_seed)\n",
        "# Instantiate model\n",
        "\n",
        "#model_type = \"all-mpnet-base-v2\"\n",
        "model_type = 'AnnaWegmann/Style-Embedding'\n",
        "\n",
        "model = SentenceTransformer(model_type)"
      ]
    },
    {
      "cell_type": "code",
      "execution_count": null,
      "metadata": {
        "execution": {
          "iopub.execute_input": "2022-12-16T12:25:20.758219Z",
          "iopub.status.busy": "2022-12-16T12:25:20.758043Z",
          "iopub.status.idle": "2022-12-16T12:38:37.965855Z",
          "shell.execute_reply": "2022-12-16T12:38:37.965410Z",
          "shell.execute_reply.started": "2022-12-16T12:25:20.758203Z"
        },
        "id": "K9OqOZDC_4ZR",
        "colab": {
          "referenced_widgets": [
            "5ede8c0c3fe9438c9748fa084b674619",
            "467814c4f3564f2bb7bf08394f907757",
            "e1b81839cd9748e8b1ac2cc979518f1f"
          ]
        },
        "outputId": "a6832f06-7d60-41ad-89af-fea4bed7db9e"
      },
      "outputs": [
        {
          "name": "stdout",
          "output_type": "stream",
          "text": [
            "62682\n",
            "39578\n",
            "Dataset size: 20000\n"
          ]
        },
        {
          "data": {
            "application/vnd.jupyter.widget-view+json": {
              "model_id": "5ede8c0c3fe9438c9748fa084b674619",
              "version_major": 2,
              "version_minor": 0
            },
            "text/plain": [
              "Epoch:   0%|          | 0/2 [00:00<?, ?it/s]"
            ]
          },
          "metadata": {},
          "output_type": "display_data"
        },
        {
          "data": {
            "application/vnd.jupyter.widget-view+json": {
              "model_id": "467814c4f3564f2bb7bf08394f907757",
              "version_major": 2,
              "version_minor": 0
            },
            "text/plain": [
              "Iteration:   0%|          | 0/2500 [00:00<?, ?it/s]"
            ]
          },
          "metadata": {},
          "output_type": "display_data"
        },
        {
          "data": {
            "application/vnd.jupyter.widget-view+json": {
              "model_id": "e1b81839cd9748e8b1ac2cc979518f1f",
              "version_major": 2,
              "version_minor": 0
            },
            "text/plain": [
              "Iteration:   0%|          | 0/2500 [00:00<?, ?it/s]"
            ]
          },
          "metadata": {},
          "output_type": "display_data"
        }
      ],
      "source": [
        "max_length = 128\n",
        "train_ds = create_contrastive_examples(df_train[\"splitted_text\"].values, df_train[\"paragraph-authors\"].values, model.tokenizer, max_length, max_samples = 20000)\n",
        "print(\"Dataset size:\", len(train_ds))\n",
        "\n",
        "train_dl = DataLoader(train_ds,\n",
        "                      shuffle=True,\n",
        "                      batch_size=8,\n",
        "                      collate_fn=model.smart_batching_collate)\n",
        "\n",
        "# Define contrastive loss\n",
        "contrastive_loss = losses.ContrastiveLoss(model=model, distance_metric=losses.SiameseDistanceMetric.COSINE_DISTANCE, margin=0.6)\n",
        "epochs = 2\n",
        "\n",
        "# Train\n",
        "model.fit(train_objectives=[(train_dl, contrastive_loss)],\n",
        "                       epochs=epochs,\n",
        "                       warmup_steps=math.ceil(len(train_dl) * epochs * 0.1),\n",
        "                       optimizer_params={\n",
        "                           'lr': 2e-5,\n",
        "                       }\n",
        "        )\n"
      ]
    },
    {
      "cell_type": "code",
      "execution_count": null,
      "metadata": {
        "execution": {
          "iopub.execute_input": "2022-12-16T12:38:37.967385Z",
          "iopub.status.busy": "2022-12-16T12:38:37.966535Z",
          "iopub.status.idle": "2022-12-16T12:38:44.964461Z",
          "shell.execute_reply": "2022-12-16T12:38:44.963942Z",
          "shell.execute_reply.started": "2022-12-16T12:38:37.967362Z"
        },
        "id": "pIvYBM1NBoLt",
        "outputId": "8eb28fb1-b50a-4b83-9014-57db21fd0141"
      },
      "outputs": [
        {
          "name": "stdout",
          "output_type": "stream",
          "text": [
            "              precision    recall  f1-score   support\n",
            "\n",
            "           0       0.94      0.94      0.94      1841\n",
            "           1       0.63      0.63      0.63       300\n",
            "\n",
            "    accuracy                           0.90      2141\n",
            "   macro avg       0.78      0.78      0.78      2141\n",
            "weighted avg       0.90      0.90      0.90      2141\n",
            "\n"
          ]
        }
      ],
      "source": [
        "evaluate_mmodel_task1(model, df_valid)"
      ]
    },
    {
      "cell_type": "markdown",
      "metadata": {
        "id": "tTKaPvLxlBH1"
      },
      "source": [
        "## Model 3 - Trained SBERT with triplet loss\n"
      ]
    },
    {
      "cell_type": "markdown",
      "source": [
        "Third model, build a dataset of triplets and train the model using triplet loss.\n",
        "A single sample of this dataset is a triplet composed of:\n",
        "- an anchor passage $x_a$, written by an author $A_1$\n",
        "- a positive passage $x_p$, also written by $A_1$\n",
        "- a negative passage $x_n$, written by another author $A_2$"
      ],
      "metadata": {
        "id": "dXfKqk9xzhYh"
      }
    },
    {
      "cell_type": "code",
      "execution_count": null,
      "metadata": {
        "execution": {
          "iopub.execute_input": "2022-12-16T12:38:44.965358Z",
          "iopub.status.busy": "2022-12-16T12:38:44.965179Z",
          "iopub.status.idle": "2022-12-16T12:38:46.122435Z",
          "shell.execute_reply": "2022-12-16T12:38:46.121914Z",
          "shell.execute_reply.started": "2022-12-16T12:38:44.965342Z"
        },
        "id": "x1U00R2XU45h"
      },
      "outputs": [],
      "source": [
        "set_reproducibility(base_seed)\n",
        "\n",
        "# Instantiate model\n",
        "\n",
        "#model_type = \"all-mpnet-base-v2\"\n",
        "model_type = 'AnnaWegmann/Style-Embedding'\n",
        "\n",
        "model = SentenceTransformer(model_type)"
      ]
    },
    {
      "cell_type": "code",
      "execution_count": null,
      "metadata": {
        "colab": {
          "base_uri": "https://localhost:8080/",
          "referenced_widgets": [
            "744c9a8fbf9d4b73945e945c6e07e8fb",
            "1e93a3141f8b4a40b6286967abacee61",
            "9bb97edf562241d0909d8f357b15b529"
          ]
        },
        "execution": {
          "iopub.execute_input": "2022-12-16T12:38:46.123765Z",
          "iopub.status.busy": "2022-12-16T12:38:46.123177Z",
          "iopub.status.idle": "2022-12-16T12:56:00.383884Z",
          "shell.execute_reply": "2022-12-16T12:56:00.383306Z",
          "shell.execute_reply.started": "2022-12-16T12:38:46.123744Z"
        },
        "id": "8FkgEJ2XY5cn",
        "outputId": "ad9d0230-3ac8-45bf-d58e-09984ad6442a"
      },
      "outputs": [
        {
          "name": "stdout",
          "output_type": "stream",
          "text": [
            "18493\n",
            "Dataset size: 18493\n"
          ]
        },
        {
          "data": {
            "application/vnd.jupyter.widget-view+json": {
              "model_id": "744c9a8fbf9d4b73945e945c6e07e8fb",
              "version_major": 2,
              "version_minor": 0
            },
            "text/plain": [
              "Epoch:   0%|          | 0/2 [00:00<?, ?it/s]"
            ]
          },
          "metadata": {},
          "output_type": "display_data"
        },
        {
          "data": {
            "application/vnd.jupyter.widget-view+json": {
              "model_id": "1e93a3141f8b4a40b6286967abacee61",
              "version_major": 2,
              "version_minor": 0
            },
            "text/plain": [
              "Iteration:   0%|          | 0/2312 [00:00<?, ?it/s]"
            ]
          },
          "metadata": {},
          "output_type": "display_data"
        },
        {
          "data": {
            "application/vnd.jupyter.widget-view+json": {
              "model_id": "9bb97edf562241d0909d8f357b15b529",
              "version_major": 2,
              "version_minor": 0
            },
            "text/plain": [
              "Iteration:   0%|          | 0/2312 [00:00<?, ?it/s]"
            ]
          },
          "metadata": {},
          "output_type": "display_data"
        }
      ],
      "source": [
        "max_length = 128\n",
        "train_ds = create_triplet_examples(df_train[\"splitted_text\"].values, df_train[\"paragraph-authors\"].values, model.tokenizer, \n",
        "                                   max_length, n_per_document=20, max_samples = 20000, model=model, margin=0.6, is_task1=True)\n",
        "print(\"Dataset size:\", len(train_ds))\n",
        "train_dl = DataLoader(train_ds,\n",
        "                      shuffle=True,\n",
        "                      batch_size=8,\n",
        "                      collate_fn=model.smart_batching_collate)\n",
        "\n",
        "# Define triplet loss\n",
        "triplet_loss = losses.TripletLoss(model=model, triplet_margin=0.6, distance_metric=losses.TripletDistanceMetric.COSINE)\n",
        "epochs = 2\n",
        "\n",
        "# Train\n",
        "model.fit(train_objectives=[(train_dl, triplet_loss)],\n",
        "                       epochs=epochs,\n",
        "                       warmup_steps=math.ceil(len(train_dl) * epochs * 0.1),\n",
        "                       optimizer_params={\n",
        "                           'lr': 2e-5,\n",
        "                       })"
      ]
    },
    {
      "cell_type": "code",
      "execution_count": null,
      "metadata": {
        "execution": {
          "iopub.execute_input": "2022-12-16T12:56:00.385759Z",
          "iopub.status.busy": "2022-12-16T12:56:00.385240Z",
          "iopub.status.idle": "2022-12-16T12:56:07.377637Z",
          "shell.execute_reply": "2022-12-16T12:56:07.377098Z",
          "shell.execute_reply.started": "2022-12-16T12:56:00.385741Z"
        },
        "id": "yvthgSs5Zxql",
        "outputId": "d992f38f-802d-40aa-e168-385e8a1ecc34"
      },
      "outputs": [
        {
          "name": "stdout",
          "output_type": "stream",
          "text": [
            "              precision    recall  f1-score   support\n",
            "\n",
            "           0       0.94      0.94      0.94      1841\n",
            "           1       0.62      0.62      0.62       300\n",
            "\n",
            "    accuracy                           0.89      2141\n",
            "   macro avg       0.78      0.78      0.78      2141\n",
            "weighted avg       0.89      0.89      0.89      2141\n",
            "\n"
          ]
        }
      ],
      "source": [
        "evaluate_mmodel_task1(model, df_valid)"
      ]
    },
    {
      "cell_type": "markdown",
      "metadata": {
        "id": "PNx9Kuu6657s"
      },
      "source": [
        "## Model 4 - Trained SBERT with triplet loss, hard/semi hard negative mining\n"
      ]
    },
    {
      "cell_type": "markdown",
      "source": [
        "Fourth model, like model 3 but use only hard and semi hard triplet examples.  \n",
        "If the margin hyperparameter is $\\alpha$, our encoder model is $M$ we say that a triplet $(x_a,x_p, x_n)$ is:\n",
        "- Hard: if $cos\\_dist(M(x_a),M(x_n)) < cos\\_dist(M(x_a), M(x_p))$\n",
        "- Semi hard: if $cos\\_dist(M(x_a), M(x_p)) < cos\\_dist(M(x_a), M(x_n))$ but $cos\\_dist(M(x_n), M(x_p)) < \\alpha$\n",
        "- Easy: otherwise"
      ],
      "metadata": {
        "id": "WeB1FavWzjpH"
      }
    },
    {
      "cell_type": "code",
      "execution_count": null,
      "metadata": {
        "execution": {
          "iopub.execute_input": "2022-12-17T15:49:40.676090Z",
          "iopub.status.busy": "2022-12-17T15:49:40.674939Z",
          "iopub.status.idle": "2022-12-17T15:49:42.337543Z",
          "shell.execute_reply": "2022-12-17T15:49:42.336608Z",
          "shell.execute_reply.started": "2022-12-17T15:49:40.676053Z"
        },
        "id": "nhJ21vq5CYSf"
      },
      "outputs": [],
      "source": [
        "set_reproducibility(base_seed)\n",
        "# Instantiate model\n",
        "\n",
        "#model_type = \"all-mpnet-base-v2\"\n",
        "model_type = 'AnnaWegmann/Style-Embedding'\n",
        "\n",
        "model = SentenceTransformer(model_type)"
      ]
    },
    {
      "cell_type": "code",
      "execution_count": null,
      "metadata": {
        "execution": {
          "iopub.execute_input": "2022-12-17T15:49:42.339121Z",
          "iopub.status.busy": "2022-12-17T15:49:42.338861Z",
          "iopub.status.idle": "2022-12-17T16:19:53.153935Z",
          "shell.execute_reply": "2022-12-17T16:19:53.152857Z",
          "shell.execute_reply.started": "2022-12-17T15:49:42.339096Z"
        },
        "id": "IjaUKHYHCYbY",
        "colab": {
          "referenced_widgets": [
            "452446a5f123452aaadd2abfb5876702",
            "91b5e7d08e734edcaf2f2edf9d710ffe",
            "59967644aa8b49be9593251fce6b1d02",
            "973755f3c0bf4d48917486ff9d9ab826"
          ]
        },
        "outputId": "8b6cefae-64ad-4785-e5dd-f1764e7a5a53"
      },
      "outputs": [
        {
          "name": "stdout",
          "output_type": "stream",
          "text": [
            "N easy:0, N hard: 3402, N semihard:5365\n",
            "8767\n"
          ]
        },
        {
          "data": {
            "application/vnd.jupyter.widget-view+json": {
              "model_id": "452446a5f123452aaadd2abfb5876702",
              "version_major": 2,
              "version_minor": 0
            },
            "text/plain": [
              "Epoch:   0%|          | 0/3 [00:00<?, ?it/s]"
            ]
          },
          "metadata": {},
          "output_type": "display_data"
        },
        {
          "data": {
            "application/vnd.jupyter.widget-view+json": {
              "model_id": "91b5e7d08e734edcaf2f2edf9d710ffe",
              "version_major": 2,
              "version_minor": 0
            },
            "text/plain": [
              "Iteration:   0%|          | 0/1096 [00:00<?, ?it/s]"
            ]
          },
          "metadata": {},
          "output_type": "display_data"
        },
        {
          "data": {
            "application/vnd.jupyter.widget-view+json": {
              "model_id": "59967644aa8b49be9593251fce6b1d02",
              "version_major": 2,
              "version_minor": 0
            },
            "text/plain": [
              "Iteration:   0%|          | 0/1096 [00:00<?, ?it/s]"
            ]
          },
          "metadata": {},
          "output_type": "display_data"
        },
        {
          "data": {
            "application/vnd.jupyter.widget-view+json": {
              "model_id": "973755f3c0bf4d48917486ff9d9ab826",
              "version_major": 2,
              "version_minor": 0
            },
            "text/plain": [
              "Iteration:   0%|          | 0/1096 [00:00<?, ?it/s]"
            ]
          },
          "metadata": {},
          "output_type": "display_data"
        }
      ],
      "source": [
        "max_length = 128\n",
        "\n",
        "# Define triplet loss\n",
        "triplet_loss = losses.TripletLoss(model=model, triplet_margin=0.6, distance_metric=losses.TripletDistanceMetric.COSINE)\n",
        "\n",
        "model.eval()\n",
        "train_ds = create_triplet_examples(df_train[\"splitted_text\"].values, df_train[\"paragraph-authors\"].values, model.tokenizer, \n",
        "                                            max_length, n_per_document=10, max_samples = 20000, model=model, margin=0.6, \n",
        "                                 mine_all=False, mine_semihard=True, mine_hard=True)\n",
        "train_dl = DataLoader(train_ds,\n",
        "                  shuffle=True,\n",
        "                  batch_size=8,\n",
        "                  collate_fn=model.smart_batching_collate)\n",
        "\n",
        "epochs = 3\n",
        "model.train()\n",
        "# Train\n",
        "model.fit(train_objectives=[(train_dl, triplet_loss)],\n",
        "                       epochs=epochs,\n",
        "                       warmup_steps=math.ceil(len(train_dl) * epochs * 0.1),\n",
        "                       optimizer_params={\n",
        "                           'lr': 2e-5,\n",
        "                       })"
      ]
    },
    {
      "cell_type": "code",
      "execution_count": null,
      "metadata": {
        "execution": {
          "iopub.execute_input": "2022-12-17T16:20:13.560512Z",
          "iopub.status.busy": "2022-12-17T16:20:13.560112Z",
          "iopub.status.idle": "2022-12-17T16:20:29.008786Z",
          "shell.execute_reply": "2022-12-17T16:20:29.007107Z",
          "shell.execute_reply.started": "2022-12-17T16:20:13.560484Z"
        },
        "id": "2vFllVVOCYjp",
        "outputId": "bd5a9110-b067-4d5a-eaf9-5c07407eb365"
      },
      "outputs": [
        {
          "name": "stdout",
          "output_type": "stream",
          "text": [
            "              precision    recall  f1-score   support\n",
            "\n",
            "           0       0.94      0.94      0.94      1841\n",
            "           1       0.65      0.65      0.65       300\n",
            "\n",
            "    accuracy                           0.90      2141\n",
            "   macro avg       0.80      0.80      0.80      2141\n",
            "weighted avg       0.90      0.90      0.90      2141\n",
            "\n"
          ]
        }
      ],
      "source": [
        "evaluate_mmodel_task1(model, df_valid)"
      ]
    },
    {
      "cell_type": "markdown",
      "metadata": {
        "id": "4eU4D7gu3q4c"
      },
      "source": [
        "# Task 2\n"
      ]
    },
    {
      "cell_type": "markdown",
      "source": [
        "The second task. The objective is given a set of sentences assign each of them to a label corresponding to the author that wrote it.\n",
        "Multiple changes between authors can occurr and in a set of sentences there can be up to 5 authors."
      ],
      "metadata": {
        "id": "kxxmJ8QAzm2n"
      }
    },
    {
      "cell_type": "code",
      "execution_count": 13,
      "metadata": {
        "execution": {
          "iopub.execute_input": "2022-12-18T13:16:29.526087Z",
          "iopub.status.busy": "2022-12-18T13:16:29.525275Z",
          "iopub.status.idle": "2022-12-18T13:17:16.940355Z",
          "shell.execute_reply": "2022-12-18T13:17:16.939314Z",
          "shell.execute_reply.started": "2022-12-18T13:16:29.526056Z"
        },
        "id": "3FDmiXdV3q4d",
        "outputId": "93410fcb-a77f-419b-9dd1-4b389e572dec",
        "colab": {
          "base_uri": "https://localhost:8080/",
          "height": 206
        }
      },
      "outputs": [
        {
          "output_type": "execute_result",
          "data": {
            "text/plain": [
              "   authors                site  multi-author  \\\n",
              "0        3  serverfault.com.7z             1   \n",
              "1        5  serverfault.com.7z             1   \n",
              "2        5    superuser.com.7z             1   \n",
              "3        3  serverfault.com.7z             1   \n",
              "4        1  serverfault.com.7z             0   \n",
              "\n",
              "                                changes  \\\n",
              "0  [1, 1, 1, 1, 1, 0, 1, 1, 0, 1, 0, 1]   \n",
              "1                    [1, 1, 1, 1, 1, 1]   \n",
              "2              [1, 0, 1, 1, 0, 1, 1, 1]   \n",
              "3                       [1, 1, 1, 0, 1]   \n",
              "4                             [0, 0, 0]   \n",
              "\n",
              "                         paragraph-authors  \\\n",
              "0  [1, 2, 3, 2, 1, 2, 2, 1, 3, 3, 1, 1, 3]   \n",
              "1                    [1, 2, 3, 4, 5, 2, 3]   \n",
              "2              [1, 2, 2, 3, 2, 2, 4, 3, 5]   \n",
              "3                       [1, 2, 3, 1, 1, 2]   \n",
              "4                             [1, 1, 1, 1]   \n",
              "\n",
              "                                          input_text  \\\n",
              "0  Small Business Server (SBS) would seem to be a...   \n",
              "1  None of the suggested key combinations bring m...   \n",
              "2  If you are using the ext3 filesystem, then ext...   \n",
              "3  The sites are backed by a WCMS, so there is a ...   \n",
              "4  I had a similar problem. I needed to delete a ...   \n",
              "\n",
              "                                       splitted_text  \n",
              "0  [Small Business Server (SBS) would seem to be ...  \n",
              "1  [None of the suggested key combinations bring ...  \n",
              "2  [If you are using the ext3 filesystem, then ex...  \n",
              "3  [The sites are backed by a WCMS, so there is a...  \n",
              "4  [I had a similar problem. I needed to delete a...  "
            ],
            "text/html": [
              "\n",
              "  <div id=\"df-b0af0b9b-2a4e-4b04-b775-fe48eeda1045\">\n",
              "    <div class=\"colab-df-container\">\n",
              "      <div>\n",
              "<style scoped>\n",
              "    .dataframe tbody tr th:only-of-type {\n",
              "        vertical-align: middle;\n",
              "    }\n",
              "\n",
              "    .dataframe tbody tr th {\n",
              "        vertical-align: top;\n",
              "    }\n",
              "\n",
              "    .dataframe thead th {\n",
              "        text-align: right;\n",
              "    }\n",
              "</style>\n",
              "<table border=\"1\" class=\"dataframe\">\n",
              "  <thead>\n",
              "    <tr style=\"text-align: right;\">\n",
              "      <th></th>\n",
              "      <th>authors</th>\n",
              "      <th>site</th>\n",
              "      <th>multi-author</th>\n",
              "      <th>changes</th>\n",
              "      <th>paragraph-authors</th>\n",
              "      <th>input_text</th>\n",
              "      <th>splitted_text</th>\n",
              "    </tr>\n",
              "  </thead>\n",
              "  <tbody>\n",
              "    <tr>\n",
              "      <th>0</th>\n",
              "      <td>3</td>\n",
              "      <td>serverfault.com.7z</td>\n",
              "      <td>1</td>\n",
              "      <td>[1, 1, 1, 1, 1, 0, 1, 1, 0, 1, 0, 1]</td>\n",
              "      <td>[1, 2, 3, 2, 1, 2, 2, 1, 3, 3, 1, 1, 3]</td>\n",
              "      <td>Small Business Server (SBS) would seem to be a...</td>\n",
              "      <td>[Small Business Server (SBS) would seem to be ...</td>\n",
              "    </tr>\n",
              "    <tr>\n",
              "      <th>1</th>\n",
              "      <td>5</td>\n",
              "      <td>serverfault.com.7z</td>\n",
              "      <td>1</td>\n",
              "      <td>[1, 1, 1, 1, 1, 1]</td>\n",
              "      <td>[1, 2, 3, 4, 5, 2, 3]</td>\n",
              "      <td>None of the suggested key combinations bring m...</td>\n",
              "      <td>[None of the suggested key combinations bring ...</td>\n",
              "    </tr>\n",
              "    <tr>\n",
              "      <th>2</th>\n",
              "      <td>5</td>\n",
              "      <td>superuser.com.7z</td>\n",
              "      <td>1</td>\n",
              "      <td>[1, 0, 1, 1, 0, 1, 1, 1]</td>\n",
              "      <td>[1, 2, 2, 3, 2, 2, 4, 3, 5]</td>\n",
              "      <td>If you are using the ext3 filesystem, then ext...</td>\n",
              "      <td>[If you are using the ext3 filesystem, then ex...</td>\n",
              "    </tr>\n",
              "    <tr>\n",
              "      <th>3</th>\n",
              "      <td>3</td>\n",
              "      <td>serverfault.com.7z</td>\n",
              "      <td>1</td>\n",
              "      <td>[1, 1, 1, 0, 1]</td>\n",
              "      <td>[1, 2, 3, 1, 1, 2]</td>\n",
              "      <td>The sites are backed by a WCMS, so there is a ...</td>\n",
              "      <td>[The sites are backed by a WCMS, so there is a...</td>\n",
              "    </tr>\n",
              "    <tr>\n",
              "      <th>4</th>\n",
              "      <td>1</td>\n",
              "      <td>serverfault.com.7z</td>\n",
              "      <td>0</td>\n",
              "      <td>[0, 0, 0]</td>\n",
              "      <td>[1, 1, 1, 1]</td>\n",
              "      <td>I had a similar problem. I needed to delete a ...</td>\n",
              "      <td>[I had a similar problem. I needed to delete a...</td>\n",
              "    </tr>\n",
              "  </tbody>\n",
              "</table>\n",
              "</div>\n",
              "      <button class=\"colab-df-convert\" onclick=\"convertToInteractive('df-b0af0b9b-2a4e-4b04-b775-fe48eeda1045')\"\n",
              "              title=\"Convert this dataframe to an interactive table.\"\n",
              "              style=\"display:none;\">\n",
              "        \n",
              "  <svg xmlns=\"http://www.w3.org/2000/svg\" height=\"24px\"viewBox=\"0 0 24 24\"\n",
              "       width=\"24px\">\n",
              "    <path d=\"M0 0h24v24H0V0z\" fill=\"none\"/>\n",
              "    <path d=\"M18.56 5.44l.94 2.06.94-2.06 2.06-.94-2.06-.94-.94-2.06-.94 2.06-2.06.94zm-11 1L8.5 8.5l.94-2.06 2.06-.94-2.06-.94L8.5 2.5l-.94 2.06-2.06.94zm10 10l.94 2.06.94-2.06 2.06-.94-2.06-.94-.94-2.06-.94 2.06-2.06.94z\"/><path d=\"M17.41 7.96l-1.37-1.37c-.4-.4-.92-.59-1.43-.59-.52 0-1.04.2-1.43.59L10.3 9.45l-7.72 7.72c-.78.78-.78 2.05 0 2.83L4 21.41c.39.39.9.59 1.41.59.51 0 1.02-.2 1.41-.59l7.78-7.78 2.81-2.81c.8-.78.8-2.07 0-2.86zM5.41 20L4 18.59l7.72-7.72 1.47 1.35L5.41 20z\"/>\n",
              "  </svg>\n",
              "      </button>\n",
              "      \n",
              "  <style>\n",
              "    .colab-df-container {\n",
              "      display:flex;\n",
              "      flex-wrap:wrap;\n",
              "      gap: 12px;\n",
              "    }\n",
              "\n",
              "    .colab-df-convert {\n",
              "      background-color: #E8F0FE;\n",
              "      border: none;\n",
              "      border-radius: 50%;\n",
              "      cursor: pointer;\n",
              "      display: none;\n",
              "      fill: #1967D2;\n",
              "      height: 32px;\n",
              "      padding: 0 0 0 0;\n",
              "      width: 32px;\n",
              "    }\n",
              "\n",
              "    .colab-df-convert:hover {\n",
              "      background-color: #E2EBFA;\n",
              "      box-shadow: 0px 1px 2px rgba(60, 64, 67, 0.3), 0px 1px 3px 1px rgba(60, 64, 67, 0.15);\n",
              "      fill: #174EA6;\n",
              "    }\n",
              "\n",
              "    [theme=dark] .colab-df-convert {\n",
              "      background-color: #3B4455;\n",
              "      fill: #D2E3FC;\n",
              "    }\n",
              "\n",
              "    [theme=dark] .colab-df-convert:hover {\n",
              "      background-color: #434B5C;\n",
              "      box-shadow: 0px 1px 3px 1px rgba(0, 0, 0, 0.15);\n",
              "      filter: drop-shadow(0px 1px 2px rgba(0, 0, 0, 0.3));\n",
              "      fill: #FFFFFF;\n",
              "    }\n",
              "  </style>\n",
              "\n",
              "      <script>\n",
              "        const buttonEl =\n",
              "          document.querySelector('#df-b0af0b9b-2a4e-4b04-b775-fe48eeda1045 button.colab-df-convert');\n",
              "        buttonEl.style.display =\n",
              "          google.colab.kernel.accessAllowed ? 'block' : 'none';\n",
              "\n",
              "        async function convertToInteractive(key) {\n",
              "          const element = document.querySelector('#df-b0af0b9b-2a4e-4b04-b775-fe48eeda1045');\n",
              "          const dataTable =\n",
              "            await google.colab.kernel.invokeFunction('convertToInteractive',\n",
              "                                                     [key], {});\n",
              "          if (!dataTable) return;\n",
              "\n",
              "          const docLinkHtml = 'Like what you see? Visit the ' +\n",
              "            '<a target=\"_blank\" href=https://colab.research.google.com/notebooks/data_table.ipynb>data table notebook</a>'\n",
              "            + ' to learn more about interactive tables.';\n",
              "          element.innerHTML = '';\n",
              "          dataTable['output_type'] = 'display_data';\n",
              "          await google.colab.output.renderOutput(dataTable, element);\n",
              "          const docLink = document.createElement('div');\n",
              "          docLink.innerHTML = docLinkHtml;\n",
              "          element.appendChild(docLink);\n",
              "        }\n",
              "      </script>\n",
              "    </div>\n",
              "  </div>\n",
              "  "
            ]
          },
          "metadata": {},
          "execution_count": 13
        }
      ],
      "source": [
        "train_directory = './dataset2/train'\n",
        "df_train = create_dataframe(train_directory)\n",
        "df_train.head()"
      ]
    },
    {
      "cell_type": "code",
      "source": [
        "valid_directory = './dataset2/validation'\n",
        "df_valid = create_dataframe(valid_directory)\n",
        "df_valid.head()"
      ],
      "metadata": {
        "colab": {
          "base_uri": "https://localhost:8080/",
          "height": 320
        },
        "id": "5trhCj9_bG5e",
        "outputId": "75dbd0e4-b4ae-427d-ab6c-993ff5e5fe76"
      },
      "execution_count": 14,
      "outputs": [
        {
          "output_type": "execute_result",
          "data": {
            "text/plain": [
              "   authors                           site  multi-author  \\\n",
              "0        5             serverfault.com.7z             1   \n",
              "1        5             serverfault.com.7z             1   \n",
              "2        1             serverfault.com.7z             0   \n",
              "3        1  cstheory.stackexchange.com.7z             0   \n",
              "4        4   gamedev.stackexchange.com.7z             1   \n",
              "\n",
              "                                         changes  \\\n",
              "0                                [1, 0, 1, 1, 1]   \n",
              "1                       [1, 1, 1, 1, 1, 1, 1, 1]   \n",
              "2                                         [0, 0]   \n",
              "3                                            [0]   \n",
              "4  [1, 1, 1, 0, 0, 0, 1, 1, 1, 0, 1, 1, 1, 0, 1]   \n",
              "\n",
              "                                  paragraph-authors  \\\n",
              "0                                [1, 2, 2, 3, 4, 5]   \n",
              "1                       [1, 2, 3, 1, 4, 1, 4, 5, 4]   \n",
              "2                                         [1, 1, 1]   \n",
              "3                                            [1, 1]   \n",
              "4  [1, 2, 3, 1, 1, 1, 1, 3, 1, 3, 3, 2, 4, 2, 2, 1]   \n",
              "\n",
              "                                          input_text  \\\n",
              "0  Force detach the system volume.  Then you will...   \n",
              "1  At any rate, I suspect that these applications...   \n",
              "2  I'm trying to understand the hype around cloud...   \n",
              "3  I think one issue is that we need to fix the \"...   \n",
              "4  Keep in mind that AI/effects that happen on a ...   \n",
              "\n",
              "                                       splitted_text  \n",
              "0  [Force detach the system volume.  Then you wil...  \n",
              "1  [At any rate, I suspect that these application...  \n",
              "2  [I'm trying to understand the hype around clou...  \n",
              "3  [I think one issue is that we need to fix the ...  \n",
              "4  [Keep in mind that AI/effects that happen on a...  "
            ],
            "text/html": [
              "\n",
              "  <div id=\"df-694897ae-6f7d-4399-8fe6-2658f308258e\">\n",
              "    <div class=\"colab-df-container\">\n",
              "      <div>\n",
              "<style scoped>\n",
              "    .dataframe tbody tr th:only-of-type {\n",
              "        vertical-align: middle;\n",
              "    }\n",
              "\n",
              "    .dataframe tbody tr th {\n",
              "        vertical-align: top;\n",
              "    }\n",
              "\n",
              "    .dataframe thead th {\n",
              "        text-align: right;\n",
              "    }\n",
              "</style>\n",
              "<table border=\"1\" class=\"dataframe\">\n",
              "  <thead>\n",
              "    <tr style=\"text-align: right;\">\n",
              "      <th></th>\n",
              "      <th>authors</th>\n",
              "      <th>site</th>\n",
              "      <th>multi-author</th>\n",
              "      <th>changes</th>\n",
              "      <th>paragraph-authors</th>\n",
              "      <th>input_text</th>\n",
              "      <th>splitted_text</th>\n",
              "    </tr>\n",
              "  </thead>\n",
              "  <tbody>\n",
              "    <tr>\n",
              "      <th>0</th>\n",
              "      <td>5</td>\n",
              "      <td>serverfault.com.7z</td>\n",
              "      <td>1</td>\n",
              "      <td>[1, 0, 1, 1, 1]</td>\n",
              "      <td>[1, 2, 2, 3, 4, 5]</td>\n",
              "      <td>Force detach the system volume.  Then you will...</td>\n",
              "      <td>[Force detach the system volume.  Then you wil...</td>\n",
              "    </tr>\n",
              "    <tr>\n",
              "      <th>1</th>\n",
              "      <td>5</td>\n",
              "      <td>serverfault.com.7z</td>\n",
              "      <td>1</td>\n",
              "      <td>[1, 1, 1, 1, 1, 1, 1, 1]</td>\n",
              "      <td>[1, 2, 3, 1, 4, 1, 4, 5, 4]</td>\n",
              "      <td>At any rate, I suspect that these applications...</td>\n",
              "      <td>[At any rate, I suspect that these application...</td>\n",
              "    </tr>\n",
              "    <tr>\n",
              "      <th>2</th>\n",
              "      <td>1</td>\n",
              "      <td>serverfault.com.7z</td>\n",
              "      <td>0</td>\n",
              "      <td>[0, 0]</td>\n",
              "      <td>[1, 1, 1]</td>\n",
              "      <td>I'm trying to understand the hype around cloud...</td>\n",
              "      <td>[I'm trying to understand the hype around clou...</td>\n",
              "    </tr>\n",
              "    <tr>\n",
              "      <th>3</th>\n",
              "      <td>1</td>\n",
              "      <td>cstheory.stackexchange.com.7z</td>\n",
              "      <td>0</td>\n",
              "      <td>[0]</td>\n",
              "      <td>[1, 1]</td>\n",
              "      <td>I think one issue is that we need to fix the \"...</td>\n",
              "      <td>[I think one issue is that we need to fix the ...</td>\n",
              "    </tr>\n",
              "    <tr>\n",
              "      <th>4</th>\n",
              "      <td>4</td>\n",
              "      <td>gamedev.stackexchange.com.7z</td>\n",
              "      <td>1</td>\n",
              "      <td>[1, 1, 1, 0, 0, 0, 1, 1, 1, 0, 1, 1, 1, 0, 1]</td>\n",
              "      <td>[1, 2, 3, 1, 1, 1, 1, 3, 1, 3, 3, 2, 4, 2, 2, 1]</td>\n",
              "      <td>Keep in mind that AI/effects that happen on a ...</td>\n",
              "      <td>[Keep in mind that AI/effects that happen on a...</td>\n",
              "    </tr>\n",
              "  </tbody>\n",
              "</table>\n",
              "</div>\n",
              "      <button class=\"colab-df-convert\" onclick=\"convertToInteractive('df-694897ae-6f7d-4399-8fe6-2658f308258e')\"\n",
              "              title=\"Convert this dataframe to an interactive table.\"\n",
              "              style=\"display:none;\">\n",
              "        \n",
              "  <svg xmlns=\"http://www.w3.org/2000/svg\" height=\"24px\"viewBox=\"0 0 24 24\"\n",
              "       width=\"24px\">\n",
              "    <path d=\"M0 0h24v24H0V0z\" fill=\"none\"/>\n",
              "    <path d=\"M18.56 5.44l.94 2.06.94-2.06 2.06-.94-2.06-.94-.94-2.06-.94 2.06-2.06.94zm-11 1L8.5 8.5l.94-2.06 2.06-.94-2.06-.94L8.5 2.5l-.94 2.06-2.06.94zm10 10l.94 2.06.94-2.06 2.06-.94-2.06-.94-.94-2.06-.94 2.06-2.06.94z\"/><path d=\"M17.41 7.96l-1.37-1.37c-.4-.4-.92-.59-1.43-.59-.52 0-1.04.2-1.43.59L10.3 9.45l-7.72 7.72c-.78.78-.78 2.05 0 2.83L4 21.41c.39.39.9.59 1.41.59.51 0 1.02-.2 1.41-.59l7.78-7.78 2.81-2.81c.8-.78.8-2.07 0-2.86zM5.41 20L4 18.59l7.72-7.72 1.47 1.35L5.41 20z\"/>\n",
              "  </svg>\n",
              "      </button>\n",
              "      \n",
              "  <style>\n",
              "    .colab-df-container {\n",
              "      display:flex;\n",
              "      flex-wrap:wrap;\n",
              "      gap: 12px;\n",
              "    }\n",
              "\n",
              "    .colab-df-convert {\n",
              "      background-color: #E8F0FE;\n",
              "      border: none;\n",
              "      border-radius: 50%;\n",
              "      cursor: pointer;\n",
              "      display: none;\n",
              "      fill: #1967D2;\n",
              "      height: 32px;\n",
              "      padding: 0 0 0 0;\n",
              "      width: 32px;\n",
              "    }\n",
              "\n",
              "    .colab-df-convert:hover {\n",
              "      background-color: #E2EBFA;\n",
              "      box-shadow: 0px 1px 2px rgba(60, 64, 67, 0.3), 0px 1px 3px 1px rgba(60, 64, 67, 0.15);\n",
              "      fill: #174EA6;\n",
              "    }\n",
              "\n",
              "    [theme=dark] .colab-df-convert {\n",
              "      background-color: #3B4455;\n",
              "      fill: #D2E3FC;\n",
              "    }\n",
              "\n",
              "    [theme=dark] .colab-df-convert:hover {\n",
              "      background-color: #434B5C;\n",
              "      box-shadow: 0px 1px 3px 1px rgba(0, 0, 0, 0.15);\n",
              "      filter: drop-shadow(0px 1px 2px rgba(0, 0, 0, 0.3));\n",
              "      fill: #FFFFFF;\n",
              "    }\n",
              "  </style>\n",
              "\n",
              "      <script>\n",
              "        const buttonEl =\n",
              "          document.querySelector('#df-694897ae-6f7d-4399-8fe6-2658f308258e button.colab-df-convert');\n",
              "        buttonEl.style.display =\n",
              "          google.colab.kernel.accessAllowed ? 'block' : 'none';\n",
              "\n",
              "        async function convertToInteractive(key) {\n",
              "          const element = document.querySelector('#df-694897ae-6f7d-4399-8fe6-2658f308258e');\n",
              "          const dataTable =\n",
              "            await google.colab.kernel.invokeFunction('convertToInteractive',\n",
              "                                                     [key], {});\n",
              "          if (!dataTable) return;\n",
              "\n",
              "          const docLinkHtml = 'Like what you see? Visit the ' +\n",
              "            '<a target=\"_blank\" href=https://colab.research.google.com/notebooks/data_table.ipynb>data table notebook</a>'\n",
              "            + ' to learn more about interactive tables.';\n",
              "          element.innerHTML = '';\n",
              "          dataTable['output_type'] = 'display_data';\n",
              "          await google.colab.output.renderOutput(dataTable, element);\n",
              "          const docLink = document.createElement('div');\n",
              "          docLink.innerHTML = docLinkHtml;\n",
              "          element.appendChild(docLink);\n",
              "        }\n",
              "      </script>\n",
              "    </div>\n",
              "  </div>\n",
              "  "
            ]
          },
          "metadata": {},
          "execution_count": 14
        }
      ]
    },
    {
      "cell_type": "markdown",
      "source": [
        "### Inference strategy\n",
        "Given a SentenceTransformer model encoder and a set of sentences we assign each of them to an author using 2 different methods. \n",
        "\n",
        "The first one is threshold based and works as follows:\n",
        "- start from the first passage, for each of them\n",
        "compare its similarity with all the previous\n",
        "passages.\n",
        "- apply the threshold to all of them to detect\n",
        "pairwise changes, if we notice that we detect\n",
        "a style change for all of them this means that\n",
        "we have a new cluster. In case we already have\n",
        "5 clusters (the maximum number of different\n",
        "authors in a conversation) even if we detect\n",
        "a change assign it to the cluster of the most\n",
        "similar other passage\n",
        "- If after thresholding we detect that there is no\n",
        "style change between said passage and any\n",
        "one of them, assign this passage to the same\n",
        "cluster as the one from which the most similar\n",
        "passage came from\n",
        "\n",
        "The second one is based on using the pairwise distances as a precomputed distance matrix which we can feed into a clustering algorithm like DBSCAN.\n",
        "\n",
        "The threshold is computed in two ways:\n",
        "- Fixed threshold, use the margin as threshold\n",
        "- Learned threshold,  after training we can apply our model to\n",
        "the contrastive pairs and measure the average similarity for same-author samples and\n",
        "different-author samples, the threshold should\n",
        "lie between these two averages. If we define the same-author set of similarities as $S_1$, the different-author set of similarities as $S_2$ we compute the threshold as: $\\frac{(\\mu(S_1)-2\\sigma(S_1)) + (\\mu(S_2)+2\\sigma(S_2))}{2}$"
      ],
      "metadata": {
        "id": "l1e-kkuUyXF-"
      }
    },
    {
      "cell_type": "code",
      "execution_count": null,
      "metadata": {
        "execution": {
          "iopub.execute_input": "2022-12-18T13:17:16.942895Z",
          "iopub.status.busy": "2022-12-18T13:17:16.942521Z",
          "iopub.status.idle": "2022-12-18T13:17:17.093911Z",
          "shell.execute_reply": "2022-12-18T13:17:17.093010Z",
          "shell.execute_reply.started": "2022-12-18T13:17:16.942863Z"
        },
        "id": "kwhRWoCEFCbG"
      },
      "outputs": [],
      "source": [
        "from sklearn.cluster import AgglomerativeClustering, DBSCAN\n",
        "from sklearn.metrics.pairwise import cosine_distances\n",
        "\n",
        "def prediction_task2_threshold(model : SentenceTransformer, sentences : List[str], threshold : float):\n",
        "  \"\"\"\n",
        "  Perform inference on a set of sentences using the threshold approach\n",
        "  \"\"\"\n",
        "  embeddings = model.encode(sentences, convert_to_tensor=True)\n",
        "\n",
        "  pred_authors = [1]\n",
        "  for i in range(1, len(sentences)):\n",
        "    similarity_scores = []\n",
        "    for j in range(i):\n",
        "        sim = util.cos_sim(embeddings[i], embeddings[j])\n",
        "        similarity_scores.append(sim.item()) \n",
        "    changes = [s > threshold for s in similarity_scores]\n",
        "    \n",
        "    if all(x == 0 for x in changes):\n",
        "        # New author\n",
        "        new_auth = max(pred_authors)+1\n",
        "        if new_auth > 5:\n",
        "            most_similar = pred_authors[np.argmax(similarity_scores)]\n",
        "            pred_authors.append(most_similar)\n",
        "        else:\n",
        "            pred_authors.append(new_auth)\n",
        "    else:\n",
        "        # Find most similar\n",
        "        most_similar = pred_authors[np.argmax(similarity_scores)]\n",
        "        pred_authors.append(most_similar)\n",
        "  return pred_authors\n",
        "\n",
        "def prediction_task2_unsupervised(model : SentenceTransformer, sentences : List[str]):\n",
        "  \"\"\"\n",
        "  Perform inference on a set of sentences using the unsupervised clustering approach\n",
        "  \"\"\"\n",
        "  embeddings = model.encode(sentences, convert_to_tensor=False)\n",
        "\n",
        "  # Compute all pairwise cosine similarities\n",
        "  sim = cosine_distances(embeddings, embeddings)\n",
        "  \n",
        "  documents = np.arange(len(embeddings)).reshape(-1,1)\n",
        "  clustered = DBSCAN(metric=\"precomputed\", eps=0.5, min_samples=1).fit(sim)\n",
        "  #clustered = AgglomerativeClustering(affinity=\"precomputed\", n_clusters=row[\"authors\"], linkage=\"average\").fit(sim)\n",
        "  \n",
        "  y_pred = [x for x in clustered.labels_]\n",
        "  y_pred_constr = []\n",
        "  \n",
        "  for idx1, el1 in enumerate(y_pred):\n",
        "    if el1 < 5:\n",
        "      y_pred_constr.append(el1+1)\n",
        "    else:\n",
        "      distance_dict = {}\n",
        "      for idx2, el2 in enumerate(y_pred):\n",
        "        if el2 >= 5 or idx1 == idx2:\n",
        "          continue\n",
        "        if el2 not in distance_dict:\n",
        "          distance_dict[el2] = [sim[idx1,idx2]]\n",
        "        else:\n",
        "          distance_dict[el2].append(sim[idx1,idx2])\n",
        "        \n",
        "      distance_dict = {k:np.mean(distance_dict[k]) for k in distance_dict}\n",
        "      new_label = min(distance_dict, key=distance_dict.get)\n",
        "      y_pred_constr.append(new_label+1)\n",
        "        \n",
        "  return y_pred_constr\n",
        "    \n",
        "def evaluate_mmodel_task2(model : SentenceTransformer, df : pd.DataFrame, threshold : float, save_pred_to_disk : str =None):\n",
        "  \"\"\"\n",
        "  Evaluate a SentenceTransformer encoder model using one of the two task2 inference method on a dataframe of examples\n",
        "  \"\"\"\n",
        "  valid_labels = []\n",
        "  y_preds = []\n",
        "\n",
        "  for i, row in df.iterrows():\n",
        "    sentences = row[\"splitted_text\"]\n",
        "    \n",
        "    if threshold is None:\n",
        "      pred_authors = prediction_task2_unsupervised(model, sentences)\n",
        "    else:\n",
        "      pred_authors = prediction_task2_threshold(model, sentences, threshold)\n",
        "\n",
        "    valid_labels += row[\"paragraph-authors\"]\n",
        "    y_preds += pred_authors\n",
        "\n",
        "  print(classification_report(valid_labels, y_preds))\n",
        "  if not save_pred_to_disk is None:\n",
        "    np.save(save_pred_to_disk, y_preds)"
      ]
    },
    {
      "cell_type": "markdown",
      "metadata": {
        "id": "d4LHZL-wBXEX"
      },
      "source": [
        "## Model 1 - Frozen SBERT"
      ]
    },
    {
      "cell_type": "markdown",
      "source": [
        "The first baseline model, where no training is performed and the inference strategy is used as is."
      ],
      "metadata": {
        "id": "90Qcco5o203Z"
      }
    },
    {
      "cell_type": "code",
      "execution_count": null,
      "metadata": {
        "execution": {
          "iopub.execute_input": "2022-12-18T12:03:42.163889Z",
          "iopub.status.busy": "2022-12-18T12:03:42.163617Z",
          "iopub.status.idle": "2022-12-18T12:03:43.658990Z",
          "shell.execute_reply": "2022-12-18T12:03:43.658254Z",
          "shell.execute_reply.started": "2022-12-18T12:03:42.163867Z"
        },
        "id": "XOPnESbOm79k"
      },
      "outputs": [],
      "source": [
        "set_reproducibility(base_seed)\n",
        "\n",
        "#model_type = \"all-mpnet-base-v2\"\n",
        "model_type = 'AnnaWegmann/Style-Embedding'\n",
        "\n",
        "model = SentenceTransformer(model_type)"
      ]
    },
    {
      "cell_type": "code",
      "execution_count": null,
      "metadata": {
        "execution": {
          "iopub.execute_input": "2022-12-18T12:03:43.660926Z",
          "iopub.status.busy": "2022-12-18T12:03:43.660684Z",
          "iopub.status.idle": "2022-12-18T12:15:17.850868Z",
          "shell.execute_reply": "2022-12-18T12:15:17.849955Z",
          "shell.execute_reply.started": "2022-12-18T12:03:43.660906Z"
        },
        "id": "Qcm5N6cTm8Gw",
        "outputId": "54a0438e-ca2c-4394-ea01-5daf8000c5a0"
      },
      "outputs": [
        {
          "name": "stdout",
          "output_type": "stream",
          "text": [
            "154108\n",
            "272236\n",
            "Dataset size: 50000\n",
            "Using 0.43099294799502624 as threshold\n",
            "              precision    recall  f1-score   support\n",
            "\n",
            "           1       0.64      0.77      0.70      5098\n",
            "           2       0.44      0.49      0.46      2828\n",
            "           3       0.33      0.26      0.29      1701\n",
            "           4       0.29      0.11      0.16       978\n",
            "           5       0.16      0.03      0.04       432\n",
            "\n",
            "    accuracy                           0.53     11037\n",
            "   macro avg       0.37      0.33      0.33     11037\n",
            "weighted avg       0.49      0.53      0.50     11037\n",
            "\n",
            "Unsupervised clustering\n",
            "              precision    recall  f1-score   support\n",
            "\n",
            "           1       0.59      0.83      0.69      5098\n",
            "           2       0.44      0.39      0.41      2828\n",
            "           3       0.32      0.19      0.24      1701\n",
            "           4       0.29      0.10      0.14       978\n",
            "           5       0.15      0.03      0.05       432\n",
            "\n",
            "    accuracy                           0.52     11037\n",
            "   macro avg       0.36      0.31      0.31     11037\n",
            "weighted avg       0.47      0.52      0.48     11037\n",
            "\n"
          ]
        }
      ],
      "source": [
        "# Create a training DS just to calibrate the threshold\n",
        "max_length = 128\n",
        "train_ds = create_contrastive_examples(df_train[\"splitted_text\"].values, df_train[\"paragraph-authors\"].values, model.tokenizer, \n",
        "                                       max_length, max_samples = 50000)\n",
        "print(\"Dataset size:\", len(train_ds))\n",
        "train_dl = DataLoader(train_ds,\n",
        "                      shuffle=True,\n",
        "                      batch_size=8,\n",
        "                      collate_fn=model.smart_batching_collate)\n",
        "\n",
        "model.eval()\n",
        "# Compute the threshold\n",
        "same_sims, diff_sims = compute_same_diff_contrastive(model, train_dl)\n",
        "th = np.mean([np.mean(same_sims)-2*np.std(same_sims), np.mean(diff_sims)+2*np.std(diff_sims)])\n",
        "\n",
        "print(f\"Using {th} as threshold\")\n",
        "evaluate_mmodel_task2(model, df_valid, th, save_pred_to_disk=\"task2_model1_style.npy\")\n",
        "\n",
        "print(f\"Unsupervised clustering\")\n",
        "evaluate_mmodel_task2(model, df_valid, None)"
      ]
    },
    {
      "cell_type": "markdown",
      "metadata": {
        "id": "6nlAVJ-sBazS"
      },
      "source": [
        "## Model 2 - Trained SBERT with contrastive loss"
      ]
    },
    {
      "cell_type": "markdown",
      "source": [
        "Second model, build a contrastive dataset and train the model using contrastive loss.  \n"
      ],
      "metadata": {
        "id": "bdKjOtrl26zl"
      }
    },
    {
      "cell_type": "code",
      "execution_count": null,
      "metadata": {
        "execution": {
          "iopub.execute_input": "2022-12-18T13:17:17.095399Z",
          "iopub.status.busy": "2022-12-18T13:17:17.095079Z",
          "iopub.status.idle": "2022-12-18T13:17:30.182973Z",
          "shell.execute_reply": "2022-12-18T13:17:30.182238Z",
          "shell.execute_reply.started": "2022-12-18T13:17:17.095367Z"
        },
        "id": "bpTVBNfsBuSu",
        "colab": {
          "referenced_widgets": [
            "6053b00da3c743838f8640e828a67320",
            "106d9bc8d9df4e3db7c1f0526f679c6a",
            "4215fbca84314eef8b3c2b9816f81e11",
            "8f13a0fc77fd4ae699594b5c39107a12",
            "5e2e5f65798048f98216b00264ef2222",
            "b6c1c2a56a95404b8362ba1b5898182d",
            "cb6050b1fc3c48d7987638b2ca57a2c5",
            "ad2a4721797e4d99b34ab283c8325b54",
            "1b5b76fdf55c4738a116ccd032dba874",
            "b93e8b16dc644961b889fcba546d6a2f",
            "8b30836e64c04202a238273ffb399917",
            "1f6ab1d2bb464c7b99dfae0e99c478e6",
            "6766a21c9500467293687329728a1f22",
            "9a1b50b9ad8e4177908bdc8d444a3c5c"
          ]
        },
        "outputId": "7979bb80-533d-4c5c-b1c9-3d1478c2f10d"
      },
      "outputs": [
        {
          "data": {
            "application/vnd.jupyter.widget-view+json": {
              "model_id": "6053b00da3c743838f8640e828a67320",
              "version_major": 2,
              "version_minor": 0
            },
            "text/plain": [
              "Downloading:   0%|          | 0.00/1.17k [00:00<?, ?B/s]"
            ]
          },
          "metadata": {},
          "output_type": "display_data"
        },
        {
          "data": {
            "application/vnd.jupyter.widget-view+json": {
              "model_id": "106d9bc8d9df4e3db7c1f0526f679c6a",
              "version_major": 2,
              "version_minor": 0
            },
            "text/plain": [
              "Downloading:   0%|          | 0.00/190 [00:00<?, ?B/s]"
            ]
          },
          "metadata": {},
          "output_type": "display_data"
        },
        {
          "data": {
            "application/vnd.jupyter.widget-view+json": {
              "model_id": "4215fbca84314eef8b3c2b9816f81e11",
              "version_major": 2,
              "version_minor": 0
            },
            "text/plain": [
              "Downloading:   0%|          | 0.00/3.96k [00:00<?, ?B/s]"
            ]
          },
          "metadata": {},
          "output_type": "display_data"
        },
        {
          "data": {
            "application/vnd.jupyter.widget-view+json": {
              "model_id": "8f13a0fc77fd4ae699594b5c39107a12",
              "version_major": 2,
              "version_minor": 0
            },
            "text/plain": [
              "Downloading:   0%|          | 0.00/718 [00:00<?, ?B/s]"
            ]
          },
          "metadata": {},
          "output_type": "display_data"
        },
        {
          "data": {
            "application/vnd.jupyter.widget-view+json": {
              "model_id": "5e2e5f65798048f98216b00264ef2222",
              "version_major": 2,
              "version_minor": 0
            },
            "text/plain": [
              "Downloading:   0%|          | 0.00/117 [00:00<?, ?B/s]"
            ]
          },
          "metadata": {},
          "output_type": "display_data"
        },
        {
          "data": {
            "application/vnd.jupyter.widget-view+json": {
              "model_id": "b6c1c2a56a95404b8362ba1b5898182d",
              "version_major": 2,
              "version_minor": 0
            },
            "text/plain": [
              "Downloading:   0%|          | 0.00/659 [00:00<?, ?B/s]"
            ]
          },
          "metadata": {},
          "output_type": "display_data"
        },
        {
          "data": {
            "application/vnd.jupyter.widget-view+json": {
              "model_id": "cb6050b1fc3c48d7987638b2ca57a2c5",
              "version_major": 2,
              "version_minor": 0
            },
            "text/plain": [
              "Downloading:   0%|          | 0.00/456k [00:00<?, ?B/s]"
            ]
          },
          "metadata": {},
          "output_type": "display_data"
        },
        {
          "data": {
            "application/vnd.jupyter.widget-view+json": {
              "model_id": "ad2a4721797e4d99b34ab283c8325b54",
              "version_major": 2,
              "version_minor": 0
            },
            "text/plain": [
              "Downloading:   0%|          | 0.00/499M [00:00<?, ?B/s]"
            ]
          },
          "metadata": {},
          "output_type": "display_data"
        },
        {
          "data": {
            "application/vnd.jupyter.widget-view+json": {
              "model_id": "1b5b76fdf55c4738a116ccd032dba874",
              "version_major": 2,
              "version_minor": 0
            },
            "text/plain": [
              "Downloading:   0%|          | 0.00/53.0 [00:00<?, ?B/s]"
            ]
          },
          "metadata": {},
          "output_type": "display_data"
        },
        {
          "data": {
            "application/vnd.jupyter.widget-view+json": {
              "model_id": "b93e8b16dc644961b889fcba546d6a2f",
              "version_major": 2,
              "version_minor": 0
            },
            "text/plain": [
              "Downloading:   0%|          | 0.00/239 [00:00<?, ?B/s]"
            ]
          },
          "metadata": {},
          "output_type": "display_data"
        },
        {
          "data": {
            "application/vnd.jupyter.widget-view+json": {
              "model_id": "8b30836e64c04202a238273ffb399917",
              "version_major": 2,
              "version_minor": 0
            },
            "text/plain": [
              "Downloading:   0%|          | 0.00/1.36M [00:00<?, ?B/s]"
            ]
          },
          "metadata": {},
          "output_type": "display_data"
        },
        {
          "data": {
            "application/vnd.jupyter.widget-view+json": {
              "model_id": "1f6ab1d2bb464c7b99dfae0e99c478e6",
              "version_major": 2,
              "version_minor": 0
            },
            "text/plain": [
              "Downloading:   0%|          | 0.00/354 [00:00<?, ?B/s]"
            ]
          },
          "metadata": {},
          "output_type": "display_data"
        },
        {
          "data": {
            "application/vnd.jupyter.widget-view+json": {
              "model_id": "6766a21c9500467293687329728a1f22",
              "version_major": 2,
              "version_minor": 0
            },
            "text/plain": [
              "Downloading:   0%|          | 0.00/798k [00:00<?, ?B/s]"
            ]
          },
          "metadata": {},
          "output_type": "display_data"
        },
        {
          "data": {
            "application/vnd.jupyter.widget-view+json": {
              "model_id": "9a1b50b9ad8e4177908bdc8d444a3c5c",
              "version_major": 2,
              "version_minor": 0
            },
            "text/plain": [
              "Downloading:   0%|          | 0.00/229 [00:00<?, ?B/s]"
            ]
          },
          "metadata": {},
          "output_type": "display_data"
        }
      ],
      "source": [
        "set_reproducibility(base_seed)\n",
        "\n",
        "#model_type = \"all-mpnet-base-v2\"\n",
        "model_type = 'AnnaWegmann/Style-Embedding'\n",
        "\n",
        "model = SentenceTransformer(model_type)"
      ]
    },
    {
      "cell_type": "code",
      "execution_count": null,
      "metadata": {
        "execution": {
          "iopub.execute_input": "2022-12-18T13:17:30.185406Z",
          "iopub.status.busy": "2022-12-18T13:17:30.184420Z",
          "iopub.status.idle": "2022-12-18T13:55:59.671109Z",
          "shell.execute_reply": "2022-12-18T13:55:59.670272Z",
          "shell.execute_reply.started": "2022-12-18T13:17:30.185378Z"
        },
        "id": "q5RzHXv43q4d",
        "colab": {
          "referenced_widgets": [
            "58e72144145c4eb2b13f5accaf2ae415",
            "415d4bb1b074430ca60c824c091755a6",
            "673f52a9226e4eb29b822fee4c876774"
          ]
        },
        "outputId": "f8c46c9f-3a59-4a98-e0d1-67521ce7c3c2"
      },
      "outputs": [
        {
          "name": "stdout",
          "output_type": "stream",
          "text": [
            "154108\n",
            "272236\n",
            "Dataset size: 50000\n"
          ]
        },
        {
          "data": {
            "application/vnd.jupyter.widget-view+json": {
              "model_id": "58e72144145c4eb2b13f5accaf2ae415",
              "version_major": 2,
              "version_minor": 0
            },
            "text/plain": [
              "Epoch:   0%|          | 0/2 [00:00<?, ?it/s]"
            ]
          },
          "metadata": {},
          "output_type": "display_data"
        },
        {
          "data": {
            "application/vnd.jupyter.widget-view+json": {
              "model_id": "415d4bb1b074430ca60c824c091755a6",
              "version_major": 2,
              "version_minor": 0
            },
            "text/plain": [
              "Iteration:   0%|          | 0/6250 [00:00<?, ?it/s]"
            ]
          },
          "metadata": {},
          "output_type": "display_data"
        },
        {
          "data": {
            "application/vnd.jupyter.widget-view+json": {
              "model_id": "673f52a9226e4eb29b822fee4c876774",
              "version_major": 2,
              "version_minor": 0
            },
            "text/plain": [
              "Iteration:   0%|          | 0/6250 [00:00<?, ?it/s]"
            ]
          },
          "metadata": {},
          "output_type": "display_data"
        }
      ],
      "source": [
        "max_length = 128\n",
        "train_ds = create_contrastive_examples(df_train[\"splitted_text\"].values, df_train[\"paragraph-authors\"].values, model.tokenizer, \n",
        "                                       max_length, max_samples = 50000)\n",
        "print(\"Dataset size:\", len(train_ds))\n",
        "train_dl = DataLoader(train_ds,\n",
        "                      shuffle=True,\n",
        "                      batch_size=8,\n",
        "                      collate_fn=model.smart_batching_collate)\n",
        "\n",
        "# Define contrastive loss\n",
        "contrastive_loss = losses.ContrastiveLoss(model=model, distance_metric=losses.SiameseDistanceMetric.COSINE_DISTANCE, margin=0.6)\n",
        "epochs = 2\n",
        "\n",
        "# Train\n",
        "model.fit(train_objectives=[(train_dl, contrastive_loss)],\n",
        "                       epochs=epochs,\n",
        "                       warmup_steps=math.ceil(len(train_dl) * epochs * 0.1),\n",
        "                       optimizer_params={\n",
        "                           'lr': 2e-5,\n",
        "                       }\n",
        "        )"
      ]
    },
    {
      "cell_type": "code",
      "execution_count": null,
      "metadata": {
        "execution": {
          "iopub.execute_input": "2022-12-18T13:55:59.673338Z",
          "iopub.status.busy": "2022-12-18T13:55:59.672810Z",
          "iopub.status.idle": "2022-12-18T14:03:06.884988Z",
          "shell.execute_reply": "2022-12-18T14:03:06.884054Z",
          "shell.execute_reply.started": "2022-12-18T13:55:59.673307Z"
        },
        "id": "AjwpsgydG6m-",
        "outputId": "2969d2a5-e944-4f7d-e8b2-9d26a8e00114"
      },
      "outputs": [
        {
          "name": "stdout",
          "output_type": "stream",
          "text": [
            "Using 0.7385238137675535 as threshold\n",
            "              precision    recall  f1-score   support\n",
            "\n",
            "           1       0.74      0.78      0.76      5098\n",
            "           2       0.56      0.59      0.57      2828\n",
            "           3       0.40      0.39      0.40      1701\n",
            "           4       0.33      0.25      0.29       978\n",
            "           5       0.24      0.17      0.20       432\n",
            "\n",
            "    accuracy                           0.60     11037\n",
            "   macro avg       0.45      0.44      0.44     11037\n",
            "weighted avg       0.59      0.60      0.59     11037\n",
            "\n",
            "Using margin(0.6) as threshold\n",
            "              precision    recall  f1-score   support\n",
            "\n",
            "           1       0.62      0.91      0.74      5098\n",
            "           2       0.52      0.49      0.51      2828\n",
            "           3       0.43      0.19      0.26      1701\n",
            "           4       0.39      0.04      0.08       978\n",
            "           5       0.43      0.01      0.01       432\n",
            "\n",
            "    accuracy                           0.58     11037\n",
            "   macro avg       0.48      0.33      0.32     11037\n",
            "weighted avg       0.54      0.58      0.52     11037\n",
            "\n",
            "Unsupervised clustering\n",
            "              precision    recall  f1-score   support\n",
            "\n",
            "           1       0.49      1.00      0.65      5098\n",
            "           2       0.56      0.12      0.19      2828\n",
            "           3       0.49      0.01      0.02      1701\n",
            "           4       0.00      0.00      0.00       978\n",
            "           5       0.00      0.00      0.00       432\n",
            "\n",
            "    accuracy                           0.49     11037\n",
            "   macro avg       0.31      0.22      0.17     11037\n",
            "weighted avg       0.45      0.49      0.36     11037\n",
            "\n"
          ]
        },
        {
          "name": "stderr",
          "output_type": "stream",
          "text": [
            "/usr/local/lib/python3.9/dist-packages/sklearn/metrics/_classification.py:1327: UndefinedMetricWarning: Precision and F-score are ill-defined and being set to 0.0 in labels with no predicted samples. Use `zero_division` parameter to control this behavior.\n",
            "  _warn_prf(average, modifier, msg_start, len(result))\n",
            "/usr/local/lib/python3.9/dist-packages/sklearn/metrics/_classification.py:1327: UndefinedMetricWarning: Precision and F-score are ill-defined and being set to 0.0 in labels with no predicted samples. Use `zero_division` parameter to control this behavior.\n",
            "  _warn_prf(average, modifier, msg_start, len(result))\n",
            "/usr/local/lib/python3.9/dist-packages/sklearn/metrics/_classification.py:1327: UndefinedMetricWarning: Precision and F-score are ill-defined and being set to 0.0 in labels with no predicted samples. Use `zero_division` parameter to control this behavior.\n",
            "  _warn_prf(average, modifier, msg_start, len(result))\n"
          ]
        }
      ],
      "source": [
        "model.eval()\n",
        "# Compute the threshold\n",
        "same_sims, diff_sims = compute_same_diff_contrastive(model, train_dl)\n",
        "th = np.mean([np.mean(same_sims)-2*np.std(same_sims), np.mean(diff_sims)+2*np.std(diff_sims)])\n",
        "\n",
        "print(f\"Using {th} as threshold\")\n",
        "evaluate_mmodel_task2(model, df_valid, th, save_pred_to_disk=\"task2_model2_style.npy\")\n",
        "\n",
        "th = 0.6\n",
        "\n",
        "print(f\"Using margin({th}) as threshold\")\n",
        "evaluate_mmodel_task2(model, df_valid, th)\n",
        "\n",
        "print(f\"Unsupervised clustering\")\n",
        "evaluate_mmodel_task2(model, df_valid, None)"
      ]
    },
    {
      "cell_type": "markdown",
      "metadata": {
        "id": "NvK8A-vsH7c8"
      },
      "source": [
        "## Model 3 - Trained SBERT with triplet loss"
      ]
    },
    {
      "cell_type": "markdown",
      "source": [
        "Third model, build a dataset of triplets and train the model using triplet loss.\n"
      ],
      "metadata": {
        "id": "TwYlVY4b2-EF"
      }
    },
    {
      "cell_type": "code",
      "execution_count": null,
      "metadata": {
        "execution": {
          "iopub.execute_input": "2022-12-18T14:03:06.886370Z",
          "iopub.status.busy": "2022-12-18T14:03:06.886119Z",
          "iopub.status.idle": "2022-12-18T14:03:08.466114Z",
          "shell.execute_reply": "2022-12-18T14:03:08.465240Z",
          "shell.execute_reply.started": "2022-12-18T14:03:06.886348Z"
        },
        "id": "baBHs1T7IubH"
      },
      "outputs": [],
      "source": [
        "set_reproducibility(base_seed)\n",
        "\n",
        "#model_type = \"all-mpnet-base-v2\"\n",
        "model_type = 'AnnaWegmann/Style-Embedding'\n",
        "\n",
        "model = SentenceTransformer(model_type)"
      ]
    },
    {
      "cell_type": "code",
      "execution_count": null,
      "metadata": {
        "colab": {
          "referenced_widgets": [
            "e43cdf7493294e1f9570ce04180263d0",
            "b476f766425d4569ba52d32d7012ef4d",
            "26ddf08b2d684237b073f142280a5ed0",
            "606e877cbb7141cc8113bd6210518a2e",
            "0ea5c9c7a8ff4ddebb30ffe8be6be95a",
            "85008bcf3ccd452883f70137ae5268b7"
          ]
        },
        "execution": {
          "iopub.execute_input": "2022-12-18T14:03:08.467414Z",
          "iopub.status.busy": "2022-12-18T14:03:08.467177Z",
          "iopub.status.idle": "2022-12-18T14:51:45.861236Z",
          "shell.execute_reply": "2022-12-18T14:51:45.860225Z",
          "shell.execute_reply.started": "2022-12-18T14:03:08.467393Z"
        },
        "id": "1ZxGOR-z3q4h",
        "outputId": "9c1d2051-5f64-4125-a401-8c5dc0304f86"
      },
      "outputs": [
        {
          "name": "stdout",
          "output_type": "stream",
          "text": [
            "N easy:49349, N hard: 0, N semihard:0\n",
            "49349\n"
          ]
        },
        {
          "data": {
            "application/vnd.jupyter.widget-view+json": {
              "model_id": "606e877cbb7141cc8113bd6210518a2e",
              "version_major": 2,
              "version_minor": 0
            },
            "text/plain": [
              "Epoch:   0%|          | 0/2 [00:00<?, ?it/s]"
            ]
          },
          "metadata": {},
          "output_type": "display_data"
        },
        {
          "data": {
            "application/vnd.jupyter.widget-view+json": {
              "model_id": "0ea5c9c7a8ff4ddebb30ffe8be6be95a",
              "version_major": 2,
              "version_minor": 0
            },
            "text/plain": [
              "Iteration:   0%|          | 0/6169 [00:00<?, ?it/s]"
            ]
          },
          "metadata": {},
          "output_type": "display_data"
        },
        {
          "data": {
            "application/vnd.jupyter.widget-view+json": {
              "model_id": "85008bcf3ccd452883f70137ae5268b7",
              "version_major": 2,
              "version_minor": 0
            },
            "text/plain": [
              "Iteration:   0%|          | 0/6169 [00:00<?, ?it/s]"
            ]
          },
          "metadata": {},
          "output_type": "display_data"
        }
      ],
      "source": [
        "max_length = 128\n",
        "train_ds = create_triplet_examples(df_train[\"splitted_text\"].values, df_train[\"paragraph-authors\"].values, model.tokenizer, \n",
        "                                            max_length, n_per_document=20, max_samples = 50000, model=model, margin=0.6)\n",
        "train_dl = DataLoader(train_ds,\n",
        "                      shuffle=True,\n",
        "                      batch_size=8,\n",
        "                      collate_fn=model.smart_batching_collate)\n",
        "\n",
        "# Define triplet loss\n",
        "triplet_loss = losses.TripletLoss(model=model, triplet_margin=0.6, distance_metric=losses.TripletDistanceMetric.COSINE)\n",
        "epochs = 2\n",
        "\n",
        "# Train\n",
        "model.fit(train_objectives=[(train_dl, triplet_loss)],\n",
        "                       epochs=epochs,\n",
        "                       warmup_steps=math.ceil(len(train_dl) * epochs * 0.1),\n",
        "                       optimizer_params={\n",
        "                           'lr': 2e-5,\n",
        "                       })"
      ]
    },
    {
      "cell_type": "code",
      "execution_count": null,
      "metadata": {
        "execution": {
          "iopub.execute_input": "2022-12-18T14:51:45.863812Z",
          "iopub.status.busy": "2022-12-18T14:51:45.863549Z",
          "iopub.status.idle": "2022-12-18T15:01:13.496367Z",
          "shell.execute_reply": "2022-12-18T15:01:13.495350Z",
          "shell.execute_reply.started": "2022-12-18T14:51:45.863789Z"
        },
        "id": "s6mRY9RMIvPl",
        "outputId": "4fe094c0-10bf-415e-ea1b-ca48e84f3aec"
      },
      "outputs": [
        {
          "name": "stdout",
          "output_type": "stream",
          "text": [
            "Using 0.37117809966651494 as threshold\n",
            "              precision    recall  f1-score   support\n",
            "\n",
            "           1       0.70      0.79      0.74      5098\n",
            "           2       0.53      0.60      0.56      2828\n",
            "           3       0.37      0.32      0.35      1701\n",
            "           4       0.31      0.16      0.21       978\n",
            "           5       0.19      0.05      0.08       432\n",
            "\n",
            "    accuracy                           0.58     11037\n",
            "   macro avg       0.42      0.38      0.39     11037\n",
            "weighted avg       0.55      0.58      0.56     11037\n",
            "\n",
            "Using margin(0.6) as threshold\n",
            "              precision    recall  f1-score   support\n",
            "\n",
            "           1       0.78      0.66      0.72      5098\n",
            "           2       0.53      0.55      0.54      2828\n",
            "           3       0.36      0.41      0.38      1701\n",
            "           4       0.26      0.30      0.28       978\n",
            "           5       0.15      0.24      0.19       432\n",
            "\n",
            "    accuracy                           0.55     11037\n",
            "   macro avg       0.42      0.43      0.42     11037\n",
            "weighted avg       0.58      0.55      0.56     11037\n",
            "\n",
            "Unsupervised clustering\n",
            "              precision    recall  f1-score   support\n",
            "\n",
            "           1       0.66      0.80      0.72      5098\n",
            "           2       0.52      0.53      0.53      2828\n",
            "           3       0.38      0.28      0.32      1701\n",
            "           4       0.31      0.16      0.21       978\n",
            "           5       0.21      0.08      0.12       432\n",
            "\n",
            "    accuracy                           0.57     11037\n",
            "   macro avg       0.41      0.37      0.38     11037\n",
            "weighted avg       0.53      0.57      0.54     11037\n",
            "\n"
          ]
        }
      ],
      "source": [
        "model.eval()\n",
        "\n",
        "# Compute the threshold\n",
        "same_sims, diff_sims = compute_same_diff_triplet(model, train_dl)\n",
        "th = np.mean([np.mean(same_sims)-2*np.std(same_sims), np.mean(diff_sims)+2*np.std(diff_sims)])\n",
        "#th = 0.6\n",
        "\n",
        "print(f\"Using {th} as threshold\")\n",
        "evaluate_mmodel_task2(model, df_valid, th, save_pred_to_disk=\"task2_model3_style.npy\")\n",
        "\n",
        "th = 0.6\n",
        "\n",
        "print(f\"Using margin({th}) as threshold\")\n",
        "evaluate_mmodel_task2(model, df_valid, th)\n",
        "\n",
        "print(f\"Unsupervised clustering\")\n",
        "evaluate_mmodel_task2(model, df_valid, None)"
      ]
    },
    {
      "cell_type": "markdown",
      "metadata": {
        "id": "DURc1zIdH7mH"
      },
      "source": [
        "## Model 4 - Trained SBERT with triplet loss, hard/semi hard negative mining\n"
      ]
    },
    {
      "cell_type": "markdown",
      "source": [
        "Fourth model, like model 3 but use only hard and semi hard triplet examples.  \n"
      ],
      "metadata": {
        "id": "w1jjHW2x3EZY"
      }
    },
    {
      "cell_type": "code",
      "execution_count": null,
      "metadata": {
        "execution": {
          "iopub.execute_input": "2022-12-17T16:21:36.017957Z",
          "iopub.status.busy": "2022-12-17T16:21:36.017593Z",
          "iopub.status.idle": "2022-12-17T16:21:37.673600Z",
          "shell.execute_reply": "2022-12-17T16:21:37.672652Z",
          "shell.execute_reply.started": "2022-12-17T16:21:36.017930Z"
        },
        "id": "qY8JmUfnJDwt"
      },
      "outputs": [],
      "source": [
        "set_reproducibility(base_seed)\n",
        "\n",
        "#model_type = \"all-mpnet-base-v2\"\n",
        "model_type = 'AnnaWegmann/Style-Embedding'\n",
        "\n",
        "model = SentenceTransformer(model_type)"
      ]
    },
    {
      "cell_type": "code",
      "execution_count": null,
      "metadata": {
        "colab": {
          "referenced_widgets": [
            "02a5cd993a2b4878b492a15dc5f7fb07",
            "b951262d99514d7aaa0ff7c7c52fc113",
            "8a1d3d7483ad4757a6ef02203451f0f6",
            "d289fa83628c4e37a50908bbd0984244",
            "ca68f5fc9a87475f84c1822b63029b75",
            "0145e9fb383448c2bd15aebb535817d3",
            "069f62ddc7aa4856a58de8b1eedffa9c",
            "ba7bb80aaf9e4bc4a3a3b1085ee31d33",
            "d9bb77f2be4f40e29b2e0650b4aabc41",
            "4dce1d8d2f32410ab3d606ba4dd401c9",
            "3ff01d71a7524f9dab4ed064cf17ff7f",
            "5161881767464a30bd72b681910704f1",
            "b4d349f8129a4356babfd55731910e64",
            "abeb5127e1bb401fae2fd2ae008f2c4a"
          ]
        },
        "execution": {
          "iopub.execute_input": "2022-12-17T16:21:37.676942Z",
          "iopub.status.busy": "2022-12-17T16:21:37.676335Z",
          "iopub.status.idle": "2022-12-17T17:56:39.148229Z",
          "shell.execute_reply": "2022-12-17T17:56:39.147289Z",
          "shell.execute_reply.started": "2022-12-17T16:21:37.676892Z"
        },
        "id": "kb2w_IyS3q4m",
        "outputId": "4ce805ea-0820-4c61-dc3a-4909c8750dc8"
      },
      "outputs": [
        {
          "name": "stdout",
          "output_type": "stream",
          "text": [
            "N easy:0, N hard: 9773, N semihard:16076\n",
            "25849\n"
          ]
        },
        {
          "data": {
            "application/vnd.jupyter.widget-view+json": {
              "model_id": "3ff01d71a7524f9dab4ed064cf17ff7f",
              "version_major": 2,
              "version_minor": 0
            },
            "text/plain": [
              "Epoch:   0%|          | 0/3 [00:00<?, ?it/s]"
            ]
          },
          "metadata": {},
          "output_type": "display_data"
        },
        {
          "data": {
            "application/vnd.jupyter.widget-view+json": {
              "model_id": "5161881767464a30bd72b681910704f1",
              "version_major": 2,
              "version_minor": 0
            },
            "text/plain": [
              "Iteration:   0%|          | 0/3232 [00:00<?, ?it/s]"
            ]
          },
          "metadata": {},
          "output_type": "display_data"
        },
        {
          "data": {
            "application/vnd.jupyter.widget-view+json": {
              "model_id": "b4d349f8129a4356babfd55731910e64",
              "version_major": 2,
              "version_minor": 0
            },
            "text/plain": [
              "Iteration:   0%|          | 0/3232 [00:00<?, ?it/s]"
            ]
          },
          "metadata": {},
          "output_type": "display_data"
        },
        {
          "data": {
            "application/vnd.jupyter.widget-view+json": {
              "model_id": "abeb5127e1bb401fae2fd2ae008f2c4a",
              "version_major": 2,
              "version_minor": 0
            },
            "text/plain": [
              "Iteration:   0%|          | 0/3232 [00:00<?, ?it/s]"
            ]
          },
          "metadata": {},
          "output_type": "display_data"
        }
      ],
      "source": [
        "max_length = 128\n",
        "\n",
        "# Define triplet loss\n",
        "triplet_loss = losses.TripletLoss(model=model, triplet_margin=0.6, distance_metric=losses.TripletDistanceMetric.COSINE)\n",
        "model.eval()\n",
        "train_ds = create_triplet_examples(df_train[\"splitted_text\"].values, df_train[\"paragraph-authors\"].values, model.tokenizer, \n",
        "                                            max_length, n_per_document=10, max_samples = 50000, model=model, margin=0.6, \n",
        "                                 mine_all=False, mine_semihard=True, mine_hard=True)\n",
        "train_dl = DataLoader(train_ds,\n",
        "                  shuffle=True,\n",
        "                  batch_size=8,\n",
        "                  collate_fn=model.smart_batching_collate)\n",
        "\n",
        "epochs = 3\n",
        "model.train()\n",
        "# Train\n",
        "model.fit(train_objectives=[(train_dl, triplet_loss)],\n",
        "                       epochs=epochs,\n",
        "                       warmup_steps=math.ceil(len(train_dl) * epochs * 0.1),\n",
        "                       optimizer_params={\n",
        "                           'lr': 2e-5,\n",
        "                       })"
      ]
    },
    {
      "cell_type": "code",
      "execution_count": null,
      "metadata": {
        "execution": {
          "iopub.execute_input": "2022-12-17T18:25:54.367134Z",
          "iopub.status.busy": "2022-12-17T18:25:54.366786Z",
          "iopub.status.idle": "2022-12-17T18:30:07.771262Z",
          "shell.execute_reply": "2022-12-17T18:30:07.770183Z",
          "shell.execute_reply.started": "2022-12-17T18:25:54.367108Z"
        },
        "id": "GAKO7usHJTr4",
        "outputId": "ed58c16c-9b4e-4f2b-cdad-908f4bf19c41"
      },
      "outputs": [
        {
          "name": "stdout",
          "output_type": "stream",
          "text": [
            "Using 0.3 as threshold\n",
            "              precision    recall  f1-score   support\n",
            "\n",
            "           1       0.68      0.79      0.73      5098\n",
            "           2       0.51      0.59      0.55      2828\n",
            "           3       0.36      0.29      0.32      1701\n",
            "           4       0.24      0.09      0.13       978\n",
            "           5       0.33      0.04      0.07       432\n",
            "\n",
            "    accuracy                           0.57     11037\n",
            "   macro avg       0.42      0.36      0.36     11037\n",
            "weighted avg       0.53      0.57      0.54     11037\n",
            "\n",
            "Using margin(0.6) as threshold\n",
            "              precision    recall  f1-score   support\n",
            "\n",
            "           1       0.79      0.61      0.69      5098\n",
            "           2       0.53      0.54      0.53      2828\n",
            "           3       0.35      0.41      0.38      1701\n",
            "           4       0.22      0.31      0.25       978\n",
            "           5       0.13      0.25      0.17       432\n",
            "\n",
            "    accuracy                           0.52     11037\n",
            "   macro avg       0.40      0.42      0.41     11037\n",
            "weighted avg       0.58      0.52      0.54     11037\n",
            "\n",
            "Unsupervised clustering\n",
            "              precision    recall  f1-score   support\n",
            "\n",
            "           1       0.67      0.77      0.72      5098\n",
            "           2       0.52      0.52      0.52      2828\n",
            "           3       0.36      0.30      0.33      1701\n",
            "           4       0.27      0.19      0.22       978\n",
            "           5       0.15      0.09      0.11       432\n",
            "\n",
            "    accuracy                           0.56     11037\n",
            "   macro avg       0.39      0.37      0.38     11037\n",
            "weighted avg       0.53      0.56      0.54     11037\n",
            "\n"
          ]
        }
      ],
      "source": [
        "model.eval()\n",
        "same_sims, diff_sims = compute_same_diff_triplet(model, train_dl)\n",
        "th = np.mean([np.mean(same_sims)-2*np.std(same_sims), np.mean(diff_sims)+2*np.std(diff_sims)])\n",
        "\n",
        "print(f\"Using {th} as threshold\")\n",
        "evaluate_mmodel_task2(model, df_valid, th, save_pred_to_disk=\"task2_model4_style.npy\")\n",
        "\n",
        "th = 0.6\n",
        "\n",
        "print(f\"Using margin({th}) as threshold\")\n",
        "evaluate_mmodel_task2(model, df_valid, th)\n",
        "\n",
        "print(f\"Unsupervised clustering\")\n",
        "evaluate_mmodel_task2(model, df_valid, None)"
      ]
    },
    {
      "cell_type": "markdown",
      "metadata": {
        "id": "ADd2-O-T3q4o"
      },
      "source": [
        "# Task 3"
      ]
    },
    {
      "cell_type": "markdown",
      "source": [
        "The third task. The objective is given a set of sentences detect between which of them an author change occurs.\n",
        "Multiple changes between authors can occur and in a set of sentences there can be up to 5 authors."
      ],
      "metadata": {
        "id": "ihpaKAyG7gRz"
      }
    },
    {
      "cell_type": "code",
      "execution_count": 15,
      "metadata": {
        "execution": {
          "iopub.execute_input": "2022-12-18T08:54:11.119796Z",
          "iopub.status.busy": "2022-12-18T08:54:11.118943Z",
          "iopub.status.idle": "2022-12-18T08:54:57.387279Z",
          "shell.execute_reply": "2022-12-18T08:54:57.386525Z",
          "shell.execute_reply.started": "2022-12-18T08:54:11.119767Z"
        },
        "id": "-URahl713q4p",
        "outputId": "0054b154-942c-464f-9476-c19637d4a44d",
        "colab": {
          "base_uri": "https://localhost:8080/",
          "height": 372
        }
      },
      "outputs": [
        {
          "output_type": "stream",
          "name": "stdout",
          "text": [
            "we have a problem at row:  1194\n"
          ]
        },
        {
          "output_type": "execute_result",
          "data": {
            "text/plain": [
              "   authors                                   site  multi-author  \\\n",
              "0        5                     serverfault.com.7z             1   \n",
              "1        1           gamedev.stackexchange.com.7z             0   \n",
              "2        5                       superuser.com.7z             1   \n",
              "3        1  computergraphics.stackexchange.com.7z             0   \n",
              "4        3                       superuser.com.7z             1   \n",
              "\n",
              "                                             changes  \\\n",
              "0                  [1, 1, 0, 1, 1, 0, 1, 1, 1, 0, 1]   \n",
              "1  [0, 0, 0, 0, 0, 0, 0, 0, 0, 0, 0, 0, 0, 0, 0, ...   \n",
              "2         [1, 1, 1, 0, 1, 1, 0, 1, 1, 0, 1, 0, 0, 1]   \n",
              "3                                 [0, 0, 0, 0, 0, 0]   \n",
              "4  [1, 1, 1, 1, 0, 1, 0, 1, 0, 1, 1, 0, 0, 1, 1, ...   \n",
              "\n",
              "                                   paragraph-authors  \\\n",
              "0               [1, 2, 1, 1, 3, 2, 2, 3, 4, 5, 5, 2]   \n",
              "1  [1, 1, 1, 1, 1, 1, 1, 1, 1, 1, 1, 1, 1, 1, 1, ...   \n",
              "2      [1, 2, 3, 1, 1, 4, 5, 5, 1, 3, 3, 2, 2, 2, 1]   \n",
              "3                              [1, 1, 1, 1, 1, 1, 1]   \n",
              "4  [1, 2, 1, 3, 2, 2, 3, 3, 2, 2, 1, 2, 2, 2, 3, ...   \n",
              "\n",
              "                                          input_text  \\\n",
              "0  Everything else equals I would say it being mo...   \n",
              "1  I also apologize for the lack of a 'decent' ti...   \n",
              "2  And updates should not need to touch /home/ an...   \n",
              "3  But v1,v2,v4 and v5 would have non-zero normal...   \n",
              "4  Now run this command to stop Windows from inst...   \n",
              "\n",
              "                                       splitted_text  \n",
              "0  [Everything else equals I would say it being m...  \n",
              "1  [I also apologize for the lack of a 'decent' t...  \n",
              "2  [And updates should not need to touch /home/ a...  \n",
              "3  [But v1,v2,v4 and v5 would have non-zero norma...  \n",
              "4  [Now run this command to stop Windows from ins...  "
            ],
            "text/html": [
              "\n",
              "  <div id=\"df-cf457527-7476-403e-8d8f-e4a124a587f6\">\n",
              "    <div class=\"colab-df-container\">\n",
              "      <div>\n",
              "<style scoped>\n",
              "    .dataframe tbody tr th:only-of-type {\n",
              "        vertical-align: middle;\n",
              "    }\n",
              "\n",
              "    .dataframe tbody tr th {\n",
              "        vertical-align: top;\n",
              "    }\n",
              "\n",
              "    .dataframe thead th {\n",
              "        text-align: right;\n",
              "    }\n",
              "</style>\n",
              "<table border=\"1\" class=\"dataframe\">\n",
              "  <thead>\n",
              "    <tr style=\"text-align: right;\">\n",
              "      <th></th>\n",
              "      <th>authors</th>\n",
              "      <th>site</th>\n",
              "      <th>multi-author</th>\n",
              "      <th>changes</th>\n",
              "      <th>paragraph-authors</th>\n",
              "      <th>input_text</th>\n",
              "      <th>splitted_text</th>\n",
              "    </tr>\n",
              "  </thead>\n",
              "  <tbody>\n",
              "    <tr>\n",
              "      <th>0</th>\n",
              "      <td>5</td>\n",
              "      <td>serverfault.com.7z</td>\n",
              "      <td>1</td>\n",
              "      <td>[1, 1, 0, 1, 1, 0, 1, 1, 1, 0, 1]</td>\n",
              "      <td>[1, 2, 1, 1, 3, 2, 2, 3, 4, 5, 5, 2]</td>\n",
              "      <td>Everything else equals I would say it being mo...</td>\n",
              "      <td>[Everything else equals I would say it being m...</td>\n",
              "    </tr>\n",
              "    <tr>\n",
              "      <th>1</th>\n",
              "      <td>1</td>\n",
              "      <td>gamedev.stackexchange.com.7z</td>\n",
              "      <td>0</td>\n",
              "      <td>[0, 0, 0, 0, 0, 0, 0, 0, 0, 0, 0, 0, 0, 0, 0, ...</td>\n",
              "      <td>[1, 1, 1, 1, 1, 1, 1, 1, 1, 1, 1, 1, 1, 1, 1, ...</td>\n",
              "      <td>I also apologize for the lack of a 'decent' ti...</td>\n",
              "      <td>[I also apologize for the lack of a 'decent' t...</td>\n",
              "    </tr>\n",
              "    <tr>\n",
              "      <th>2</th>\n",
              "      <td>5</td>\n",
              "      <td>superuser.com.7z</td>\n",
              "      <td>1</td>\n",
              "      <td>[1, 1, 1, 0, 1, 1, 0, 1, 1, 0, 1, 0, 0, 1]</td>\n",
              "      <td>[1, 2, 3, 1, 1, 4, 5, 5, 1, 3, 3, 2, 2, 2, 1]</td>\n",
              "      <td>And updates should not need to touch /home/ an...</td>\n",
              "      <td>[And updates should not need to touch /home/ a...</td>\n",
              "    </tr>\n",
              "    <tr>\n",
              "      <th>3</th>\n",
              "      <td>1</td>\n",
              "      <td>computergraphics.stackexchange.com.7z</td>\n",
              "      <td>0</td>\n",
              "      <td>[0, 0, 0, 0, 0, 0]</td>\n",
              "      <td>[1, 1, 1, 1, 1, 1, 1]</td>\n",
              "      <td>But v1,v2,v4 and v5 would have non-zero normal...</td>\n",
              "      <td>[But v1,v2,v4 and v5 would have non-zero norma...</td>\n",
              "    </tr>\n",
              "    <tr>\n",
              "      <th>4</th>\n",
              "      <td>3</td>\n",
              "      <td>superuser.com.7z</td>\n",
              "      <td>1</td>\n",
              "      <td>[1, 1, 1, 1, 0, 1, 0, 1, 0, 1, 1, 0, 0, 1, 1, ...</td>\n",
              "      <td>[1, 2, 1, 3, 2, 2, 3, 3, 2, 2, 1, 2, 2, 2, 3, ...</td>\n",
              "      <td>Now run this command to stop Windows from inst...</td>\n",
              "      <td>[Now run this command to stop Windows from ins...</td>\n",
              "    </tr>\n",
              "  </tbody>\n",
              "</table>\n",
              "</div>\n",
              "      <button class=\"colab-df-convert\" onclick=\"convertToInteractive('df-cf457527-7476-403e-8d8f-e4a124a587f6')\"\n",
              "              title=\"Convert this dataframe to an interactive table.\"\n",
              "              style=\"display:none;\">\n",
              "        \n",
              "  <svg xmlns=\"http://www.w3.org/2000/svg\" height=\"24px\"viewBox=\"0 0 24 24\"\n",
              "       width=\"24px\">\n",
              "    <path d=\"M0 0h24v24H0V0z\" fill=\"none\"/>\n",
              "    <path d=\"M18.56 5.44l.94 2.06.94-2.06 2.06-.94-2.06-.94-.94-2.06-.94 2.06-2.06.94zm-11 1L8.5 8.5l.94-2.06 2.06-.94-2.06-.94L8.5 2.5l-.94 2.06-2.06.94zm10 10l.94 2.06.94-2.06 2.06-.94-2.06-.94-.94-2.06-.94 2.06-2.06.94z\"/><path d=\"M17.41 7.96l-1.37-1.37c-.4-.4-.92-.59-1.43-.59-.52 0-1.04.2-1.43.59L10.3 9.45l-7.72 7.72c-.78.78-.78 2.05 0 2.83L4 21.41c.39.39.9.59 1.41.59.51 0 1.02-.2 1.41-.59l7.78-7.78 2.81-2.81c.8-.78.8-2.07 0-2.86zM5.41 20L4 18.59l7.72-7.72 1.47 1.35L5.41 20z\"/>\n",
              "  </svg>\n",
              "      </button>\n",
              "      \n",
              "  <style>\n",
              "    .colab-df-container {\n",
              "      display:flex;\n",
              "      flex-wrap:wrap;\n",
              "      gap: 12px;\n",
              "    }\n",
              "\n",
              "    .colab-df-convert {\n",
              "      background-color: #E8F0FE;\n",
              "      border: none;\n",
              "      border-radius: 50%;\n",
              "      cursor: pointer;\n",
              "      display: none;\n",
              "      fill: #1967D2;\n",
              "      height: 32px;\n",
              "      padding: 0 0 0 0;\n",
              "      width: 32px;\n",
              "    }\n",
              "\n",
              "    .colab-df-convert:hover {\n",
              "      background-color: #E2EBFA;\n",
              "      box-shadow: 0px 1px 2px rgba(60, 64, 67, 0.3), 0px 1px 3px 1px rgba(60, 64, 67, 0.15);\n",
              "      fill: #174EA6;\n",
              "    }\n",
              "\n",
              "    [theme=dark] .colab-df-convert {\n",
              "      background-color: #3B4455;\n",
              "      fill: #D2E3FC;\n",
              "    }\n",
              "\n",
              "    [theme=dark] .colab-df-convert:hover {\n",
              "      background-color: #434B5C;\n",
              "      box-shadow: 0px 1px 3px 1px rgba(0, 0, 0, 0.15);\n",
              "      filter: drop-shadow(0px 1px 2px rgba(0, 0, 0, 0.3));\n",
              "      fill: #FFFFFF;\n",
              "    }\n",
              "  </style>\n",
              "\n",
              "      <script>\n",
              "        const buttonEl =\n",
              "          document.querySelector('#df-cf457527-7476-403e-8d8f-e4a124a587f6 button.colab-df-convert');\n",
              "        buttonEl.style.display =\n",
              "          google.colab.kernel.accessAllowed ? 'block' : 'none';\n",
              "\n",
              "        async function convertToInteractive(key) {\n",
              "          const element = document.querySelector('#df-cf457527-7476-403e-8d8f-e4a124a587f6');\n",
              "          const dataTable =\n",
              "            await google.colab.kernel.invokeFunction('convertToInteractive',\n",
              "                                                     [key], {});\n",
              "          if (!dataTable) return;\n",
              "\n",
              "          const docLinkHtml = 'Like what you see? Visit the ' +\n",
              "            '<a target=\"_blank\" href=https://colab.research.google.com/notebooks/data_table.ipynb>data table notebook</a>'\n",
              "            + ' to learn more about interactive tables.';\n",
              "          element.innerHTML = '';\n",
              "          dataTable['output_type'] = 'display_data';\n",
              "          await google.colab.output.renderOutput(dataTable, element);\n",
              "          const docLink = document.createElement('div');\n",
              "          docLink.innerHTML = docLinkHtml;\n",
              "          element.appendChild(docLink);\n",
              "        }\n",
              "      </script>\n",
              "    </div>\n",
              "  </div>\n",
              "  "
            ]
          },
          "metadata": {},
          "execution_count": 15
        }
      ],
      "source": [
        "train_directory = './dataset3/train'\n",
        "df_train = create_dataframe(train_directory)\n",
        "df_train.head()"
      ]
    },
    {
      "cell_type": "code",
      "source": [
        "valid_directory = './dataset3/validation'\n",
        "df_valid = create_dataframe(valid_directory)\n",
        "df_valid.head()"
      ],
      "metadata": {
        "colab": {
          "base_uri": "https://localhost:8080/",
          "height": 337
        },
        "id": "j0_1-m9XbR1I",
        "outputId": "51c9a564-93ae-47a8-a2da-be4f7206b6a0"
      },
      "execution_count": 16,
      "outputs": [
        {
          "output_type": "execute_result",
          "data": {
            "text/plain": [
              "   authors                site  multi-author  \\\n",
              "0        4  serverfault.com.7z             1   \n",
              "1        2    superuser.com.7z             1   \n",
              "2        3    superuser.com.7z             1   \n",
              "3        2    superuser.com.7z             1   \n",
              "4        4    superuser.com.7z             1   \n",
              "\n",
              "                                             changes  \\\n",
              "0      [1, 1, 1, 0, 0, 1, 1, 1, 0, 1, 1, 1, 1, 0, 1]   \n",
              "1                              [1, 1, 1, 0, 0, 1, 0]   \n",
              "2  [0, 0, 0, 0, 0, 1, 1, 0, 0, 0, 0, 0, 0, 1, 0, ...   \n",
              "3                              [1, 0, 0, 0, 1, 1, 0]   \n",
              "4  [0, 1, 1, 1, 1, 1, 1, 1, 1, 0, 1, 1, 1, 1, 0, ...   \n",
              "\n",
              "                                   paragraph-authors  \\\n",
              "0   [1, 2, 1, 3, 3, 3, 1, 3, 4, 4, 1, 2, 3, 1, 1, 4]   \n",
              "1                           [1, 2, 1, 2, 2, 2, 1, 1]   \n",
              "2  [1, 1, 1, 1, 1, 1, 2, 1, 1, 1, 1, 1, 1, 1, 3, ...   \n",
              "3                           [1, 2, 2, 2, 2, 1, 2, 2]   \n",
              "4  [1, 1, 2, 1, 3, 4, 1, 2, 3, 1, 1, 2, 1, 3, 1, ...   \n",
              "\n",
              "                                          input_text  \\\n",
              "0  And here is the question: why do I have to use...   \n",
              "1  Remove the Day column and combine the Date and...   \n",
              "2  (I will use the \"&\" to execute the command in ...   \n",
              "3  In the advanced settings of openvpn i have cho...   \n",
              "4  Every single device does not exceed the limit ...   \n",
              "\n",
              "                                       splitted_text  \n",
              "0  [And here is the question: why do I have to us...  \n",
              "1  [Remove the Day column and combine the Date an...  \n",
              "2  [(I will use the \"&\" to execute the command in...  \n",
              "3  [In the advanced settings of openvpn i have ch...  \n",
              "4  [Every single device does not exceed the limit...  "
            ],
            "text/html": [
              "\n",
              "  <div id=\"df-5e1e0cb4-3295-4f48-8e61-c613948e66fc\">\n",
              "    <div class=\"colab-df-container\">\n",
              "      <div>\n",
              "<style scoped>\n",
              "    .dataframe tbody tr th:only-of-type {\n",
              "        vertical-align: middle;\n",
              "    }\n",
              "\n",
              "    .dataframe tbody tr th {\n",
              "        vertical-align: top;\n",
              "    }\n",
              "\n",
              "    .dataframe thead th {\n",
              "        text-align: right;\n",
              "    }\n",
              "</style>\n",
              "<table border=\"1\" class=\"dataframe\">\n",
              "  <thead>\n",
              "    <tr style=\"text-align: right;\">\n",
              "      <th></th>\n",
              "      <th>authors</th>\n",
              "      <th>site</th>\n",
              "      <th>multi-author</th>\n",
              "      <th>changes</th>\n",
              "      <th>paragraph-authors</th>\n",
              "      <th>input_text</th>\n",
              "      <th>splitted_text</th>\n",
              "    </tr>\n",
              "  </thead>\n",
              "  <tbody>\n",
              "    <tr>\n",
              "      <th>0</th>\n",
              "      <td>4</td>\n",
              "      <td>serverfault.com.7z</td>\n",
              "      <td>1</td>\n",
              "      <td>[1, 1, 1, 0, 0, 1, 1, 1, 0, 1, 1, 1, 1, 0, 1]</td>\n",
              "      <td>[1, 2, 1, 3, 3, 3, 1, 3, 4, 4, 1, 2, 3, 1, 1, 4]</td>\n",
              "      <td>And here is the question: why do I have to use...</td>\n",
              "      <td>[And here is the question: why do I have to us...</td>\n",
              "    </tr>\n",
              "    <tr>\n",
              "      <th>1</th>\n",
              "      <td>2</td>\n",
              "      <td>superuser.com.7z</td>\n",
              "      <td>1</td>\n",
              "      <td>[1, 1, 1, 0, 0, 1, 0]</td>\n",
              "      <td>[1, 2, 1, 2, 2, 2, 1, 1]</td>\n",
              "      <td>Remove the Day column and combine the Date and...</td>\n",
              "      <td>[Remove the Day column and combine the Date an...</td>\n",
              "    </tr>\n",
              "    <tr>\n",
              "      <th>2</th>\n",
              "      <td>3</td>\n",
              "      <td>superuser.com.7z</td>\n",
              "      <td>1</td>\n",
              "      <td>[0, 0, 0, 0, 0, 1, 1, 0, 0, 0, 0, 0, 0, 1, 0, ...</td>\n",
              "      <td>[1, 1, 1, 1, 1, 1, 2, 1, 1, 1, 1, 1, 1, 1, 3, ...</td>\n",
              "      <td>(I will use the \"&amp;\" to execute the command in ...</td>\n",
              "      <td>[(I will use the \"&amp;\" to execute the command in...</td>\n",
              "    </tr>\n",
              "    <tr>\n",
              "      <th>3</th>\n",
              "      <td>2</td>\n",
              "      <td>superuser.com.7z</td>\n",
              "      <td>1</td>\n",
              "      <td>[1, 0, 0, 0, 1, 1, 0]</td>\n",
              "      <td>[1, 2, 2, 2, 2, 1, 2, 2]</td>\n",
              "      <td>In the advanced settings of openvpn i have cho...</td>\n",
              "      <td>[In the advanced settings of openvpn i have ch...</td>\n",
              "    </tr>\n",
              "    <tr>\n",
              "      <th>4</th>\n",
              "      <td>4</td>\n",
              "      <td>superuser.com.7z</td>\n",
              "      <td>1</td>\n",
              "      <td>[0, 1, 1, 1, 1, 1, 1, 1, 1, 0, 1, 1, 1, 1, 0, ...</td>\n",
              "      <td>[1, 1, 2, 1, 3, 4, 1, 2, 3, 1, 1, 2, 1, 3, 1, ...</td>\n",
              "      <td>Every single device does not exceed the limit ...</td>\n",
              "      <td>[Every single device does not exceed the limit...</td>\n",
              "    </tr>\n",
              "  </tbody>\n",
              "</table>\n",
              "</div>\n",
              "      <button class=\"colab-df-convert\" onclick=\"convertToInteractive('df-5e1e0cb4-3295-4f48-8e61-c613948e66fc')\"\n",
              "              title=\"Convert this dataframe to an interactive table.\"\n",
              "              style=\"display:none;\">\n",
              "        \n",
              "  <svg xmlns=\"http://www.w3.org/2000/svg\" height=\"24px\"viewBox=\"0 0 24 24\"\n",
              "       width=\"24px\">\n",
              "    <path d=\"M0 0h24v24H0V0z\" fill=\"none\"/>\n",
              "    <path d=\"M18.56 5.44l.94 2.06.94-2.06 2.06-.94-2.06-.94-.94-2.06-.94 2.06-2.06.94zm-11 1L8.5 8.5l.94-2.06 2.06-.94-2.06-.94L8.5 2.5l-.94 2.06-2.06.94zm10 10l.94 2.06.94-2.06 2.06-.94-2.06-.94-.94-2.06-.94 2.06-2.06.94z\"/><path d=\"M17.41 7.96l-1.37-1.37c-.4-.4-.92-.59-1.43-.59-.52 0-1.04.2-1.43.59L10.3 9.45l-7.72 7.72c-.78.78-.78 2.05 0 2.83L4 21.41c.39.39.9.59 1.41.59.51 0 1.02-.2 1.41-.59l7.78-7.78 2.81-2.81c.8-.78.8-2.07 0-2.86zM5.41 20L4 18.59l7.72-7.72 1.47 1.35L5.41 20z\"/>\n",
              "  </svg>\n",
              "      </button>\n",
              "      \n",
              "  <style>\n",
              "    .colab-df-container {\n",
              "      display:flex;\n",
              "      flex-wrap:wrap;\n",
              "      gap: 12px;\n",
              "    }\n",
              "\n",
              "    .colab-df-convert {\n",
              "      background-color: #E8F0FE;\n",
              "      border: none;\n",
              "      border-radius: 50%;\n",
              "      cursor: pointer;\n",
              "      display: none;\n",
              "      fill: #1967D2;\n",
              "      height: 32px;\n",
              "      padding: 0 0 0 0;\n",
              "      width: 32px;\n",
              "    }\n",
              "\n",
              "    .colab-df-convert:hover {\n",
              "      background-color: #E2EBFA;\n",
              "      box-shadow: 0px 1px 2px rgba(60, 64, 67, 0.3), 0px 1px 3px 1px rgba(60, 64, 67, 0.15);\n",
              "      fill: #174EA6;\n",
              "    }\n",
              "\n",
              "    [theme=dark] .colab-df-convert {\n",
              "      background-color: #3B4455;\n",
              "      fill: #D2E3FC;\n",
              "    }\n",
              "\n",
              "    [theme=dark] .colab-df-convert:hover {\n",
              "      background-color: #434B5C;\n",
              "      box-shadow: 0px 1px 3px 1px rgba(0, 0, 0, 0.15);\n",
              "      filter: drop-shadow(0px 1px 2px rgba(0, 0, 0, 0.3));\n",
              "      fill: #FFFFFF;\n",
              "    }\n",
              "  </style>\n",
              "\n",
              "      <script>\n",
              "        const buttonEl =\n",
              "          document.querySelector('#df-5e1e0cb4-3295-4f48-8e61-c613948e66fc button.colab-df-convert');\n",
              "        buttonEl.style.display =\n",
              "          google.colab.kernel.accessAllowed ? 'block' : 'none';\n",
              "\n",
              "        async function convertToInteractive(key) {\n",
              "          const element = document.querySelector('#df-5e1e0cb4-3295-4f48-8e61-c613948e66fc');\n",
              "          const dataTable =\n",
              "            await google.colab.kernel.invokeFunction('convertToInteractive',\n",
              "                                                     [key], {});\n",
              "          if (!dataTable) return;\n",
              "\n",
              "          const docLinkHtml = 'Like what you see? Visit the ' +\n",
              "            '<a target=\"_blank\" href=https://colab.research.google.com/notebooks/data_table.ipynb>data table notebook</a>'\n",
              "            + ' to learn more about interactive tables.';\n",
              "          element.innerHTML = '';\n",
              "          dataTable['output_type'] = 'display_data';\n",
              "          await google.colab.output.renderOutput(dataTable, element);\n",
              "          const docLink = document.createElement('div');\n",
              "          docLink.innerHTML = docLinkHtml;\n",
              "          element.appendChild(docLink);\n",
              "        }\n",
              "      </script>\n",
              "    </div>\n",
              "  </div>\n",
              "  "
            ]
          },
          "metadata": {},
          "execution_count": 16
        }
      ]
    },
    {
      "cell_type": "markdown",
      "source": [
        "### Inference strategy\n",
        "Given a SentenceTransformer model encoder and a set of sentences we detect where an author change happens as follows:\n",
        "- For each pair of consecutive passages obtain an embedding for both of them\n",
        "- Compute the cosine similarity between the two embeddings\n",
        "- Apply a threshold , below which we say that the two phrases are written by different authors\n",
        "\n",
        "\n",
        "The threshold is computed in two ways:\n",
        "- Fixed threshold, use the margin as threshold\n",
        "- Learned threshold,  after training we can apply our model to\n",
        "the contrastive pairs and measure the average similarity for same-author samples and\n",
        "different-author samples, the threshold should\n",
        "lie between these two averages. If we define the same-author set of similarities as $S_1$, the different-author set of similarities as $S_2$ we compute the threshold as: $\\frac{(\\mu(S_1)-2\\sigma(S_1)) + (\\mu(S_2)+2\\sigma(S_2))}{2}$"
      ],
      "metadata": {
        "id": "wipsAB1o6jJJ"
      }
    },
    {
      "cell_type": "code",
      "execution_count": null,
      "metadata": {
        "execution": {
          "iopub.execute_input": "2022-12-18T08:54:57.389133Z",
          "iopub.status.busy": "2022-12-18T08:54:57.388801Z",
          "iopub.status.idle": "2022-12-18T08:54:57.395720Z",
          "shell.execute_reply": "2022-12-18T08:54:57.395036Z",
          "shell.execute_reply.started": "2022-12-18T08:54:57.389110Z"
        },
        "id": "yPoC4romsiWd"
      },
      "outputs": [],
      "source": [
        "def prediction_task3_threshold(model : SentenceTransformer, sentences : List[str], threshold : float):\n",
        "  \"\"\"\n",
        "  Perform inference on a set of sentences using the threshold approach\n",
        "  \"\"\"\n",
        "  embeddings = model.encode(sentences, convert_to_tensor=True)\n",
        "\n",
        "  similarity_scores = []\n",
        "\n",
        "  for i in range(len(sentences)-1):\n",
        "    sim = util.cos_sim(embeddings[i], embeddings[i+1])\n",
        "    similarity_scores.append(sim.item()) \n",
        "  \n",
        "  # Threshold\n",
        "  pred_changes = [1 if sim < th else 0 for sim in similarity_scores]\n",
        "  return pred_changes\n",
        "    \n",
        "def evaluate_mmodel_task3(model : SentenceTransformer, df : pd.DataFrame, threshold : float, save_pred_to_disk : str = None):\n",
        "  \"\"\"\n",
        "  Evaluate a SentenceTransformer encoder model using the task3 inference method on a dataframe of examples\n",
        "  \"\"\"\n",
        "  valid_labels = []\n",
        "  y_preds = []\n",
        "\n",
        "  for i, row in df.iterrows():\n",
        "    sentences = row[\"splitted_text\"]\n",
        "    \n",
        "    pred_authors = prediction_task3_threshold(model, sentences, threshold)\n",
        "\n",
        "    valid_labels += row[\"changes\"]\n",
        "    y_preds += pred_authors\n",
        "\n",
        "  print(classification_report(valid_labels, y_preds))\n",
        "  if not save_pred_to_disk is None:\n",
        "    np.save(save_pred_to_disk, y_preds)"
      ]
    },
    {
      "cell_type": "markdown",
      "metadata": {
        "id": "EmBcrX3ArVik"
      },
      "source": [
        "## Model 1 - Frozen SBERT"
      ]
    },
    {
      "cell_type": "markdown",
      "source": [
        "The first baseline model, where no training is performed and the inference strategy is used as is"
      ],
      "metadata": {
        "id": "qRd59cQo8rB7"
      }
    },
    {
      "cell_type": "code",
      "execution_count": null,
      "metadata": {
        "execution": {
          "iopub.execute_input": "2022-12-17T23:15:32.968678Z",
          "iopub.status.busy": "2022-12-17T23:15:32.968265Z",
          "iopub.status.idle": "2022-12-17T23:15:34.988297Z",
          "shell.execute_reply": "2022-12-17T23:15:34.986977Z",
          "shell.execute_reply.started": "2022-12-17T23:15:32.968652Z"
        },
        "id": "_NlWAYxNrVil"
      },
      "outputs": [],
      "source": [
        "set_reproducibility(base_seed)\n",
        "\n",
        "#model_type = \"all-mpnet-base-v2\"\n",
        "model_type = 'AnnaWegmann/Style-Embedding'\n",
        "\n",
        "model = SentenceTransformer(model_type)"
      ]
    },
    {
      "cell_type": "code",
      "execution_count": null,
      "metadata": {
        "execution": {
          "iopub.execute_input": "2022-12-17T23:15:35.234560Z",
          "iopub.status.busy": "2022-12-17T23:15:35.234192Z",
          "iopub.status.idle": "2022-12-18T00:19:13.103917Z",
          "shell.execute_reply": "2022-12-18T00:19:13.102578Z",
          "shell.execute_reply.started": "2022-12-17T23:15:35.234534Z"
        },
        "id": "DIVx7R5wrVil",
        "outputId": "fb285ea4-9679-4680-94df-b0df9a8acf53"
      },
      "outputs": [
        {
          "name": "stdout",
          "output_type": "stream",
          "text": [
            "928658\n",
            "1186486\n",
            "Dataset size: 500000\n",
            "Using 0.3619453541844835 as threshold\n",
            "              precision    recall  f1-score   support\n",
            "\n",
            "           0       0.53      0.65      0.59     10043\n",
            "           1       0.64      0.53      0.58     12062\n",
            "\n",
            "    accuracy                           0.58     22105\n",
            "   macro avg       0.59      0.59      0.58     22105\n",
            "weighted avg       0.59      0.58      0.58     22105\n",
            "\n"
          ]
        }
      ],
      "source": [
        "# Create a training DS just to calibrate the threshold\n",
        "max_length = 32\n",
        "train_ds = create_contrastive_examples(df_train[\"splitted_text\"].values, df_train[\"paragraph-authors\"].values, model.tokenizer,\n",
        "                                       max_length, max_samples = 500000)\n",
        "print(\"Dataset size:\", len(train_ds))\n",
        "train_dl = DataLoader(train_ds,\n",
        "                      shuffle=True,\n",
        "                      batch_size=8,\n",
        "                      collate_fn=model.smart_batching_collate)\n",
        "\n",
        "model.eval()\n",
        "# Compute the threshold\n",
        "same_sims, diff_sims = compute_same_diff_contrastive(model, train_dl)\n",
        "th = np.mean([np.mean(same_sims)-2*np.std(same_sims), np.mean(diff_sims)+2*np.std(diff_sims)])\n",
        "\n",
        "print(f\"Using {th} as threshold\")\n",
        "evaluate_mmodel_task3(model, df_valid, th, save_pred_to_disk=\"task3_model1_style.npy\")\n"
      ]
    },
    {
      "cell_type": "markdown",
      "metadata": {
        "id": "bLh7SiXFrVil"
      },
      "source": [
        "## Model 2 - Trained SBERT with contrastive loss"
      ]
    },
    {
      "cell_type": "markdown",
      "source": [
        "Second model, build a contrastive dataset and train the model using contrastive loss.  \n"
      ],
      "metadata": {
        "id": "ZD3KjjYg8kD6"
      }
    },
    {
      "cell_type": "code",
      "execution_count": null,
      "metadata": {
        "execution": {
          "iopub.execute_input": "2022-12-18T08:54:57.397092Z",
          "iopub.status.busy": "2022-12-18T08:54:57.396789Z",
          "iopub.status.idle": "2022-12-18T08:55:14.085065Z",
          "shell.execute_reply": "2022-12-18T08:55:14.084323Z",
          "shell.execute_reply.started": "2022-12-18T08:54:57.397071Z"
        },
        "id": "6RTQ8RzCrVim",
        "colab": {
          "referenced_widgets": [
            "376fde23748c421597a0e549f953accc",
            "4c9ce3953c5f4ecaa1def80b3759e2a6",
            "ad0058d74b7640cebf7daed5d2ea2a35",
            "1cf95047035942359c3f87a310ab9371",
            "ce18151c3b8c4624b31d5cad13a44c22",
            "b261b60c888b4294a01988317faba648",
            "2cb6c8a488144b8fa7bae14fe4552347",
            "63b490c063014b2aa37946470282d238",
            "f5124bf2574a4a9eac9aafa69425e826",
            "a532bc73084d4937b2280ceb5ff4157d",
            "5edc85bd13684753a21907cff19fdc66",
            "c9277e356a5644dd8503e75c8ac43c1f",
            "7d22ef07a2a741d3bb227ccb3febcc4a",
            "27f68bb9e4044947802e83a6284557ca"
          ]
        },
        "outputId": "98af8aa3-4507-4fc9-c053-5b92389c17e4"
      },
      "outputs": [
        {
          "data": {
            "application/vnd.jupyter.widget-view+json": {
              "model_id": "376fde23748c421597a0e549f953accc",
              "version_major": 2,
              "version_minor": 0
            },
            "text/plain": [
              "Downloading:   0%|          | 0.00/1.17k [00:00<?, ?B/s]"
            ]
          },
          "metadata": {},
          "output_type": "display_data"
        },
        {
          "data": {
            "application/vnd.jupyter.widget-view+json": {
              "model_id": "4c9ce3953c5f4ecaa1def80b3759e2a6",
              "version_major": 2,
              "version_minor": 0
            },
            "text/plain": [
              "Downloading:   0%|          | 0.00/190 [00:00<?, ?B/s]"
            ]
          },
          "metadata": {},
          "output_type": "display_data"
        },
        {
          "data": {
            "application/vnd.jupyter.widget-view+json": {
              "model_id": "ad0058d74b7640cebf7daed5d2ea2a35",
              "version_major": 2,
              "version_minor": 0
            },
            "text/plain": [
              "Downloading:   0%|          | 0.00/3.96k [00:00<?, ?B/s]"
            ]
          },
          "metadata": {},
          "output_type": "display_data"
        },
        {
          "data": {
            "application/vnd.jupyter.widget-view+json": {
              "model_id": "1cf95047035942359c3f87a310ab9371",
              "version_major": 2,
              "version_minor": 0
            },
            "text/plain": [
              "Downloading:   0%|          | 0.00/718 [00:00<?, ?B/s]"
            ]
          },
          "metadata": {},
          "output_type": "display_data"
        },
        {
          "data": {
            "application/vnd.jupyter.widget-view+json": {
              "model_id": "ce18151c3b8c4624b31d5cad13a44c22",
              "version_major": 2,
              "version_minor": 0
            },
            "text/plain": [
              "Downloading:   0%|          | 0.00/117 [00:00<?, ?B/s]"
            ]
          },
          "metadata": {},
          "output_type": "display_data"
        },
        {
          "data": {
            "application/vnd.jupyter.widget-view+json": {
              "model_id": "b261b60c888b4294a01988317faba648",
              "version_major": 2,
              "version_minor": 0
            },
            "text/plain": [
              "Downloading:   0%|          | 0.00/659 [00:00<?, ?B/s]"
            ]
          },
          "metadata": {},
          "output_type": "display_data"
        },
        {
          "data": {
            "application/vnd.jupyter.widget-view+json": {
              "model_id": "2cb6c8a488144b8fa7bae14fe4552347",
              "version_major": 2,
              "version_minor": 0
            },
            "text/plain": [
              "Downloading:   0%|          | 0.00/456k [00:00<?, ?B/s]"
            ]
          },
          "metadata": {},
          "output_type": "display_data"
        },
        {
          "data": {
            "application/vnd.jupyter.widget-view+json": {
              "model_id": "63b490c063014b2aa37946470282d238",
              "version_major": 2,
              "version_minor": 0
            },
            "text/plain": [
              "Downloading:   0%|          | 0.00/499M [00:00<?, ?B/s]"
            ]
          },
          "metadata": {},
          "output_type": "display_data"
        },
        {
          "data": {
            "application/vnd.jupyter.widget-view+json": {
              "model_id": "f5124bf2574a4a9eac9aafa69425e826",
              "version_major": 2,
              "version_minor": 0
            },
            "text/plain": [
              "Downloading:   0%|          | 0.00/53.0 [00:00<?, ?B/s]"
            ]
          },
          "metadata": {},
          "output_type": "display_data"
        },
        {
          "data": {
            "application/vnd.jupyter.widget-view+json": {
              "model_id": "a532bc73084d4937b2280ceb5ff4157d",
              "version_major": 2,
              "version_minor": 0
            },
            "text/plain": [
              "Downloading:   0%|          | 0.00/239 [00:00<?, ?B/s]"
            ]
          },
          "metadata": {},
          "output_type": "display_data"
        },
        {
          "data": {
            "application/vnd.jupyter.widget-view+json": {
              "model_id": "5edc85bd13684753a21907cff19fdc66",
              "version_major": 2,
              "version_minor": 0
            },
            "text/plain": [
              "Downloading:   0%|          | 0.00/1.36M [00:00<?, ?B/s]"
            ]
          },
          "metadata": {},
          "output_type": "display_data"
        },
        {
          "data": {
            "application/vnd.jupyter.widget-view+json": {
              "model_id": "c9277e356a5644dd8503e75c8ac43c1f",
              "version_major": 2,
              "version_minor": 0
            },
            "text/plain": [
              "Downloading:   0%|          | 0.00/354 [00:00<?, ?B/s]"
            ]
          },
          "metadata": {},
          "output_type": "display_data"
        },
        {
          "data": {
            "application/vnd.jupyter.widget-view+json": {
              "model_id": "7d22ef07a2a741d3bb227ccb3febcc4a",
              "version_major": 2,
              "version_minor": 0
            },
            "text/plain": [
              "Downloading:   0%|          | 0.00/798k [00:00<?, ?B/s]"
            ]
          },
          "metadata": {},
          "output_type": "display_data"
        },
        {
          "data": {
            "application/vnd.jupyter.widget-view+json": {
              "model_id": "27f68bb9e4044947802e83a6284557ca",
              "version_major": 2,
              "version_minor": 0
            },
            "text/plain": [
              "Downloading:   0%|          | 0.00/229 [00:00<?, ?B/s]"
            ]
          },
          "metadata": {},
          "output_type": "display_data"
        }
      ],
      "source": [
        "set_reproducibility(base_seed)\n",
        "\n",
        "#model_type = \"all-mpnet-base-v2\"\n",
        "model_type = 'AnnaWegmann/Style-Embedding'\n",
        "\n",
        "model = SentenceTransformer(model_type)"
      ]
    },
    {
      "cell_type": "code",
      "execution_count": null,
      "metadata": {
        "execution": {
          "iopub.execute_input": "2022-12-18T08:55:14.087319Z",
          "iopub.status.busy": "2022-12-18T08:55:14.086829Z",
          "iopub.status.idle": "2022-12-18T09:53:58.159158Z",
          "shell.execute_reply": "2022-12-18T09:53:58.158163Z",
          "shell.execute_reply.started": "2022-12-18T08:55:14.087295Z"
        },
        "id": "iYzbxiMtrVim",
        "colab": {
          "referenced_widgets": [
            "7dc1f27960da409abb5067ce5574e7e4",
            "53fe856f13d541e3bc8cdadf9e225d60",
            "c5a196eeace942dcae2eb8b5cbc919ff"
          ]
        },
        "outputId": "8f04fdf9-82ca-4c33-cc34-0e41df581ed0"
      },
      "outputs": [
        {
          "name": "stdout",
          "output_type": "stream",
          "text": [
            "928658\n",
            "1186486\n",
            "Dataset size: 100000\n"
          ]
        },
        {
          "data": {
            "application/vnd.jupyter.widget-view+json": {
              "model_id": "7dc1f27960da409abb5067ce5574e7e4",
              "version_major": 2,
              "version_minor": 0
            },
            "text/plain": [
              "Epoch:   0%|          | 0/2 [00:00<?, ?it/s]"
            ]
          },
          "metadata": {},
          "output_type": "display_data"
        },
        {
          "data": {
            "application/vnd.jupyter.widget-view+json": {
              "model_id": "53fe856f13d541e3bc8cdadf9e225d60",
              "version_major": 2,
              "version_minor": 0
            },
            "text/plain": [
              "Iteration:   0%|          | 0/12500 [00:00<?, ?it/s]"
            ]
          },
          "metadata": {},
          "output_type": "display_data"
        },
        {
          "data": {
            "application/vnd.jupyter.widget-view+json": {
              "model_id": "c5a196eeace942dcae2eb8b5cbc919ff",
              "version_major": 2,
              "version_minor": 0
            },
            "text/plain": [
              "Iteration:   0%|          | 0/12500 [00:00<?, ?it/s]"
            ]
          },
          "metadata": {},
          "output_type": "display_data"
        }
      ],
      "source": [
        "max_length = 32\n",
        "train_ds = create_contrastive_examples(df_train[\"splitted_text\"].values, df_train[\"paragraph-authors\"].values, model.tokenizer, \n",
        "                                       max_length, max_samples = 100000)\n",
        "print(\"Dataset size:\", len(train_ds))\n",
        "train_dl = DataLoader(train_ds,\n",
        "                      shuffle=True,\n",
        "                      batch_size=8,\n",
        "                      collate_fn=model.smart_batching_collate)\n",
        "\n",
        "# Define contrastive loss\n",
        "contrastive_loss = losses.ContrastiveLoss(model=model, distance_metric=losses.SiameseDistanceMetric.COSINE_DISTANCE, margin=0.6)\n",
        "epochs = 2\n",
        "\n",
        "# Train\n",
        "model.fit(train_objectives=[(train_dl, contrastive_loss)],\n",
        "                       epochs=epochs,\n",
        "                       warmup_steps=math.ceil(len(train_dl) * epochs * 0.1),\n",
        "                       optimizer_params={\n",
        "                           'lr': 2e-5,\n",
        "                       }\n",
        "        )"
      ]
    },
    {
      "cell_type": "code",
      "execution_count": null,
      "metadata": {
        "execution": {
          "iopub.execute_input": "2022-12-18T09:53:58.162952Z",
          "iopub.status.busy": "2022-12-18T09:53:58.162725Z",
          "iopub.status.idle": "2022-12-18T10:01:57.498125Z",
          "shell.execute_reply": "2022-12-18T10:01:57.497226Z",
          "shell.execute_reply.started": "2022-12-18T09:53:58.162924Z"
        },
        "id": "ZWAjqRjhrVim",
        "outputId": "8dc94690-cd13-4c58-ec8f-f95642328ee8"
      },
      "outputs": [
        {
          "name": "stdout",
          "output_type": "stream",
          "text": [
            "Using 0.6878071384977197 as threshold\n",
            "              precision    recall  f1-score   support\n",
            "\n",
            "           0       0.65      0.63      0.64     10043\n",
            "           1       0.70      0.71      0.71     12062\n",
            "\n",
            "    accuracy                           0.68     22105\n",
            "   macro avg       0.67      0.67      0.67     22105\n",
            "weighted avg       0.68      0.68      0.68     22105\n",
            "\n",
            "Using margin(0.6) as threshold\n",
            "              precision    recall  f1-score   support\n",
            "\n",
            "           0       0.58      0.81      0.68     10043\n",
            "           1       0.76      0.51      0.61     12062\n",
            "\n",
            "    accuracy                           0.65     22105\n",
            "   macro avg       0.67      0.66      0.64     22105\n",
            "weighted avg       0.68      0.65      0.64     22105\n",
            "\n"
          ]
        }
      ],
      "source": [
        "model.eval()\n",
        "# Compute the threshold\n",
        "same_sims, diff_sims = compute_same_diff_contrastive(model, train_dl)\n",
        "th = np.mean([np.mean(same_sims)-2*np.std(same_sims), np.mean(diff_sims)+2*np.std(diff_sims)])\n",
        "\n",
        "print(f\"Using {th} as threshold\")\n",
        "evaluate_mmodel_task3(model, df_valid, th, save_pred_to_disk=\"task3_model2_style.npy\")\n",
        "\n",
        "th = 0.6\n",
        "\n",
        "print(f\"Using margin({th}) as threshold\")\n",
        "evaluate_mmodel_task3(model, df_valid, th)\n"
      ]
    },
    {
      "cell_type": "markdown",
      "metadata": {
        "id": "urBfYcDIrVim"
      },
      "source": [
        "## Model 3 - Trained SBERT with triplet loss"
      ]
    },
    {
      "cell_type": "markdown",
      "source": [
        "Third model, build a dataset of triplets and train the model using triplet loss.\n"
      ],
      "metadata": {
        "id": "VGWarspG8dRI"
      }
    },
    {
      "cell_type": "code",
      "execution_count": null,
      "metadata": {
        "execution": {
          "iopub.execute_input": "2022-12-18T10:39:59.292518Z",
          "iopub.status.busy": "2022-12-18T10:39:59.292170Z",
          "iopub.status.idle": "2022-12-18T10:40:00.679714Z",
          "shell.execute_reply": "2022-12-18T10:40:00.678769Z",
          "shell.execute_reply.started": "2022-12-18T10:39:59.292491Z"
        },
        "id": "6pCIKcZZrVim"
      },
      "outputs": [],
      "source": [
        "set_reproducibility(base_seed)\n",
        "\n",
        "#model_type = \"all-mpnet-base-v2\"\n",
        "model_type = 'AnnaWegmann/Style-Embedding'\n",
        "\n",
        "model = SentenceTransformer(model_type)"
      ]
    },
    {
      "cell_type": "code",
      "execution_count": null,
      "metadata": {
        "colab": {
          "referenced_widgets": [
            "e43cdf7493294e1f9570ce04180263d0",
            "b476f766425d4569ba52d32d7012ef4d",
            "26ddf08b2d684237b073f142280a5ed0",
            "52a249a14096445883a001d0024932e0",
            "063e343428d34fe9823b00c70e9db941",
            "0484ab2361c44c33bf664c47c6994ced"
          ]
        },
        "execution": {
          "iopub.execute_input": "2022-12-18T10:40:00.709976Z",
          "iopub.status.busy": "2022-12-18T10:40:00.709701Z",
          "iopub.status.idle": "2022-12-18T11:47:07.962613Z",
          "shell.execute_reply": "2022-12-18T11:47:07.962020Z",
          "shell.execute_reply.started": "2022-12-18T10:40:00.709954Z"
        },
        "id": "F_6TmUKFrVim",
        "outputId": "9c1d2051-5f64-4125-a401-8c5dc0304f86"
      },
      "outputs": [
        {
          "name": "stdout",
          "output_type": "stream",
          "text": [
            "N easy:96005, N hard: 0, N semihard:0\n",
            "96005\n"
          ]
        },
        {
          "data": {
            "application/vnd.jupyter.widget-view+json": {
              "model_id": "52a249a14096445883a001d0024932e0",
              "version_major": 2,
              "version_minor": 0
            },
            "text/plain": [
              "Epoch:   0%|          | 0/2 [00:00<?, ?it/s]"
            ]
          },
          "metadata": {},
          "output_type": "display_data"
        },
        {
          "data": {
            "application/vnd.jupyter.widget-view+json": {
              "model_id": "063e343428d34fe9823b00c70e9db941",
              "version_major": 2,
              "version_minor": 0
            },
            "text/plain": [
              "Iteration:   0%|          | 0/12001 [00:00<?, ?it/s]"
            ]
          },
          "metadata": {},
          "output_type": "display_data"
        },
        {
          "data": {
            "application/vnd.jupyter.widget-view+json": {
              "model_id": "0484ab2361c44c33bf664c47c6994ced",
              "version_major": 2,
              "version_minor": 0
            },
            "text/plain": [
              "Iteration:   0%|          | 0/12001 [00:00<?, ?it/s]"
            ]
          },
          "metadata": {},
          "output_type": "display_data"
        }
      ],
      "source": [
        "max_length = 32\n",
        "train_ds = create_triplet_examples(df_train[\"splitted_text\"].values, df_train[\"paragraph-authors\"].values, model.tokenizer, \n",
        "                                            max_length, n_per_document=20, max_samples = 100000, model=model, margin=0.6)\n",
        "train_dl = DataLoader(train_ds,\n",
        "                      shuffle=True,\n",
        "                      batch_size=8,\n",
        "                      collate_fn=model.smart_batching_collate)\n",
        "\n",
        "# Define triplet loss\n",
        "triplet_loss = losses.TripletLoss(model=model, triplet_margin=0.6, distance_metric=losses.TripletDistanceMetric.COSINE)\n",
        "epochs = 2\n",
        "\n",
        "# Train\n",
        "model.fit(train_objectives=[(train_dl, triplet_loss)],\n",
        "                       epochs=epochs,\n",
        "                       warmup_steps=math.ceil(len(train_dl) * epochs * 0.1),\n",
        "                       optimizer_params={\n",
        "                           'lr': 2e-5,\n",
        "                       })"
      ]
    },
    {
      "cell_type": "code",
      "execution_count": null,
      "metadata": {
        "execution": {
          "iopub.execute_input": "2022-12-18T11:47:07.964895Z",
          "iopub.status.busy": "2022-12-18T11:47:07.964377Z",
          "iopub.status.idle": "2022-12-18T11:57:52.109103Z",
          "shell.execute_reply": "2022-12-18T11:57:52.108411Z",
          "shell.execute_reply.started": "2022-12-18T11:47:07.964871Z"
        },
        "id": "ByNWr4a3rVin",
        "outputId": "52191203-c02e-4874-8436-b1043c5b60f8"
      },
      "outputs": [
        {
          "name": "stdout",
          "output_type": "stream",
          "text": [
            "Using 0.2701155882739125 as threshold\n",
            "              precision    recall  f1-score   support\n",
            "\n",
            "           0       0.62      0.63      0.63     10043\n",
            "           1       0.69      0.68      0.68     12062\n",
            "\n",
            "    accuracy                           0.66     22105\n",
            "   macro avg       0.66      0.66      0.66     22105\n",
            "weighted avg       0.66      0.66      0.66     22105\n",
            "\n",
            "Using margin(0.6) as threshold\n",
            "              precision    recall  f1-score   support\n",
            "\n",
            "           0       0.71      0.37      0.48     10043\n",
            "           1       0.62      0.88      0.73     12062\n",
            "\n",
            "    accuracy                           0.64     22105\n",
            "   macro avg       0.67      0.62      0.61     22105\n",
            "weighted avg       0.66      0.64      0.62     22105\n",
            "\n"
          ]
        }
      ],
      "source": [
        "model.eval()\n",
        "\n",
        "# Compute the threshold\n",
        "same_sims, diff_sims = compute_same_diff_triplet(model, train_dl)\n",
        "th = np.mean([np.mean(same_sims)-2*np.std(same_sims), np.mean(diff_sims)+2*np.std(diff_sims)])\n",
        "\n",
        "print(f\"Using {th} as threshold\")\n",
        "evaluate_mmodel_task3(model, df_valid, th, save_pred_to_disk=\"task3_model3_style.npy\")\n",
        "\n",
        "th = 0.6\n",
        "\n",
        "print(f\"Using margin({th}) as threshold\")\n",
        "evaluate_mmodel_task3(model, df_valid, th)\n"
      ]
    },
    {
      "cell_type": "markdown",
      "metadata": {
        "id": "QvRNCaKGrVin"
      },
      "source": [
        "## Model 4 - Trained SBERT with triplet loss, hard/semi hard negative mining\n"
      ]
    },
    {
      "cell_type": "markdown",
      "source": [
        "Fourth model, like model 3 but use only hard and semi hard triplet examples.  \n"
      ],
      "metadata": {
        "id": "SBQD6K9s8WWI"
      }
    },
    {
      "cell_type": "code",
      "execution_count": null,
      "metadata": {
        "execution": {
          "iopub.execute_input": "2022-12-17T18:47:09.225895Z",
          "iopub.status.busy": "2022-12-17T18:47:09.224783Z",
          "iopub.status.idle": "2022-12-17T18:47:11.267383Z",
          "shell.execute_reply": "2022-12-17T18:47:11.266268Z",
          "shell.execute_reply.started": "2022-12-17T18:47:09.225864Z"
        },
        "id": "DKhBv5_wrVin"
      },
      "outputs": [],
      "source": [
        "set_reproducibility(base_seed)\n",
        "\n",
        "#model_type = \"all-mpnet-base-v2\"\n",
        "model_type = 'AnnaWegmann/Style-Embedding'\n",
        "\n",
        "model = SentenceTransformer(model_type)"
      ]
    },
    {
      "cell_type": "code",
      "execution_count": null,
      "metadata": {
        "colab": {
          "referenced_widgets": [
            "02a5cd993a2b4878b492a15dc5f7fb07",
            "b951262d99514d7aaa0ff7c7c52fc113",
            "8a1d3d7483ad4757a6ef02203451f0f6",
            "d289fa83628c4e37a50908bbd0984244",
            "ca68f5fc9a87475f84c1822b63029b75",
            "0145e9fb383448c2bd15aebb535817d3",
            "069f62ddc7aa4856a58de8b1eedffa9c",
            "ba7bb80aaf9e4bc4a3a3b1085ee31d33",
            "d9bb77f2be4f40e29b2e0650b4aabc41",
            "4dce1d8d2f32410ab3d606ba4dd401c9",
            "8c67175787bf4df2acef06a66fc048b3",
            "6e60491f490e404ca2fbac38aa3a802e",
            "b2ff7528a14a408f854f8fd6f1802c22",
            "453c4913b70f438792ce854e1e914cd7"
          ]
        },
        "execution": {
          "iopub.execute_input": "2022-12-17T18:47:11.269087Z",
          "iopub.status.busy": "2022-12-17T18:47:11.268809Z",
          "iopub.status.idle": "2022-12-17T20:26:46.451507Z",
          "shell.execute_reply": "2022-12-17T20:26:46.450396Z",
          "shell.execute_reply.started": "2022-12-17T18:47:11.269061Z"
        },
        "id": "2MiuBRwarVin",
        "outputId": "4ce805ea-0820-4c61-dc3a-4909c8750dc8"
      },
      "outputs": [
        {
          "name": "stdout",
          "output_type": "stream",
          "text": [
            "N easy:0, N hard: 20598, N semihard:24095\n",
            "44693\n"
          ]
        },
        {
          "data": {
            "application/vnd.jupyter.widget-view+json": {
              "model_id": "8c67175787bf4df2acef06a66fc048b3",
              "version_major": 2,
              "version_minor": 0
            },
            "text/plain": [
              "Epoch:   0%|          | 0/3 [00:00<?, ?it/s]"
            ]
          },
          "metadata": {},
          "output_type": "display_data"
        },
        {
          "data": {
            "application/vnd.jupyter.widget-view+json": {
              "model_id": "6e60491f490e404ca2fbac38aa3a802e",
              "version_major": 2,
              "version_minor": 0
            },
            "text/plain": [
              "Iteration:   0%|          | 0/5587 [00:00<?, ?it/s]"
            ]
          },
          "metadata": {},
          "output_type": "display_data"
        },
        {
          "data": {
            "application/vnd.jupyter.widget-view+json": {
              "model_id": "b2ff7528a14a408f854f8fd6f1802c22",
              "version_major": 2,
              "version_minor": 0
            },
            "text/plain": [
              "Iteration:   0%|          | 0/5587 [00:00<?, ?it/s]"
            ]
          },
          "metadata": {},
          "output_type": "display_data"
        },
        {
          "data": {
            "application/vnd.jupyter.widget-view+json": {
              "model_id": "453c4913b70f438792ce854e1e914cd7",
              "version_major": 2,
              "version_minor": 0
            },
            "text/plain": [
              "Iteration:   0%|          | 0/5587 [00:00<?, ?it/s]"
            ]
          },
          "metadata": {},
          "output_type": "display_data"
        }
      ],
      "source": [
        "max_length = 32\n",
        "\n",
        "# Define triplet loss\n",
        "triplet_loss = losses.TripletLoss(model=model, triplet_margin=0.6, distance_metric=losses.TripletDistanceMetric.COSINE)\n",
        "\n",
        "train_ds = create_triplet_examples(df_train[\"splitted_text\"].values, df_train[\"paragraph-authors\"].values, model.tokenizer, \n",
        "                                            max_length, n_per_document=10, max_samples = 100000, model=model, margin=0.6, \n",
        "                                 mine_all=False, mine_semihard=True, mine_hard=True)\n",
        "train_dl = DataLoader(train_ds,\n",
        "                  shuffle=True,\n",
        "                  batch_size=16,\n",
        "                  collate_fn=model.smart_batching_collate)\n",
        "\n",
        "epochs = 3\n",
        "\n",
        "# Train\n",
        "model.fit(train_objectives=[(train_dl, triplet_loss)],\n",
        "                       epochs=epochs,\n",
        "                       warmup_steps=math.ceil(len(train_dl) * epochs * 0.1),\n",
        "                       optimizer_params={\n",
        "                           'lr': 2e-5,\n",
        "                       })"
      ]
    },
    {
      "cell_type": "code",
      "execution_count": null,
      "metadata": {
        "execution": {
          "iopub.execute_input": "2022-12-17T20:26:46.453843Z",
          "iopub.status.busy": "2022-12-17T20:26:46.453302Z",
          "iopub.status.idle": "2022-12-17T20:36:09.979821Z",
          "shell.execute_reply": "2022-12-17T20:36:09.978834Z",
          "shell.execute_reply.started": "2022-12-17T20:26:46.453818Z"
        },
        "id": "JA5jal2IrVio",
        "outputId": "f3a32784-6ad3-497c-8b1c-6316ba4bec19"
      },
      "outputs": [
        {
          "name": "stdout",
          "output_type": "stream",
          "text": [
            "Using 0.23284846905517453 as threshold\n",
            "              precision    recall  f1-score   support\n",
            "\n",
            "           0       0.60      0.62      0.61     10043\n",
            "           1       0.68      0.66      0.67     12062\n",
            "\n",
            "    accuracy                           0.64     22105\n",
            "   macro avg       0.64      0.64      0.64     22105\n",
            "weighted avg       0.64      0.64      0.64     22105\n",
            "\n",
            "Using margin(0.6) as threshold\n",
            "              precision    recall  f1-score   support\n",
            "\n",
            "           0       0.71      0.33      0.45     10043\n",
            "           1       0.61      0.89      0.73     12062\n",
            "\n",
            "    accuracy                           0.63     22105\n",
            "   macro avg       0.66      0.61      0.59     22105\n",
            "weighted avg       0.66      0.63      0.60     22105\n",
            "\n"
          ]
        }
      ],
      "source": [
        "model.eval()\n",
        "same_sims, diff_sims = compute_same_diff_triplet(model, train_dl)\n",
        "th = np.mean([np.mean(same_sims)-2*np.std(same_sims), np.mean(diff_sims)+2*np.std(diff_sims)])\n",
        "#th = 0.6\n",
        "\n",
        "print(f\"Using {th} as threshold\")\n",
        "evaluate_mmodel_task3(model, df_valid, th, save_pred_to_disk=\"task3_model4_style.npy\")\n",
        "\n",
        "th = 0.6\n",
        "\n",
        "print(f\"Using margin({th}) as threshold\")\n",
        "evaluate_mmodel_task3(model, df_valid, th)"
      ]
    },
    {
      "cell_type": "markdown",
      "source": [
        "# Error Analysis"
      ],
      "metadata": {
        "id": "L64xWWZie2Ek"
      }
    },
    {
      "cell_type": "markdown",
      "source": [
        "A simple error analysis that we can perform is analyzing how the model performance changes depending on the number of authors a set of passages has.  \n",
        "This can be applied both to task 2 and 3."
      ],
      "metadata": {
        "id": "WrOnjroA8twx"
      }
    },
    {
      "cell_type": "code",
      "source": [
        "# Computes scores wrt to number of authors.\n",
        "def compute_score_wrt_authors(task, pred, true, df):\n",
        "\n",
        "  # Scores.\n",
        "  f1 = []\n",
        "\n",
        "  # Sublists of pred and true.\n",
        "  where_n_authors_equal_1_pred = []\n",
        "  where_n_authors_equal_1_true = []\n",
        "  where_n_authors_equal_2_pred = []\n",
        "  where_n_authors_equal_2_true = []\n",
        "  where_n_authors_equal_3_pred = []\n",
        "  where_n_authors_equal_3_true = []\n",
        "  where_n_authors_equal_4_pred = []\n",
        "  where_n_authors_equal_4_true = []\n",
        "  where_n_authors_equal_5_pred = []\n",
        "  where_n_authors_equal_5_true = []\n",
        "\n",
        "  # Variable used to index pred and true.\n",
        "  i = 0\n",
        "  \n",
        "  # Checking task.\n",
        "  if task == 2:\n",
        "    \n",
        "    # Fetching portions of pred where #authors = 1, 2, 3, 4 and 5.\n",
        "    for authors in df[\"paragraph-authors\"]:\n",
        "\n",
        "      # Checking number of authors.\n",
        "      if len(np.unique(authors)) == 1:\n",
        "        where_n_authors_equal_1_pred.extend(pred[i:i + len(authors)])\n",
        "        where_n_authors_equal_1_true.extend(true[i:i + len(authors)])\n",
        "\n",
        "      elif len(np.unique(authors)) == 2:\n",
        "        where_n_authors_equal_2_pred.extend(pred[i:i + len(authors)])\n",
        "        where_n_authors_equal_2_true.extend(true[i:i + len(authors)])\n",
        "\n",
        "      elif len(np.unique(authors)) == 3:\n",
        "        where_n_authors_equal_3_pred.extend(pred[i:i + len(authors)])\n",
        "        where_n_authors_equal_3_true.extend(true[i:i + len(authors)])\n",
        "\n",
        "      elif len(np.unique(authors)) == 4:\n",
        "        where_n_authors_equal_4_pred.extend(pred[i:i + len(authors)])\n",
        "        where_n_authors_equal_4_true.extend(true[i:i + len(authors)])\n",
        "\n",
        "      elif len(np.unique(authors)) == 5:\n",
        "        where_n_authors_equal_5_pred.extend(pred[i:i + len(authors)])\n",
        "        where_n_authors_equal_5_true.extend(true[i:i + len(authors)])\n",
        "\n",
        "      # Updating i.\n",
        "      i = i + len(authors)\n",
        "\n",
        "  elif task == 3:\n",
        "\n",
        "    # Fetching portions of pred where #authors = 1, 2, 3, 4 and 5.\n",
        "    for j, changes in enumerate(df[\"changes\"]):\n",
        "\n",
        "      # Checking number of authors.\n",
        "      if len(np.unique(df[\"paragraph-authors\"][j])) == 1:\n",
        "        where_n_authors_equal_1_pred.extend(pred[i:i + len(changes)])\n",
        "        where_n_authors_equal_1_true.extend(true[i:i + len(changes)])\n",
        "\n",
        "      elif len(np.unique(df[\"paragraph-authors\"][j])) == 2:\n",
        "        where_n_authors_equal_2_pred.extend(pred[i:i + len(changes)])\n",
        "        where_n_authors_equal_2_true.extend(true[i:i + len(changes)])\n",
        "\n",
        "      elif len(np.unique(df[\"paragraph-authors\"][j])) == 3:\n",
        "        where_n_authors_equal_3_pred.extend(pred[i:i + len(changes)])\n",
        "        where_n_authors_equal_3_true.extend(true[i:i + len(changes)])\n",
        "\n",
        "      elif len(np.unique(df[\"paragraph-authors\"][j])) == 4:\n",
        "        where_n_authors_equal_4_pred.extend(pred[i:i + len(changes)])\n",
        "        where_n_authors_equal_4_true.extend(true[i:i + len(changes)])\n",
        "\n",
        "      elif len(np.unique(df[\"paragraph-authors\"][j])) == 5:\n",
        "        where_n_authors_equal_5_pred.extend(pred[i:i + len(changes)])\n",
        "        where_n_authors_equal_5_true.extend(true[i:i + len(changes)])\n",
        "\n",
        "      # Updating i.\n",
        "      i = i + len(changes)\n",
        "\n",
        "  # Compute macro F1 score.\n",
        "  f1.append(f1_score(where_n_authors_equal_1_true, where_n_authors_equal_1_pred, average = \"macro\"))\n",
        "  f1.append(f1_score(where_n_authors_equal_2_true, where_n_authors_equal_2_pred, average = \"macro\"))\n",
        "  f1.append(f1_score(where_n_authors_equal_3_true, where_n_authors_equal_3_pred, average = \"macro\"))\n",
        "  f1.append(f1_score(where_n_authors_equal_4_true, where_n_authors_equal_4_pred, average = \"macro\"))\n",
        "  f1.append(f1_score(where_n_authors_equal_5_true, where_n_authors_equal_5_pred, average = \"macro\"))\n",
        "\n",
        "  # Returning f1.\n",
        "  return f1\n",
        "\n",
        "# plots scores wrt to number of authors.\n",
        "def plot_score_wrt_authors(scores, filename):\n",
        "  plt.rcParams['text.usetex'] = True\n",
        "\n",
        "  # Figure.\n",
        "  fig, ax = plt.subplots(1, 1, figsize = (6, 6))\n",
        "\n",
        "  # Plot.\n",
        "  for i in range(4):\n",
        "    label = f\"$m^2_{i+1}$\"\n",
        "    ax.plot(np.arange(1, 6, 1), scores[i], label = label)\n",
        "\n",
        "  # Setting plot attributes.\n",
        "  ax.set_xlabel(\"Number of authors\")\n",
        "  ax.set_ylabel(\"Score\")\n",
        "  ax.set_xticks(np.arange(1, 6, 1))\n",
        "  ax.legend()\n",
        "\n",
        "  fig.savefig(f\"./{filename}.pdf\", bbox_inches = \"tight\")\n",
        "  plt.show()"
      ],
      "metadata": {
        "id": "6_AoEq4MkuMT"
      },
      "execution_count": null,
      "outputs": []
    },
    {
      "cell_type": "markdown",
      "source": [
        "## Task 2"
      ],
      "metadata": {
        "id": "q8DDk39ifmZn"
      }
    },
    {
      "cell_type": "code",
      "source": [
        "# Loading saved outputs.\n",
        "task2_m1_pred = np.load(\"task2_model1_style.npy\")\n",
        "task2_m2_pred = np.load(\"task2_model2_style.npy\")\n",
        "task2_m3_pred = np.load(\"task2_model3_style.npy\")\n",
        "task2_m4_pred = np.load(\"task2_model4_style.npy\")\n",
        "\n",
        "\n",
        "# To compute the ground truth\n",
        "valid_directory = './dataset2/validation'\n",
        "df_valid = create_dataframe(valid_directory)\n",
        "task_2_gt = []\n",
        "for i, row in df_valid.iterrows():\n",
        "  task_2_gt += row[\"paragraph-authors\"]\n",
        "\n",
        "\n",
        "# Computing scores wrt to number of authors.\n",
        "f1 = []\n",
        "f1.append(compute_score_wrt_authors(2, task2_m1_pred, task_2_gt, df_valid))\n",
        "f1.append(compute_score_wrt_authors(2, task2_m2_pred, task_2_gt, df_valid))\n",
        "f1.append(compute_score_wrt_authors(2, task2_m3_pred, task_2_gt, df_valid))\n",
        "f1.append(compute_score_wrt_authors(2, task2_m4_pred, task_2_gt, df_valid))\n",
        "\n",
        "# Plotting scores.\n",
        "plot_score_wrt_authors(f1, \"task2_error_analysis\")"
      ],
      "metadata": {
        "id": "cfEPpYjPe0QT",
        "colab": {
          "base_uri": "https://localhost:8080/",
          "height": 386
        },
        "outputId": "1c5bedf8-5745-4f35-d523-4339b6bbcfc7"
      },
      "execution_count": null,
      "outputs": [
        {
          "output_type": "display_data",
          "data": {
            "text/plain": [
              "<Figure size 432x432 with 1 Axes>"
            ],
            "image/png": "[encoded data removed]"
          },
          "metadata": {
            "needs_background": "light"
          }
        }
      ]
    },
    {
      "cell_type": "markdown",
      "source": [
        "## Task 3"
      ],
      "metadata": {
        "id": "_2S66IReoaZc"
      }
    },
    {
      "cell_type": "code",
      "source": [
        "# Loading saved outputs.\n",
        "task3_m1_pred = np.load(\"task3_model1_style.npy\")\n",
        "task3_m2_pred = np.load(\"task3_model2_style.npy\")\n",
        "task3_m3_pred = np.load(\"task3_model3_style.npy\")\n",
        "task3_m4_pred = np.load(\"task3_model4_style.npy\")\n",
        "\n",
        "\n",
        "# To compute the ground truth\n",
        "valid_directory = './dataset3/validation'\n",
        "df_valid = create_dataframe(valid_directory)\n",
        "task_3_gt = []\n",
        "for i, row in df_valid.iterrows():\n",
        "  task_3_gt += row[\"changes\"]\n",
        "\n",
        "# Computing scores wrt to number of authors.\n",
        "f1 = []\n",
        "f1.append(compute_score_wrt_authors(3, task3_m1_pred, task_3_gt, df_valid))\n",
        "f1.append(compute_score_wrt_authors(3, task3_m2_pred, task_3_gt, df_valid))\n",
        "f1.append(compute_score_wrt_authors(3, task3_m3_pred, task_3_gt, df_valid))\n",
        "f1.append(compute_score_wrt_authors(3, task3_m4_pred, task_3_gt, df_valid))\n",
        "\n",
        "# Plotting scores.\n",
        "plot_score_wrt_authors(f1, \"task3_error_analysis\")"
      ],
      "metadata": {
        "id": "EkPbnvSRoc6R",
        "colab": {
          "base_uri": "https://localhost:8080/",
          "height": 386
        },
        "outputId": "5739d4db-8c26-4ecf-f725-bbaa1ba4c11a"
      },
      "execution_count": null,
      "outputs": [
        {
          "output_type": "display_data",
          "data": {
            "text/plain": [
              "<Figure size 432x432 with 1 Axes>"
            ],
            "image/png": "[encoded data removed]"
          },
          "metadata": {
            "needs_background": "light"
          }
        }
      ]
    }
  ],
  "metadata": {
    "colab": {
      "provenance": [],
      "collapsed_sections": [
        "0EK6Vg7s7Uj0"
      ]
    },
    "gpuClass": "standard",
    "kernelspec": {
      "display_name": "Python 3 (ipykernel)",
      "language": "python",
      "name": "python3"
    },
    "language_info": {
      "codemirror_mode": {
        "name": "ipython",
        "version": 3
      },
      "file_extension": ".py",
      "mimetype": "text/x-python",
      "name": "python",
      "nbconvert_exporter": "python",
      "pygments_lexer": "ipython3",
      "version": "3.9.13"
    }
  },
  "nbformat": 4,
  "nbformat_minor": 0
}