{
  "cells": [
    {
      "cell_type": "markdown",
      "source": [
        "<center>\n",
        "    <h1> Natural Language Processing</h1>\n",
        "    <h2> Assignment 1 </h2>\n",
        "    <a href=\"mailto:ildebrando.simeoni@studio.unibo.it\">Ildebrando Simeoni</a>, <a href=\"mailto:diego.biagini2@studio.unibo.it\">Diego Biagini</a>, <a href=\"mailto:matteo.donati10@studio.unibo.it\">Matteo Donati</a>\n",
        "</center>\n",
        "\n",
        "<br>"
      ],
      "metadata": {
        "id": "dzbv4ZVhdC7F"
      }
    },
    {
      "cell_type": "markdown",
      "source": [
        "Part-of-Speech (POS) tagging refers to the process of assigning a specific marker to each input token composing a given sentence. This process can also be seen as a disambiguation task. Indeed, the same token can be assigned a different marker, or tag, depending on the syntactical role the token plays in the given sentence.\n",
        "\n",
        "This notebook performs POS tagging on a NLTK dataset<sup>[[1]](#references)</sup> using different neural architectures and GloVe embeddings<sup>[[2]](#references)</sup>."
      ],
      "metadata": {
        "id": "YfU2bdhoMNw-"
      }
    },
    {
      "cell_type": "markdown",
      "metadata": {
        "id": "6OBJyXJaTZzd"
      },
      "source": [
        "## Libraries"
      ]
    },
    {
      "cell_type": "markdown",
      "source": [
        "All the useful libraries are imported below."
      ],
      "metadata": {
        "id": "3EuU0fwOSdsG"
      }
    },
    {
      "cell_type": "code",
      "execution_count": null,
      "metadata": {
        "id": "C7sW4HdzTURu"
      },
      "outputs": [],
      "source": [
        "import os\n",
        "import urllib.request\n",
        "import zipfile\n",
        "import pandas as pd\n",
        "import numpy as np\n",
        "import random\n",
        "import tensorflow as tf\n",
        "from keras_preprocessing.sequence import pad_sequences\n",
        "from keras.models import Sequential\n",
        "from keras.layers import Dense, LSTM, GRU, InputLayer, Bidirectional, TimeDistributed, Embedding, Activation\n",
        "from keras.optimizers import Adam\n",
        "from keras.regularizers import l2\n",
        "from keras.callbacks import EarlyStopping, ReduceLROnPlateau\n",
        "import matplotlib.pyplot as plt\n",
        "from sklearn.metrics import classification_report\n",
        "from sklearn.metrics import ConfusionMatrixDisplay\n",
        "from sklearn.preprocessing import normalize\n",
        "\n",
        "# Sets reproducibility.\n",
        "def set_reproducibility(seed):\n",
        "  random.seed(seed)\n",
        "  np.random.seed(seed)\n",
        "  tf.random.set_seed(seed)\n",
        "  os.environ[\"PYTHONHASHSEED\"] = str(seed)\n",
        "  os.environ[\"TF_DETERMINISTIC_OPS\"] = \"1\"\n",
        "  os.environ[\"TF_CUDNN_DETERMINISTIC\"] = \"1\"\n",
        "\n",
        "# Setting seed.\n",
        "set_reproducibility(seed = 42)"
      ]
    },
    {
      "cell_type": "markdown",
      "metadata": {
        "id": "c9thEzbNTfiz"
      },
      "source": [
        "## Data Analysis and Preprocessing"
      ]
    },
    {
      "cell_type": "markdown",
      "source": [
        "Both the dataset and GloVe embeddings are downloaded and extracted."
      ],
      "metadata": {
        "id": "T5jJvoe_S01b"
      }
    },
    {
      "cell_type": "code",
      "execution_count": null,
      "metadata": {
        "id": "hOWsBikzhqq8"
      },
      "outputs": [],
      "source": [
        "# Downloads .zips.\n",
        "def downloader(url, folder_name, filename):\n",
        "\n",
        "  # Downloading .zip.\n",
        "  data_path = os.path.join(os.getcwd(), folder_name)\n",
        "  if not os.path.exists(data_path): \n",
        "    os.makedirs(data_path)\n",
        "  zip_path = os.path.join(os.getcwd(), folder_name, filename)\n",
        "  if not os.path.exists(zip_path): \n",
        "    urllib.request.urlretrieve(url, zip_path)\n",
        "\n",
        "  # Extracting .zip.\n",
        "  with zipfile.ZipFile(zip_path, \"r\") as zip_ref: \n",
        "    zip_ref.extractall(path = data_path)\n",
        "\n",
        "  # Returning data_path and zip_path.\n",
        "  return data_path, zip_path\n",
        "\n",
        "# Downloading resources.\n",
        "data_path, _ = downloader(url = \"https://raw.githubusercontent.com/nltk/nltk_data/gh-pages/packages/corpora/dependency_treebank.zip\", folder_name = \"data\", filename = \"dependency_treebank.zip\")\n",
        "glove_path, _ = downloader(url = \"https://nlp.stanford.edu/data/glove.6B.zip\", folder_name = \"glove\", filename = \"glove.6B.zip\")"
      ]
    },
    {
      "cell_type": "markdown",
      "source": [
        "The retrieved dataset contains 199 documents, each named `wsj_0xxx.dp`, where `xxx` goes from `001` to `199`. In particular, each document contains an arbitrary number of sentences, and it is structured based on three features: token, tag and some integer value which will not be considered.\n",
        "\n",
        "To better understand the structure of each document, the content of `wsj_0001.dp` is printed below."
      ],
      "metadata": {
        "id": "KVHSmL2ETEoP"
      }
    },
    {
      "cell_type": "code",
      "execution_count": null,
      "metadata": {
        "colab": {
          "base_uri": "https://localhost:8080/"
        },
        "id": "QZDEgowtTqYf",
        "outputId": "ffaeaf93-3963-487b-b1ad-1df3de1ee42f"
      },
      "outputs": [
        {
          "output_type": "stream",
          "name": "stdout",
          "text": [
            "Pierre\tNNP\t2\n",
            "Vinken\tNNP\t8\n",
            ",\t,\t2\n",
            "61\tCD\t5\n",
            "years\tNNS\t6\n",
            "old\tJJ\t2\n",
            ",\t,\t2\n",
            "will\tMD\t0\n",
            "join\tVB\t8\n",
            "the\tDT\t11\n",
            "board\tNN\t9\n",
            "as\tIN\t9\n",
            "a\tDT\t15\n",
            "nonexecutive\tJJ\t15\n",
            "director\tNN\t12\n",
            "Nov.\tNNP\t9\n",
            "29\tCD\t16\n",
            ".\t.\t8\n",
            "\n",
            "Mr.\tNNP\t2\n",
            "Vinken\tNNP\t3\n",
            "is\tVBZ\t0\n",
            "chairman\tNN\t3\n",
            "of\tIN\t4\n",
            "Elsevier\tNNP\t7\n",
            "N.V.\tNNP\t12\n",
            ",\t,\t12\n",
            "the\tDT\t12\n",
            "Dutch\tNNP\t12\n",
            "publishing\tVBG\t12\n",
            "group\tNN\t5\n",
            ".\t.\t3\n",
            "\n"
          ]
        }
      ],
      "source": [
        "# Printing content of the first document.\n",
        "dataset_name = \"dependency_treebank\"\n",
        "file_path = os.path.join(data_path, dataset_name, \"wsj_0001.dp\")\n",
        "if os.path.isfile(file_path):\n",
        "  with open(file_path, mode = \"r\") as text_file: print(text_file.read())"
      ]
    },
    {
      "cell_type": "markdown",
      "source": [
        "Embeddings are used to project each word onto a dense vector space. In particular, the dimensionaly of such space is defined by the constant `EMBEDDING_SIZE` that has been set equal to `50`. Thus, each token in the input sentences will be projected onto $\\mathbb{R}^{50}$.\n",
        "\n",
        "In the following cell, the GloVe `embedding_vocabulary` is used to print the embedding vector corresponding to the word `the`."
      ],
      "metadata": {
        "id": "21qik4joVTX1"
      }
    },
    {
      "cell_type": "code",
      "execution_count": null,
      "metadata": {
        "id": "TkeSn0ePqsG2",
        "colab": {
          "base_uri": "https://localhost:8080/"
        },
        "outputId": "dc0f66f5-ef77-4aab-af20-d9b6bb155e0b"
      },
      "outputs": [
        {
          "output_type": "stream",
          "name": "stdout",
          "text": [
            "The embedding for 'the' is:\n",
            "[ 4.1800e-01  2.4968e-01 -4.1242e-01  1.2170e-01  3.4527e-01 -4.4457e-02\n",
            " -4.9688e-01 -1.7862e-01 -6.6023e-04 -6.5660e-01  2.7843e-01 -1.4767e-01\n",
            " -5.5677e-01  1.4658e-01 -9.5095e-03  1.1658e-02  1.0204e-01 -1.2792e-01\n",
            " -8.4430e-01 -1.2181e-01 -1.6801e-02 -3.3279e-01 -1.5520e-01 -2.3131e-01\n",
            " -1.9181e-01 -1.8823e+00 -7.6746e-01  9.9051e-02 -4.2125e-01 -1.9526e-01\n",
            "  4.0071e+00 -1.8594e-01 -5.2287e-01 -3.1681e-01  5.9213e-04  7.4449e-03\n",
            "  1.7778e-01 -1.5897e-01  1.2041e-02 -5.4223e-02 -2.9871e-01 -1.5749e-01\n",
            " -3.4758e-01 -4.5637e-02 -4.4251e-01  1.8785e-01  2.7849e-03 -1.8411e-01\n",
            " -1.1514e-01 -7.8581e-01].\n"
          ]
        }
      ],
      "source": [
        "# GloVe embedding size.\n",
        "EMBEDDING_SIZE = 50\n",
        "\n",
        "# Reading GloVe file.\n",
        "glove_file = os.path.join(os.getcwd(), glove_path, f\"glove.6B.{str(EMBEDDING_SIZE)}d.txt\")\n",
        "with open(glove_file, encoding = \"utf8\" ) as text_file: \n",
        "  lines = text_file.readlines()\n",
        "\n",
        "# GloVe vocabulary.\n",
        "embedding_vocabulary = {}\n",
        "\n",
        "# Fill the vocabulary.\n",
        "for line in lines:\n",
        "  splits = line.split()\n",
        "  embedding_vocabulary[splits[0]] = np.array([float(val) for val in splits[1:]])\n",
        "\n",
        "# Printing embedding of \"the\".\n",
        "print(\"The embedding for 'the' is:\\n{}.\".format(embedding_vocabulary[\"the\"]))"
      ]
    },
    {
      "cell_type": "markdown",
      "source": [
        "### Dataset Creation and Out-Of-Vocabulary (OOV) Terms"
      ],
      "metadata": {
        "id": "T1z-CH3-KqdL"
      }
    },
    {
      "cell_type": "markdown",
      "source": [
        "In order to easily build the list of embeddings for each sentence in the input documents, the function `get_embeddings` is defined. Such function takes as input the a list of words (`sentence`), the GloVe vocabulary (`vocabulary`) and the size of each embedding (`embedding_size`), and produces a list of vectors containing the embeddings for the tokens in the input sentence. However, not all the input terms have a corresponding embedding in GloVe. These terms are referred to as Out-Of-Vocabulary (OOV) terms. To maximize the probability of finding terms in GloVe, case-folding has been applied. In particular, all letters in each word of `sentence` are reduced to lower case.\n",
        "\n",
        "The embedding vector for OOV terms is set equal to $\\boldsymbol{0} ∈ \\mathbb{R}^{50}$ (i.e. a vector composed of all zeros). During the development of this notebook, such embeddings have also been set equal to random vectors, but the final results were identical to the ones obtained considering $\\boldsymbol{0} ∈ \\mathbb{R}^{50}$. Thus, the remaining of this notebook will consider $\\boldsymbol{0} ∈ \\mathbb{R}^{50}$ as the default embedding for OOV terms.\n",
        "\n",
        "The following cell also computes a dataframe that contains as many rows as the number of input sentences, and four columns:\n",
        "\n",
        "*   `file_id`, that is the `xxx` id number of the `wsj_0xxx.dp` input file which stores the specific sentence. \n",
        "*   `sentence`, that is the list of words that compose a sentence.\n",
        "*   `tags`, that is the list of tags related to each word of the corresponding sentence.\n",
        "*   `features`, that is the list of GloVe embeddings related to each word of the corresponding sentence."
      ],
      "metadata": {
        "id": "uvBVB2KTX8B5"
      }
    },
    {
      "cell_type": "code",
      "execution_count": null,
      "metadata": {
        "id": "KACvAIENUlQ2",
        "colab": {
          "base_uri": "https://localhost:8080/"
        },
        "outputId": "d6e4849c-8a0f-4bc4-8650-892aecfc9370"
      },
      "outputs": [
        {
          "output_type": "execute_result",
          "data": {
            "text/plain": [
              "   file_id                                           sentence  \\\n",
              "0        1  [Pierre, Vinken, ,, 61, years, old, ,, will, j...   \n",
              "1        1  [Mr., Vinken, is, chairman, of, Elsevier, N.V....   \n",
              "2        2  [Rudolph, Agnew, ,, 55, years, old, and, forme...   \n",
              "3        3  [A, form, of, asbestos, once, used, to, make, ...   \n",
              "4        3  [The, asbestos, fiber, ,, crocidolite, ,, is, ...   \n",
              "\n",
              "                                                tags  \\\n",
              "0  [NNP, NNP, ,, CD, NNS, JJ, ,, MD, VB, DT, NN, ...   \n",
              "1  [NNP, NNP, VBZ, NN, IN, NNP, NNP, ,, DT, NNP, ...   \n",
              "2  [NNP, NNP, ,, CD, NNS, JJ, CC, JJ, NN, IN, NNP...   \n",
              "3  [DT, NN, IN, NN, RB, VBN, TO, VB, NNP, NN, NNS...   \n",
              "4  [DT, NN, NN, ,, NN, ,, VBZ, RB, JJ, IN, PRP, V...   \n",
              "\n",
              "                                            features  \n",
              "0  [[0.23568, 0.39638, -0.60135, -0.52681, 0.1587...  \n",
              "1  [[0.006008, 0.57028, -0.064426, -0.044687, 0.8...  \n",
              "2  [[0.86274, 0.056588, -0.081828, -0.35318, -0.0...  \n",
              "3  [[0.21705, 0.46515, -0.46757, 0.10082, 1.0135,...  \n",
              "4  [[0.418, 0.24968, -0.41242, 0.1217, 0.34527, -...  "
            ],
            "text/html": [
              "\n",
              "  <div id=\"df-1730bdd5-7fcd-4b4c-823c-657afd6fc108\">\n",
              "    <div class=\"colab-df-container\">\n",
              "      <div>\n",
              "<style scoped>\n",
              "    .dataframe tbody tr th:only-of-type {\n",
              "        vertical-align: middle;\n",
              "    }\n",
              "\n",
              "    .dataframe tbody tr th {\n",
              "        vertical-align: top;\n",
              "    }\n",
              "\n",
              "    .dataframe thead th {\n",
              "        text-align: right;\n",
              "    }\n",
              "</style>\n",
              "<table border=\"1\" class=\"dataframe\">\n",
              "  <thead>\n",
              "    <tr style=\"text-align: right;\">\n",
              "      <th></th>\n",
              "      <th>file_id</th>\n",
              "      <th>sentence</th>\n",
              "      <th>tags</th>\n",
              "      <th>features</th>\n",
              "    </tr>\n",
              "  </thead>\n",
              "  <tbody>\n",
              "    <tr>\n",
              "      <th>0</th>\n",
              "      <td>1</td>\n",
              "      <td>[Pierre, Vinken, ,, 61, years, old, ,, will, j...</td>\n",
              "      <td>[NNP, NNP, ,, CD, NNS, JJ, ,, MD, VB, DT, NN, ...</td>\n",
              "      <td>[[0.23568, 0.39638, -0.60135, -0.52681, 0.1587...</td>\n",
              "    </tr>\n",
              "    <tr>\n",
              "      <th>1</th>\n",
              "      <td>1</td>\n",
              "      <td>[Mr., Vinken, is, chairman, of, Elsevier, N.V....</td>\n",
              "      <td>[NNP, NNP, VBZ, NN, IN, NNP, NNP, ,, DT, NNP, ...</td>\n",
              "      <td>[[0.006008, 0.57028, -0.064426, -0.044687, 0.8...</td>\n",
              "    </tr>\n",
              "    <tr>\n",
              "      <th>2</th>\n",
              "      <td>2</td>\n",
              "      <td>[Rudolph, Agnew, ,, 55, years, old, and, forme...</td>\n",
              "      <td>[NNP, NNP, ,, CD, NNS, JJ, CC, JJ, NN, IN, NNP...</td>\n",
              "      <td>[[0.86274, 0.056588, -0.081828, -0.35318, -0.0...</td>\n",
              "    </tr>\n",
              "    <tr>\n",
              "      <th>3</th>\n",
              "      <td>3</td>\n",
              "      <td>[A, form, of, asbestos, once, used, to, make, ...</td>\n",
              "      <td>[DT, NN, IN, NN, RB, VBN, TO, VB, NNP, NN, NNS...</td>\n",
              "      <td>[[0.21705, 0.46515, -0.46757, 0.10082, 1.0135,...</td>\n",
              "    </tr>\n",
              "    <tr>\n",
              "      <th>4</th>\n",
              "      <td>3</td>\n",
              "      <td>[The, asbestos, fiber, ,, crocidolite, ,, is, ...</td>\n",
              "      <td>[DT, NN, NN, ,, NN, ,, VBZ, RB, JJ, IN, PRP, V...</td>\n",
              "      <td>[[0.418, 0.24968, -0.41242, 0.1217, 0.34527, -...</td>\n",
              "    </tr>\n",
              "  </tbody>\n",
              "</table>\n",
              "</div>\n",
              "      <button class=\"colab-df-convert\" onclick=\"convertToInteractive('df-1730bdd5-7fcd-4b4c-823c-657afd6fc108')\"\n",
              "              title=\"Convert this dataframe to an interactive table.\"\n",
              "              style=\"display:none;\">\n",
              "        \n",
              "  <svg xmlns=\"http://www.w3.org/2000/svg\" height=\"24px\"viewBox=\"0 0 24 24\"\n",
              "       width=\"24px\">\n",
              "    <path d=\"M0 0h24v24H0V0z\" fill=\"none\"/>\n",
              "    <path d=\"M18.56 5.44l.94 2.06.94-2.06 2.06-.94-2.06-.94-.94-2.06-.94 2.06-2.06.94zm-11 1L8.5 8.5l.94-2.06 2.06-.94-2.06-.94L8.5 2.5l-.94 2.06-2.06.94zm10 10l.94 2.06.94-2.06 2.06-.94-2.06-.94-.94-2.06-.94 2.06-2.06.94z\"/><path d=\"M17.41 7.96l-1.37-1.37c-.4-.4-.92-.59-1.43-.59-.52 0-1.04.2-1.43.59L10.3 9.45l-7.72 7.72c-.78.78-.78 2.05 0 2.83L4 21.41c.39.39.9.59 1.41.59.51 0 1.02-.2 1.41-.59l7.78-7.78 2.81-2.81c.8-.78.8-2.07 0-2.86zM5.41 20L4 18.59l7.72-7.72 1.47 1.35L5.41 20z\"/>\n",
              "  </svg>\n",
              "      </button>\n",
              "      \n",
              "  <style>\n",
              "    .colab-df-container {\n",
              "      display:flex;\n",
              "      flex-wrap:wrap;\n",
              "      gap: 12px;\n",
              "    }\n",
              "\n",
              "    .colab-df-convert {\n",
              "      background-color: #E8F0FE;\n",
              "      border: none;\n",
              "      border-radius: 50%;\n",
              "      cursor: pointer;\n",
              "      display: none;\n",
              "      fill: #1967D2;\n",
              "      height: 32px;\n",
              "      padding: 0 0 0 0;\n",
              "      width: 32px;\n",
              "    }\n",
              "\n",
              "    .colab-df-convert:hover {\n",
              "      background-color: #E2EBFA;\n",
              "      box-shadow: 0px 1px 2px rgba(60, 64, 67, 0.3), 0px 1px 3px 1px rgba(60, 64, 67, 0.15);\n",
              "      fill: #174EA6;\n",
              "    }\n",
              "\n",
              "    [theme=dark] .colab-df-convert {\n",
              "      background-color: #3B4455;\n",
              "      fill: #D2E3FC;\n",
              "    }\n",
              "\n",
              "    [theme=dark] .colab-df-convert:hover {\n",
              "      background-color: #434B5C;\n",
              "      box-shadow: 0px 1px 3px 1px rgba(0, 0, 0, 0.15);\n",
              "      filter: drop-shadow(0px 1px 2px rgba(0, 0, 0, 0.3));\n",
              "      fill: #FFFFFF;\n",
              "    }\n",
              "  </style>\n",
              "\n",
              "      <script>\n",
              "        const buttonEl =\n",
              "          document.querySelector('#df-1730bdd5-7fcd-4b4c-823c-657afd6fc108 button.colab-df-convert');\n",
              "        buttonEl.style.display =\n",
              "          google.colab.kernel.accessAllowed ? 'block' : 'none';\n",
              "\n",
              "        async function convertToInteractive(key) {\n",
              "          const element = document.querySelector('#df-1730bdd5-7fcd-4b4c-823c-657afd6fc108');\n",
              "          const dataTable =\n",
              "            await google.colab.kernel.invokeFunction('convertToInteractive',\n",
              "                                                     [key], {});\n",
              "          if (!dataTable) return;\n",
              "\n",
              "          const docLinkHtml = 'Like what you see? Visit the ' +\n",
              "            '<a target=\"_blank\" href=https://colab.research.google.com/notebooks/data_table.ipynb>data table notebook</a>'\n",
              "            + ' to learn more about interactive tables.';\n",
              "          element.innerHTML = '';\n",
              "          dataTable['output_type'] = 'display_data';\n",
              "          await google.colab.output.renderOutput(dataTable, element);\n",
              "          const docLink = document.createElement('div');\n",
              "          docLink.innerHTML = docLinkHtml;\n",
              "          element.appendChild(docLink);\n",
              "        }\n",
              "      </script>\n",
              "    </div>\n",
              "  </div>\n",
              "  "
            ]
          },
          "metadata": {},
          "execution_count": 5
        }
      ],
      "source": [
        "# Retrieves embeddings for a sentence.\n",
        "def get_embeddings(sentence, vocabulary, embedding_size):\n",
        "\n",
        "  # List of embeddings for the input sentence.\n",
        "  embeddings = []\n",
        "\n",
        "  # Retrieving embedding vectors.\n",
        "  for word in sentence:\n",
        "    embedding = vocabulary.get(word.lower())\n",
        "    if embedding is not None:\n",
        "      embeddings.append(embedding)\n",
        "    else:\n",
        "      embeddings.append(list(np.zeros(embedding_size)))\n",
        "\n",
        "  # Returning list of embeddings.\n",
        "  return embeddings\n",
        "\n",
        "dataframe_rows = []\n",
        "row_words = []\n",
        "row_tags = []\n",
        "folder = os.path.join(data_path, dataset_name)\n",
        "\n",
        "# Storing dataframe rows.\n",
        "for filename in sorted(os.listdir(folder)):\n",
        "  file_path = os.path.join(folder, filename)\n",
        "  if os.path.isfile(file_path):\n",
        "\n",
        "    # Reading content.\n",
        "    with open(file_path, mode = \"r\") as text_file:\n",
        "      while True:\n",
        "        line = text_file.readline()\n",
        "\n",
        "        # Storing a single word and a single tag.\n",
        "        if line and line != \"\\n\":\n",
        "          row_words.append(line.split()[0])\n",
        "          row_tags.append(line.split()[1])\n",
        "\n",
        "        # Creating new dataframe row and resetting structures.\n",
        "        else:\n",
        "          dataframe_row = {\"file_id\": int(filename.split(\".\")[0].split(\"_\")[1]), \n",
        "                           \"sentence\": row_words, \n",
        "                           \"tags\": row_tags, \n",
        "                           \"features\": get_embeddings(row_words, embedding_vocabulary, EMBEDDING_SIZE)}\n",
        "          dataframe_rows.append(dataframe_row)\n",
        "          row_words = []\n",
        "          row_tags = []\n",
        "\n",
        "          if not line: break\n",
        "\n",
        "# Creating dataframe.\n",
        "dataframe = pd.DataFrame(dataframe_rows)\n",
        "dataframe.head()"
      ]
    },
    {
      "cell_type": "markdown",
      "source": [
        "The computed dataframe is then splitted into training, validation and test portions according to the specifics of the problem. This is done by relying of the `file_id` column of the dataframe. In particular:\n",
        "\n",
        "*   The training split considers documents from `wsj_0001.dp` to `wsj_0100.dp`.\n",
        "*   The validation split considers documents from `wsj_0101.dp` to `wsj_0150.dp`.\n",
        "*   The test split considers documents from `wsj_0151.dp` to `wsj_0199.dp`.\n",
        "\n",
        "Being each document composed of an arbitrary number of sentences, each split contains a different number of rows (i.e. of sentences)."
      ],
      "metadata": {
        "id": "aUaOqnONcbN_"
      }
    },
    {
      "cell_type": "code",
      "execution_count": null,
      "metadata": {
        "id": "jC61XX7MAJoS",
        "colab": {
          "base_uri": "https://localhost:8080/"
        },
        "outputId": "4d86cbba-30cc-49b8-d901-eea3e5962e89"
      },
      "outputs": [
        {
          "output_type": "stream",
          "name": "stdout",
          "text": [
            "The dataframe consists of 3914 sentences:\n",
            " - 1963 of these sentences define the training set.\n",
            " - 1299 of these sentences define the validation set.\n",
            " - 652 of these sentences define the test set.\n"
          ]
        }
      ],
      "source": [
        "# Defining splits.\n",
        "TRAINING_SPLIT = range(1, 101)\n",
        "VALIDATION_SPLIT = range(101, 151)\n",
        "TEST_SPLIT = range(151, 200)\n",
        "\n",
        "# Retrieving splits.\n",
        "train = dataframe.loc[dataframe[\"file_id\"].isin(TRAINING_SPLIT)]\n",
        "validation = dataframe.loc[dataframe[\"file_id\"].isin(VALIDATION_SPLIT)]\n",
        "test = dataframe.loc[dataframe[\"file_id\"].isin(TEST_SPLIT)]\n",
        "\n",
        "# Printing number of sentences.\n",
        "print(f\"The dataframe consists of {len(dataframe)} sentences:\")\n",
        "print(f\" - {len(train)} of these sentences define the training set.\")\n",
        "print(f\" - {len(validation)} of these sentences define the validation set.\")\n",
        "print(f\" - {len(test)} of these sentences define the test set.\")"
      ]
    },
    {
      "cell_type": "markdown",
      "source": [
        "In order to have, for each sentence, a matrix of embeddings of the same shape, the maximum length (`MAX_LENGTH`) of a sentence is computed by only looking at the training set. Once computed, such length is used to pad all the list of features. Thus:\n",
        "\n",
        "*   The shape of `train_features` is: `len(train)` $\\times$ `MAX_LENGTH` $\\times$ `EMBEDDING_SIZE`.\n",
        "*   The shape of `validation_features` is: `len(validation)` $\\times$ `MAX_LENGTH` $\\times$ `EMBEDDING_SIZE`.\n",
        "*   The shape of `test_features` is: `len(test)` $\\times$ `MAX_LENGTH` $\\times$ `EMBEDDING_SIZE`.\n",
        "\n",
        "where `train`, `validation`, `test` are the splits of the original dataframe computed above. Moreover, the padding operation is computed by using $\\boldsymbol{0} \\in \\mathbb{R}^{50}$ as pad value."
      ],
      "metadata": {
        "id": "c23FHG-VgRtn"
      }
    },
    {
      "cell_type": "code",
      "execution_count": null,
      "metadata": {
        "id": "jTgbsNPNoI9g",
        "colab": {
          "base_uri": "https://localhost:8080/"
        },
        "outputId": "4c484245-0cdc-47cb-cd7a-91b9a546d63a"
      },
      "outputs": [
        {
          "output_type": "stream",
          "name": "stdout",
          "text": [
            "The maximum length is 249, thus:\n",
            " - The shape of train_features is: (1963, 249, 50).\n",
            " - The shape of validation_features is: (1299, 249, 50).\n",
            " - The shape of test_features is: (652, 249, 50).\n"
          ]
        }
      ],
      "source": [
        "# Computing length of longest train sentence.\n",
        "MAX_LENGTH = len(max(train[\"sentence\"].tolist(), key = len))\n",
        "\n",
        "# Padding features.\n",
        "train_features = pad_sequences(train[\"features\"].tolist(), maxlen = MAX_LENGTH, padding = \"post\", dtype = \"float32\")\n",
        "validation_features = pad_sequences(validation[\"features\"].tolist(), maxlen = MAX_LENGTH, padding = \"post\", dtype = \"float32\")\n",
        "test_features = pad_sequences(test[\"features\"].tolist(), maxlen = MAX_LENGTH, padding = \"post\", dtype = \"float32\")\n",
        "\n",
        "# Printing shape of features.\n",
        "print(f\"The maximum length is {MAX_LENGTH}, thus:\")\n",
        "print(f\" - The shape of train_features is: ({len(train_features)}, {len(train_features[0])}, {len(train_features[0, 0])}).\")\n",
        "print(f\" - The shape of validation_features is: ({len(validation_features)}, {len(validation_features[0])}, {len(validation_features[0, 0])}).\")\n",
        "print(f\" - The shape of test_features is: ({len(test_features)}, {len(test_features[0])}, {len(test_features[0, 0])}).\")"
      ]
    },
    {
      "cell_type": "markdown",
      "source": [
        "The train, validation and test tags are computed considering the `train`, `validation` and `test` splits respectively. Starting from such sets, the list of unique tags (`tags`) is then printed."
      ],
      "metadata": {
        "id": "5WT75vswlIDd"
      }
    },
    {
      "cell_type": "code",
      "source": [
        "# Computing tags.\n",
        "train_tags = [item for sublist in train[\"tags\"].tolist() for item in sublist]\n",
        "validation_tags = [item for sublist in validation[\"tags\"].tolist() for item in sublist]\n",
        "test_tags = [item for sublist in test[\"tags\"].tolist() for item in sublist]\n",
        "\n",
        "# Removing duplicates from train_tags. The training set already contains all of the tags. \n",
        "# By using a dict instead of a set I can get reproducible results (sets are not ordered).\n",
        "tags = list(dict.fromkeys(train_tags))\n",
        "\n",
        "# Printing all the tags.\n",
        "print(f\"The possible tags are: {tags}.\")"
      ],
      "metadata": {
        "id": "I3fKMnEEOKg7",
        "colab": {
          "base_uri": "https://localhost:8080/"
        },
        "outputId": "5ceee949-163c-4b1c-a7fb-b2dcdda780f5"
      },
      "execution_count": null,
      "outputs": [
        {
          "output_type": "stream",
          "name": "stdout",
          "text": [
            "The possible tags are: ['NNP', ',', 'CD', 'NNS', 'JJ', 'MD', 'VB', 'DT', 'NN', 'IN', '.', 'VBZ', 'VBG', 'CC', 'VBD', 'VBN', 'RB', 'TO', 'PRP', 'RBR', 'WDT', 'VBP', 'RP', 'PRP$', 'JJS', 'POS', '``', 'EX', \"''\", 'WP', ':', 'JJR', 'WRB', '$', 'NNPS', 'WP$', '-LRB-', '-RRB-', 'PDT', 'RBS', 'FW', 'UH', 'SYM', 'LS', '#'].\n"
          ]
        }
      ]
    },
    {
      "cell_type": "markdown",
      "source": [
        "According to the specifics of the problem, punctuation/symbols classes should not be considered when computing the final scores, but they should also not be removed from the dataframe due to their importance in understanding the syntactical structure of a sentence. Thus, the tags\n",
        "\n",
        "`\"PAD\"` plus `[\",\", \".\", \"``\", \"''\", \":\", \"$\", \"-LRB-\", \"-RRB-\", \"SYM\", \"LS\", \"#\"]`\n",
        "\n",
        "are stored in a specific list that will be useful to compute the final results. "
      ],
      "metadata": {
        "id": "bhVj_VffOqvG"
      }
    },
    {
      "cell_type": "code",
      "execution_count": null,
      "metadata": {
        "id": "gzIGFLjNibLW"
      },
      "outputs": [],
      "source": [
        "# Punctuation tag list.\n",
        "punctuation_tag_list = [\"PAD\", \",\", \".\", \"``\", \"''\", \":\", \"$\", \"-LRB-\", \"-RRB-\", \"SYM\", \"LS\", \"#\"]\n",
        "\n",
        "# Figures folder.\n",
        "figures_path = os.path.join(os.getcwd(), \"figures\")\n",
        "if not os.path.exists(figures_path): \n",
        "  os.makedirs(figures_path)\n",
        "\n",
        "# Plots classes distribution.\n",
        "def plot_classes_distribution(classes, counts, filename, figures_path = figures_path):\n",
        "\n",
        "  # Plot.\n",
        "  fig, ax = plt.subplots(1, 1, figsize = (9, 4))\n",
        "  bars = ax.bar(np.arange(0, len(classes), 1), counts)\n",
        "\n",
        "  # Setting opacity to punctuation bars.\n",
        "  for i in range(len(classes)): \n",
        "    if classes[i] in punctuation_tag_list: bars[i].set_alpha(0.5)\n",
        "\n",
        "  # Setting plot attributes.\n",
        "  ax.set_xlabel(\"Class\")\n",
        "  ax.set_ylabel(\"Count\")\n",
        "  ax.set_yscale(\"log\")\n",
        "  ax.set_xticks(np.arange(0, len(classes), 1))\n",
        "  ax.set_xticklabels(classes, rotation = 90)\n",
        "\n",
        "  fig.savefig(f\"{figures_path}/{filename}_classes_distribution.pdf\", bbox_inches = \"tight\")\n",
        "  plt.show()"
      ]
    },
    {
      "cell_type": "markdown",
      "source": [
        "The following cells compute and plot the distribution of classes in all three splits. Moreover, when considering the validation and test splits, there are classes that do not have support (namely, there are classes that do not appear at all in such splits). In such cases, these missing classes are shown below the corresponding barplot."
      ],
      "metadata": {
        "id": "TuCjyuPKPUf-"
      }
    },
    {
      "cell_type": "code",
      "source": [
        "# Train distribution\n",
        "training_counts = [train_tags.count(tag) for tag in tags]\n",
        "plot_classes_distribution(tags, training_counts, \"training\")"
      ],
      "metadata": {
        "id": "ZTo2sTuKQC62",
        "colab": {
          "base_uri": "https://localhost:8080/"
        },
        "outputId": "8f197d50-66e1-49cf-c547-cc1cb16280e3"
      },
      "execution_count": null,
      "outputs": [
        {
          "output_type": "display_data",
          "data": {
            "text/plain": [
              "<Figure size 648x288 with 1 Axes>"
            ],
            "image/png": "[encoded data removed]"
          },
          "metadata": {
            "needs_background": "light"
          }
        }
      ]
    },
    {
      "cell_type": "code",
      "source": [
        "# Validation distribution\n",
        "validation_counts = [validation_tags.count(tag) for tag in tags]\n",
        "plot_classes_distribution(tags, validation_counts, \"validation\")"
      ],
      "metadata": {
        "id": "A1FsN3QSQFj6",
        "colab": {
          "base_uri": "https://localhost:8080/"
        },
        "outputId": "97a4cdd4-dc6c-4896-cf13-0bd775fd174f"
      },
      "execution_count": null,
      "outputs": [
        {
          "output_type": "display_data",
          "data": {
            "text/plain": [
              "<Figure size 648x288 with 1 Axes>"
            ],
            "image/png": "[encoded data removed]"
          },
          "metadata": {
            "needs_background": "light"
          }
        }
      ]
    },
    {
      "cell_type": "code",
      "source": [
        "print(f\"The classes {[tags[tag_index] for tag_index in np.argwhere(np.array(validation_counts) == 0).flatten()]} have zero support in the validation set.\")"
      ],
      "metadata": {
        "id": "GZpej7-VvD7e",
        "colab": {
          "base_uri": "https://localhost:8080/"
        },
        "outputId": "570eb764-1fba-4f46-cbd1-1123c4a8f76f"
      },
      "execution_count": null,
      "outputs": [
        {
          "output_type": "stream",
          "name": "stdout",
          "text": [
            "The classes ['SYM'] have zero support in the validation set.\n"
          ]
        }
      ]
    },
    {
      "cell_type": "code",
      "source": [
        "# Test distribution.\n",
        "test_counts = [test_tags.count(tag) for tag in tags]\n",
        "plot_classes_distribution(tags, test_counts, \"test\")"
      ],
      "metadata": {
        "id": "w-tjEtOlQHxO",
        "colab": {
          "base_uri": "https://localhost:8080/"
        },
        "outputId": "df02a19f-0133-4450-f6c8-827fb51eeedd"
      },
      "execution_count": null,
      "outputs": [
        {
          "output_type": "display_data",
          "data": {
            "text/plain": [
              "<Figure size 648x288 with 1 Axes>"
            ],
            "image/png": "[encoded data removed]"
          },
          "metadata": {
            "needs_background": "light"
          }
        }
      ]
    },
    {
      "cell_type": "code",
      "source": [
        "print(f\"The classes {[tags[tag_index] for tag_index in np.argwhere(np.array(test_counts) == 0).flatten()]} have zero support in the test set.\")"
      ],
      "metadata": {
        "id": "X-EOwzwKx3YO",
        "colab": {
          "base_uri": "https://localhost:8080/"
        },
        "outputId": "4013d2cf-755d-4fe9-94a0-94befd37f77a"
      },
      "execution_count": null,
      "outputs": [
        {
          "output_type": "stream",
          "name": "stdout",
          "text": [
            "The classes ['FW', 'UH', 'SYM', 'LS', '#'] have zero support in the test set.\n"
          ]
        }
      ]
    },
    {
      "cell_type": "markdown",
      "source": [
        "The last step of data preprocessing involves converting each categorical tag into a numerical value. This has been done by defining a vocabulary of tags (`tag_to_index`) that maps each categorical class into a unique numerical value. For example, the tag `PAD` is mapped into `0`, the tag `NNP` is mapped into `1`, etc.\n",
        "\n",
        "By using the aforementioned vocabulary, it is possible to map `train_tags`, `validation_tags` and `test_tags` into their corresponding numerical variant. Moreover, the same sort of padding that was applied to the embeddings, now is applied to such list of tags. Thus:\n",
        "\n",
        "*   The shape of `train_tags` is: `len(train)` $\\times$ `MAX_LENGTH`.\n",
        "*   The shape of `validation_tags` is: `len(validation)` $\\times$ `MAX_LENGTH`.\n",
        "*   The shape of `test_tags` is: `len(test)` $\\times$ `MAX_LENGTH`."
      ],
      "metadata": {
        "id": "MErwaGjEQUwv"
      }
    },
    {
      "cell_type": "code",
      "source": [
        "# Vocabulary for tags.\n",
        "tag_to_index = {}\n",
        "tag_to_index[\"PAD\"] = 0\n",
        "for i, tag in enumerate(list(tags)): \n",
        "  tag_to_index[tag] = i + 1\n",
        "\n",
        "# Tag-to-index transformation using tag_to_index.\n",
        "train_tags = [[tag_to_index[tag] for tag in tags_list] for tags_list in list(train[\"tags\"])]\n",
        "validation_tags = [[tag_to_index[tag] for tag in tags_list] for tags_list in list(validation[\"tags\"])]\n",
        "test_tags = [[tag_to_index[tag] for tag in tags_list] for tags_list in list(test[\"tags\"])]\n",
        "\n",
        "# Padding tags.\n",
        "train_tags = pad_sequences(train_tags, maxlen = MAX_LENGTH, padding = \"post\")\n",
        "validation_tags = pad_sequences(validation_tags, maxlen = MAX_LENGTH, padding = \"post\")\n",
        "test_tags = pad_sequences(test_tags, maxlen = MAX_LENGTH, padding = \"post\")\n",
        "\n",
        "# Printing shapes.\n",
        "print(f\"The shape of train_tags is: ({len(train_tags)}, {len(train_tags[0])}).\")\n",
        "print(f\"The shape of validation_tags is: ({len(validation_tags)}, {len(validation_tags[0])}).\")\n",
        "print(f\"The shape of test_tags is: ({len(test_tags)}, {len(test_tags[0])}).\")"
      ],
      "metadata": {
        "id": "MPrVCjEzCr7E",
        "colab": {
          "base_uri": "https://localhost:8080/"
        },
        "outputId": "734c601e-6078-4162-d352-20340a66008f"
      },
      "execution_count": null,
      "outputs": [
        {
          "output_type": "stream",
          "name": "stdout",
          "text": [
            "The shape of train_tags is: (1963, 249).\n",
            "The shape of validation_tags is: (1299, 249).\n",
            "The shape of test_tags is: (652, 249).\n"
          ]
        }
      ]
    },
    {
      "cell_type": "markdown",
      "metadata": {
        "id": "Eefy9o5A6e6x"
      },
      "source": [
        "## Models Definition and Training"
      ]
    },
    {
      "cell_type": "markdown",
      "source": [
        "According to the specific of the assignment, four architectures are considered:\n",
        "\n",
        "*   Baseline model, $m_0$, composed of:\n",
        "  - a BiLSTM layer;\n",
        "  - a time-distributed, dense layer with softmax activation.\n",
        "\n",
        "*   BiGRU model, $m_1$, composed of:\n",
        "  - a BiGRU layer;\n",
        "  - a time-distributed, dense layer with softmax activation.\n",
        "\n",
        "*   Additional BiLSTM model, $m_2$, composed of:\n",
        "  - two BiLSTM layers;\n",
        "  - a time-distributed, dense layer with softmax activation.\n",
        "\n",
        "*   Additional dense layer model, $m_3$, composed of:\n",
        "  - a BiLSTM layer.\n",
        "  - a time-distributed, dense layer with ReLU activation.\n",
        "  - a time-distributed, dense layer with softmax activation.\n",
        "\n",
        "The optimal number of units/neurons for LSTM/GRU/dense layers is found using a grid-search approach (via the `grid_search` function). More details on this approach can be found below.\n",
        "\n",
        "The hyper-paramenters of the learning procedure (i.e. batch-size, number of epochs, learning rate) are fixed. Moreover, in order to find the best possible models, both early-stopping (via `EarlyStopping`) and a learning rate schedule (via `ReduceLROnPlateau`) have been defined."
      ],
      "metadata": {
        "id": "ofqMT3zCUBfd"
      }
    },
    {
      "cell_type": "code",
      "execution_count": null,
      "metadata": {
        "id": "HFHMaanl2IRf"
      },
      "outputs": [],
      "source": [
        "# Models names and description.\n",
        "models_name = [\"m_0\", \"m_1\", \"m_2\", \"m_3\"]\n",
        "descriptions_dict = {models_name[0]: (f\"Baseline model ({models_name[0]}): \\n\"\n",
        "                                      \" - Bi-directional LSTM layer. \\n\"\n",
        "                                      \" - Time-distributed dense layer. \\n\"\n",
        "                                      \" - Softmax activation function.\"),\n",
        "                     models_name[1]: (f\"BiGRU model ({models_name[1]}): \\n\"\n",
        "                                      \" - Bi-directional GRU layer. \\n\"\n",
        "                                      \" - Time-distributed dense layer. \\n\"\n",
        "                                      \" - Softmax activation function.\"),\n",
        "                     models_name[2]: (f\"Additional bi-directional LSTM model ({models_name[2]}): \\n\"\n",
        "                                      \" - Bi-directional LSTM layer. \\n\"\n",
        "                                      \" - Bi-directional LSTM layer. \\n\"\n",
        "                                      \" - Time-distributed dense layer. \\n\"\n",
        "                                      \" - Softmax activation function.\"),\n",
        "                     models_name[3]: (f\"Additional dense layer model ({models_name[3]}): \\n\"\n",
        "                                      \" - Bi-directional LSTM layer. \\n\"\n",
        "                                      \" - Time-distributed dense layer. \\n\"\n",
        "                                      \" - ReLU activation function. \\n\"\n",
        "                                      \" - Time-distributed dense layer. \\n\"\n",
        "                                      \" - Softmax activation function.\")}\n",
        "\n",
        "# Dictionary of models.\n",
        "models = {}\n",
        "\n",
        "# Training procedure hyper-parameters and callbacks.\n",
        "BATCH_SIZE = 128\n",
        "EPOCHS = 100\n",
        "LR = 0.01\n",
        "REG = 0.01\n",
        "early_stopping = EarlyStopping(monitor = \"val_loss\", patience = 5, restore_best_weights = True)\n",
        "reduce_lr = ReduceLROnPlateau(monitor = \"val_loss\", patience = 3, factor = 0.1)\n",
        "\n",
        "# Creates the model.\n",
        "def get_model(name, layers, input_shape):\n",
        "\n",
        "  # Model.\n",
        "  model = Sequential()\n",
        "  model.add(InputLayer(input_shape = input_shape))\n",
        "  for layer in layers:\n",
        "    model.add(layer)\n",
        "  model.add(TimeDistributed(Dense(len(tag_to_index), activation = \"softmax\")))\n",
        "  model._name = name\n",
        "\n",
        "  # Returning the model.\n",
        "  return model\n",
        "\n",
        "# Applies grid-search to tune a specific architecture.\n",
        "def grid_search(model_name, units, best_baseline_LSTM_units = None):\n",
        "\n",
        "  # Models and histories of the same architecture.\n",
        "  models = []\n",
        "  histories = []\n",
        "\n",
        "  print(f\"Grid-search, {model_name} model.\")\n",
        "\n",
        "  # Grid-search over possible number of units so to find the best model.\n",
        "  for n in units:\n",
        "    if model_name == \"m_0\":\n",
        "      layers = [Bidirectional(LSTM(n, return_sequences = True, recurrent_regularizer = l2(REG)))]\n",
        "    elif model_name == \"m_1\":\n",
        "      layers = [Bidirectional(GRU(n, return_sequences = True, recurrent_regularizer = l2(REG)))]\n",
        "    elif model_name == \"m_2\" and best_baseline_LSTM_units != None:\n",
        "      layers = [Bidirectional(LSTM(best_baseline_LSTM_units, return_sequences = True, recurrent_regularizer = l2(REG))),\n",
        "                Bidirectional(LSTM(n, return_sequences = True, recurrent_regularizer = l2(REG)))]\n",
        "    elif model_name == \"m_3\" and best_baseline_LSTM_units != None:\n",
        "      layers = [Bidirectional(LSTM(best_baseline_LSTM_units, return_sequences = True, recurrent_regularizer = l2(REG))),\n",
        "                TimeDistributed(Dense(n, activation = \"relu\"))]\n",
        "\n",
        "    # Creating the model.\n",
        "    model = get_model(name = model_name, layers = layers, input_shape = (MAX_LENGTH, EMBEDDING_SIZE))\n",
        "    model.compile(loss = \"sparse_categorical_crossentropy\", optimizer = Adam(LR), metrics = [\"accuracy\"])\n",
        "    models.append(model)\n",
        "    print(f\"\\nNumber of units: {n}.\\n\")\n",
        "    models[-1].summary()\n",
        "\n",
        "    # Fitting the model.\n",
        "    history = models[-1].fit(train_features, train_tags, batch_size = BATCH_SIZE, epochs = EPOCHS, validation_data = (validation_features, validation_tags), callbacks = [early_stopping, reduce_lr])\n",
        "    histories.append(history)\n",
        "\n",
        "  # Returning models and histories.\n",
        "  return models, histories"
      ]
    },
    {
      "cell_type": "markdown",
      "source": [
        "The functions `compute_F1_score` and `get_best_model` compute, respectively, the macro F1-score without considering punctuation/symbols/zero-support classes, and the best model, according to such score, among all the variations of the same architecture after having performed grid-search."
      ],
      "metadata": {
        "id": "jMbwM8UXe2lJ"
      }
    },
    {
      "cell_type": "code",
      "execution_count": null,
      "metadata": {
        "id": "UzNmDy4dLmjL"
      },
      "outputs": [],
      "source": [
        "# Compute the macro F1-score.\n",
        "def compute_F1_score(model, X, y, tag_to_index_vocabulary):\n",
        "\n",
        "  pred = model.predict(X)\n",
        "  report = classification_report(y.flatten(), \n",
        "                                 np.argmax(pred, axis = 2).flatten(), \n",
        "                                 labels = np.arange(0, len(tag_to_index_vocabulary), 1),\n",
        "                                 target_names = list(tag_to_index_vocabulary.keys()),\n",
        "                                 zero_division = 0,\n",
        "                                 output_dict = True)\n",
        "\n",
        "  # Computing macro F1-score.\n",
        "  macro_f1 = 0\n",
        "  for tag in list(tag_to_index_vocabulary.keys()):\n",
        "    if tag not in punctuation_tag_list: \n",
        "      macro_f1 = macro_f1 + report[tag][\"f1-score\"]\n",
        "  macro_f1 = macro_f1 / (len(list(tag_to_index_vocabulary.keys())) - len(punctuation_tag_list))\n",
        "\n",
        "  # Returning macro F1-score, predictions and report.\n",
        "  return macro_f1, pred, report\n",
        "\n",
        "# Retrieves the best model among a set of models.\n",
        "def get_best_model(models, units):\n",
        "\n",
        "  # Computing best F1-score.\n",
        "  f1_scores = [compute_F1_score(model, validation_features, validation_tags, tag_to_index)[0] for model in models]\n",
        "  best = units[np.argmax(f1_scores)]\n",
        "  print(f\"The best number of units is: {best}.\")\n",
        "\n",
        "  # Returning the best model, all the F1-scores.\n",
        "  return best, f1_scores, models[np.argmax(f1_scores)]"
      ]
    },
    {
      "cell_type": "markdown",
      "source": [
        "The following cell defines two other functions, `plot_loss` and `plot_f1_scores` that are used, respectively, to plot the training loss curves and macro F1-scores, of each architecture, after having performed grid-search."
      ],
      "metadata": {
        "id": "vp7O81hBgQoT"
      }
    },
    {
      "cell_type": "code",
      "source": [
        "# Plots validation losses.\n",
        "def plot_loss(model_name, units, histories, figures_path = figures_path):\n",
        "\n",
        "  # Computing best epoch for each model.\n",
        "  best_epochs = [np.argmin(history.history[\"val_loss\"]) + 1 for history in histories]\n",
        "\n",
        "  # Plotting val loss for each model.\n",
        "  fig, ax = plt.subplots(1, 1, figsize = (4, 4))\n",
        "  for i in range(len(units)):\n",
        "    x = np.arange(1, len(histories[i].history[\"val_loss\"]) + 1, 1)\n",
        "    ax.plot(x, histories[i].history[\"val_loss\"], label = r\"${}^{}$\".format(model_name, i + 1))\n",
        "\n",
        "  # Setting attributes.\n",
        "  ax.set_ylabel(\"Loss\")\n",
        "  ax.set_xlabel(\"Epoch\")\n",
        "  ax.legend()\n",
        "\n",
        "  fig.savefig(f\"{figures_path}/val_loss_{model_name}.pdf\", bbox_inches = \"tight\")\n",
        "  plt.show\n",
        "\n",
        "# Plots F1-scores.\n",
        "def plot_f1_scores(model_name, units, f1_scores, figures_path = figures_path):\n",
        "  \n",
        "  # Plotting F1-scores.\n",
        "  fig, ax = plt.subplots(1, 1, figsize = (4, 4))\n",
        "  ax.plot(np.arange(0, len(f1_scores), 1), f1_scores, marker = \"o\")\n",
        "\n",
        "  # Setting attributes.\n",
        "  ax.set_ylabel(r\"$F_1$-score\")\n",
        "  ax.set_xlabel(\"Model\")\n",
        "  ax.set_xticks(np.arange(0, len(f1_scores), 1))\n",
        "  ax.set_xticklabels([r\"${}^{}$\".format(model_name, i + 1) for i in range(len(units))])\n",
        "\n",
        "  fig.savefig(f\"{figures_path}/f1_scores_{model_name}.pdf\", bbox_inches = \"tight\")\n",
        "  plt.show"
      ],
      "metadata": {
        "id": "fuGISWYbZJmC"
      },
      "execution_count": null,
      "outputs": []
    },
    {
      "cell_type": "markdown",
      "metadata": {
        "id": "t4YdLEyuxPuH"
      },
      "source": [
        "### Baseline Model ($m_0$)"
      ]
    },
    {
      "cell_type": "markdown",
      "source": [
        "Grid-search on $m_0$ is performed by searching for the best number of LSTM units. The possible number of units are $\\{32, 64, 128, 256\\}$, which define four models: $m_0^1$, $m_0^2$, $m_0^3$, $m_0^4$ respectively."
      ],
      "metadata": {
        "id": "4DgS69Lmg2-7"
      }
    },
    {
      "cell_type": "code",
      "execution_count": null,
      "metadata": {
        "id": "momN-VqKCtlx",
        "colab": {
          "base_uri": "https://localhost:8080/"
        },
        "outputId": "c8d59d62-0287-46e4-9b06-c34661e87624"
      },
      "outputs": [
        {
          "output_type": "stream",
          "name": "stdout",
          "text": [
            "Grid-search, m_0 model.\n",
            "\n",
            "Number of units: 32.\n",
            "\n",
            "Model: \"m_0\"\n",
            "_________________________________________________________________\n",
            " Layer (type)                Output Shape              Param #   \n",
            "=================================================================\n",
            " bidirectional (Bidirectiona  (None, 249, 64)          21248     \n",
            " l)                                                              \n",
            "                                                                 \n",
            " time_distributed (TimeDistr  (None, 249, 46)          2990      \n",
            " ibuted)                                                         \n",
            "                                                                 \n",
            "=================================================================\n",
            "Total params: 24,238\n",
            "Trainable params: 24,238\n",
            "Non-trainable params: 0\n",
            "_________________________________________________________________\n",
            "Epoch 1/100\n",
            "16/16 [==============================] - 10s 114ms/step - loss: 1.8719 - accuracy: 0.8906 - val_loss: 0.5530 - val_accuracy: 0.9305 - lr: 0.0100\n",
            "Epoch 2/100\n",
            "16/16 [==============================] - 1s 40ms/step - loss: 0.4803 - accuracy: 0.9394 - val_loss: 0.3939 - val_accuracy: 0.9465 - lr: 0.0100\n",
            "Epoch 3/100\n",
            "16/16 [==============================] - 1s 40ms/step - loss: 0.3333 - accuracy: 0.9502 - val_loss: 0.2716 - val_accuracy: 0.9550 - lr: 0.0100\n",
            "Epoch 4/100\n",
            "16/16 [==============================] - 1s 40ms/step - loss: 0.2343 - accuracy: 0.9577 - val_loss: 0.2005 - val_accuracy: 0.9603 - lr: 0.0100\n",
            "Epoch 5/100\n",
            "16/16 [==============================] - 1s 41ms/step - loss: 0.1766 - accuracy: 0.9643 - val_loss: 0.1596 - val_accuracy: 0.9660 - lr: 0.0100\n",
            "Epoch 6/100\n",
            "16/16 [==============================] - 1s 40ms/step - loss: 0.1433 - accuracy: 0.9693 - val_loss: 0.1351 - val_accuracy: 0.9697 - lr: 0.0100\n",
            "Epoch 7/100\n",
            "16/16 [==============================] - 1s 39ms/step - loss: 0.1225 - accuracy: 0.9725 - val_loss: 0.1192 - val_accuracy: 0.9720 - lr: 0.0100\n",
            "Epoch 8/100\n",
            "16/16 [==============================] - 1s 39ms/step - loss: 0.1083 - accuracy: 0.9745 - val_loss: 0.1078 - val_accuracy: 0.9737 - lr: 0.0100\n",
            "Epoch 9/100\n",
            "16/16 [==============================] - 1s 38ms/step - loss: 0.0977 - accuracy: 0.9764 - val_loss: 0.0988 - val_accuracy: 0.9754 - lr: 0.0100\n",
            "Epoch 10/100\n",
            "16/16 [==============================] - 1s 39ms/step - loss: 0.0892 - accuracy: 0.9780 - val_loss: 0.0917 - val_accuracy: 0.9768 - lr: 0.0100\n",
            "Epoch 11/100\n",
            "16/16 [==============================] - 1s 40ms/step - loss: 0.0824 - accuracy: 0.9794 - val_loss: 0.0857 - val_accuracy: 0.9778 - lr: 0.0100\n",
            "Epoch 12/100\n",
            "16/16 [==============================] - 1s 38ms/step - loss: 0.0765 - accuracy: 0.9805 - val_loss: 0.0807 - val_accuracy: 0.9790 - lr: 0.0100\n",
            "Epoch 13/100\n",
            "16/16 [==============================] - 1s 38ms/step - loss: 0.0715 - accuracy: 0.9815 - val_loss: 0.0766 - val_accuracy: 0.9798 - lr: 0.0100\n",
            "Epoch 14/100\n",
            "16/16 [==============================] - 1s 39ms/step - loss: 0.0672 - accuracy: 0.9827 - val_loss: 0.0730 - val_accuracy: 0.9808 - lr: 0.0100\n",
            "Epoch 15/100\n",
            "16/16 [==============================] - 1s 40ms/step - loss: 0.0635 - accuracy: 0.9835 - val_loss: 0.0699 - val_accuracy: 0.9816 - lr: 0.0100\n",
            "Epoch 16/100\n",
            "16/16 [==============================] - 1s 39ms/step - loss: 0.0602 - accuracy: 0.9843 - val_loss: 0.0672 - val_accuracy: 0.9823 - lr: 0.0100\n",
            "Epoch 17/100\n",
            "16/16 [==============================] - 1s 39ms/step - loss: 0.0572 - accuracy: 0.9852 - val_loss: 0.0648 - val_accuracy: 0.9829 - lr: 0.0100\n",
            "Epoch 18/100\n",
            "16/16 [==============================] - 1s 40ms/step - loss: 0.0546 - accuracy: 0.9858 - val_loss: 0.0627 - val_accuracy: 0.9834 - lr: 0.0100\n",
            "Epoch 19/100\n",
            "16/16 [==============================] - 1s 40ms/step - loss: 0.0523 - accuracy: 0.9863 - val_loss: 0.0609 - val_accuracy: 0.9838 - lr: 0.0100\n",
            "Epoch 20/100\n",
            "16/16 [==============================] - 1s 40ms/step - loss: 0.0502 - accuracy: 0.9868 - val_loss: 0.0594 - val_accuracy: 0.9840 - lr: 0.0100\n",
            "Epoch 21/100\n",
            "16/16 [==============================] - 1s 40ms/step - loss: 0.0483 - accuracy: 0.9872 - val_loss: 0.0579 - val_accuracy: 0.9843 - lr: 0.0100\n",
            "Epoch 22/100\n",
            "16/16 [==============================] - 1s 40ms/step - loss: 0.0466 - accuracy: 0.9876 - val_loss: 0.0566 - val_accuracy: 0.9846 - lr: 0.0100\n",
            "Epoch 23/100\n",
            "16/16 [==============================] - 1s 40ms/step - loss: 0.0450 - accuracy: 0.9880 - val_loss: 0.0555 - val_accuracy: 0.9850 - lr: 0.0100\n",
            "Epoch 24/100\n",
            "16/16 [==============================] - 1s 40ms/step - loss: 0.0436 - accuracy: 0.9883 - val_loss: 0.0546 - val_accuracy: 0.9850 - lr: 0.0100\n",
            "Epoch 25/100\n",
            "16/16 [==============================] - 1s 39ms/step - loss: 0.0422 - accuracy: 0.9886 - val_loss: 0.0535 - val_accuracy: 0.9853 - lr: 0.0100\n",
            "Epoch 26/100\n",
            "16/16 [==============================] - 1s 40ms/step - loss: 0.0409 - accuracy: 0.9889 - val_loss: 0.0529 - val_accuracy: 0.9855 - lr: 0.0100\n",
            "Epoch 27/100\n",
            "16/16 [==============================] - 1s 40ms/step - loss: 0.0397 - accuracy: 0.9892 - val_loss: 0.0522 - val_accuracy: 0.9856 - lr: 0.0100\n",
            "Epoch 28/100\n",
            "16/16 [==============================] - 1s 39ms/step - loss: 0.0386 - accuracy: 0.9895 - val_loss: 0.0513 - val_accuracy: 0.9857 - lr: 0.0100\n",
            "Epoch 29/100\n",
            "16/16 [==============================] - 1s 40ms/step - loss: 0.0377 - accuracy: 0.9897 - val_loss: 0.0509 - val_accuracy: 0.9858 - lr: 0.0100\n",
            "Epoch 30/100\n",
            "16/16 [==============================] - 1s 40ms/step - loss: 0.0367 - accuracy: 0.9900 - val_loss: 0.0504 - val_accuracy: 0.9859 - lr: 0.0100\n",
            "Epoch 31/100\n",
            "16/16 [==============================] - 1s 40ms/step - loss: 0.0358 - accuracy: 0.9903 - val_loss: 0.0498 - val_accuracy: 0.9862 - lr: 0.0100\n",
            "Epoch 32/100\n",
            "16/16 [==============================] - 1s 42ms/step - loss: 0.0349 - accuracy: 0.9905 - val_loss: 0.0493 - val_accuracy: 0.9863 - lr: 0.0100\n",
            "Epoch 33/100\n",
            "16/16 [==============================] - 1s 40ms/step - loss: 0.0340 - accuracy: 0.9907 - val_loss: 0.0489 - val_accuracy: 0.9863 - lr: 0.0100\n",
            "Epoch 34/100\n",
            "16/16 [==============================] - 1s 40ms/step - loss: 0.0332 - accuracy: 0.9909 - val_loss: 0.0485 - val_accuracy: 0.9865 - lr: 0.0100\n",
            "Epoch 35/100\n",
            "16/16 [==============================] - 1s 40ms/step - loss: 0.0325 - accuracy: 0.9911 - val_loss: 0.0482 - val_accuracy: 0.9865 - lr: 0.0100\n",
            "Epoch 36/100\n",
            "16/16 [==============================] - 1s 39ms/step - loss: 0.0318 - accuracy: 0.9913 - val_loss: 0.0478 - val_accuracy: 0.9866 - lr: 0.0100\n",
            "Epoch 37/100\n",
            "16/16 [==============================] - 1s 41ms/step - loss: 0.0311 - accuracy: 0.9915 - val_loss: 0.0476 - val_accuracy: 0.9867 - lr: 0.0100\n",
            "Epoch 38/100\n",
            "16/16 [==============================] - 1s 39ms/step - loss: 0.0304 - accuracy: 0.9917 - val_loss: 0.0472 - val_accuracy: 0.9867 - lr: 0.0100\n",
            "Epoch 39/100\n",
            "16/16 [==============================] - 1s 40ms/step - loss: 0.0297 - accuracy: 0.9919 - val_loss: 0.0470 - val_accuracy: 0.9867 - lr: 0.0100\n",
            "Epoch 40/100\n",
            "16/16 [==============================] - 1s 41ms/step - loss: 0.0291 - accuracy: 0.9920 - val_loss: 0.0468 - val_accuracy: 0.9867 - lr: 0.0100\n",
            "Epoch 41/100\n",
            "16/16 [==============================] - 1s 39ms/step - loss: 0.0285 - accuracy: 0.9921 - val_loss: 0.0464 - val_accuracy: 0.9870 - lr: 0.0100\n",
            "Epoch 42/100\n",
            "16/16 [==============================] - 1s 39ms/step - loss: 0.0280 - accuracy: 0.9923 - val_loss: 0.0463 - val_accuracy: 0.9870 - lr: 0.0100\n",
            "Epoch 43/100\n",
            "16/16 [==============================] - 1s 39ms/step - loss: 0.0274 - accuracy: 0.9925 - val_loss: 0.0462 - val_accuracy: 0.9870 - lr: 0.0100\n",
            "Epoch 44/100\n",
            "16/16 [==============================] - 1s 40ms/step - loss: 0.0268 - accuracy: 0.9926 - val_loss: 0.0461 - val_accuracy: 0.9870 - lr: 0.0100\n",
            "Epoch 45/100\n",
            "16/16 [==============================] - 1s 43ms/step - loss: 0.0264 - accuracy: 0.9928 - val_loss: 0.0459 - val_accuracy: 0.9871 - lr: 0.0100\n",
            "Epoch 46/100\n",
            "16/16 [==============================] - 1s 54ms/step - loss: 0.0259 - accuracy: 0.9929 - val_loss: 0.0458 - val_accuracy: 0.9872 - lr: 0.0100\n",
            "Epoch 47/100\n",
            "16/16 [==============================] - 1s 74ms/step - loss: 0.0254 - accuracy: 0.9930 - val_loss: 0.0457 - val_accuracy: 0.9872 - lr: 0.0100\n",
            "Epoch 48/100\n",
            "16/16 [==============================] - 1s 71ms/step - loss: 0.0249 - accuracy: 0.9932 - val_loss: 0.0456 - val_accuracy: 0.9873 - lr: 0.0100\n",
            "Epoch 49/100\n",
            "16/16 [==============================] - 1s 69ms/step - loss: 0.0245 - accuracy: 0.9933 - val_loss: 0.0454 - val_accuracy: 0.9873 - lr: 0.0100\n",
            "Epoch 50/100\n",
            "16/16 [==============================] - 1s 43ms/step - loss: 0.0241 - accuracy: 0.9934 - val_loss: 0.0454 - val_accuracy: 0.9873 - lr: 0.0100\n",
            "Epoch 51/100\n",
            "16/16 [==============================] - 1s 41ms/step - loss: 0.0237 - accuracy: 0.9936 - val_loss: 0.0453 - val_accuracy: 0.9873 - lr: 0.0100\n",
            "Epoch 52/100\n",
            "16/16 [==============================] - 1s 41ms/step - loss: 0.0232 - accuracy: 0.9937 - val_loss: 0.0453 - val_accuracy: 0.9874 - lr: 0.0100\n",
            "Epoch 53/100\n",
            "16/16 [==============================] - 1s 41ms/step - loss: 0.0230 - accuracy: 0.9938 - val_loss: 0.0452 - val_accuracy: 0.9873 - lr: 0.0100\n",
            "Epoch 54/100\n",
            "16/16 [==============================] - 1s 41ms/step - loss: 0.0225 - accuracy: 0.9939 - val_loss: 0.0450 - val_accuracy: 0.9874 - lr: 0.0100\n",
            "Epoch 55/100\n",
            "16/16 [==============================] - 1s 41ms/step - loss: 0.0222 - accuracy: 0.9940 - val_loss: 0.0452 - val_accuracy: 0.9874 - lr: 0.0100\n",
            "Epoch 56/100\n",
            "16/16 [==============================] - 1s 40ms/step - loss: 0.0219 - accuracy: 0.9940 - val_loss: 0.0451 - val_accuracy: 0.9874 - lr: 0.0100\n",
            "Epoch 57/100\n",
            "16/16 [==============================] - 1s 40ms/step - loss: 0.0215 - accuracy: 0.9942 - val_loss: 0.0452 - val_accuracy: 0.9875 - lr: 0.0100\n",
            "Epoch 58/100\n",
            "16/16 [==============================] - 1s 41ms/step - loss: 0.0209 - accuracy: 0.9945 - val_loss: 0.0450 - val_accuracy: 0.9875 - lr: 1.0000e-03\n",
            "Epoch 59/100\n",
            "16/16 [==============================] - 1s 41ms/step - loss: 0.0207 - accuracy: 0.9945 - val_loss: 0.0449 - val_accuracy: 0.9876 - lr: 1.0000e-03\n",
            "Epoch 60/100\n",
            "16/16 [==============================] - 1s 41ms/step - loss: 0.0207 - accuracy: 0.9945 - val_loss: 0.0449 - val_accuracy: 0.9875 - lr: 1.0000e-03\n",
            "Epoch 61/100\n",
            "16/16 [==============================] - 1s 40ms/step - loss: 0.0206 - accuracy: 0.9945 - val_loss: 0.0449 - val_accuracy: 0.9875 - lr: 1.0000e-04\n",
            "Epoch 62/100\n",
            "16/16 [==============================] - 1s 40ms/step - loss: 0.0206 - accuracy: 0.9945 - val_loss: 0.0449 - val_accuracy: 0.9875 - lr: 1.0000e-04\n",
            "Epoch 63/100\n",
            "16/16 [==============================] - 1s 41ms/step - loss: 0.0206 - accuracy: 0.9945 - val_loss: 0.0449 - val_accuracy: 0.9875 - lr: 1.0000e-04\n",
            "Epoch 64/100\n",
            "16/16 [==============================] - 1s 40ms/step - loss: 0.0206 - accuracy: 0.9945 - val_loss: 0.0449 - val_accuracy: 0.9875 - lr: 1.0000e-05\n",
            "\n",
            "Number of units: 64.\n",
            "\n",
            "Model: \"m_0\"\n",
            "_________________________________________________________________\n",
            " Layer (type)                Output Shape              Param #   \n",
            "=================================================================\n",
            " bidirectional_1 (Bidirectio  (None, 249, 128)         58880     \n",
            " nal)                                                            \n",
            "                                                                 \n",
            " time_distributed_1 (TimeDis  (None, 249, 46)          5934      \n",
            " tributed)                                                       \n",
            "                                                                 \n",
            "=================================================================\n",
            "Total params: 64,814\n",
            "Trainable params: 64,814\n",
            "Non-trainable params: 0\n",
            "_________________________________________________________________\n",
            "Epoch 1/100\n",
            "16/16 [==============================] - 5s 109ms/step - loss: 1.6377 - accuracy: 0.9001 - val_loss: 0.6213 - val_accuracy: 0.9400 - lr: 0.0100\n",
            "Epoch 2/100\n",
            "16/16 [==============================] - 1s 44ms/step - loss: 0.4928 - accuracy: 0.9457 - val_loss: 0.3520 - val_accuracy: 0.9524 - lr: 0.0100\n",
            "Epoch 3/100\n",
            "16/16 [==============================] - 1s 46ms/step - loss: 0.2754 - accuracy: 0.9582 - val_loss: 0.2077 - val_accuracy: 0.9632 - lr: 0.0100\n",
            "Epoch 4/100\n",
            "16/16 [==============================] - 1s 47ms/step - loss: 0.1713 - accuracy: 0.9678 - val_loss: 0.1438 - val_accuracy: 0.9696 - lr: 0.0100\n",
            "Epoch 5/100\n",
            "16/16 [==============================] - 1s 45ms/step - loss: 0.1254 - accuracy: 0.9722 - val_loss: 0.1150 - val_accuracy: 0.9727 - lr: 0.0100\n",
            "Epoch 6/100\n",
            "16/16 [==============================] - 1s 45ms/step - loss: 0.1026 - accuracy: 0.9755 - val_loss: 0.0984 - val_accuracy: 0.9762 - lr: 0.0100\n",
            "Epoch 7/100\n",
            "16/16 [==============================] - 1s 44ms/step - loss: 0.0881 - accuracy: 0.9785 - val_loss: 0.0871 - val_accuracy: 0.9779 - lr: 0.0100\n",
            "Epoch 8/100\n",
            "16/16 [==============================] - 1s 45ms/step - loss: 0.0775 - accuracy: 0.9806 - val_loss: 0.0789 - val_accuracy: 0.9792 - lr: 0.0100\n",
            "Epoch 9/100\n",
            "16/16 [==============================] - 1s 45ms/step - loss: 0.0695 - accuracy: 0.9822 - val_loss: 0.0724 - val_accuracy: 0.9806 - lr: 0.0100\n",
            "Epoch 10/100\n",
            "16/16 [==============================] - 1s 45ms/step - loss: 0.0628 - accuracy: 0.9838 - val_loss: 0.0671 - val_accuracy: 0.9822 - lr: 0.0100\n",
            "Epoch 11/100\n",
            "16/16 [==============================] - 1s 46ms/step - loss: 0.0575 - accuracy: 0.9851 - val_loss: 0.0629 - val_accuracy: 0.9831 - lr: 0.0100\n",
            "Epoch 12/100\n",
            "16/16 [==============================] - 1s 46ms/step - loss: 0.0531 - accuracy: 0.9861 - val_loss: 0.0593 - val_accuracy: 0.9837 - lr: 0.0100\n",
            "Epoch 13/100\n",
            "16/16 [==============================] - 1s 45ms/step - loss: 0.0492 - accuracy: 0.9870 - val_loss: 0.0563 - val_accuracy: 0.9845 - lr: 0.0100\n",
            "Epoch 14/100\n",
            "16/16 [==============================] - 1s 44ms/step - loss: 0.0459 - accuracy: 0.9879 - val_loss: 0.0540 - val_accuracy: 0.9852 - lr: 0.0100\n",
            "Epoch 15/100\n",
            "16/16 [==============================] - 1s 46ms/step - loss: 0.0430 - accuracy: 0.9884 - val_loss: 0.0517 - val_accuracy: 0.9858 - lr: 0.0100\n",
            "Epoch 16/100\n",
            "16/16 [==============================] - 1s 45ms/step - loss: 0.0404 - accuracy: 0.9892 - val_loss: 0.0500 - val_accuracy: 0.9862 - lr: 0.0100\n",
            "Epoch 17/100\n",
            "16/16 [==============================] - 1s 45ms/step - loss: 0.0382 - accuracy: 0.9897 - val_loss: 0.0485 - val_accuracy: 0.9864 - lr: 0.0100\n",
            "Epoch 18/100\n",
            "16/16 [==============================] - 1s 46ms/step - loss: 0.0362 - accuracy: 0.9903 - val_loss: 0.0471 - val_accuracy: 0.9868 - lr: 0.0100\n",
            "Epoch 19/100\n",
            "16/16 [==============================] - 1s 45ms/step - loss: 0.0344 - accuracy: 0.9907 - val_loss: 0.0461 - val_accuracy: 0.9869 - lr: 0.0100\n",
            "Epoch 20/100\n",
            "16/16 [==============================] - 1s 45ms/step - loss: 0.0328 - accuracy: 0.9911 - val_loss: 0.0450 - val_accuracy: 0.9873 - lr: 0.0100\n",
            "Epoch 21/100\n",
            "16/16 [==============================] - 1s 46ms/step - loss: 0.0312 - accuracy: 0.9916 - val_loss: 0.0443 - val_accuracy: 0.9876 - lr: 0.0100\n",
            "Epoch 22/100\n",
            "16/16 [==============================] - 1s 46ms/step - loss: 0.0299 - accuracy: 0.9920 - val_loss: 0.0434 - val_accuracy: 0.9877 - lr: 0.0100\n",
            "Epoch 23/100\n",
            "16/16 [==============================] - 1s 47ms/step - loss: 0.0286 - accuracy: 0.9923 - val_loss: 0.0427 - val_accuracy: 0.9880 - lr: 0.0100\n",
            "Epoch 24/100\n",
            "16/16 [==============================] - 1s 46ms/step - loss: 0.0274 - accuracy: 0.9927 - val_loss: 0.0423 - val_accuracy: 0.9881 - lr: 0.0100\n",
            "Epoch 25/100\n",
            "16/16 [==============================] - 1s 46ms/step - loss: 0.0263 - accuracy: 0.9931 - val_loss: 0.0418 - val_accuracy: 0.9881 - lr: 0.0100\n",
            "Epoch 26/100\n",
            "16/16 [==============================] - 1s 46ms/step - loss: 0.0253 - accuracy: 0.9933 - val_loss: 0.0413 - val_accuracy: 0.9883 - lr: 0.0100\n",
            "Epoch 27/100\n",
            "16/16 [==============================] - 1s 46ms/step - loss: 0.0243 - accuracy: 0.9935 - val_loss: 0.0412 - val_accuracy: 0.9882 - lr: 0.0100\n",
            "Epoch 28/100\n",
            "16/16 [==============================] - 1s 46ms/step - loss: 0.0234 - accuracy: 0.9938 - val_loss: 0.0404 - val_accuracy: 0.9885 - lr: 0.0100\n",
            "Epoch 29/100\n",
            "16/16 [==============================] - 1s 46ms/step - loss: 0.0226 - accuracy: 0.9940 - val_loss: 0.0405 - val_accuracy: 0.9885 - lr: 0.0100\n",
            "Epoch 30/100\n",
            "16/16 [==============================] - 1s 46ms/step - loss: 0.0217 - accuracy: 0.9942 - val_loss: 0.0401 - val_accuracy: 0.9886 - lr: 0.0100\n",
            "Epoch 31/100\n",
            "16/16 [==============================] - 1s 45ms/step - loss: 0.0209 - accuracy: 0.9945 - val_loss: 0.0398 - val_accuracy: 0.9887 - lr: 0.0100\n",
            "Epoch 32/100\n",
            "16/16 [==============================] - 1s 47ms/step - loss: 0.0202 - accuracy: 0.9947 - val_loss: 0.0399 - val_accuracy: 0.9888 - lr: 0.0100\n",
            "Epoch 33/100\n",
            "16/16 [==============================] - 1s 47ms/step - loss: 0.0195 - accuracy: 0.9949 - val_loss: 0.0396 - val_accuracy: 0.9888 - lr: 0.0100\n",
            "Epoch 34/100\n",
            "16/16 [==============================] - 1s 46ms/step - loss: 0.0188 - accuracy: 0.9952 - val_loss: 0.0393 - val_accuracy: 0.9889 - lr: 0.0100\n",
            "Epoch 35/100\n",
            "16/16 [==============================] - 1s 45ms/step - loss: 0.0182 - accuracy: 0.9953 - val_loss: 0.0395 - val_accuracy: 0.9890 - lr: 0.0100\n",
            "Epoch 36/100\n",
            "16/16 [==============================] - 1s 46ms/step - loss: 0.0177 - accuracy: 0.9955 - val_loss: 0.0394 - val_accuracy: 0.9889 - lr: 0.0100\n",
            "Epoch 37/100\n",
            "16/16 [==============================] - 1s 47ms/step - loss: 0.0170 - accuracy: 0.9957 - val_loss: 0.0392 - val_accuracy: 0.9891 - lr: 0.0100\n",
            "Epoch 38/100\n",
            "16/16 [==============================] - 1s 46ms/step - loss: 0.0164 - accuracy: 0.9959 - val_loss: 0.0394 - val_accuracy: 0.9889 - lr: 0.0100\n",
            "Epoch 39/100\n",
            "16/16 [==============================] - 1s 46ms/step - loss: 0.0159 - accuracy: 0.9960 - val_loss: 0.0393 - val_accuracy: 0.9890 - lr: 0.0100\n",
            "Epoch 40/100\n",
            "16/16 [==============================] - 1s 46ms/step - loss: 0.0154 - accuracy: 0.9961 - val_loss: 0.0393 - val_accuracy: 0.9890 - lr: 0.0100\n",
            "Epoch 41/100\n",
            "16/16 [==============================] - 1s 46ms/step - loss: 0.0145 - accuracy: 0.9964 - val_loss: 0.0391 - val_accuracy: 0.9891 - lr: 1.0000e-03\n",
            "Epoch 42/100\n",
            "16/16 [==============================] - 1s 45ms/step - loss: 0.0143 - accuracy: 0.9965 - val_loss: 0.0390 - val_accuracy: 0.9891 - lr: 1.0000e-03\n",
            "Epoch 43/100\n",
            "16/16 [==============================] - 1s 47ms/step - loss: 0.0143 - accuracy: 0.9965 - val_loss: 0.0390 - val_accuracy: 0.9891 - lr: 1.0000e-03\n",
            "Epoch 44/100\n",
            "16/16 [==============================] - 1s 47ms/step - loss: 0.0142 - accuracy: 0.9965 - val_loss: 0.0390 - val_accuracy: 0.9891 - lr: 1.0000e-03\n",
            "Epoch 45/100\n",
            "16/16 [==============================] - 1s 46ms/step - loss: 0.0141 - accuracy: 0.9966 - val_loss: 0.0390 - val_accuracy: 0.9891 - lr: 1.0000e-03\n",
            "Epoch 46/100\n",
            "16/16 [==============================] - 1s 45ms/step - loss: 0.0141 - accuracy: 0.9966 - val_loss: 0.0390 - val_accuracy: 0.9891 - lr: 1.0000e-04\n",
            "Epoch 47/100\n",
            "16/16 [==============================] - 1s 45ms/step - loss: 0.0140 - accuracy: 0.9966 - val_loss: 0.0390 - val_accuracy: 0.9891 - lr: 1.0000e-04\n",
            "Epoch 48/100\n",
            "16/16 [==============================] - 1s 45ms/step - loss: 0.0140 - accuracy: 0.9966 - val_loss: 0.0390 - val_accuracy: 0.9891 - lr: 1.0000e-04\n",
            "Epoch 49/100\n",
            "16/16 [==============================] - 1s 46ms/step - loss: 0.0140 - accuracy: 0.9966 - val_loss: 0.0390 - val_accuracy: 0.9891 - lr: 1.0000e-05\n",
            "\n",
            "Number of units: 128.\n",
            "\n",
            "Model: \"m_0\"\n",
            "_________________________________________________________________\n",
            " Layer (type)                Output Shape              Param #   \n",
            "=================================================================\n",
            " bidirectional_2 (Bidirectio  (None, 249, 256)         183296    \n",
            " nal)                                                            \n",
            "                                                                 \n",
            " time_distributed_2 (TimeDis  (None, 249, 46)          11822     \n",
            " tributed)                                                       \n",
            "                                                                 \n",
            "=================================================================\n",
            "Total params: 195,118\n",
            "Trainable params: 195,118\n",
            "Non-trainable params: 0\n",
            "_________________________________________________________________\n",
            "Epoch 1/100\n",
            "16/16 [==============================] - 5s 125ms/step - loss: 1.7563 - accuracy: 0.9058 - val_loss: 0.7155 - val_accuracy: 0.9500 - lr: 0.0100\n",
            "Epoch 2/100\n",
            "16/16 [==============================] - 1s 56ms/step - loss: 0.5331 - accuracy: 0.9574 - val_loss: 0.3544 - val_accuracy: 0.9637 - lr: 0.0100\n",
            "Epoch 3/100\n",
            "16/16 [==============================] - 1s 57ms/step - loss: 0.2664 - accuracy: 0.9697 - val_loss: 0.1914 - val_accuracy: 0.9716 - lr: 0.0100\n",
            "Epoch 4/100\n",
            "16/16 [==============================] - 1s 57ms/step - loss: 0.1500 - accuracy: 0.9752 - val_loss: 0.1204 - val_accuracy: 0.9760 - lr: 0.0100\n",
            "Epoch 5/100\n",
            "16/16 [==============================] - 1s 57ms/step - loss: 0.0993 - accuracy: 0.9788 - val_loss: 0.0899 - val_accuracy: 0.9790 - lr: 0.0100\n",
            "Epoch 6/100\n",
            "16/16 [==============================] - 1s 56ms/step - loss: 0.0762 - accuracy: 0.9818 - val_loss: 0.0745 - val_accuracy: 0.9811 - lr: 0.0100\n",
            "Epoch 7/100\n",
            "16/16 [==============================] - 1s 56ms/step - loss: 0.0632 - accuracy: 0.9842 - val_loss: 0.0655 - val_accuracy: 0.9829 - lr: 0.0100\n",
            "Epoch 8/100\n",
            "16/16 [==============================] - 1s 58ms/step - loss: 0.0544 - accuracy: 0.9860 - val_loss: 0.0593 - val_accuracy: 0.9839 - lr: 0.0100\n",
            "Epoch 9/100\n",
            "16/16 [==============================] - 1s 57ms/step - loss: 0.0481 - accuracy: 0.9873 - val_loss: 0.0545 - val_accuracy: 0.9849 - lr: 0.0100\n",
            "Epoch 10/100\n",
            "16/16 [==============================] - 1s 57ms/step - loss: 0.0427 - accuracy: 0.9886 - val_loss: 0.0504 - val_accuracy: 0.9858 - lr: 0.0100\n",
            "Epoch 11/100\n",
            "16/16 [==============================] - 1s 57ms/step - loss: 0.0387 - accuracy: 0.9895 - val_loss: 0.0479 - val_accuracy: 0.9863 - lr: 0.0100\n",
            "Epoch 12/100\n",
            "16/16 [==============================] - 1s 58ms/step - loss: 0.0353 - accuracy: 0.9904 - val_loss: 0.0455 - val_accuracy: 0.9870 - lr: 0.0100\n",
            "Epoch 13/100\n",
            "16/16 [==============================] - 1s 57ms/step - loss: 0.0326 - accuracy: 0.9912 - val_loss: 0.0438 - val_accuracy: 0.9874 - lr: 0.0100\n",
            "Epoch 14/100\n",
            "16/16 [==============================] - 1s 57ms/step - loss: 0.0300 - accuracy: 0.9920 - val_loss: 0.0424 - val_accuracy: 0.9878 - lr: 0.0100\n",
            "Epoch 15/100\n",
            "16/16 [==============================] - 1s 56ms/step - loss: 0.0278 - accuracy: 0.9926 - val_loss: 0.0409 - val_accuracy: 0.9882 - lr: 0.0100\n",
            "Epoch 16/100\n",
            "16/16 [==============================] - 1s 57ms/step - loss: 0.0260 - accuracy: 0.9931 - val_loss: 0.0404 - val_accuracy: 0.9883 - lr: 0.0100\n",
            "Epoch 17/100\n",
            "16/16 [==============================] - 1s 56ms/step - loss: 0.0242 - accuracy: 0.9937 - val_loss: 0.0393 - val_accuracy: 0.9888 - lr: 0.0100\n",
            "Epoch 18/100\n",
            "16/16 [==============================] - 1s 56ms/step - loss: 0.0226 - accuracy: 0.9941 - val_loss: 0.0390 - val_accuracy: 0.9888 - lr: 0.0100\n",
            "Epoch 19/100\n",
            "16/16 [==============================] - 1s 57ms/step - loss: 0.0213 - accuracy: 0.9945 - val_loss: 0.0384 - val_accuracy: 0.9891 - lr: 0.0100\n",
            "Epoch 20/100\n",
            "16/16 [==============================] - 1s 56ms/step - loss: 0.0200 - accuracy: 0.9949 - val_loss: 0.0384 - val_accuracy: 0.9890 - lr: 0.0100\n",
            "Epoch 21/100\n",
            "16/16 [==============================] - 1s 56ms/step - loss: 0.0189 - accuracy: 0.9952 - val_loss: 0.0376 - val_accuracy: 0.9893 - lr: 0.0100\n",
            "Epoch 22/100\n",
            "16/16 [==============================] - 1s 56ms/step - loss: 0.0177 - accuracy: 0.9956 - val_loss: 0.0382 - val_accuracy: 0.9892 - lr: 0.0100\n",
            "Epoch 23/100\n",
            "16/16 [==============================] - 1s 56ms/step - loss: 0.0167 - accuracy: 0.9959 - val_loss: 0.0376 - val_accuracy: 0.9893 - lr: 0.0100\n",
            "Epoch 24/100\n",
            "16/16 [==============================] - 1s 57ms/step - loss: 0.0157 - accuracy: 0.9961 - val_loss: 0.0374 - val_accuracy: 0.9894 - lr: 0.0100\n",
            "Epoch 25/100\n",
            "16/16 [==============================] - 1s 56ms/step - loss: 0.0147 - accuracy: 0.9965 - val_loss: 0.0371 - val_accuracy: 0.9895 - lr: 0.0100\n",
            "Epoch 26/100\n",
            "16/16 [==============================] - 1s 56ms/step - loss: 0.0139 - accuracy: 0.9967 - val_loss: 0.0369 - val_accuracy: 0.9895 - lr: 0.0100\n",
            "Epoch 27/100\n",
            "16/16 [==============================] - 1s 56ms/step - loss: 0.0132 - accuracy: 0.9968 - val_loss: 0.0370 - val_accuracy: 0.9896 - lr: 0.0100\n",
            "Epoch 28/100\n",
            "16/16 [==============================] - 1s 57ms/step - loss: 0.0124 - accuracy: 0.9971 - val_loss: 0.0370 - val_accuracy: 0.9895 - lr: 0.0100\n",
            "Epoch 29/100\n",
            "16/16 [==============================] - 1s 56ms/step - loss: 0.0118 - accuracy: 0.9973 - val_loss: 0.0373 - val_accuracy: 0.9896 - lr: 0.0100\n",
            "Epoch 30/100\n",
            "16/16 [==============================] - 1s 57ms/step - loss: 0.0106 - accuracy: 0.9977 - val_loss: 0.0363 - val_accuracy: 0.9897 - lr: 1.0000e-03\n",
            "Epoch 31/100\n",
            "16/16 [==============================] - 1s 56ms/step - loss: 0.0101 - accuracy: 0.9978 - val_loss: 0.0362 - val_accuracy: 0.9898 - lr: 1.0000e-03\n",
            "Epoch 32/100\n",
            "16/16 [==============================] - 1s 57ms/step - loss: 0.0100 - accuracy: 0.9978 - val_loss: 0.0362 - val_accuracy: 0.9898 - lr: 1.0000e-03\n",
            "Epoch 33/100\n",
            "16/16 [==============================] - 1s 58ms/step - loss: 0.0099 - accuracy: 0.9978 - val_loss: 0.0363 - val_accuracy: 0.9897 - lr: 1.0000e-03\n",
            "Epoch 34/100\n",
            "16/16 [==============================] - 1s 58ms/step - loss: 0.0098 - accuracy: 0.9979 - val_loss: 0.0362 - val_accuracy: 0.9897 - lr: 1.0000e-03\n",
            "Epoch 35/100\n",
            "16/16 [==============================] - 1s 58ms/step - loss: 0.0097 - accuracy: 0.9979 - val_loss: 0.0362 - val_accuracy: 0.9897 - lr: 1.0000e-04\n",
            "Epoch 36/100\n",
            "16/16 [==============================] - 1s 59ms/step - loss: 0.0097 - accuracy: 0.9979 - val_loss: 0.0363 - val_accuracy: 0.9897 - lr: 1.0000e-04\n",
            "\n",
            "Number of units: 256.\n",
            "\n",
            "Model: \"m_0\"\n",
            "_________________________________________________________________\n",
            " Layer (type)                Output Shape              Param #   \n",
            "=================================================================\n",
            " bidirectional_3 (Bidirectio  (None, 249, 512)         628736    \n",
            " nal)                                                            \n",
            "                                                                 \n",
            " time_distributed_3 (TimeDis  (None, 249, 46)          23598     \n",
            " tributed)                                                       \n",
            "                                                                 \n",
            "=================================================================\n",
            "Total params: 652,334\n",
            "Trainable params: 652,334\n",
            "Non-trainable params: 0\n",
            "_________________________________________________________________\n",
            "Epoch 1/100\n",
            "16/16 [==============================] - 6s 153ms/step - loss: 2.0510 - accuracy: 0.9057 - val_loss: 0.7254 - val_accuracy: 0.9529 - lr: 0.0100\n",
            "Epoch 2/100\n",
            "16/16 [==============================] - 1s 92ms/step - loss: 0.4362 - accuracy: 0.9615 - val_loss: 0.2385 - val_accuracy: 0.9672 - lr: 0.0100\n",
            "Epoch 3/100\n",
            "16/16 [==============================] - 1s 92ms/step - loss: 0.1671 - accuracy: 0.9725 - val_loss: 0.1188 - val_accuracy: 0.9741 - lr: 0.0100\n",
            "Epoch 4/100\n",
            "16/16 [==============================] - 1s 91ms/step - loss: 0.0943 - accuracy: 0.9782 - val_loss: 0.0824 - val_accuracy: 0.9787 - lr: 0.0100\n",
            "Epoch 5/100\n",
            "16/16 [==============================] - 1s 93ms/step - loss: 0.0691 - accuracy: 0.9821 - val_loss: 0.0675 - val_accuracy: 0.9818 - lr: 0.0100\n",
            "Epoch 6/100\n",
            "16/16 [==============================] - 1s 92ms/step - loss: 0.0567 - accuracy: 0.9849 - val_loss: 0.0591 - val_accuracy: 0.9836 - lr: 0.0100\n",
            "Epoch 7/100\n",
            "16/16 [==============================] - 1s 92ms/step - loss: 0.0491 - accuracy: 0.9867 - val_loss: 0.0538 - val_accuracy: 0.9849 - lr: 0.0100\n",
            "Epoch 8/100\n",
            "16/16 [==============================] - 1s 93ms/step - loss: 0.0431 - accuracy: 0.9883 - val_loss: 0.0498 - val_accuracy: 0.9859 - lr: 0.0100\n",
            "Epoch 9/100\n",
            "16/16 [==============================] - 1s 93ms/step - loss: 0.0384 - accuracy: 0.9895 - val_loss: 0.0469 - val_accuracy: 0.9868 - lr: 0.0100\n",
            "Epoch 10/100\n",
            "16/16 [==============================] - 1s 92ms/step - loss: 0.0345 - accuracy: 0.9907 - val_loss: 0.0440 - val_accuracy: 0.9873 - lr: 0.0100\n",
            "Epoch 11/100\n",
            "16/16 [==============================] - 1s 92ms/step - loss: 0.0318 - accuracy: 0.9914 - val_loss: 0.0428 - val_accuracy: 0.9877 - lr: 0.0100\n",
            "Epoch 12/100\n",
            "16/16 [==============================] - 1s 92ms/step - loss: 0.0289 - accuracy: 0.9922 - val_loss: 0.0399 - val_accuracy: 0.9885 - lr: 0.0100\n",
            "Epoch 13/100\n",
            "16/16 [==============================] - 1s 93ms/step - loss: 0.0268 - accuracy: 0.9929 - val_loss: 0.0396 - val_accuracy: 0.9886 - lr: 0.0100\n",
            "Epoch 14/100\n",
            "16/16 [==============================] - 1s 93ms/step - loss: 0.0245 - accuracy: 0.9936 - val_loss: 0.0382 - val_accuracy: 0.9890 - lr: 0.0100\n",
            "Epoch 15/100\n",
            "16/16 [==============================] - 1s 93ms/step - loss: 0.0223 - accuracy: 0.9942 - val_loss: 0.0370 - val_accuracy: 0.9893 - lr: 0.0100\n",
            "Epoch 16/100\n",
            "16/16 [==============================] - 1s 93ms/step - loss: 0.0205 - accuracy: 0.9948 - val_loss: 0.0357 - val_accuracy: 0.9898 - lr: 0.0100\n",
            "Epoch 17/100\n",
            "16/16 [==============================] - 1s 93ms/step - loss: 0.0191 - accuracy: 0.9952 - val_loss: 0.0353 - val_accuracy: 0.9898 - lr: 0.0100\n",
            "Epoch 18/100\n",
            "16/16 [==============================] - 1s 93ms/step - loss: 0.0177 - accuracy: 0.9956 - val_loss: 0.0345 - val_accuracy: 0.9900 - lr: 0.0100\n",
            "Epoch 19/100\n",
            "16/16 [==============================] - 1s 92ms/step - loss: 0.0163 - accuracy: 0.9961 - val_loss: 0.0350 - val_accuracy: 0.9900 - lr: 0.0100\n",
            "Epoch 20/100\n",
            "16/16 [==============================] - 1s 94ms/step - loss: 0.0150 - accuracy: 0.9965 - val_loss: 0.0343 - val_accuracy: 0.9902 - lr: 0.0100\n",
            "Epoch 21/100\n",
            "16/16 [==============================] - 1s 93ms/step - loss: 0.0138 - accuracy: 0.9969 - val_loss: 0.0340 - val_accuracy: 0.9904 - lr: 0.0100\n",
            "Epoch 22/100\n",
            "16/16 [==============================] - 1s 93ms/step - loss: 0.0128 - accuracy: 0.9971 - val_loss: 0.0335 - val_accuracy: 0.9905 - lr: 0.0100\n",
            "Epoch 23/100\n",
            "16/16 [==============================] - 1s 93ms/step - loss: 0.0120 - accuracy: 0.9973 - val_loss: 0.0341 - val_accuracy: 0.9905 - lr: 0.0100\n",
            "Epoch 24/100\n",
            "16/16 [==============================] - 1s 93ms/step - loss: 0.0111 - accuracy: 0.9977 - val_loss: 0.0333 - val_accuracy: 0.9907 - lr: 0.0100\n",
            "Epoch 25/100\n",
            "16/16 [==============================] - 1s 92ms/step - loss: 0.0103 - accuracy: 0.9979 - val_loss: 0.0345 - val_accuracy: 0.9906 - lr: 0.0100\n",
            "Epoch 26/100\n",
            "16/16 [==============================] - 1s 92ms/step - loss: 0.0098 - accuracy: 0.9980 - val_loss: 0.0336 - val_accuracy: 0.9907 - lr: 0.0100\n",
            "Epoch 27/100\n",
            "16/16 [==============================] - 1s 93ms/step - loss: 0.0092 - accuracy: 0.9982 - val_loss: 0.0339 - val_accuracy: 0.9905 - lr: 0.0100\n",
            "Epoch 28/100\n",
            "16/16 [==============================] - 1s 93ms/step - loss: 0.0076 - accuracy: 0.9986 - val_loss: 0.0325 - val_accuracy: 0.9908 - lr: 1.0000e-03\n",
            "Epoch 29/100\n",
            "16/16 [==============================] - 1s 93ms/step - loss: 0.0070 - accuracy: 0.9987 - val_loss: 0.0324 - val_accuracy: 0.9908 - lr: 1.0000e-03\n",
            "Epoch 30/100\n",
            "16/16 [==============================] - 1s 93ms/step - loss: 0.0069 - accuracy: 0.9987 - val_loss: 0.0325 - val_accuracy: 0.9909 - lr: 1.0000e-03\n",
            "Epoch 31/100\n",
            "16/16 [==============================] - 1s 93ms/step - loss: 0.0068 - accuracy: 0.9987 - val_loss: 0.0324 - val_accuracy: 0.9909 - lr: 1.0000e-03\n",
            "Epoch 32/100\n",
            "16/16 [==============================] - 1s 93ms/step - loss: 0.0068 - accuracy: 0.9987 - val_loss: 0.0324 - val_accuracy: 0.9909 - lr: 1.0000e-03\n",
            "Epoch 33/100\n",
            "16/16 [==============================] - 1s 94ms/step - loss: 0.0066 - accuracy: 0.9988 - val_loss: 0.0324 - val_accuracy: 0.9908 - lr: 1.0000e-04\n",
            "Epoch 34/100\n",
            "16/16 [==============================] - 1s 94ms/step - loss: 0.0066 - accuracy: 0.9988 - val_loss: 0.0324 - val_accuracy: 0.9909 - lr: 1.0000e-04\n"
          ]
        }
      ],
      "source": [
        "# Grid-search over possible units.\n",
        "baseline_units = [32, 64, 128, 256]\n",
        "baseline_models, baseline_model_histories = grid_search(models_name[0], baseline_units)"
      ]
    },
    {
      "cell_type": "markdown",
      "source": [
        "After having fitted each of the four models, the best one is chosen by executing the `get_best_model` function."
      ],
      "metadata": {
        "id": "5zhUUQSwhtjt"
      }
    },
    {
      "cell_type": "code",
      "execution_count": null,
      "metadata": {
        "id": "i68Sx5VvShFD",
        "colab": {
          "base_uri": "https://localhost:8080/"
        },
        "outputId": "82f1540c-ace0-44b2-b7c6-8def89030c9b"
      },
      "outputs": [
        {
          "output_type": "stream",
          "name": "stdout",
          "text": [
            "41/41 [==============================] - 1s 12ms/step\n",
            "41/41 [==============================] - 1s 10ms/step\n",
            "41/41 [==============================] - 1s 13ms/step\n",
            "41/41 [==============================] - 1s 14ms/step\n",
            "The best number of units is: 256.\n"
          ]
        }
      ],
      "source": [
        "baseline_best_units, baseline_f1_scores, models[models_name[0]] = get_best_model(baseline_models, baseline_units)"
      ]
    },
    {
      "cell_type": "markdown",
      "source": [
        "Lastly, both the validation loss curves and the macro F1-scores are plotted using the `plot_loss` and `plot_f1_scores` functions."
      ],
      "metadata": {
        "id": "G6vsNw8oh7Or"
      }
    },
    {
      "cell_type": "code",
      "execution_count": null,
      "metadata": {
        "id": "vexOylzGJJE-",
        "colab": {
          "base_uri": "https://localhost:8080/",
          "height": 279
        },
        "outputId": "4b88df94-9347-4e22-dd80-31de980e463d"
      },
      "outputs": [
        {
          "output_type": "display_data",
          "data": {
            "text/plain": [
              "<Figure size 288x288 with 1 Axes>"
            ],
            "image/png": "[encoded data removed]"
          },
          "metadata": {
            "needs_background": "light"
          }
        }
      ],
      "source": [
        "plot_loss(models_name[0], baseline_units, baseline_model_histories)"
      ]
    },
    {
      "cell_type": "code",
      "execution_count": null,
      "metadata": {
        "id": "emXLTTjTgy8_",
        "colab": {
          "base_uri": "https://localhost:8080/",
          "height": 286
        },
        "outputId": "b428ec7d-06ed-4e6e-9fd4-9ddab26b2255"
      },
      "outputs": [
        {
          "output_type": "display_data",
          "data": {
            "text/plain": [
              "<Figure size 288x288 with 1 Axes>"
            ],
            "image/png": "[encoded data removed]"
          },
          "metadata": {
            "needs_background": "light"
          }
        }
      ],
      "source": [
        "plot_f1_scores(models_name[0], baseline_units, baseline_f1_scores)"
      ]
    },
    {
      "cell_type": "markdown",
      "metadata": {
        "id": "jPtlS40Jx9gR"
      },
      "source": [
        "### BiGRU Model ($m_1$)"
      ]
    },
    {
      "cell_type": "markdown",
      "source": [
        "Grid-search on $m_1$ is performed by searching for the best number of GRU units. The possible number of units are $\\{32, 64, 128, 256\\}$, which define four models: $m_1^1$, $m_1^2$, $m_1^3$, $m_1^4$ respectively."
      ],
      "metadata": {
        "id": "LZ4xEMUuiWMV"
      }
    },
    {
      "cell_type": "code",
      "execution_count": null,
      "metadata": {
        "id": "G3gJ7IKwOgHk",
        "colab": {
          "base_uri": "https://localhost:8080/"
        },
        "outputId": "b0e76e10-b05a-44d8-e7bf-85019cb63ab6"
      },
      "outputs": [
        {
          "output_type": "stream",
          "name": "stdout",
          "text": [
            "Grid-search, m_1 model.\n",
            "\n",
            "Number of units: 32.\n",
            "\n",
            "Model: \"m_1\"\n",
            "_________________________________________________________________\n",
            " Layer (type)                Output Shape              Param #   \n",
            "=================================================================\n",
            " bidirectional_4 (Bidirectio  (None, 249, 64)          16128     \n",
            " nal)                                                            \n",
            "                                                                 \n",
            " time_distributed_4 (TimeDis  (None, 249, 46)          2990      \n",
            " tributed)                                                       \n",
            "                                                                 \n",
            "=================================================================\n",
            "Total params: 19,118\n",
            "Trainable params: 19,118\n",
            "Non-trainable params: 0\n",
            "_________________________________________________________________\n",
            "Epoch 1/100\n",
            "16/16 [==============================] - 5s 102ms/step - loss: 1.9700 - accuracy: 0.9153 - val_loss: 0.5253 - val_accuracy: 0.9415 - lr: 0.0100\n",
            "Epoch 2/100\n",
            "16/16 [==============================] - 1s 40ms/step - loss: 0.4526 - accuracy: 0.9465 - val_loss: 0.3506 - val_accuracy: 0.9540 - lr: 0.0100\n",
            "Epoch 3/100\n",
            "16/16 [==============================] - 1s 41ms/step - loss: 0.2798 - accuracy: 0.9610 - val_loss: 0.2081 - val_accuracy: 0.9642 - lr: 0.0100\n",
            "Epoch 4/100\n",
            "16/16 [==============================] - 1s 40ms/step - loss: 0.1708 - accuracy: 0.9681 - val_loss: 0.1411 - val_accuracy: 0.9703 - lr: 0.0100\n",
            "Epoch 5/100\n",
            "16/16 [==============================] - 1s 40ms/step - loss: 0.1249 - accuracy: 0.9730 - val_loss: 0.1153 - val_accuracy: 0.9740 - lr: 0.0100\n",
            "Epoch 6/100\n",
            "16/16 [==============================] - 1s 41ms/step - loss: 0.1040 - accuracy: 0.9760 - val_loss: 0.1006 - val_accuracy: 0.9759 - lr: 0.0100\n",
            "Epoch 7/100\n",
            "16/16 [==============================] - 1s 41ms/step - loss: 0.0911 - accuracy: 0.9781 - val_loss: 0.0908 - val_accuracy: 0.9774 - lr: 0.0100\n",
            "Epoch 8/100\n",
            "16/16 [==============================] - 1s 40ms/step - loss: 0.0820 - accuracy: 0.9796 - val_loss: 0.0837 - val_accuracy: 0.9784 - lr: 0.0100\n",
            "Epoch 9/100\n",
            "16/16 [==============================] - 1s 40ms/step - loss: 0.0750 - accuracy: 0.9808 - val_loss: 0.0782 - val_accuracy: 0.9793 - lr: 0.0100\n",
            "Epoch 10/100\n",
            "16/16 [==============================] - 1s 40ms/step - loss: 0.0695 - accuracy: 0.9821 - val_loss: 0.0738 - val_accuracy: 0.9803 - lr: 0.0100\n",
            "Epoch 11/100\n",
            "16/16 [==============================] - 1s 40ms/step - loss: 0.0651 - accuracy: 0.9829 - val_loss: 0.0702 - val_accuracy: 0.9808 - lr: 0.0100\n",
            "Epoch 12/100\n",
            "16/16 [==============================] - 1s 39ms/step - loss: 0.0614 - accuracy: 0.9837 - val_loss: 0.0673 - val_accuracy: 0.9816 - lr: 0.0100\n",
            "Epoch 13/100\n",
            "16/16 [==============================] - 1s 40ms/step - loss: 0.0582 - accuracy: 0.9843 - val_loss: 0.0648 - val_accuracy: 0.9821 - lr: 0.0100\n",
            "Epoch 14/100\n",
            "16/16 [==============================] - 1s 41ms/step - loss: 0.0554 - accuracy: 0.9851 - val_loss: 0.0627 - val_accuracy: 0.9826 - lr: 0.0100\n",
            "Epoch 15/100\n",
            "16/16 [==============================] - 1s 40ms/step - loss: 0.0530 - accuracy: 0.9857 - val_loss: 0.0610 - val_accuracy: 0.9830 - lr: 0.0100\n",
            "Epoch 16/100\n",
            "16/16 [==============================] - 1s 41ms/step - loss: 0.0508 - accuracy: 0.9864 - val_loss: 0.0592 - val_accuracy: 0.9836 - lr: 0.0100\n",
            "Epoch 17/100\n",
            "16/16 [==============================] - 1s 39ms/step - loss: 0.0489 - accuracy: 0.9868 - val_loss: 0.0579 - val_accuracy: 0.9839 - lr: 0.0100\n",
            "Epoch 18/100\n",
            "16/16 [==============================] - 1s 40ms/step - loss: 0.0472 - accuracy: 0.9872 - val_loss: 0.0566 - val_accuracy: 0.9840 - lr: 0.0100\n",
            "Epoch 19/100\n",
            "16/16 [==============================] - 1s 39ms/step - loss: 0.0457 - accuracy: 0.9875 - val_loss: 0.0557 - val_accuracy: 0.9844 - lr: 0.0100\n",
            "Epoch 20/100\n",
            "16/16 [==============================] - 1s 39ms/step - loss: 0.0442 - accuracy: 0.9879 - val_loss: 0.0546 - val_accuracy: 0.9846 - lr: 0.0100\n",
            "Epoch 21/100\n",
            "16/16 [==============================] - 1s 40ms/step - loss: 0.0429 - accuracy: 0.9883 - val_loss: 0.0539 - val_accuracy: 0.9848 - lr: 0.0100\n",
            "Epoch 22/100\n",
            "16/16 [==============================] - 1s 40ms/step - loss: 0.0417 - accuracy: 0.9884 - val_loss: 0.0531 - val_accuracy: 0.9849 - lr: 0.0100\n",
            "Epoch 23/100\n",
            "16/16 [==============================] - 1s 40ms/step - loss: 0.0406 - accuracy: 0.9887 - val_loss: 0.0524 - val_accuracy: 0.9852 - lr: 0.0100\n",
            "Epoch 24/100\n",
            "16/16 [==============================] - 1s 40ms/step - loss: 0.0397 - accuracy: 0.9890 - val_loss: 0.0519 - val_accuracy: 0.9852 - lr: 0.0100\n",
            "Epoch 25/100\n",
            "16/16 [==============================] - 1s 38ms/step - loss: 0.0387 - accuracy: 0.9892 - val_loss: 0.0512 - val_accuracy: 0.9853 - lr: 0.0100\n",
            "Epoch 26/100\n",
            "16/16 [==============================] - 1s 40ms/step - loss: 0.0378 - accuracy: 0.9894 - val_loss: 0.0509 - val_accuracy: 0.9855 - lr: 0.0100\n",
            "Epoch 27/100\n",
            "16/16 [==============================] - 1s 39ms/step - loss: 0.0370 - accuracy: 0.9897 - val_loss: 0.0507 - val_accuracy: 0.9854 - lr: 0.0100\n",
            "Epoch 28/100\n",
            "16/16 [==============================] - 1s 39ms/step - loss: 0.0362 - accuracy: 0.9899 - val_loss: 0.0499 - val_accuracy: 0.9857 - lr: 0.0100\n",
            "Epoch 29/100\n",
            "16/16 [==============================] - 1s 40ms/step - loss: 0.0355 - accuracy: 0.9901 - val_loss: 0.0497 - val_accuracy: 0.9857 - lr: 0.0100\n",
            "Epoch 30/100\n",
            "16/16 [==============================] - 1s 40ms/step - loss: 0.0348 - accuracy: 0.9902 - val_loss: 0.0496 - val_accuracy: 0.9858 - lr: 0.0100\n",
            "Epoch 31/100\n",
            "16/16 [==============================] - 1s 40ms/step - loss: 0.0342 - accuracy: 0.9905 - val_loss: 0.0489 - val_accuracy: 0.9859 - lr: 0.0100\n",
            "Epoch 32/100\n",
            "16/16 [==============================] - 1s 41ms/step - loss: 0.0336 - accuracy: 0.9906 - val_loss: 0.0487 - val_accuracy: 0.9860 - lr: 0.0100\n",
            "Epoch 33/100\n",
            "16/16 [==============================] - 1s 40ms/step - loss: 0.0330 - accuracy: 0.9907 - val_loss: 0.0486 - val_accuracy: 0.9861 - lr: 0.0100\n",
            "Epoch 34/100\n",
            "16/16 [==============================] - 1s 41ms/step - loss: 0.0324 - accuracy: 0.9909 - val_loss: 0.0485 - val_accuracy: 0.9861 - lr: 0.0100\n",
            "Epoch 35/100\n",
            "16/16 [==============================] - 1s 40ms/step - loss: 0.0319 - accuracy: 0.9910 - val_loss: 0.0484 - val_accuracy: 0.9862 - lr: 0.0100\n",
            "Epoch 36/100\n",
            "16/16 [==============================] - 1s 39ms/step - loss: 0.0315 - accuracy: 0.9910 - val_loss: 0.0481 - val_accuracy: 0.9863 - lr: 0.0100\n",
            "Epoch 37/100\n",
            "16/16 [==============================] - 1s 40ms/step - loss: 0.0309 - accuracy: 0.9913 - val_loss: 0.0480 - val_accuracy: 0.9863 - lr: 0.0100\n",
            "Epoch 38/100\n",
            "16/16 [==============================] - 1s 40ms/step - loss: 0.0306 - accuracy: 0.9913 - val_loss: 0.0479 - val_accuracy: 0.9863 - lr: 0.0100\n",
            "Epoch 39/100\n",
            "16/16 [==============================] - 1s 39ms/step - loss: 0.0301 - accuracy: 0.9914 - val_loss: 0.0476 - val_accuracy: 0.9864 - lr: 0.0100\n",
            "Epoch 40/100\n",
            "16/16 [==============================] - 1s 40ms/step - loss: 0.0297 - accuracy: 0.9915 - val_loss: 0.0478 - val_accuracy: 0.9864 - lr: 0.0100\n",
            "Epoch 41/100\n",
            "16/16 [==============================] - 1s 40ms/step - loss: 0.0293 - accuracy: 0.9917 - val_loss: 0.0474 - val_accuracy: 0.9866 - lr: 0.0100\n",
            "Epoch 42/100\n",
            "16/16 [==============================] - 1s 38ms/step - loss: 0.0289 - accuracy: 0.9917 - val_loss: 0.0476 - val_accuracy: 0.9864 - lr: 0.0100\n",
            "Epoch 43/100\n",
            "16/16 [==============================] - 1s 39ms/step - loss: 0.0286 - accuracy: 0.9918 - val_loss: 0.0476 - val_accuracy: 0.9865 - lr: 0.0100\n",
            "Epoch 44/100\n",
            "16/16 [==============================] - 1s 39ms/step - loss: 0.0282 - accuracy: 0.9919 - val_loss: 0.0478 - val_accuracy: 0.9865 - lr: 0.0100\n",
            "Epoch 45/100\n",
            "16/16 [==============================] - 1s 40ms/step - loss: 0.0274 - accuracy: 0.9921 - val_loss: 0.0474 - val_accuracy: 0.9866 - lr: 1.0000e-03\n",
            "Epoch 46/100\n",
            "16/16 [==============================] - 1s 42ms/step - loss: 0.0272 - accuracy: 0.9922 - val_loss: 0.0473 - val_accuracy: 0.9866 - lr: 1.0000e-03\n",
            "Epoch 47/100\n",
            "16/16 [==============================] - 1s 40ms/step - loss: 0.0272 - accuracy: 0.9923 - val_loss: 0.0473 - val_accuracy: 0.9866 - lr: 1.0000e-03\n",
            "Epoch 48/100\n",
            "16/16 [==============================] - 1s 40ms/step - loss: 0.0271 - accuracy: 0.9923 - val_loss: 0.0473 - val_accuracy: 0.9866 - lr: 1.0000e-04\n",
            "Epoch 49/100\n",
            "16/16 [==============================] - 1s 40ms/step - loss: 0.0271 - accuracy: 0.9923 - val_loss: 0.0473 - val_accuracy: 0.9866 - lr: 1.0000e-04\n",
            "Epoch 50/100\n",
            "16/16 [==============================] - 1s 40ms/step - loss: 0.0271 - accuracy: 0.9923 - val_loss: 0.0473 - val_accuracy: 0.9866 - lr: 1.0000e-04\n",
            "Epoch 51/100\n",
            "16/16 [==============================] - 1s 40ms/step - loss: 0.0271 - accuracy: 0.9923 - val_loss: 0.0473 - val_accuracy: 0.9866 - lr: 1.0000e-04\n",
            "Epoch 52/100\n",
            "16/16 [==============================] - 1s 40ms/step - loss: 0.0271 - accuracy: 0.9923 - val_loss: 0.0473 - val_accuracy: 0.9866 - lr: 1.0000e-04\n",
            "Epoch 53/100\n",
            "16/16 [==============================] - 1s 40ms/step - loss: 0.0270 - accuracy: 0.9923 - val_loss: 0.0473 - val_accuracy: 0.9866 - lr: 1.0000e-05\n",
            "Epoch 54/100\n",
            "16/16 [==============================] - 1s 41ms/step - loss: 0.0270 - accuracy: 0.9923 - val_loss: 0.0473 - val_accuracy: 0.9866 - lr: 1.0000e-05\n",
            "Epoch 55/100\n",
            "16/16 [==============================] - 1s 39ms/step - loss: 0.0270 - accuracy: 0.9923 - val_loss: 0.0473 - val_accuracy: 0.9866 - lr: 1.0000e-05\n",
            "Epoch 56/100\n",
            "16/16 [==============================] - 1s 40ms/step - loss: 0.0270 - accuracy: 0.9923 - val_loss: 0.0473 - val_accuracy: 0.9866 - lr: 1.0000e-06\n",
            "Epoch 57/100\n",
            "16/16 [==============================] - 1s 41ms/step - loss: 0.0270 - accuracy: 0.9923 - val_loss: 0.0473 - val_accuracy: 0.9866 - lr: 1.0000e-06\n",
            "Epoch 58/100\n",
            "16/16 [==============================] - 1s 40ms/step - loss: 0.0270 - accuracy: 0.9923 - val_loss: 0.0473 - val_accuracy: 0.9866 - lr: 1.0000e-06\n",
            "Epoch 59/100\n",
            "16/16 [==============================] - 1s 40ms/step - loss: 0.0270 - accuracy: 0.9923 - val_loss: 0.0473 - val_accuracy: 0.9866 - lr: 1.0000e-07\n",
            "Epoch 60/100\n",
            "16/16 [==============================] - 1s 40ms/step - loss: 0.0270 - accuracy: 0.9923 - val_loss: 0.0473 - val_accuracy: 0.9866 - lr: 1.0000e-07\n",
            "Epoch 61/100\n",
            "16/16 [==============================] - 1s 41ms/step - loss: 0.0270 - accuracy: 0.9923 - val_loss: 0.0473 - val_accuracy: 0.9866 - lr: 1.0000e-07\n",
            "Epoch 62/100\n",
            "16/16 [==============================] - 1s 40ms/step - loss: 0.0270 - accuracy: 0.9923 - val_loss: 0.0473 - val_accuracy: 0.9866 - lr: 1.0000e-08\n",
            "\n",
            "Number of units: 64.\n",
            "\n",
            "Model: \"m_1\"\n",
            "_________________________________________________________________\n",
            " Layer (type)                Output Shape              Param #   \n",
            "=================================================================\n",
            " bidirectional_5 (Bidirectio  (None, 249, 128)         44544     \n",
            " nal)                                                            \n",
            "                                                                 \n",
            " time_distributed_5 (TimeDis  (None, 249, 46)          5934      \n",
            " tributed)                                                       \n",
            "                                                                 \n",
            "=================================================================\n",
            "Total params: 50,478\n",
            "Trainable params: 50,478\n",
            "Non-trainable params: 0\n",
            "_________________________________________________________________\n",
            "Epoch 1/100\n",
            "16/16 [==============================] - 5s 102ms/step - loss: 1.8111 - accuracy: 0.9209 - val_loss: 0.5528 - val_accuracy: 0.9477 - lr: 0.0100\n",
            "Epoch 2/100\n",
            "16/16 [==============================] - 1s 42ms/step - loss: 0.4098 - accuracy: 0.9541 - val_loss: 0.2516 - val_accuracy: 0.9595 - lr: 0.0100\n",
            "Epoch 3/100\n",
            "16/16 [==============================] - 1s 42ms/step - loss: 0.1857 - accuracy: 0.9653 - val_loss: 0.1400 - val_accuracy: 0.9679 - lr: 0.0100\n",
            "Epoch 4/100\n",
            "16/16 [==============================] - 1s 42ms/step - loss: 0.1219 - accuracy: 0.9711 - val_loss: 0.1095 - val_accuracy: 0.9729 - lr: 0.0100\n",
            "Epoch 5/100\n",
            "16/16 [==============================] - 1s 42ms/step - loss: 0.0976 - accuracy: 0.9755 - val_loss: 0.0936 - val_accuracy: 0.9759 - lr: 0.0100\n",
            "Epoch 6/100\n",
            "16/16 [==============================] - 1s 42ms/step - loss: 0.0838 - accuracy: 0.9785 - val_loss: 0.0835 - val_accuracy: 0.9779 - lr: 0.0100\n",
            "Epoch 7/100\n",
            "16/16 [==============================] - 1s 44ms/step - loss: 0.0746 - accuracy: 0.9802 - val_loss: 0.0765 - val_accuracy: 0.9790 - lr: 0.0100\n",
            "Epoch 8/100\n",
            "16/16 [==============================] - 1s 43ms/step - loss: 0.0675 - accuracy: 0.9815 - val_loss: 0.0710 - val_accuracy: 0.9802 - lr: 0.0100\n",
            "Epoch 9/100\n",
            "16/16 [==============================] - 1s 42ms/step - loss: 0.0620 - accuracy: 0.9831 - val_loss: 0.0667 - val_accuracy: 0.9815 - lr: 0.0100\n",
            "Epoch 10/100\n",
            "16/16 [==============================] - 1s 42ms/step - loss: 0.0574 - accuracy: 0.9845 - val_loss: 0.0630 - val_accuracy: 0.9827 - lr: 0.0100\n",
            "Epoch 11/100\n",
            "16/16 [==============================] - 1s 43ms/step - loss: 0.0537 - accuracy: 0.9855 - val_loss: 0.0603 - val_accuracy: 0.9834 - lr: 0.0100\n",
            "Epoch 12/100\n",
            "16/16 [==============================] - 1s 41ms/step - loss: 0.0505 - accuracy: 0.9864 - val_loss: 0.0576 - val_accuracy: 0.9842 - lr: 0.0100\n",
            "Epoch 13/100\n",
            "16/16 [==============================] - 1s 42ms/step - loss: 0.0475 - accuracy: 0.9871 - val_loss: 0.0557 - val_accuracy: 0.9846 - lr: 0.0100\n",
            "Epoch 14/100\n",
            "16/16 [==============================] - 1s 42ms/step - loss: 0.0450 - accuracy: 0.9879 - val_loss: 0.0537 - val_accuracy: 0.9851 - lr: 0.0100\n",
            "Epoch 15/100\n",
            "16/16 [==============================] - 1s 42ms/step - loss: 0.0428 - accuracy: 0.9883 - val_loss: 0.0523 - val_accuracy: 0.9856 - lr: 0.0100\n",
            "Epoch 16/100\n",
            "16/16 [==============================] - 1s 42ms/step - loss: 0.0408 - accuracy: 0.9888 - val_loss: 0.0509 - val_accuracy: 0.9858 - lr: 0.0100\n",
            "Epoch 17/100\n",
            "16/16 [==============================] - 1s 43ms/step - loss: 0.0390 - accuracy: 0.9893 - val_loss: 0.0499 - val_accuracy: 0.9858 - lr: 0.0100\n",
            "Epoch 18/100\n",
            "16/16 [==============================] - 1s 42ms/step - loss: 0.0373 - accuracy: 0.9898 - val_loss: 0.0489 - val_accuracy: 0.9863 - lr: 0.0100\n",
            "Epoch 19/100\n",
            "16/16 [==============================] - 1s 43ms/step - loss: 0.0358 - accuracy: 0.9902 - val_loss: 0.0480 - val_accuracy: 0.9864 - lr: 0.0100\n",
            "Epoch 20/100\n",
            "16/16 [==============================] - 1s 42ms/step - loss: 0.0345 - accuracy: 0.9905 - val_loss: 0.0472 - val_accuracy: 0.9866 - lr: 0.0100\n",
            "Epoch 21/100\n",
            "16/16 [==============================] - 1s 42ms/step - loss: 0.0330 - accuracy: 0.9908 - val_loss: 0.0466 - val_accuracy: 0.9867 - lr: 0.0100\n",
            "Epoch 22/100\n",
            "16/16 [==============================] - 1s 43ms/step - loss: 0.0319 - accuracy: 0.9912 - val_loss: 0.0457 - val_accuracy: 0.9869 - lr: 0.0100\n",
            "Epoch 23/100\n",
            "16/16 [==============================] - 1s 43ms/step - loss: 0.0307 - accuracy: 0.9916 - val_loss: 0.0453 - val_accuracy: 0.9871 - lr: 0.0100\n",
            "Epoch 24/100\n",
            "16/16 [==============================] - 1s 41ms/step - loss: 0.0297 - accuracy: 0.9918 - val_loss: 0.0448 - val_accuracy: 0.9873 - lr: 0.0100\n",
            "Epoch 25/100\n",
            "16/16 [==============================] - 1s 42ms/step - loss: 0.0287 - accuracy: 0.9921 - val_loss: 0.0443 - val_accuracy: 0.9875 - lr: 0.0100\n",
            "Epoch 26/100\n",
            "16/16 [==============================] - 1s 42ms/step - loss: 0.0278 - accuracy: 0.9924 - val_loss: 0.0440 - val_accuracy: 0.9875 - lr: 0.0100\n",
            "Epoch 27/100\n",
            "16/16 [==============================] - 1s 41ms/step - loss: 0.0269 - accuracy: 0.9926 - val_loss: 0.0439 - val_accuracy: 0.9875 - lr: 0.0100\n",
            "Epoch 28/100\n",
            "16/16 [==============================] - 1s 42ms/step - loss: 0.0261 - accuracy: 0.9928 - val_loss: 0.0432 - val_accuracy: 0.9879 - lr: 0.0100\n",
            "Epoch 29/100\n",
            "16/16 [==============================] - 1s 42ms/step - loss: 0.0253 - accuracy: 0.9929 - val_loss: 0.0434 - val_accuracy: 0.9878 - lr: 0.0100\n",
            "Epoch 30/100\n",
            "16/16 [==============================] - 1s 42ms/step - loss: 0.0246 - accuracy: 0.9932 - val_loss: 0.0431 - val_accuracy: 0.9879 - lr: 0.0100\n",
            "Epoch 31/100\n",
            "16/16 [==============================] - 1s 43ms/step - loss: 0.0238 - accuracy: 0.9934 - val_loss: 0.0425 - val_accuracy: 0.9881 - lr: 0.0100\n",
            "Epoch 32/100\n",
            "16/16 [==============================] - 1s 42ms/step - loss: 0.0233 - accuracy: 0.9936 - val_loss: 0.0430 - val_accuracy: 0.9879 - lr: 0.0100\n",
            "Epoch 33/100\n",
            "16/16 [==============================] - 1s 42ms/step - loss: 0.0226 - accuracy: 0.9938 - val_loss: 0.0426 - val_accuracy: 0.9881 - lr: 0.0100\n",
            "Epoch 34/100\n",
            "16/16 [==============================] - 1s 43ms/step - loss: 0.0219 - accuracy: 0.9940 - val_loss: 0.0424 - val_accuracy: 0.9882 - lr: 0.0100\n",
            "Epoch 35/100\n",
            "16/16 [==============================] - 1s 42ms/step - loss: 0.0214 - accuracy: 0.9941 - val_loss: 0.0425 - val_accuracy: 0.9882 - lr: 0.0100\n",
            "Epoch 36/100\n",
            "16/16 [==============================] - 1s 43ms/step - loss: 0.0208 - accuracy: 0.9943 - val_loss: 0.0424 - val_accuracy: 0.9882 - lr: 0.0100\n",
            "Epoch 37/100\n",
            "16/16 [==============================] - 1s 43ms/step - loss: 0.0203 - accuracy: 0.9944 - val_loss: 0.0423 - val_accuracy: 0.9883 - lr: 0.0100\n",
            "Epoch 38/100\n",
            "16/16 [==============================] - 1s 44ms/step - loss: 0.0198 - accuracy: 0.9945 - val_loss: 0.0425 - val_accuracy: 0.9882 - lr: 0.0100\n",
            "Epoch 39/100\n",
            "16/16 [==============================] - 1s 43ms/step - loss: 0.0194 - accuracy: 0.9946 - val_loss: 0.0424 - val_accuracy: 0.9884 - lr: 0.0100\n",
            "Epoch 40/100\n",
            "16/16 [==============================] - 1s 42ms/step - loss: 0.0188 - accuracy: 0.9949 - val_loss: 0.0424 - val_accuracy: 0.9884 - lr: 0.0100\n",
            "Epoch 41/100\n",
            "16/16 [==============================] - 1s 43ms/step - loss: 0.0179 - accuracy: 0.9951 - val_loss: 0.0421 - val_accuracy: 0.9885 - lr: 1.0000e-03\n",
            "Epoch 42/100\n",
            "16/16 [==============================] - 1s 42ms/step - loss: 0.0176 - accuracy: 0.9952 - val_loss: 0.0419 - val_accuracy: 0.9884 - lr: 1.0000e-03\n",
            "Epoch 43/100\n",
            "16/16 [==============================] - 1s 42ms/step - loss: 0.0175 - accuracy: 0.9952 - val_loss: 0.0419 - val_accuracy: 0.9884 - lr: 1.0000e-03\n",
            "Epoch 44/100\n",
            "16/16 [==============================] - 1s 42ms/step - loss: 0.0174 - accuracy: 0.9953 - val_loss: 0.0419 - val_accuracy: 0.9884 - lr: 1.0000e-03\n",
            "Epoch 45/100\n",
            "16/16 [==============================] - 1s 43ms/step - loss: 0.0174 - accuracy: 0.9953 - val_loss: 0.0419 - val_accuracy: 0.9884 - lr: 1.0000e-03\n",
            "Epoch 46/100\n",
            "16/16 [==============================] - 1s 42ms/step - loss: 0.0173 - accuracy: 0.9953 - val_loss: 0.0419 - val_accuracy: 0.9884 - lr: 1.0000e-04\n",
            "Epoch 47/100\n",
            "16/16 [==============================] - 1s 43ms/step - loss: 0.0173 - accuracy: 0.9953 - val_loss: 0.0419 - val_accuracy: 0.9884 - lr: 1.0000e-04\n",
            "Epoch 48/100\n",
            "16/16 [==============================] - 1s 42ms/step - loss: 0.0173 - accuracy: 0.9953 - val_loss: 0.0419 - val_accuracy: 0.9884 - lr: 1.0000e-04\n",
            "Epoch 49/100\n",
            "16/16 [==============================] - 1s 42ms/step - loss: 0.0173 - accuracy: 0.9953 - val_loss: 0.0419 - val_accuracy: 0.9884 - lr: 1.0000e-05\n",
            "\n",
            "Number of units: 128.\n",
            "\n",
            "Model: \"m_1\"\n",
            "_________________________________________________________________\n",
            " Layer (type)                Output Shape              Param #   \n",
            "=================================================================\n",
            " bidirectional_6 (Bidirectio  (None, 249, 256)         138240    \n",
            " nal)                                                            \n",
            "                                                                 \n",
            " time_distributed_6 (TimeDis  (None, 249, 46)          11822     \n",
            " tributed)                                                       \n",
            "                                                                 \n",
            "=================================================================\n",
            "Total params: 150,062\n",
            "Trainable params: 150,062\n",
            "Non-trainable params: 0\n",
            "_________________________________________________________________\n",
            "Epoch 1/100\n",
            "16/16 [==============================] - 6s 111ms/step - loss: 1.8013 - accuracy: 0.9214 - val_loss: 0.4497 - val_accuracy: 0.9524 - lr: 0.0100\n",
            "Epoch 2/100\n",
            "16/16 [==============================] - 1s 52ms/step - loss: 0.2965 - accuracy: 0.9584 - val_loss: 0.1833 - val_accuracy: 0.9638 - lr: 0.0100\n",
            "Epoch 3/100\n",
            "16/16 [==============================] - 1s 51ms/step - loss: 0.1497 - accuracy: 0.9683 - val_loss: 0.1232 - val_accuracy: 0.9700 - lr: 0.0100\n",
            "Epoch 4/100\n",
            "16/16 [==============================] - 1s 51ms/step - loss: 0.1070 - accuracy: 0.9734 - val_loss: 0.0987 - val_accuracy: 0.9747 - lr: 0.0100\n",
            "Epoch 5/100\n",
            "16/16 [==============================] - 1s 51ms/step - loss: 0.0879 - accuracy: 0.9770 - val_loss: 0.0858 - val_accuracy: 0.9770 - lr: 0.0100\n",
            "Epoch 6/100\n",
            "16/16 [==============================] - 1s 52ms/step - loss: 0.0766 - accuracy: 0.9793 - val_loss: 0.0773 - val_accuracy: 0.9788 - lr: 0.0100\n",
            "Epoch 7/100\n",
            "16/16 [==============================] - 1s 53ms/step - loss: 0.0685 - accuracy: 0.9814 - val_loss: 0.0712 - val_accuracy: 0.9801 - lr: 0.0100\n",
            "Epoch 8/100\n",
            "16/16 [==============================] - 1s 51ms/step - loss: 0.0620 - accuracy: 0.9830 - val_loss: 0.0661 - val_accuracy: 0.9816 - lr: 0.0100\n",
            "Epoch 9/100\n",
            "16/16 [==============================] - 1s 52ms/step - loss: 0.0569 - accuracy: 0.9845 - val_loss: 0.0623 - val_accuracy: 0.9827 - lr: 0.0100\n",
            "Epoch 10/100\n",
            "16/16 [==============================] - 1s 51ms/step - loss: 0.0526 - accuracy: 0.9857 - val_loss: 0.0590 - val_accuracy: 0.9835 - lr: 0.0100\n",
            "Epoch 11/100\n",
            "16/16 [==============================] - 1s 51ms/step - loss: 0.0492 - accuracy: 0.9865 - val_loss: 0.0565 - val_accuracy: 0.9841 - lr: 0.0100\n",
            "Epoch 12/100\n",
            "16/16 [==============================] - 1s 51ms/step - loss: 0.0461 - accuracy: 0.9874 - val_loss: 0.0541 - val_accuracy: 0.9846 - lr: 0.0100\n",
            "Epoch 13/100\n",
            "16/16 [==============================] - 1s 51ms/step - loss: 0.0434 - accuracy: 0.9882 - val_loss: 0.0524 - val_accuracy: 0.9850 - lr: 0.0100\n",
            "Epoch 14/100\n",
            "16/16 [==============================] - 1s 52ms/step - loss: 0.0409 - accuracy: 0.9888 - val_loss: 0.0506 - val_accuracy: 0.9854 - lr: 0.0100\n",
            "Epoch 15/100\n",
            "16/16 [==============================] - 1s 51ms/step - loss: 0.0386 - accuracy: 0.9895 - val_loss: 0.0489 - val_accuracy: 0.9859 - lr: 0.0100\n",
            "Epoch 16/100\n",
            "16/16 [==============================] - 1s 52ms/step - loss: 0.0366 - accuracy: 0.9900 - val_loss: 0.0476 - val_accuracy: 0.9863 - lr: 0.0100\n",
            "Epoch 17/100\n",
            "16/16 [==============================] - 1s 51ms/step - loss: 0.0348 - accuracy: 0.9906 - val_loss: 0.0468 - val_accuracy: 0.9865 - lr: 0.0100\n",
            "Epoch 18/100\n",
            "16/16 [==============================] - 1s 53ms/step - loss: 0.0332 - accuracy: 0.9909 - val_loss: 0.0454 - val_accuracy: 0.9869 - lr: 0.0100\n",
            "Epoch 19/100\n",
            "16/16 [==============================] - 1s 51ms/step - loss: 0.0317 - accuracy: 0.9914 - val_loss: 0.0452 - val_accuracy: 0.9868 - lr: 0.0100\n",
            "Epoch 20/100\n",
            "16/16 [==============================] - 1s 51ms/step - loss: 0.0303 - accuracy: 0.9916 - val_loss: 0.0440 - val_accuracy: 0.9873 - lr: 0.0100\n",
            "Epoch 21/100\n",
            "16/16 [==============================] - 1s 52ms/step - loss: 0.0288 - accuracy: 0.9921 - val_loss: 0.0436 - val_accuracy: 0.9873 - lr: 0.0100\n",
            "Epoch 22/100\n",
            "16/16 [==============================] - 1s 52ms/step - loss: 0.0276 - accuracy: 0.9924 - val_loss: 0.0428 - val_accuracy: 0.9874 - lr: 0.0100\n",
            "Epoch 23/100\n",
            "16/16 [==============================] - 1s 53ms/step - loss: 0.0263 - accuracy: 0.9928 - val_loss: 0.0424 - val_accuracy: 0.9877 - lr: 0.0100\n",
            "Epoch 24/100\n",
            "16/16 [==============================] - 1s 53ms/step - loss: 0.0253 - accuracy: 0.9931 - val_loss: 0.0417 - val_accuracy: 0.9878 - lr: 0.0100\n",
            "Epoch 25/100\n",
            "16/16 [==============================] - 1s 52ms/step - loss: 0.0241 - accuracy: 0.9934 - val_loss: 0.0413 - val_accuracy: 0.9881 - lr: 0.0100\n",
            "Epoch 26/100\n",
            "16/16 [==============================] - 1s 52ms/step - loss: 0.0231 - accuracy: 0.9937 - val_loss: 0.0410 - val_accuracy: 0.9883 - lr: 0.0100\n",
            "Epoch 27/100\n",
            "16/16 [==============================] - 1s 52ms/step - loss: 0.0223 - accuracy: 0.9940 - val_loss: 0.0410 - val_accuracy: 0.9882 - lr: 0.0100\n",
            "Epoch 28/100\n",
            "16/16 [==============================] - 1s 52ms/step - loss: 0.0213 - accuracy: 0.9943 - val_loss: 0.0405 - val_accuracy: 0.9883 - lr: 0.0100\n",
            "Epoch 29/100\n",
            "16/16 [==============================] - 1s 53ms/step - loss: 0.0205 - accuracy: 0.9946 - val_loss: 0.0405 - val_accuracy: 0.9883 - lr: 0.0100\n",
            "Epoch 30/100\n",
            "16/16 [==============================] - 1s 51ms/step - loss: 0.0196 - accuracy: 0.9948 - val_loss: 0.0400 - val_accuracy: 0.9885 - lr: 0.0100\n",
            "Epoch 31/100\n",
            "16/16 [==============================] - 1s 51ms/step - loss: 0.0188 - accuracy: 0.9950 - val_loss: 0.0398 - val_accuracy: 0.9885 - lr: 0.0100\n",
            "Epoch 32/100\n",
            "16/16 [==============================] - 1s 51ms/step - loss: 0.0182 - accuracy: 0.9952 - val_loss: 0.0400 - val_accuracy: 0.9885 - lr: 0.0100\n",
            "Epoch 33/100\n",
            "16/16 [==============================] - 1s 52ms/step - loss: 0.0174 - accuracy: 0.9954 - val_loss: 0.0400 - val_accuracy: 0.9886 - lr: 0.0100\n",
            "Epoch 34/100\n",
            "16/16 [==============================] - 1s 51ms/step - loss: 0.0167 - accuracy: 0.9957 - val_loss: 0.0398 - val_accuracy: 0.9886 - lr: 0.0100\n",
            "Epoch 35/100\n",
            "16/16 [==============================] - 1s 53ms/step - loss: 0.0155 - accuracy: 0.9960 - val_loss: 0.0392 - val_accuracy: 0.9887 - lr: 1.0000e-03\n",
            "Epoch 36/100\n",
            "16/16 [==============================] - 1s 53ms/step - loss: 0.0151 - accuracy: 0.9961 - val_loss: 0.0390 - val_accuracy: 0.9888 - lr: 1.0000e-03\n",
            "Epoch 37/100\n",
            "16/16 [==============================] - 1s 52ms/step - loss: 0.0150 - accuracy: 0.9961 - val_loss: 0.0390 - val_accuracy: 0.9888 - lr: 1.0000e-03\n",
            "Epoch 38/100\n",
            "16/16 [==============================] - 1s 54ms/step - loss: 0.0149 - accuracy: 0.9962 - val_loss: 0.0389 - val_accuracy: 0.9888 - lr: 1.0000e-03\n",
            "Epoch 39/100\n",
            "16/16 [==============================] - 1s 52ms/step - loss: 0.0149 - accuracy: 0.9961 - val_loss: 0.0389 - val_accuracy: 0.9888 - lr: 1.0000e-03\n",
            "Epoch 40/100\n",
            "16/16 [==============================] - 1s 53ms/step - loss: 0.0147 - accuracy: 0.9962 - val_loss: 0.0389 - val_accuracy: 0.9888 - lr: 1.0000e-04\n",
            "Epoch 41/100\n",
            "16/16 [==============================] - 1s 52ms/step - loss: 0.0147 - accuracy: 0.9962 - val_loss: 0.0389 - val_accuracy: 0.9888 - lr: 1.0000e-04\n",
            "Epoch 42/100\n",
            "16/16 [==============================] - 1s 52ms/step - loss: 0.0147 - accuracy: 0.9962 - val_loss: 0.0389 - val_accuracy: 0.9888 - lr: 1.0000e-04\n",
            "Epoch 43/100\n",
            "16/16 [==============================] - 1s 52ms/step - loss: 0.0147 - accuracy: 0.9962 - val_loss: 0.0389 - val_accuracy: 0.9888 - lr: 1.0000e-05\n",
            "Epoch 44/100\n",
            "16/16 [==============================] - 1s 52ms/step - loss: 0.0147 - accuracy: 0.9962 - val_loss: 0.0389 - val_accuracy: 0.9888 - lr: 1.0000e-05\n",
            "Epoch 45/100\n",
            "16/16 [==============================] - 1s 53ms/step - loss: 0.0147 - accuracy: 0.9962 - val_loss: 0.0389 - val_accuracy: 0.9888 - lr: 1.0000e-05\n",
            "Epoch 46/100\n",
            "16/16 [==============================] - 1s 52ms/step - loss: 0.0147 - accuracy: 0.9962 - val_loss: 0.0389 - val_accuracy: 0.9888 - lr: 1.0000e-06\n",
            "Epoch 47/100\n",
            "16/16 [==============================] - 1s 52ms/step - loss: 0.0147 - accuracy: 0.9962 - val_loss: 0.0389 - val_accuracy: 0.9888 - lr: 1.0000e-06\n",
            "Epoch 48/100\n",
            "16/16 [==============================] - 1s 53ms/step - loss: 0.0147 - accuracy: 0.9962 - val_loss: 0.0389 - val_accuracy: 0.9888 - lr: 1.0000e-06\n",
            "\n",
            "Number of units: 256.\n",
            "\n",
            "Model: \"m_1\"\n",
            "_________________________________________________________________\n",
            " Layer (type)                Output Shape              Param #   \n",
            "=================================================================\n",
            " bidirectional_7 (Bidirectio  (None, 249, 512)         473088    \n",
            " nal)                                                            \n",
            "                                                                 \n",
            " time_distributed_7 (TimeDis  (None, 249, 46)          23598     \n",
            " tributed)                                                       \n",
            "                                                                 \n",
            "=================================================================\n",
            "Total params: 496,686\n",
            "Trainable params: 496,686\n",
            "Non-trainable params: 0\n",
            "_________________________________________________________________\n",
            "Epoch 1/100\n",
            "16/16 [==============================] - 6s 173ms/step - loss: 2.9049 - accuracy: 0.8877 - val_loss: 0.6735 - val_accuracy: 0.9541 - lr: 0.0100\n",
            "Epoch 2/100\n",
            "16/16 [==============================] - 1s 83ms/step - loss: 0.4118 - accuracy: 0.9605 - val_loss: 0.2198 - val_accuracy: 0.9648 - lr: 0.0100\n",
            "Epoch 3/100\n",
            "16/16 [==============================] - 1s 83ms/step - loss: 0.1624 - accuracy: 0.9700 - val_loss: 0.1240 - val_accuracy: 0.9725 - lr: 0.0100\n",
            "Epoch 4/100\n",
            "16/16 [==============================] - 1s 84ms/step - loss: 0.1028 - accuracy: 0.9752 - val_loss: 0.0927 - val_accuracy: 0.9755 - lr: 0.0100\n",
            "Epoch 5/100\n",
            "16/16 [==============================] - 1s 84ms/step - loss: 0.0809 - accuracy: 0.9785 - val_loss: 0.0803 - val_accuracy: 0.9780 - lr: 0.0100\n",
            "Epoch 6/100\n",
            "16/16 [==============================] - 1s 84ms/step - loss: 0.0700 - accuracy: 0.9808 - val_loss: 0.0719 - val_accuracy: 0.9800 - lr: 0.0100\n",
            "Epoch 7/100\n",
            "16/16 [==============================] - 1s 84ms/step - loss: 0.0626 - accuracy: 0.9828 - val_loss: 0.0665 - val_accuracy: 0.9813 - lr: 0.0100\n",
            "Epoch 8/100\n",
            "16/16 [==============================] - 1s 84ms/step - loss: 0.0569 - accuracy: 0.9841 - val_loss: 0.0624 - val_accuracy: 0.9823 - lr: 0.0100\n",
            "Epoch 9/100\n",
            "16/16 [==============================] - 1s 83ms/step - loss: 0.0522 - accuracy: 0.9855 - val_loss: 0.0583 - val_accuracy: 0.9837 - lr: 0.0100\n",
            "Epoch 10/100\n",
            "16/16 [==============================] - 1s 84ms/step - loss: 0.0481 - accuracy: 0.9868 - val_loss: 0.0558 - val_accuracy: 0.9842 - lr: 0.0100\n",
            "Epoch 11/100\n",
            "16/16 [==============================] - 1s 83ms/step - loss: 0.0449 - accuracy: 0.9876 - val_loss: 0.0531 - val_accuracy: 0.9851 - lr: 0.0100\n",
            "Epoch 12/100\n",
            "16/16 [==============================] - 1s 84ms/step - loss: 0.0421 - accuracy: 0.9885 - val_loss: 0.0511 - val_accuracy: 0.9856 - lr: 0.0100\n",
            "Epoch 13/100\n",
            "16/16 [==============================] - 1s 84ms/step - loss: 0.0397 - accuracy: 0.9890 - val_loss: 0.0493 - val_accuracy: 0.9860 - lr: 0.0100\n",
            "Epoch 14/100\n",
            "16/16 [==============================] - 1s 84ms/step - loss: 0.0371 - accuracy: 0.9898 - val_loss: 0.0479 - val_accuracy: 0.9863 - lr: 0.0100\n",
            "Epoch 15/100\n",
            "16/16 [==============================] - 1s 84ms/step - loss: 0.0349 - accuracy: 0.9903 - val_loss: 0.0471 - val_accuracy: 0.9866 - lr: 0.0100\n",
            "Epoch 16/100\n",
            "16/16 [==============================] - 1s 84ms/step - loss: 0.0332 - accuracy: 0.9910 - val_loss: 0.0455 - val_accuracy: 0.9872 - lr: 0.0100\n",
            "Epoch 17/100\n",
            "16/16 [==============================] - 1s 84ms/step - loss: 0.0314 - accuracy: 0.9915 - val_loss: 0.0438 - val_accuracy: 0.9875 - lr: 0.0100\n",
            "Epoch 18/100\n",
            "16/16 [==============================] - 1s 84ms/step - loss: 0.0297 - accuracy: 0.9919 - val_loss: 0.0432 - val_accuracy: 0.9875 - lr: 0.0100\n",
            "Epoch 19/100\n",
            "16/16 [==============================] - 1s 84ms/step - loss: 0.0286 - accuracy: 0.9922 - val_loss: 0.0429 - val_accuracy: 0.9879 - lr: 0.0100\n",
            "Epoch 20/100\n",
            "16/16 [==============================] - 1s 83ms/step - loss: 0.0273 - accuracy: 0.9926 - val_loss: 0.0433 - val_accuracy: 0.9878 - lr: 0.0100\n",
            "Epoch 21/100\n",
            "16/16 [==============================] - 1s 83ms/step - loss: 0.0256 - accuracy: 0.9930 - val_loss: 0.0409 - val_accuracy: 0.9883 - lr: 0.0100\n",
            "Epoch 22/100\n",
            "16/16 [==============================] - 1s 85ms/step - loss: 0.0244 - accuracy: 0.9935 - val_loss: 0.0411 - val_accuracy: 0.9884 - lr: 0.0100\n",
            "Epoch 23/100\n",
            "16/16 [==============================] - 1s 84ms/step - loss: 0.0233 - accuracy: 0.9937 - val_loss: 0.0413 - val_accuracy: 0.9885 - lr: 0.0100\n",
            "Epoch 24/100\n",
            "16/16 [==============================] - 1s 85ms/step - loss: 0.0221 - accuracy: 0.9941 - val_loss: 0.0395 - val_accuracy: 0.9889 - lr: 0.0100\n",
            "Epoch 25/100\n",
            "16/16 [==============================] - 1s 85ms/step - loss: 0.0209 - accuracy: 0.9945 - val_loss: 0.0395 - val_accuracy: 0.9891 - lr: 0.0100\n",
            "Epoch 26/100\n",
            "16/16 [==============================] - 1s 85ms/step - loss: 0.0199 - accuracy: 0.9948 - val_loss: 0.0391 - val_accuracy: 0.9891 - lr: 0.0100\n",
            "Epoch 27/100\n",
            "16/16 [==============================] - 1s 84ms/step - loss: 0.0191 - accuracy: 0.9951 - val_loss: 0.0392 - val_accuracy: 0.9892 - lr: 0.0100\n",
            "Epoch 28/100\n",
            "16/16 [==============================] - 1s 84ms/step - loss: 0.0185 - accuracy: 0.9952 - val_loss: 0.0391 - val_accuracy: 0.9891 - lr: 0.0100\n",
            "Epoch 29/100\n",
            "16/16 [==============================] - 1s 84ms/step - loss: 0.0177 - accuracy: 0.9954 - val_loss: 0.0394 - val_accuracy: 0.9892 - lr: 0.0100\n",
            "Epoch 30/100\n",
            "16/16 [==============================] - 1s 84ms/step - loss: 0.0158 - accuracy: 0.9960 - val_loss: 0.0376 - val_accuracy: 0.9895 - lr: 1.0000e-03\n",
            "Epoch 31/100\n",
            "16/16 [==============================] - 1s 84ms/step - loss: 0.0151 - accuracy: 0.9961 - val_loss: 0.0372 - val_accuracy: 0.9895 - lr: 1.0000e-03\n",
            "Epoch 32/100\n",
            "16/16 [==============================] - 1s 83ms/step - loss: 0.0149 - accuracy: 0.9962 - val_loss: 0.0371 - val_accuracy: 0.9895 - lr: 1.0000e-03\n",
            "Epoch 33/100\n",
            "16/16 [==============================] - 1s 83ms/step - loss: 0.0148 - accuracy: 0.9963 - val_loss: 0.0371 - val_accuracy: 0.9895 - lr: 1.0000e-03\n",
            "Epoch 34/100\n",
            "16/16 [==============================] - 1s 85ms/step - loss: 0.0147 - accuracy: 0.9963 - val_loss: 0.0371 - val_accuracy: 0.9896 - lr: 1.0000e-03\n",
            "Epoch 35/100\n",
            "16/16 [==============================] - 1s 85ms/step - loss: 0.0146 - accuracy: 0.9963 - val_loss: 0.0373 - val_accuracy: 0.9894 - lr: 1.0000e-03\n",
            "Epoch 36/100\n",
            "16/16 [==============================] - 1s 84ms/step - loss: 0.0146 - accuracy: 0.9963 - val_loss: 0.0372 - val_accuracy: 0.9895 - lr: 1.0000e-03\n",
            "Epoch 37/100\n",
            "16/16 [==============================] - 1s 84ms/step - loss: 0.0145 - accuracy: 0.9964 - val_loss: 0.0371 - val_accuracy: 0.9895 - lr: 1.0000e-03\n",
            "Epoch 38/100\n",
            "16/16 [==============================] - 1s 83ms/step - loss: 0.0143 - accuracy: 0.9965 - val_loss: 0.0370 - val_accuracy: 0.9896 - lr: 1.0000e-04\n",
            "Epoch 39/100\n",
            "16/16 [==============================] - 1s 84ms/step - loss: 0.0142 - accuracy: 0.9964 - val_loss: 0.0370 - val_accuracy: 0.9896 - lr: 1.0000e-04\n",
            "Epoch 40/100\n",
            "16/16 [==============================] - 1s 84ms/step - loss: 0.0142 - accuracy: 0.9964 - val_loss: 0.0370 - val_accuracy: 0.9896 - lr: 1.0000e-04\n",
            "Epoch 41/100\n",
            "16/16 [==============================] - 1s 84ms/step - loss: 0.0142 - accuracy: 0.9964 - val_loss: 0.0370 - val_accuracy: 0.9896 - lr: 1.0000e-05\n",
            "Epoch 42/100\n",
            "16/16 [==============================] - 1s 83ms/step - loss: 0.0142 - accuracy: 0.9964 - val_loss: 0.0370 - val_accuracy: 0.9896 - lr: 1.0000e-05\n",
            "Epoch 43/100\n",
            "16/16 [==============================] - 1s 83ms/step - loss: 0.0142 - accuracy: 0.9964 - val_loss: 0.0370 - val_accuracy: 0.9896 - lr: 1.0000e-05\n",
            "Epoch 44/100\n",
            "16/16 [==============================] - 1s 84ms/step - loss: 0.0142 - accuracy: 0.9964 - val_loss: 0.0370 - val_accuracy: 0.9896 - lr: 1.0000e-06\n",
            "Epoch 45/100\n",
            "16/16 [==============================] - 1s 84ms/step - loss: 0.0142 - accuracy: 0.9964 - val_loss: 0.0370 - val_accuracy: 0.9896 - lr: 1.0000e-06\n"
          ]
        }
      ],
      "source": [
        "# Grid-search over possible units.\n",
        "gru_units = [32, 64, 128, 256]\n",
        "gru_models, gru_model_histories = grid_search(models_name[1], gru_units)"
      ]
    },
    {
      "cell_type": "markdown",
      "source": [
        "After having fitted each of the four models, the best one is chosen by executing the `get_best_model` function."
      ],
      "metadata": {
        "id": "NY6zzsHpillh"
      }
    },
    {
      "cell_type": "code",
      "execution_count": null,
      "metadata": {
        "id": "Ul1WbFDkOnYF",
        "colab": {
          "base_uri": "https://localhost:8080/"
        },
        "outputId": "cf76c7f0-0d08-45d4-83e1-bdb436169a6e"
      },
      "outputs": [
        {
          "output_type": "stream",
          "name": "stdout",
          "text": [
            "41/41 [==============================] - 1s 9ms/step\n",
            "41/41 [==============================] - 1s 9ms/step\n",
            "41/41 [==============================] - 1s 10ms/step\n",
            "41/41 [==============================] - 1s 14ms/step\n",
            "The best number of units is: 256.\n"
          ]
        }
      ],
      "source": [
        "_, gru_f1_scores, models[models_name[1]] = get_best_model(gru_models, gru_units)"
      ]
    },
    {
      "cell_type": "markdown",
      "source": [
        "Lastly, both the validation loss curves and the macro F1-scores are plotted using the `plot_loss` and `plot_f1_scores` functions."
      ],
      "metadata": {
        "id": "hwcrY-X-iowK"
      }
    },
    {
      "cell_type": "code",
      "execution_count": null,
      "metadata": {
        "id": "LWsBxGmyc9PZ",
        "colab": {
          "base_uri": "https://localhost:8080/",
          "height": 282
        },
        "outputId": "22a1e731-0cda-429a-ba4d-a5353eca23f4"
      },
      "outputs": [
        {
          "output_type": "display_data",
          "data": {
            "text/plain": [
              "<Figure size 288x288 with 1 Axes>"
            ],
            "image/png": "[encoded data removed]"
          },
          "metadata": {
            "needs_background": "light"
          }
        }
      ],
      "source": [
        "plot_loss(models_name[1], gru_units, gru_model_histories)"
      ]
    },
    {
      "cell_type": "code",
      "execution_count": null,
      "metadata": {
        "id": "10CECwq1lZHp",
        "colab": {
          "base_uri": "https://localhost:8080/",
          "height": 286
        },
        "outputId": "3a1720d0-2bed-4f6c-e121-1f5706cfd336"
      },
      "outputs": [
        {
          "output_type": "display_data",
          "data": {
            "text/plain": [
              "<Figure size 288x288 with 1 Axes>"
            ],
            "image/png": "[encoded data removed]"
          },
          "metadata": {
            "needs_background": "light"
          }
        }
      ],
      "source": [
        "plot_f1_scores(models_name[1], gru_units, gru_f1_scores)"
      ]
    },
    {
      "cell_type": "markdown",
      "metadata": {
        "id": "JVqtTIGn9qUo"
      },
      "source": [
        "### Additional BiLSTM Model ($m_2$)"
      ]
    },
    {
      "cell_type": "markdown",
      "source": [
        "Grid-search on $m_2$ is performed by searching for the best number of LSTM units within the second BiLSTM layer. The possible number of units are $\\{32, 64, 128, 256\\}$, which define four models: $m_2^1$, $m_2^2$, $m_2^3$, $m_2^4$ respectively."
      ],
      "metadata": {
        "id": "S0p2lO6Kitag"
      }
    },
    {
      "cell_type": "code",
      "execution_count": null,
      "metadata": {
        "id": "qsv40lpYOzy2",
        "colab": {
          "base_uri": "https://localhost:8080/"
        },
        "outputId": "d94637f9-8194-4cdc-941b-b20e45e04529"
      },
      "outputs": [
        {
          "output_type": "stream",
          "name": "stdout",
          "text": [
            "Grid-search, m_2 model.\n",
            "\n",
            "Number of units: 32.\n",
            "\n",
            "Model: \"m_2\"\n",
            "_________________________________________________________________\n",
            " Layer (type)                Output Shape              Param #   \n",
            "=================================================================\n",
            " bidirectional_8 (Bidirectio  (None, 249, 512)         628736    \n",
            " nal)                                                            \n",
            "                                                                 \n",
            " bidirectional_9 (Bidirectio  (None, 249, 64)          139520    \n",
            " nal)                                                            \n",
            "                                                                 \n",
            " time_distributed_8 (TimeDis  (None, 249, 46)          2990      \n",
            " tributed)                                                       \n",
            "                                                                 \n",
            "=================================================================\n",
            "Total params: 771,246\n",
            "Trainable params: 771,246\n",
            "Non-trainable params: 0\n",
            "_________________________________________________________________\n",
            "Epoch 1/100\n",
            "16/16 [==============================] - 9s 227ms/step - loss: 2.4449 - accuracy: 0.8893 - val_loss: 0.7415 - val_accuracy: 0.9222 - lr: 0.0100\n",
            "Epoch 2/100\n",
            "16/16 [==============================] - 2s 122ms/step - loss: 0.5043 - accuracy: 0.9268 - val_loss: 0.3450 - val_accuracy: 0.9339 - lr: 0.0100\n",
            "Epoch 3/100\n",
            "16/16 [==============================] - 2s 123ms/step - loss: 0.2852 - accuracy: 0.9389 - val_loss: 0.2345 - val_accuracy: 0.9455 - lr: 0.0100\n",
            "Epoch 4/100\n",
            "16/16 [==============================] - 2s 122ms/step - loss: 0.2048 - accuracy: 0.9499 - val_loss: 0.1792 - val_accuracy: 0.9543 - lr: 0.0100\n",
            "Epoch 5/100\n",
            "16/16 [==============================] - 2s 123ms/step - loss: 0.1594 - accuracy: 0.9585 - val_loss: 0.1447 - val_accuracy: 0.9621 - lr: 0.0100\n",
            "Epoch 6/100\n",
            "16/16 [==============================] - 2s 123ms/step - loss: 0.1286 - accuracy: 0.9666 - val_loss: 0.1187 - val_accuracy: 0.9691 - lr: 0.0100\n",
            "Epoch 7/100\n",
            "16/16 [==============================] - 2s 123ms/step - loss: 0.1051 - accuracy: 0.9736 - val_loss: 0.0994 - val_accuracy: 0.9748 - lr: 0.0100\n",
            "Epoch 8/100\n",
            "16/16 [==============================] - 2s 123ms/step - loss: 0.0873 - accuracy: 0.9779 - val_loss: 0.0860 - val_accuracy: 0.9777 - lr: 0.0100\n",
            "Epoch 9/100\n",
            "16/16 [==============================] - 2s 123ms/step - loss: 0.0747 - accuracy: 0.9809 - val_loss: 0.0750 - val_accuracy: 0.9800 - lr: 0.0100\n",
            "Epoch 10/100\n",
            "16/16 [==============================] - 2s 123ms/step - loss: 0.0647 - accuracy: 0.9834 - val_loss: 0.0673 - val_accuracy: 0.9821 - lr: 0.0100\n",
            "Epoch 11/100\n",
            "16/16 [==============================] - 2s 123ms/step - loss: 0.0570 - accuracy: 0.9852 - val_loss: 0.0621 - val_accuracy: 0.9833 - lr: 0.0100\n",
            "Epoch 12/100\n",
            "16/16 [==============================] - 2s 123ms/step - loss: 0.0505 - accuracy: 0.9870 - val_loss: 0.0564 - val_accuracy: 0.9845 - lr: 0.0100\n",
            "Epoch 13/100\n",
            "16/16 [==============================] - 2s 124ms/step - loss: 0.0443 - accuracy: 0.9887 - val_loss: 0.0521 - val_accuracy: 0.9859 - lr: 0.0100\n",
            "Epoch 14/100\n",
            "16/16 [==============================] - 2s 123ms/step - loss: 0.0395 - accuracy: 0.9899 - val_loss: 0.0496 - val_accuracy: 0.9865 - lr: 0.0100\n",
            "Epoch 15/100\n",
            "16/16 [==============================] - 2s 123ms/step - loss: 0.0354 - accuracy: 0.9910 - val_loss: 0.0477 - val_accuracy: 0.9872 - lr: 0.0100\n",
            "Epoch 16/100\n",
            "16/16 [==============================] - 2s 123ms/step - loss: 0.0322 - accuracy: 0.9920 - val_loss: 0.0448 - val_accuracy: 0.9881 - lr: 0.0100\n",
            "Epoch 17/100\n",
            "16/16 [==============================] - 2s 123ms/step - loss: 0.0295 - accuracy: 0.9928 - val_loss: 0.0443 - val_accuracy: 0.9882 - lr: 0.0100\n",
            "Epoch 18/100\n",
            "16/16 [==============================] - 2s 122ms/step - loss: 0.0271 - accuracy: 0.9935 - val_loss: 0.0415 - val_accuracy: 0.9889 - lr: 0.0100\n",
            "Epoch 19/100\n",
            "16/16 [==============================] - 2s 123ms/step - loss: 0.0239 - accuracy: 0.9944 - val_loss: 0.0402 - val_accuracy: 0.9892 - lr: 0.0100\n",
            "Epoch 20/100\n",
            "16/16 [==============================] - 2s 124ms/step - loss: 0.0217 - accuracy: 0.9948 - val_loss: 0.0394 - val_accuracy: 0.9894 - lr: 0.0100\n",
            "Epoch 21/100\n",
            "16/16 [==============================] - 2s 124ms/step - loss: 0.0197 - accuracy: 0.9955 - val_loss: 0.0387 - val_accuracy: 0.9897 - lr: 0.0100\n",
            "Epoch 22/100\n",
            "16/16 [==============================] - 2s 123ms/step - loss: 0.0185 - accuracy: 0.9958 - val_loss: 0.0392 - val_accuracy: 0.9895 - lr: 0.0100\n",
            "Epoch 23/100\n",
            "16/16 [==============================] - 2s 124ms/step - loss: 0.0170 - accuracy: 0.9962 - val_loss: 0.0385 - val_accuracy: 0.9898 - lr: 0.0100\n",
            "Epoch 24/100\n",
            "16/16 [==============================] - 2s 124ms/step - loss: 0.0152 - accuracy: 0.9968 - val_loss: 0.0377 - val_accuracy: 0.9900 - lr: 0.0100\n",
            "Epoch 25/100\n",
            "16/16 [==============================] - 2s 124ms/step - loss: 0.0144 - accuracy: 0.9969 - val_loss: 0.0370 - val_accuracy: 0.9901 - lr: 0.0100\n",
            "Epoch 26/100\n",
            "16/16 [==============================] - 2s 123ms/step - loss: 0.0131 - accuracy: 0.9973 - val_loss: 0.0375 - val_accuracy: 0.9900 - lr: 0.0100\n",
            "Epoch 27/100\n",
            "16/16 [==============================] - 2s 124ms/step - loss: 0.0121 - accuracy: 0.9975 - val_loss: 0.0372 - val_accuracy: 0.9901 - lr: 0.0100\n",
            "Epoch 28/100\n",
            "16/16 [==============================] - 2s 124ms/step - loss: 0.0111 - accuracy: 0.9978 - val_loss: 0.0371 - val_accuracy: 0.9901 - lr: 0.0100\n",
            "Epoch 29/100\n",
            "16/16 [==============================] - 2s 125ms/step - loss: 0.0095 - accuracy: 0.9982 - val_loss: 0.0353 - val_accuracy: 0.9904 - lr: 1.0000e-03\n",
            "Epoch 30/100\n",
            "16/16 [==============================] - 2s 124ms/step - loss: 0.0088 - accuracy: 0.9983 - val_loss: 0.0351 - val_accuracy: 0.9905 - lr: 1.0000e-03\n",
            "Epoch 31/100\n",
            "16/16 [==============================] - 2s 124ms/step - loss: 0.0086 - accuracy: 0.9983 - val_loss: 0.0351 - val_accuracy: 0.9905 - lr: 1.0000e-03\n",
            "Epoch 32/100\n",
            "16/16 [==============================] - 2s 125ms/step - loss: 0.0085 - accuracy: 0.9983 - val_loss: 0.0350 - val_accuracy: 0.9905 - lr: 1.0000e-03\n",
            "Epoch 33/100\n",
            "16/16 [==============================] - 2s 124ms/step - loss: 0.0084 - accuracy: 0.9984 - val_loss: 0.0351 - val_accuracy: 0.9905 - lr: 1.0000e-03\n",
            "Epoch 34/100\n",
            "16/16 [==============================] - 2s 124ms/step - loss: 0.0083 - accuracy: 0.9984 - val_loss: 0.0351 - val_accuracy: 0.9905 - lr: 1.0000e-03\n",
            "Epoch 35/100\n",
            "16/16 [==============================] - 2s 124ms/step - loss: 0.0082 - accuracy: 0.9984 - val_loss: 0.0352 - val_accuracy: 0.9905 - lr: 1.0000e-03\n",
            "Epoch 36/100\n",
            "16/16 [==============================] - 2s 124ms/step - loss: 0.0081 - accuracy: 0.9984 - val_loss: 0.0352 - val_accuracy: 0.9905 - lr: 1.0000e-04\n",
            "Epoch 37/100\n",
            "16/16 [==============================] - 2s 124ms/step - loss: 0.0080 - accuracy: 0.9985 - val_loss: 0.0351 - val_accuracy: 0.9905 - lr: 1.0000e-04\n",
            "\n",
            "Number of units: 64.\n",
            "\n",
            "Model: \"m_2\"\n",
            "_________________________________________________________________\n",
            " Layer (type)                Output Shape              Param #   \n",
            "=================================================================\n",
            " bidirectional_10 (Bidirecti  (None, 249, 512)         628736    \n",
            " onal)                                                           \n",
            "                                                                 \n",
            " bidirectional_11 (Bidirecti  (None, 249, 128)         295424    \n",
            " onal)                                                           \n",
            "                                                                 \n",
            " time_distributed_9 (TimeDis  (None, 249, 46)          5934      \n",
            " tributed)                                                       \n",
            "                                                                 \n",
            "=================================================================\n",
            "Total params: 930,094\n",
            "Trainable params: 930,094\n",
            "Non-trainable params: 0\n",
            "_________________________________________________________________\n",
            "Epoch 1/100\n",
            "16/16 [==============================] - 10s 236ms/step - loss: 2.4786 - accuracy: 0.8920 - val_loss: 0.7566 - val_accuracy: 0.9242 - lr: 0.0100\n",
            "Epoch 2/100\n",
            "16/16 [==============================] - 2s 137ms/step - loss: 0.4913 - accuracy: 0.9330 - val_loss: 0.3008 - val_accuracy: 0.9448 - lr: 0.0100\n",
            "Epoch 3/100\n",
            "16/16 [==============================] - 2s 138ms/step - loss: 0.2260 - accuracy: 0.9538 - val_loss: 0.1663 - val_accuracy: 0.9601 - lr: 0.0100\n",
            "Epoch 4/100\n",
            "16/16 [==============================] - 2s 138ms/step - loss: 0.1353 - accuracy: 0.9665 - val_loss: 0.1141 - val_accuracy: 0.9700 - lr: 0.0100\n",
            "Epoch 5/100\n",
            "16/16 [==============================] - 2s 138ms/step - loss: 0.0986 - accuracy: 0.9734 - val_loss: 0.0909 - val_accuracy: 0.9751 - lr: 0.0100\n",
            "Epoch 6/100\n",
            "16/16 [==============================] - 2s 137ms/step - loss: 0.0792 - accuracy: 0.9781 - val_loss: 0.0770 - val_accuracy: 0.9783 - lr: 0.0100\n",
            "Epoch 7/100\n",
            "16/16 [==============================] - 2s 138ms/step - loss: 0.0661 - accuracy: 0.9817 - val_loss: 0.0673 - val_accuracy: 0.9811 - lr: 0.0100\n",
            "Epoch 8/100\n",
            "16/16 [==============================] - 2s 138ms/step - loss: 0.0560 - accuracy: 0.9846 - val_loss: 0.0596 - val_accuracy: 0.9833 - lr: 0.0100\n",
            "Epoch 9/100\n",
            "16/16 [==============================] - 2s 138ms/step - loss: 0.0490 - accuracy: 0.9866 - val_loss: 0.0549 - val_accuracy: 0.9847 - lr: 0.0100\n",
            "Epoch 10/100\n",
            "16/16 [==============================] - 2s 138ms/step - loss: 0.0435 - accuracy: 0.9880 - val_loss: 0.0520 - val_accuracy: 0.9856 - lr: 0.0100\n",
            "Epoch 11/100\n",
            "16/16 [==============================] - 2s 138ms/step - loss: 0.0386 - accuracy: 0.9894 - val_loss: 0.0464 - val_accuracy: 0.9871 - lr: 0.0100\n",
            "Epoch 12/100\n",
            "16/16 [==============================] - 2s 139ms/step - loss: 0.0341 - accuracy: 0.9908 - val_loss: 0.0425 - val_accuracy: 0.9880 - lr: 0.0100\n",
            "Epoch 13/100\n",
            "16/16 [==============================] - 2s 139ms/step - loss: 0.0301 - accuracy: 0.9920 - val_loss: 0.0417 - val_accuracy: 0.9882 - lr: 0.0100\n",
            "Epoch 14/100\n",
            "16/16 [==============================] - 2s 138ms/step - loss: 0.0271 - accuracy: 0.9929 - val_loss: 0.0408 - val_accuracy: 0.9886 - lr: 0.0100\n",
            "Epoch 15/100\n",
            "16/16 [==============================] - 2s 138ms/step - loss: 0.0241 - accuracy: 0.9937 - val_loss: 0.0383 - val_accuracy: 0.9892 - lr: 0.0100\n",
            "Epoch 16/100\n",
            "16/16 [==============================] - 2s 138ms/step - loss: 0.0214 - accuracy: 0.9945 - val_loss: 0.0368 - val_accuracy: 0.9896 - lr: 0.0100\n",
            "Epoch 17/100\n",
            "16/16 [==============================] - 2s 139ms/step - loss: 0.0194 - accuracy: 0.9952 - val_loss: 0.0368 - val_accuracy: 0.9898 - lr: 0.0100\n",
            "Epoch 18/100\n",
            "16/16 [==============================] - 2s 139ms/step - loss: 0.0172 - accuracy: 0.9958 - val_loss: 0.0355 - val_accuracy: 0.9902 - lr: 0.0100\n",
            "Epoch 19/100\n",
            "16/16 [==============================] - 2s 138ms/step - loss: 0.0158 - accuracy: 0.9962 - val_loss: 0.0362 - val_accuracy: 0.9899 - lr: 0.0100\n",
            "Epoch 20/100\n",
            "16/16 [==============================] - 2s 139ms/step - loss: 0.0148 - accuracy: 0.9964 - val_loss: 0.0373 - val_accuracy: 0.9899 - lr: 0.0100\n",
            "Epoch 21/100\n",
            "16/16 [==============================] - 2s 139ms/step - loss: 0.0134 - accuracy: 0.9969 - val_loss: 0.0355 - val_accuracy: 0.9903 - lr: 0.0100\n",
            "Epoch 22/100\n",
            "16/16 [==============================] - 2s 140ms/step - loss: 0.0108 - accuracy: 0.9976 - val_loss: 0.0331 - val_accuracy: 0.9908 - lr: 1.0000e-03\n",
            "Epoch 23/100\n",
            "16/16 [==============================] - 2s 138ms/step - loss: 0.0099 - accuracy: 0.9977 - val_loss: 0.0331 - val_accuracy: 0.9908 - lr: 1.0000e-03\n",
            "Epoch 24/100\n",
            "16/16 [==============================] - 2s 140ms/step - loss: 0.0096 - accuracy: 0.9978 - val_loss: 0.0331 - val_accuracy: 0.9908 - lr: 1.0000e-03\n",
            "Epoch 25/100\n",
            "16/16 [==============================] - 2s 138ms/step - loss: 0.0094 - accuracy: 0.9978 - val_loss: 0.0331 - val_accuracy: 0.9908 - lr: 1.0000e-03\n",
            "Epoch 26/100\n",
            "16/16 [==============================] - 2s 138ms/step - loss: 0.0093 - accuracy: 0.9979 - val_loss: 0.0330 - val_accuracy: 0.9907 - lr: 1.0000e-04\n",
            "Epoch 27/100\n",
            "16/16 [==============================] - 2s 140ms/step - loss: 0.0092 - accuracy: 0.9979 - val_loss: 0.0330 - val_accuracy: 0.9907 - lr: 1.0000e-04\n",
            "Epoch 28/100\n",
            "16/16 [==============================] - 2s 139ms/step - loss: 0.0092 - accuracy: 0.9979 - val_loss: 0.0330 - val_accuracy: 0.9907 - lr: 1.0000e-04\n",
            "Epoch 29/100\n",
            "16/16 [==============================] - 2s 139ms/step - loss: 0.0092 - accuracy: 0.9979 - val_loss: 0.0330 - val_accuracy: 0.9907 - lr: 1.0000e-04\n",
            "Epoch 30/100\n",
            "16/16 [==============================] - 2s 137ms/step - loss: 0.0092 - accuracy: 0.9979 - val_loss: 0.0330 - val_accuracy: 0.9907 - lr: 1.0000e-05\n",
            "Epoch 31/100\n",
            "16/16 [==============================] - 2s 139ms/step - loss: 0.0092 - accuracy: 0.9979 - val_loss: 0.0330 - val_accuracy: 0.9907 - lr: 1.0000e-05\n",
            "Epoch 32/100\n",
            "16/16 [==============================] - 2s 140ms/step - loss: 0.0092 - accuracy: 0.9979 - val_loss: 0.0330 - val_accuracy: 0.9907 - lr: 1.0000e-05\n",
            "\n",
            "Number of units: 128.\n",
            "\n",
            "Model: \"m_2\"\n",
            "_________________________________________________________________\n",
            " Layer (type)                Output Shape              Param #   \n",
            "=================================================================\n",
            " bidirectional_12 (Bidirecti  (None, 249, 512)         628736    \n",
            " onal)                                                           \n",
            "                                                                 \n",
            " bidirectional_13 (Bidirecti  (None, 249, 256)         656384    \n",
            " onal)                                                           \n",
            "                                                                 \n",
            " time_distributed_10 (TimeDi  (None, 249, 46)          11822     \n",
            " stributed)                                                      \n",
            "                                                                 \n",
            "=================================================================\n",
            "Total params: 1,296,942\n",
            "Trainable params: 1,296,942\n",
            "Non-trainable params: 0\n",
            "_________________________________________________________________\n",
            "Epoch 1/100\n",
            "16/16 [==============================] - 10s 259ms/step - loss: 2.9735 - accuracy: 0.8910 - val_loss: 1.0715 - val_accuracy: 0.9284 - lr: 0.0100\n",
            "Epoch 2/100\n",
            "16/16 [==============================] - 3s 167ms/step - loss: 0.6378 - accuracy: 0.9350 - val_loss: 0.3446 - val_accuracy: 0.9475 - lr: 0.0100\n",
            "Epoch 3/100\n",
            "16/16 [==============================] - 3s 168ms/step - loss: 0.2502 - accuracy: 0.9528 - val_loss: 0.1755 - val_accuracy: 0.9598 - lr: 0.0100\n",
            "Epoch 4/100\n",
            "16/16 [==============================] - 3s 168ms/step - loss: 0.1423 - accuracy: 0.9657 - val_loss: 0.1192 - val_accuracy: 0.9690 - lr: 0.0100\n",
            "Epoch 5/100\n",
            "16/16 [==============================] - 3s 168ms/step - loss: 0.1018 - accuracy: 0.9726 - val_loss: 0.0938 - val_accuracy: 0.9739 - lr: 0.0100\n",
            "Epoch 6/100\n",
            "16/16 [==============================] - 3s 167ms/step - loss: 0.0806 - accuracy: 0.9772 - val_loss: 0.0773 - val_accuracy: 0.9777 - lr: 0.0100\n",
            "Epoch 7/100\n",
            "16/16 [==============================] - 3s 167ms/step - loss: 0.0670 - accuracy: 0.9811 - val_loss: 0.0682 - val_accuracy: 0.9803 - lr: 0.0100\n",
            "Epoch 8/100\n",
            "16/16 [==============================] - 3s 167ms/step - loss: 0.0564 - accuracy: 0.9843 - val_loss: 0.0591 - val_accuracy: 0.9833 - lr: 0.0100\n",
            "Epoch 9/100\n",
            "16/16 [==============================] - 3s 167ms/step - loss: 0.0486 - accuracy: 0.9865 - val_loss: 0.0538 - val_accuracy: 0.9848 - lr: 0.0100\n",
            "Epoch 10/100\n",
            "16/16 [==============================] - 3s 168ms/step - loss: 0.0431 - accuracy: 0.9879 - val_loss: 0.0506 - val_accuracy: 0.9853 - lr: 0.0100\n",
            "Epoch 11/100\n",
            "16/16 [==============================] - 3s 169ms/step - loss: 0.0394 - accuracy: 0.9890 - val_loss: 0.0471 - val_accuracy: 0.9864 - lr: 0.0100\n",
            "Epoch 12/100\n",
            "16/16 [==============================] - 3s 168ms/step - loss: 0.0347 - accuracy: 0.9904 - val_loss: 0.0424 - val_accuracy: 0.9876 - lr: 0.0100\n",
            "Epoch 13/100\n",
            "16/16 [==============================] - 3s 168ms/step - loss: 0.0309 - accuracy: 0.9915 - val_loss: 0.0410 - val_accuracy: 0.9881 - lr: 0.0100\n",
            "Epoch 14/100\n",
            "16/16 [==============================] - 3s 169ms/step - loss: 0.0280 - accuracy: 0.9925 - val_loss: 0.0401 - val_accuracy: 0.9882 - lr: 0.0100\n",
            "Epoch 15/100\n",
            "16/16 [==============================] - 3s 170ms/step - loss: 0.0253 - accuracy: 0.9931 - val_loss: 0.0389 - val_accuracy: 0.9887 - lr: 0.0100\n",
            "Epoch 16/100\n",
            "16/16 [==============================] - 3s 169ms/step - loss: 0.0226 - accuracy: 0.9939 - val_loss: 0.0373 - val_accuracy: 0.9892 - lr: 0.0100\n",
            "Epoch 17/100\n",
            "16/16 [==============================] - 3s 170ms/step - loss: 0.0206 - accuracy: 0.9945 - val_loss: 0.0358 - val_accuracy: 0.9895 - lr: 0.0100\n",
            "Epoch 18/100\n",
            "16/16 [==============================] - 3s 169ms/step - loss: 0.0184 - accuracy: 0.9952 - val_loss: 0.0359 - val_accuracy: 0.9898 - lr: 0.0100\n",
            "Epoch 19/100\n",
            "16/16 [==============================] - 3s 169ms/step - loss: 0.0163 - accuracy: 0.9959 - val_loss: 0.0366 - val_accuracy: 0.9898 - lr: 0.0100\n",
            "Epoch 20/100\n",
            "16/16 [==============================] - 3s 170ms/step - loss: 0.0151 - accuracy: 0.9962 - val_loss: 0.0348 - val_accuracy: 0.9902 - lr: 0.0100\n",
            "Epoch 21/100\n",
            "16/16 [==============================] - 3s 169ms/step - loss: 0.0131 - accuracy: 0.9969 - val_loss: 0.0347 - val_accuracy: 0.9903 - lr: 0.0100\n",
            "Epoch 22/100\n",
            "16/16 [==============================] - 3s 169ms/step - loss: 0.0122 - accuracy: 0.9972 - val_loss: 0.0350 - val_accuracy: 0.9903 - lr: 0.0100\n",
            "Epoch 23/100\n",
            "16/16 [==============================] - 3s 169ms/step - loss: 0.0107 - accuracy: 0.9976 - val_loss: 0.0366 - val_accuracy: 0.9903 - lr: 0.0100\n",
            "Epoch 24/100\n",
            "16/16 [==============================] - 3s 170ms/step - loss: 0.0101 - accuracy: 0.9978 - val_loss: 0.0350 - val_accuracy: 0.9903 - lr: 0.0100\n",
            "Epoch 25/100\n",
            "16/16 [==============================] - 3s 169ms/step - loss: 0.0080 - accuracy: 0.9984 - val_loss: 0.0333 - val_accuracy: 0.9907 - lr: 1.0000e-03\n",
            "Epoch 26/100\n",
            "16/16 [==============================] - 3s 171ms/step - loss: 0.0072 - accuracy: 0.9985 - val_loss: 0.0332 - val_accuracy: 0.9908 - lr: 1.0000e-03\n",
            "Epoch 27/100\n",
            "16/16 [==============================] - 3s 169ms/step - loss: 0.0069 - accuracy: 0.9986 - val_loss: 0.0332 - val_accuracy: 0.9908 - lr: 1.0000e-03\n",
            "Epoch 28/100\n",
            "16/16 [==============================] - 3s 170ms/step - loss: 0.0068 - accuracy: 0.9986 - val_loss: 0.0331 - val_accuracy: 0.9909 - lr: 1.0000e-03\n",
            "Epoch 29/100\n",
            "16/16 [==============================] - 3s 170ms/step - loss: 0.0067 - accuracy: 0.9987 - val_loss: 0.0332 - val_accuracy: 0.9908 - lr: 1.0000e-03\n",
            "Epoch 30/100\n",
            "16/16 [==============================] - 3s 170ms/step - loss: 0.0065 - accuracy: 0.9987 - val_loss: 0.0332 - val_accuracy: 0.9908 - lr: 1.0000e-04\n",
            "Epoch 31/100\n",
            "16/16 [==============================] - 3s 169ms/step - loss: 0.0065 - accuracy: 0.9987 - val_loss: 0.0332 - val_accuracy: 0.9909 - lr: 1.0000e-04\n",
            "Epoch 32/100\n",
            "16/16 [==============================] - 3s 169ms/step - loss: 0.0065 - accuracy: 0.9987 - val_loss: 0.0332 - val_accuracy: 0.9909 - lr: 1.0000e-04\n",
            "Epoch 33/100\n",
            "16/16 [==============================] - 3s 170ms/step - loss: 0.0065 - accuracy: 0.9987 - val_loss: 0.0332 - val_accuracy: 0.9909 - lr: 1.0000e-05\n",
            "\n",
            "Number of units: 256.\n",
            "\n",
            "Model: \"m_2\"\n",
            "_________________________________________________________________\n",
            " Layer (type)                Output Shape              Param #   \n",
            "=================================================================\n",
            " bidirectional_14 (Bidirecti  (None, 249, 512)         628736    \n",
            " onal)                                                           \n",
            "                                                                 \n",
            " bidirectional_15 (Bidirecti  (None, 249, 512)         1574912   \n",
            " onal)                                                           \n",
            "                                                                 \n",
            " time_distributed_11 (TimeDi  (None, 249, 46)          23598     \n",
            " stributed)                                                      \n",
            "                                                                 \n",
            "=================================================================\n",
            "Total params: 2,227,246\n",
            "Trainable params: 2,227,246\n",
            "Non-trainable params: 0\n",
            "_________________________________________________________________\n",
            "Epoch 1/100\n",
            "16/16 [==============================] - 11s 322ms/step - loss: 4.3318 - accuracy: 0.8697 - val_loss: 2.2451 - val_accuracy: 0.9255 - lr: 0.0100\n",
            "Epoch 2/100\n",
            "16/16 [==============================] - 4s 227ms/step - loss: 1.3864 - accuracy: 0.9248 - val_loss: 0.7170 - val_accuracy: 0.9319 - lr: 0.0100\n",
            "Epoch 3/100\n",
            "16/16 [==============================] - 4s 227ms/step - loss: 0.4904 - accuracy: 0.9394 - val_loss: 0.3077 - val_accuracy: 0.9447 - lr: 0.0100\n",
            "Epoch 4/100\n",
            "16/16 [==============================] - 4s 227ms/step - loss: 0.2357 - accuracy: 0.9510 - val_loss: 0.1792 - val_accuracy: 0.9555 - lr: 0.0100\n",
            "Epoch 5/100\n",
            "16/16 [==============================] - 4s 226ms/step - loss: 0.1500 - accuracy: 0.9629 - val_loss: 0.1315 - val_accuracy: 0.9667 - lr: 0.0100\n",
            "Epoch 6/100\n",
            "16/16 [==============================] - 4s 226ms/step - loss: 0.1126 - accuracy: 0.9709 - val_loss: 0.1044 - val_accuracy: 0.9722 - lr: 0.0100\n",
            "Epoch 7/100\n",
            "16/16 [==============================] - 4s 226ms/step - loss: 0.0908 - accuracy: 0.9761 - val_loss: 0.0867 - val_accuracy: 0.9763 - lr: 0.0100\n",
            "Epoch 8/100\n",
            "16/16 [==============================] - 4s 226ms/step - loss: 0.0757 - accuracy: 0.9795 - val_loss: 0.0766 - val_accuracy: 0.9788 - lr: 0.0100\n",
            "Epoch 9/100\n",
            "16/16 [==============================] - 4s 227ms/step - loss: 0.0655 - accuracy: 0.9823 - val_loss: 0.0671 - val_accuracy: 0.9819 - lr: 0.0100\n",
            "Epoch 10/100\n",
            "16/16 [==============================] - 4s 227ms/step - loss: 0.0574 - accuracy: 0.9844 - val_loss: 0.0617 - val_accuracy: 0.9832 - lr: 0.0100\n",
            "Epoch 11/100\n",
            "16/16 [==============================] - 4s 225ms/step - loss: 0.0511 - accuracy: 0.9862 - val_loss: 0.0559 - val_accuracy: 0.9845 - lr: 0.0100\n",
            "Epoch 12/100\n",
            "16/16 [==============================] - 4s 226ms/step - loss: 0.0454 - accuracy: 0.9878 - val_loss: 0.0530 - val_accuracy: 0.9854 - lr: 0.0100\n",
            "Epoch 13/100\n",
            "16/16 [==============================] - 4s 227ms/step - loss: 0.0415 - accuracy: 0.9888 - val_loss: 0.0500 - val_accuracy: 0.9859 - lr: 0.0100\n",
            "Epoch 14/100\n",
            "16/16 [==============================] - 4s 227ms/step - loss: 0.0374 - accuracy: 0.9900 - val_loss: 0.0465 - val_accuracy: 0.9871 - lr: 0.0100\n",
            "Epoch 15/100\n",
            "16/16 [==============================] - 4s 228ms/step - loss: 0.0338 - accuracy: 0.9910 - val_loss: 0.0449 - val_accuracy: 0.9873 - lr: 0.0100\n",
            "Epoch 16/100\n",
            "16/16 [==============================] - 4s 227ms/step - loss: 0.0312 - accuracy: 0.9917 - val_loss: 0.0440 - val_accuracy: 0.9875 - lr: 0.0100\n",
            "Epoch 17/100\n",
            "16/16 [==============================] - 4s 227ms/step - loss: 0.0290 - accuracy: 0.9923 - val_loss: 0.0424 - val_accuracy: 0.9880 - lr: 0.0100\n",
            "Epoch 18/100\n",
            "16/16 [==============================] - 4s 229ms/step - loss: 0.0267 - accuracy: 0.9929 - val_loss: 0.0401 - val_accuracy: 0.9886 - lr: 0.0100\n",
            "Epoch 19/100\n",
            "16/16 [==============================] - 4s 228ms/step - loss: 0.0242 - accuracy: 0.9937 - val_loss: 0.0405 - val_accuracy: 0.9886 - lr: 0.0100\n",
            "Epoch 20/100\n",
            "16/16 [==============================] - 4s 228ms/step - loss: 0.0234 - accuracy: 0.9938 - val_loss: 0.0402 - val_accuracy: 0.9887 - lr: 0.0100\n",
            "Epoch 21/100\n",
            "16/16 [==============================] - 4s 227ms/step - loss: 0.0212 - accuracy: 0.9945 - val_loss: 0.0379 - val_accuracy: 0.9894 - lr: 0.0100\n",
            "Epoch 22/100\n",
            "16/16 [==============================] - 4s 228ms/step - loss: 0.0193 - accuracy: 0.9950 - val_loss: 0.0382 - val_accuracy: 0.9893 - lr: 0.0100\n",
            "Epoch 23/100\n",
            "16/16 [==============================] - 4s 227ms/step - loss: 0.0178 - accuracy: 0.9955 - val_loss: 0.0370 - val_accuracy: 0.9899 - lr: 0.0100\n",
            "Epoch 24/100\n",
            "16/16 [==============================] - 4s 228ms/step - loss: 0.0162 - accuracy: 0.9960 - val_loss: 0.0373 - val_accuracy: 0.9897 - lr: 0.0100\n",
            "Epoch 25/100\n",
            "16/16 [==============================] - 4s 229ms/step - loss: 0.0152 - accuracy: 0.9962 - val_loss: 0.0366 - val_accuracy: 0.9902 - lr: 0.0100\n",
            "Epoch 26/100\n",
            "16/16 [==============================] - 4s 228ms/step - loss: 0.0135 - accuracy: 0.9968 - val_loss: 0.0362 - val_accuracy: 0.9902 - lr: 0.0100\n",
            "Epoch 27/100\n",
            "16/16 [==============================] - 4s 228ms/step - loss: 0.0124 - accuracy: 0.9970 - val_loss: 0.0369 - val_accuracy: 0.9902 - lr: 0.0100\n",
            "Epoch 28/100\n",
            "16/16 [==============================] - 4s 227ms/step - loss: 0.0117 - accuracy: 0.9973 - val_loss: 0.0370 - val_accuracy: 0.9900 - lr: 0.0100\n",
            "Epoch 29/100\n",
            "16/16 [==============================] - 4s 227ms/step - loss: 0.0107 - accuracy: 0.9976 - val_loss: 0.0373 - val_accuracy: 0.9902 - lr: 0.0100\n",
            "Epoch 30/100\n",
            "16/16 [==============================] - 4s 229ms/step - loss: 0.0089 - accuracy: 0.9980 - val_loss: 0.0350 - val_accuracy: 0.9906 - lr: 1.0000e-03\n",
            "Epoch 31/100\n",
            "16/16 [==============================] - 4s 229ms/step - loss: 0.0081 - accuracy: 0.9983 - val_loss: 0.0347 - val_accuracy: 0.9908 - lr: 1.0000e-03\n",
            "Epoch 32/100\n",
            "16/16 [==============================] - 4s 229ms/step - loss: 0.0079 - accuracy: 0.9983 - val_loss: 0.0346 - val_accuracy: 0.9907 - lr: 1.0000e-03\n",
            "Epoch 33/100\n",
            "16/16 [==============================] - 4s 228ms/step - loss: 0.0077 - accuracy: 0.9984 - val_loss: 0.0347 - val_accuracy: 0.9906 - lr: 1.0000e-03\n",
            "Epoch 34/100\n",
            "16/16 [==============================] - 4s 227ms/step - loss: 0.0076 - accuracy: 0.9984 - val_loss: 0.0348 - val_accuracy: 0.9906 - lr: 1.0000e-03\n",
            "Epoch 35/100\n",
            "16/16 [==============================] - 4s 229ms/step - loss: 0.0075 - accuracy: 0.9985 - val_loss: 0.0347 - val_accuracy: 0.9907 - lr: 1.0000e-04\n",
            "Epoch 36/100\n",
            "16/16 [==============================] - 4s 227ms/step - loss: 0.0075 - accuracy: 0.9985 - val_loss: 0.0347 - val_accuracy: 0.9907 - lr: 1.0000e-04\n",
            "Epoch 37/100\n",
            "16/16 [==============================] - 4s 229ms/step - loss: 0.0075 - accuracy: 0.9985 - val_loss: 0.0347 - val_accuracy: 0.9907 - lr: 1.0000e-04\n"
          ]
        }
      ],
      "source": [
        "# Grid-search over possible units.\n",
        "double_lstm_units = [32, 64, 128, 256]\n",
        "double_lstm_models, double_lstm_model_histories = grid_search(models_name[2], double_lstm_units, baseline_best_units)"
      ]
    },
    {
      "cell_type": "markdown",
      "source": [
        "After having fitted each of the four models, the best one is chosen by executing the `get_best_model` function."
      ],
      "metadata": {
        "id": "LVT3NFzXjXgv"
      }
    },
    {
      "cell_type": "code",
      "execution_count": null,
      "metadata": {
        "id": "_-HZGh7gPCZ3",
        "colab": {
          "base_uri": "https://localhost:8080/"
        },
        "outputId": "2ade5d4a-6015-491d-9602-a32845b483f9"
      },
      "outputs": [
        {
          "output_type": "stream",
          "name": "stdout",
          "text": [
            "41/41 [==============================] - 2s 24ms/step\n",
            "41/41 [==============================] - 2s 23ms/step\n",
            "41/41 [==============================] - 2s 24ms/step\n",
            "41/41 [==============================] - 2s 27ms/step\n",
            "The best number of units is: 256.\n"
          ]
        }
      ],
      "source": [
        "_, double_lstm_f1_scores, models[models_name[2]] = get_best_model(double_lstm_models, double_lstm_units)"
      ]
    },
    {
      "cell_type": "markdown",
      "source": [
        "Lastly, both the validation loss curves and the macro F1-scores are plotted using the `plot_loss` and `plot_f1_scores` functions."
      ],
      "metadata": {
        "id": "VN9KAot3jbce"
      }
    },
    {
      "cell_type": "code",
      "execution_count": null,
      "metadata": {
        "id": "nXa5naV_dDPV",
        "colab": {
          "base_uri": "https://localhost:8080/",
          "height": 279
        },
        "outputId": "9868fd5d-063a-409f-90de-965acdbad9e5"
      },
      "outputs": [
        {
          "output_type": "display_data",
          "data": {
            "text/plain": [
              "<Figure size 288x288 with 1 Axes>"
            ],
            "image/png": "[encoded data removed]"
          },
          "metadata": {
            "needs_background": "light"
          }
        }
      ],
      "source": [
        "plot_loss(models_name[2], double_lstm_units, double_lstm_model_histories)"
      ]
    },
    {
      "cell_type": "code",
      "execution_count": null,
      "metadata": {
        "id": "zm-3dM5PldPF",
        "colab": {
          "base_uri": "https://localhost:8080/",
          "height": 286
        },
        "outputId": "ec6995d4-e64e-4810-b478-895661d48819"
      },
      "outputs": [
        {
          "output_type": "display_data",
          "data": {
            "text/plain": [
              "<Figure size 288x288 with 1 Axes>"
            ],
            "image/png": "[encoded data removed]"
          },
          "metadata": {
            "needs_background": "light"
          }
        }
      ],
      "source": [
        "plot_f1_scores(models_name[2], double_lstm_units, double_lstm_f1_scores)"
      ]
    },
    {
      "cell_type": "markdown",
      "metadata": {
        "id": "GIOxs5nNC3yG"
      },
      "source": [
        "### Additional Dense Layer Model ($m_3$)"
      ]
    },
    {
      "cell_type": "markdown",
      "source": [
        "Grid-search on $m_3$ is performed by searching for the best number of neurons within the first dense layer. The possible number of neurons are $\\{32, 64, 128, 256\\}$, which define four models: $m_3^1$, $m_3^2$, $m_3^3$, $m_3^4$ respectively."
      ],
      "metadata": {
        "id": "gXYLLjMPjiSQ"
      }
    },
    {
      "cell_type": "code",
      "execution_count": null,
      "metadata": {
        "id": "8wPBLVr5PeUE",
        "colab": {
          "base_uri": "https://localhost:8080/"
        },
        "outputId": "4fd1af34-8c29-4b6e-f0b8-7e53023f0479"
      },
      "outputs": [
        {
          "output_type": "stream",
          "name": "stdout",
          "text": [
            "Grid-search, m_3 model.\n",
            "\n",
            "Number of units: 32.\n",
            "\n",
            "Model: \"m_3\"\n",
            "_________________________________________________________________\n",
            " Layer (type)                Output Shape              Param #   \n",
            "=================================================================\n",
            " bidirectional_16 (Bidirecti  (None, 249, 512)         628736    \n",
            " onal)                                                           \n",
            "                                                                 \n",
            " time_distributed_12 (TimeDi  (None, 249, 32)          16416     \n",
            " stributed)                                                      \n",
            "                                                                 \n",
            " time_distributed_13 (TimeDi  (None, 249, 46)          1518      \n",
            " stributed)                                                      \n",
            "                                                                 \n",
            "=================================================================\n",
            "Total params: 646,670\n",
            "Trainable params: 646,670\n",
            "Non-trainable params: 0\n",
            "_________________________________________________________________\n",
            "Epoch 1/100\n",
            "16/16 [==============================] - 5s 156ms/step - loss: 2.4960 - accuracy: 0.8860 - val_loss: 0.9997 - val_accuracy: 0.9267 - lr: 0.0100\n",
            "Epoch 2/100\n",
            "16/16 [==============================] - 1s 92ms/step - loss: 0.6029 - accuracy: 0.9404 - val_loss: 0.3161 - val_accuracy: 0.9481 - lr: 0.0100\n",
            "Epoch 3/100\n",
            "16/16 [==============================] - 1s 94ms/step - loss: 0.2295 - accuracy: 0.9539 - val_loss: 0.1624 - val_accuracy: 0.9621 - lr: 0.0100\n",
            "Epoch 4/100\n",
            "16/16 [==============================] - 1s 92ms/step - loss: 0.1315 - accuracy: 0.9676 - val_loss: 0.1121 - val_accuracy: 0.9703 - lr: 0.0100\n",
            "Epoch 5/100\n",
            "16/16 [==============================] - 1s 93ms/step - loss: 0.0961 - accuracy: 0.9740 - val_loss: 0.0897 - val_accuracy: 0.9750 - lr: 0.0100\n",
            "Epoch 6/100\n",
            "16/16 [==============================] - 1s 92ms/step - loss: 0.0780 - accuracy: 0.9780 - val_loss: 0.0768 - val_accuracy: 0.9784 - lr: 0.0100\n",
            "Epoch 7/100\n",
            "16/16 [==============================] - 1s 93ms/step - loss: 0.0673 - accuracy: 0.9810 - val_loss: 0.0696 - val_accuracy: 0.9805 - lr: 0.0100\n",
            "Epoch 8/100\n",
            "16/16 [==============================] - 1s 92ms/step - loss: 0.0586 - accuracy: 0.9836 - val_loss: 0.0621 - val_accuracy: 0.9821 - lr: 0.0100\n",
            "Epoch 9/100\n",
            "16/16 [==============================] - 1s 92ms/step - loss: 0.0517 - accuracy: 0.9856 - val_loss: 0.0580 - val_accuracy: 0.9832 - lr: 0.0100\n",
            "Epoch 10/100\n",
            "16/16 [==============================] - 1s 92ms/step - loss: 0.0470 - accuracy: 0.9867 - val_loss: 0.0559 - val_accuracy: 0.9839 - lr: 0.0100\n",
            "Epoch 11/100\n",
            "16/16 [==============================] - 1s 93ms/step - loss: 0.0438 - accuracy: 0.9874 - val_loss: 0.0529 - val_accuracy: 0.9848 - lr: 0.0100\n",
            "Epoch 12/100\n",
            "16/16 [==============================] - 1s 93ms/step - loss: 0.0397 - accuracy: 0.9886 - val_loss: 0.0498 - val_accuracy: 0.9855 - lr: 0.0100\n",
            "Epoch 13/100\n",
            "16/16 [==============================] - 1s 93ms/step - loss: 0.0367 - accuracy: 0.9896 - val_loss: 0.0466 - val_accuracy: 0.9865 - lr: 0.0100\n",
            "Epoch 14/100\n",
            "16/16 [==============================] - 1s 94ms/step - loss: 0.0335 - accuracy: 0.9906 - val_loss: 0.0453 - val_accuracy: 0.9868 - lr: 0.0100\n",
            "Epoch 15/100\n",
            "16/16 [==============================] - 1s 93ms/step - loss: 0.0308 - accuracy: 0.9913 - val_loss: 0.0446 - val_accuracy: 0.9872 - lr: 0.0100\n",
            "Epoch 16/100\n",
            "16/16 [==============================] - 2s 97ms/step - loss: 0.0288 - accuracy: 0.9919 - val_loss: 0.0436 - val_accuracy: 0.9874 - lr: 0.0100\n",
            "Epoch 17/100\n",
            "16/16 [==============================] - 2s 105ms/step - loss: 0.0274 - accuracy: 0.9923 - val_loss: 0.0426 - val_accuracy: 0.9879 - lr: 0.0100\n",
            "Epoch 18/100\n",
            "16/16 [==============================] - 2s 102ms/step - loss: 0.0252 - accuracy: 0.9931 - val_loss: 0.0410 - val_accuracy: 0.9886 - lr: 0.0100\n",
            "Epoch 19/100\n",
            "16/16 [==============================] - 1s 93ms/step - loss: 0.0228 - accuracy: 0.9939 - val_loss: 0.0413 - val_accuracy: 0.9887 - lr: 0.0100\n",
            "Epoch 20/100\n",
            "16/16 [==============================] - 1s 92ms/step - loss: 0.0216 - accuracy: 0.9942 - val_loss: 0.0414 - val_accuracy: 0.9889 - lr: 0.0100\n",
            "Epoch 21/100\n",
            "16/16 [==============================] - 1s 94ms/step - loss: 0.0200 - accuracy: 0.9947 - val_loss: 0.0395 - val_accuracy: 0.9893 - lr: 0.0100\n",
            "Epoch 22/100\n",
            "16/16 [==============================] - 1s 93ms/step - loss: 0.0184 - accuracy: 0.9952 - val_loss: 0.0390 - val_accuracy: 0.9896 - lr: 0.0100\n",
            "Epoch 23/100\n",
            "16/16 [==============================] - 1s 94ms/step - loss: 0.0170 - accuracy: 0.9957 - val_loss: 0.0410 - val_accuracy: 0.9892 - lr: 0.0100\n",
            "Epoch 24/100\n",
            "16/16 [==============================] - 1s 93ms/step - loss: 0.0161 - accuracy: 0.9959 - val_loss: 0.0405 - val_accuracy: 0.9893 - lr: 0.0100\n",
            "Epoch 25/100\n",
            "16/16 [==============================] - 1s 94ms/step - loss: 0.0155 - accuracy: 0.9961 - val_loss: 0.0418 - val_accuracy: 0.9894 - lr: 0.0100\n",
            "Epoch 26/100\n",
            "16/16 [==============================] - 1s 93ms/step - loss: 0.0130 - accuracy: 0.9967 - val_loss: 0.0378 - val_accuracy: 0.9899 - lr: 1.0000e-03\n",
            "Epoch 27/100\n",
            "16/16 [==============================] - 1s 94ms/step - loss: 0.0118 - accuracy: 0.9971 - val_loss: 0.0372 - val_accuracy: 0.9900 - lr: 1.0000e-03\n",
            "Epoch 28/100\n",
            "16/16 [==============================] - 1s 93ms/step - loss: 0.0115 - accuracy: 0.9972 - val_loss: 0.0370 - val_accuracy: 0.9900 - lr: 1.0000e-03\n",
            "Epoch 29/100\n",
            "16/16 [==============================] - 1s 94ms/step - loss: 0.0114 - accuracy: 0.9972 - val_loss: 0.0370 - val_accuracy: 0.9900 - lr: 1.0000e-03\n",
            "Epoch 30/100\n",
            "16/16 [==============================] - 1s 93ms/step - loss: 0.0113 - accuracy: 0.9973 - val_loss: 0.0372 - val_accuracy: 0.9900 - lr: 1.0000e-03\n",
            "Epoch 31/100\n",
            "16/16 [==============================] - 1s 93ms/step - loss: 0.0111 - accuracy: 0.9973 - val_loss: 0.0371 - val_accuracy: 0.9900 - lr: 1.0000e-03\n",
            "Epoch 32/100\n",
            "16/16 [==============================] - 1s 94ms/step - loss: 0.0109 - accuracy: 0.9974 - val_loss: 0.0371 - val_accuracy: 0.9900 - lr: 1.0000e-04\n",
            "Epoch 33/100\n",
            "16/16 [==============================] - 1s 93ms/step - loss: 0.0109 - accuracy: 0.9974 - val_loss: 0.0371 - val_accuracy: 0.9900 - lr: 1.0000e-04\n",
            "\n",
            "Number of units: 64.\n",
            "\n",
            "Model: \"m_3\"\n",
            "_________________________________________________________________\n",
            " Layer (type)                Output Shape              Param #   \n",
            "=================================================================\n",
            " bidirectional_17 (Bidirecti  (None, 249, 512)         628736    \n",
            " onal)                                                           \n",
            "                                                                 \n",
            " time_distributed_14 (TimeDi  (None, 249, 64)          32832     \n",
            " stributed)                                                      \n",
            "                                                                 \n",
            " time_distributed_15 (TimeDi  (None, 249, 46)          2990      \n",
            " stributed)                                                      \n",
            "                                                                 \n",
            "=================================================================\n",
            "Total params: 664,558\n",
            "Trainable params: 664,558\n",
            "Non-trainable params: 0\n",
            "_________________________________________________________________\n",
            "Epoch 1/100\n",
            "16/16 [==============================] - 5s 158ms/step - loss: 3.6232 - accuracy: 0.7799 - val_loss: 2.4078 - val_accuracy: 0.9180 - lr: 0.0100\n",
            "Epoch 2/100\n",
            "16/16 [==============================] - 1s 92ms/step - loss: 1.6336 - accuracy: 0.9269 - val_loss: 0.8397 - val_accuracy: 0.9353 - lr: 0.0100\n",
            "Epoch 3/100\n",
            "16/16 [==============================] - 1s 94ms/step - loss: 0.5603 - accuracy: 0.9446 - val_loss: 0.3381 - val_accuracy: 0.9522 - lr: 0.0100\n",
            "Epoch 4/100\n",
            "16/16 [==============================] - 1s 93ms/step - loss: 0.2682 - accuracy: 0.9580 - val_loss: 0.2334 - val_accuracy: 0.9623 - lr: 0.0100\n",
            "Epoch 5/100\n",
            "16/16 [==============================] - 1s 93ms/step - loss: 0.1828 - accuracy: 0.9666 - val_loss: 0.1483 - val_accuracy: 0.9683 - lr: 0.0100\n",
            "Epoch 6/100\n",
            "16/16 [==============================] - 1s 93ms/step - loss: 0.1250 - accuracy: 0.9712 - val_loss: 0.1128 - val_accuracy: 0.9716 - lr: 0.0100\n",
            "Epoch 7/100\n",
            "16/16 [==============================] - 1s 94ms/step - loss: 0.0986 - accuracy: 0.9743 - val_loss: 0.0953 - val_accuracy: 0.9745 - lr: 0.0100\n",
            "Epoch 8/100\n",
            "16/16 [==============================] - 1s 92ms/step - loss: 0.0835 - accuracy: 0.9771 - val_loss: 0.0837 - val_accuracy: 0.9765 - lr: 0.0100\n",
            "Epoch 9/100\n",
            "16/16 [==============================] - 1s 93ms/step - loss: 0.0728 - accuracy: 0.9794 - val_loss: 0.0746 - val_accuracy: 0.9787 - lr: 0.0100\n",
            "Epoch 10/100\n",
            "16/16 [==============================] - 1s 93ms/step - loss: 0.0643 - accuracy: 0.9816 - val_loss: 0.0680 - val_accuracy: 0.9806 - lr: 0.0100\n",
            "Epoch 11/100\n",
            "16/16 [==============================] - 1s 93ms/step - loss: 0.0579 - accuracy: 0.9836 - val_loss: 0.0630 - val_accuracy: 0.9821 - lr: 0.0100\n",
            "Epoch 12/100\n",
            "16/16 [==============================] - 1s 94ms/step - loss: 0.0522 - accuracy: 0.9852 - val_loss: 0.0583 - val_accuracy: 0.9834 - lr: 0.0100\n",
            "Epoch 13/100\n",
            "16/16 [==============================] - 1s 93ms/step - loss: 0.0477 - accuracy: 0.9864 - val_loss: 0.0552 - val_accuracy: 0.9843 - lr: 0.0100\n",
            "Epoch 14/100\n",
            "16/16 [==============================] - 1s 92ms/step - loss: 0.0439 - accuracy: 0.9877 - val_loss: 0.0530 - val_accuracy: 0.9846 - lr: 0.0100\n",
            "Epoch 15/100\n",
            "16/16 [==============================] - 1s 92ms/step - loss: 0.0408 - accuracy: 0.9886 - val_loss: 0.0495 - val_accuracy: 0.9858 - lr: 0.0100\n",
            "Epoch 16/100\n",
            "16/16 [==============================] - 1s 93ms/step - loss: 0.0378 - accuracy: 0.9894 - val_loss: 0.0476 - val_accuracy: 0.9863 - lr: 0.0100\n",
            "Epoch 17/100\n",
            "16/16 [==============================] - 1s 93ms/step - loss: 0.0350 - accuracy: 0.9902 - val_loss: 0.0472 - val_accuracy: 0.9865 - lr: 0.0100\n",
            "Epoch 18/100\n",
            "16/16 [==============================] - 1s 93ms/step - loss: 0.0327 - accuracy: 0.9908 - val_loss: 0.0460 - val_accuracy: 0.9869 - lr: 0.0100\n",
            "Epoch 19/100\n",
            "16/16 [==============================] - 1s 94ms/step - loss: 0.0307 - accuracy: 0.9915 - val_loss: 0.0449 - val_accuracy: 0.9871 - lr: 0.0100\n",
            "Epoch 20/100\n",
            "16/16 [==============================] - 1s 93ms/step - loss: 0.0294 - accuracy: 0.9916 - val_loss: 0.0436 - val_accuracy: 0.9877 - lr: 0.0100\n",
            "Epoch 21/100\n",
            "16/16 [==============================] - 1s 93ms/step - loss: 0.0273 - accuracy: 0.9923 - val_loss: 0.0439 - val_accuracy: 0.9874 - lr: 0.0100\n",
            "Epoch 22/100\n",
            "16/16 [==============================] - 1s 93ms/step - loss: 0.0256 - accuracy: 0.9929 - val_loss: 0.0424 - val_accuracy: 0.9881 - lr: 0.0100\n",
            "Epoch 23/100\n",
            "16/16 [==============================] - 1s 93ms/step - loss: 0.0239 - accuracy: 0.9933 - val_loss: 0.0417 - val_accuracy: 0.9881 - lr: 0.0100\n",
            "Epoch 24/100\n",
            "16/16 [==============================] - 1s 93ms/step - loss: 0.0225 - accuracy: 0.9938 - val_loss: 0.0410 - val_accuracy: 0.9882 - lr: 0.0100\n",
            "Epoch 25/100\n",
            "16/16 [==============================] - 1s 93ms/step - loss: 0.0216 - accuracy: 0.9940 - val_loss: 0.0400 - val_accuracy: 0.9888 - lr: 0.0100\n",
            "Epoch 26/100\n",
            "16/16 [==============================] - 1s 92ms/step - loss: 0.0204 - accuracy: 0.9944 - val_loss: 0.0412 - val_accuracy: 0.9884 - lr: 0.0100\n",
            "Epoch 27/100\n",
            "16/16 [==============================] - 1s 93ms/step - loss: 0.0191 - accuracy: 0.9948 - val_loss: 0.0392 - val_accuracy: 0.9890 - lr: 0.0100\n",
            "Epoch 28/100\n",
            "16/16 [==============================] - 1s 94ms/step - loss: 0.0175 - accuracy: 0.9953 - val_loss: 0.0388 - val_accuracy: 0.9891 - lr: 0.0100\n",
            "Epoch 29/100\n",
            "16/16 [==============================] - 1s 93ms/step - loss: 0.0165 - accuracy: 0.9956 - val_loss: 0.0401 - val_accuracy: 0.9891 - lr: 0.0100\n",
            "Epoch 30/100\n",
            "16/16 [==============================] - 1s 94ms/step - loss: 0.0154 - accuracy: 0.9959 - val_loss: 0.0388 - val_accuracy: 0.9895 - lr: 0.0100\n",
            "Epoch 31/100\n",
            "16/16 [==============================] - 1s 94ms/step - loss: 0.0144 - accuracy: 0.9963 - val_loss: 0.0393 - val_accuracy: 0.9896 - lr: 0.0100\n",
            "Epoch 32/100\n",
            "16/16 [==============================] - 1s 94ms/step - loss: 0.0129 - accuracy: 0.9967 - val_loss: 0.0376 - val_accuracy: 0.9897 - lr: 1.0000e-03\n",
            "Epoch 33/100\n",
            "16/16 [==============================] - 1s 94ms/step - loss: 0.0122 - accuracy: 0.9970 - val_loss: 0.0376 - val_accuracy: 0.9897 - lr: 1.0000e-03\n",
            "Epoch 34/100\n",
            "16/16 [==============================] - 1s 94ms/step - loss: 0.0120 - accuracy: 0.9970 - val_loss: 0.0375 - val_accuracy: 0.9897 - lr: 1.0000e-03\n",
            "Epoch 35/100\n",
            "16/16 [==============================] - 1s 94ms/step - loss: 0.0119 - accuracy: 0.9970 - val_loss: 0.0376 - val_accuracy: 0.9898 - lr: 1.0000e-03\n",
            "Epoch 36/100\n",
            "16/16 [==============================] - 1s 94ms/step - loss: 0.0117 - accuracy: 0.9971 - val_loss: 0.0376 - val_accuracy: 0.9898 - lr: 1.0000e-04\n",
            "Epoch 37/100\n",
            "16/16 [==============================] - 1s 94ms/step - loss: 0.0116 - accuracy: 0.9971 - val_loss: 0.0375 - val_accuracy: 0.9898 - lr: 1.0000e-04\n",
            "Epoch 38/100\n",
            "16/16 [==============================] - 1s 95ms/step - loss: 0.0116 - accuracy: 0.9971 - val_loss: 0.0375 - val_accuracy: 0.9898 - lr: 1.0000e-04\n",
            "Epoch 39/100\n",
            "16/16 [==============================] - 1s 94ms/step - loss: 0.0116 - accuracy: 0.9971 - val_loss: 0.0375 - val_accuracy: 0.9898 - lr: 1.0000e-05\n",
            "Epoch 40/100\n",
            "16/16 [==============================] - 1s 93ms/step - loss: 0.0116 - accuracy: 0.9971 - val_loss: 0.0375 - val_accuracy: 0.9898 - lr: 1.0000e-05\n",
            "Epoch 41/100\n",
            "16/16 [==============================] - 1s 94ms/step - loss: 0.0116 - accuracy: 0.9971 - val_loss: 0.0375 - val_accuracy: 0.9898 - lr: 1.0000e-05\n",
            "Epoch 42/100\n",
            "16/16 [==============================] - 1s 94ms/step - loss: 0.0116 - accuracy: 0.9971 - val_loss: 0.0375 - val_accuracy: 0.9898 - lr: 1.0000e-06\n",
            "Epoch 43/100\n",
            "16/16 [==============================] - 1s 94ms/step - loss: 0.0116 - accuracy: 0.9971 - val_loss: 0.0375 - val_accuracy: 0.9898 - lr: 1.0000e-06\n",
            "\n",
            "Number of units: 128.\n",
            "\n",
            "Model: \"m_3\"\n",
            "_________________________________________________________________\n",
            " Layer (type)                Output Shape              Param #   \n",
            "=================================================================\n",
            " bidirectional_18 (Bidirecti  (None, 249, 512)         628736    \n",
            " onal)                                                           \n",
            "                                                                 \n",
            " time_distributed_16 (TimeDi  (None, 249, 128)         65664     \n",
            " stributed)                                                      \n",
            "                                                                 \n",
            " time_distributed_17 (TimeDi  (None, 249, 46)          5934      \n",
            " stributed)                                                      \n",
            "                                                                 \n",
            "=================================================================\n",
            "Total params: 700,334\n",
            "Trainable params: 700,334\n",
            "Non-trainable params: 0\n",
            "_________________________________________________________________\n",
            "Epoch 1/100\n",
            "16/16 [==============================] - 6s 154ms/step - loss: 3.0993 - accuracy: 0.8893 - val_loss: 2.1916 - val_accuracy: 0.9036 - lr: 0.0100\n",
            "Epoch 2/100\n",
            "16/16 [==============================] - 1s 94ms/step - loss: 2.8226 - accuracy: 0.8412 - val_loss: 3.6090 - val_accuracy: 0.9281 - lr: 0.0100\n",
            "Epoch 3/100\n",
            "16/16 [==============================] - 1s 94ms/step - loss: 3.2489 - accuracy: 0.9363 - val_loss: 2.3619 - val_accuracy: 0.9532 - lr: 0.0100\n",
            "Epoch 4/100\n",
            "16/16 [==============================] - 1s 94ms/step - loss: 1.5895 - accuracy: 0.9612 - val_loss: 0.8670 - val_accuracy: 0.9668 - lr: 0.0100\n",
            "Epoch 5/100\n",
            "16/16 [==============================] - 1s 94ms/step - loss: 0.5717 - accuracy: 0.9713 - val_loss: 0.3400 - val_accuracy: 0.9732 - lr: 0.0100\n",
            "Epoch 6/100\n",
            "16/16 [==============================] - 1s 94ms/step - loss: 0.2452 - accuracy: 0.9765 - val_loss: 0.1738 - val_accuracy: 0.9770 - lr: 0.0100\n",
            "Epoch 7/100\n",
            "16/16 [==============================] - 1s 94ms/step - loss: 0.1352 - accuracy: 0.9804 - val_loss: 0.1114 - val_accuracy: 0.9802 - lr: 0.0100\n",
            "Epoch 8/100\n",
            "16/16 [==============================] - 1s 95ms/step - loss: 0.0895 - accuracy: 0.9833 - val_loss: 0.0829 - val_accuracy: 0.9822 - lr: 0.0100\n",
            "Epoch 9/100\n",
            "16/16 [==============================] - 1s 94ms/step - loss: 0.0667 - accuracy: 0.9853 - val_loss: 0.0678 - val_accuracy: 0.9836 - lr: 0.0100\n",
            "Epoch 10/100\n",
            "16/16 [==============================] - 1s 95ms/step - loss: 0.0535 - accuracy: 0.9868 - val_loss: 0.0581 - val_accuracy: 0.9851 - lr: 0.0100\n",
            "Epoch 11/100\n",
            "16/16 [==============================] - 1s 95ms/step - loss: 0.0454 - accuracy: 0.9881 - val_loss: 0.0536 - val_accuracy: 0.9855 - lr: 0.0100\n",
            "Epoch 12/100\n",
            "16/16 [==============================] - 1s 95ms/step - loss: 0.0395 - accuracy: 0.9894 - val_loss: 0.0486 - val_accuracy: 0.9867 - lr: 0.0100\n",
            "Epoch 13/100\n",
            "16/16 [==============================] - 1s 95ms/step - loss: 0.0353 - accuracy: 0.9903 - val_loss: 0.0467 - val_accuracy: 0.9871 - lr: 0.0100\n",
            "Epoch 14/100\n",
            "16/16 [==============================] - 1s 95ms/step - loss: 0.0321 - accuracy: 0.9911 - val_loss: 0.0467 - val_accuracy: 0.9868 - lr: 0.0100\n",
            "Epoch 15/100\n",
            "16/16 [==============================] - 2s 95ms/step - loss: 0.0291 - accuracy: 0.9919 - val_loss: 0.0425 - val_accuracy: 0.9881 - lr: 0.0100\n",
            "Epoch 16/100\n",
            "16/16 [==============================] - 1s 95ms/step - loss: 0.0261 - accuracy: 0.9926 - val_loss: 0.0416 - val_accuracy: 0.9884 - lr: 0.0100\n",
            "Epoch 17/100\n",
            "16/16 [==============================] - 2s 95ms/step - loss: 0.0236 - accuracy: 0.9935 - val_loss: 0.0405 - val_accuracy: 0.9885 - lr: 0.0100\n",
            "Epoch 18/100\n",
            "16/16 [==============================] - 1s 95ms/step - loss: 0.0217 - accuracy: 0.9942 - val_loss: 0.0399 - val_accuracy: 0.9889 - lr: 0.0100\n",
            "Epoch 19/100\n",
            "16/16 [==============================] - 1s 95ms/step - loss: 0.0199 - accuracy: 0.9945 - val_loss: 0.0397 - val_accuracy: 0.9893 - lr: 0.0100\n",
            "Epoch 20/100\n",
            "16/16 [==============================] - 1s 95ms/step - loss: 0.0184 - accuracy: 0.9950 - val_loss: 0.0401 - val_accuracy: 0.9893 - lr: 0.0100\n",
            "Epoch 21/100\n",
            "16/16 [==============================] - 2s 95ms/step - loss: 0.0170 - accuracy: 0.9954 - val_loss: 0.0395 - val_accuracy: 0.9893 - lr: 0.0100\n",
            "Epoch 22/100\n",
            "16/16 [==============================] - 1s 95ms/step - loss: 0.0158 - accuracy: 0.9957 - val_loss: 0.0396 - val_accuracy: 0.9894 - lr: 0.0100\n",
            "Epoch 23/100\n",
            "16/16 [==============================] - 1s 95ms/step - loss: 0.0145 - accuracy: 0.9961 - val_loss: 0.0399 - val_accuracy: 0.9896 - lr: 0.0100\n",
            "Epoch 24/100\n",
            "16/16 [==============================] - 1s 95ms/step - loss: 0.0133 - accuracy: 0.9965 - val_loss: 0.0390 - val_accuracy: 0.9897 - lr: 0.0100\n",
            "Epoch 25/100\n",
            "16/16 [==============================] - 1s 94ms/step - loss: 0.0119 - accuracy: 0.9969 - val_loss: 0.0398 - val_accuracy: 0.9898 - lr: 0.0100\n",
            "Epoch 26/100\n",
            "16/16 [==============================] - 1s 95ms/step - loss: 0.0108 - accuracy: 0.9973 - val_loss: 0.0402 - val_accuracy: 0.9899 - lr: 0.0100\n",
            "Epoch 27/100\n",
            "16/16 [==============================] - 1s 94ms/step - loss: 0.0100 - accuracy: 0.9975 - val_loss: 0.0406 - val_accuracy: 0.9899 - lr: 0.0100\n",
            "Epoch 28/100\n",
            "16/16 [==============================] - 1s 95ms/step - loss: 0.0085 - accuracy: 0.9980 - val_loss: 0.0390 - val_accuracy: 0.9901 - lr: 1.0000e-03\n",
            "Epoch 29/100\n",
            "16/16 [==============================] - 1s 95ms/step - loss: 0.0078 - accuracy: 0.9982 - val_loss: 0.0387 - val_accuracy: 0.9902 - lr: 1.0000e-03\n",
            "Epoch 30/100\n",
            "16/16 [==============================] - 1s 95ms/step - loss: 0.0076 - accuracy: 0.9983 - val_loss: 0.0390 - val_accuracy: 0.9901 - lr: 1.0000e-03\n",
            "Epoch 31/100\n",
            "16/16 [==============================] - 1s 95ms/step - loss: 0.0075 - accuracy: 0.9984 - val_loss: 0.0389 - val_accuracy: 0.9902 - lr: 1.0000e-03\n",
            "Epoch 32/100\n",
            "16/16 [==============================] - 1s 95ms/step - loss: 0.0074 - accuracy: 0.9984 - val_loss: 0.0389 - val_accuracy: 0.9901 - lr: 1.0000e-03\n",
            "Epoch 33/100\n",
            "16/16 [==============================] - 1s 95ms/step - loss: 0.0073 - accuracy: 0.9985 - val_loss: 0.0390 - val_accuracy: 0.9901 - lr: 1.0000e-04\n",
            "Epoch 34/100\n",
            "16/16 [==============================] - 1s 95ms/step - loss: 0.0072 - accuracy: 0.9985 - val_loss: 0.0390 - val_accuracy: 0.9902 - lr: 1.0000e-04\n",
            "\n",
            "Number of units: 256.\n",
            "\n",
            "Model: \"m_3\"\n",
            "_________________________________________________________________\n",
            " Layer (type)                Output Shape              Param #   \n",
            "=================================================================\n",
            " bidirectional_19 (Bidirecti  (None, 249, 512)         628736    \n",
            " onal)                                                           \n",
            "                                                                 \n",
            " time_distributed_18 (TimeDi  (None, 249, 256)         131328    \n",
            " stributed)                                                      \n",
            "                                                                 \n",
            " time_distributed_19 (TimeDi  (None, 249, 46)          11822     \n",
            " stributed)                                                      \n",
            "                                                                 \n",
            "=================================================================\n",
            "Total params: 771,886\n",
            "Trainable params: 771,886\n",
            "Non-trainable params: 0\n",
            "_________________________________________________________________\n",
            "Epoch 1/100\n",
            "16/16 [==============================] - 5s 158ms/step - loss: 2.3659 - accuracy: 0.8977 - val_loss: 1.0527 - val_accuracy: 0.9392 - lr: 0.0100\n",
            "Epoch 2/100\n",
            "16/16 [==============================] - 2s 99ms/step - loss: 0.6431 - accuracy: 0.9496 - val_loss: 0.3257 - val_accuracy: 0.9610 - lr: 0.0100\n",
            "Epoch 3/100\n",
            "16/16 [==============================] - 2s 100ms/step - loss: 0.2126 - accuracy: 0.9675 - val_loss: 0.1354 - val_accuracy: 0.9706 - lr: 0.0100\n",
            "Epoch 4/100\n",
            "16/16 [==============================] - 2s 99ms/step - loss: 0.1030 - accuracy: 0.9753 - val_loss: 0.0860 - val_accuracy: 0.9772 - lr: 0.0100\n",
            "Epoch 5/100\n",
            "16/16 [==============================] - 2s 99ms/step - loss: 0.0703 - accuracy: 0.9806 - val_loss: 0.0683 - val_accuracy: 0.9806 - lr: 0.0100\n",
            "Epoch 6/100\n",
            "16/16 [==============================] - 2s 100ms/step - loss: 0.0559 - accuracy: 0.9838 - val_loss: 0.0584 - val_accuracy: 0.9833 - lr: 0.0100\n",
            "Epoch 7/100\n",
            "16/16 [==============================] - 2s 99ms/step - loss: 0.0486 - accuracy: 0.9858 - val_loss: 0.0532 - val_accuracy: 0.9847 - lr: 0.0100\n",
            "Epoch 8/100\n",
            "16/16 [==============================] - 2s 99ms/step - loss: 0.0422 - accuracy: 0.9877 - val_loss: 0.0494 - val_accuracy: 0.9858 - lr: 0.0100\n",
            "Epoch 9/100\n",
            "16/16 [==============================] - 2s 100ms/step - loss: 0.0370 - accuracy: 0.9893 - val_loss: 0.0465 - val_accuracy: 0.9867 - lr: 0.0100\n",
            "Epoch 10/100\n",
            "16/16 [==============================] - 2s 99ms/step - loss: 0.0335 - accuracy: 0.9901 - val_loss: 0.0442 - val_accuracy: 0.9873 - lr: 0.0100\n",
            "Epoch 11/100\n",
            "16/16 [==============================] - 2s 99ms/step - loss: 0.0306 - accuracy: 0.9911 - val_loss: 0.0421 - val_accuracy: 0.9881 - lr: 0.0100\n",
            "Epoch 12/100\n",
            "16/16 [==============================] - 2s 101ms/step - loss: 0.0272 - accuracy: 0.9922 - val_loss: 0.0417 - val_accuracy: 0.9883 - lr: 0.0100\n",
            "Epoch 13/100\n",
            "16/16 [==============================] - 2s 99ms/step - loss: 0.0253 - accuracy: 0.9927 - val_loss: 0.0408 - val_accuracy: 0.9887 - lr: 0.0100\n",
            "Epoch 14/100\n",
            "16/16 [==============================] - 2s 100ms/step - loss: 0.0226 - accuracy: 0.9935 - val_loss: 0.0411 - val_accuracy: 0.9884 - lr: 0.0100\n",
            "Epoch 15/100\n",
            "16/16 [==============================] - 2s 100ms/step - loss: 0.0207 - accuracy: 0.9941 - val_loss: 0.0411 - val_accuracy: 0.9887 - lr: 0.0100\n",
            "Epoch 16/100\n",
            "16/16 [==============================] - 2s 100ms/step - loss: 0.0186 - accuracy: 0.9948 - val_loss: 0.0391 - val_accuracy: 0.9893 - lr: 0.0100\n",
            "Epoch 17/100\n",
            "16/16 [==============================] - 2s 100ms/step - loss: 0.0169 - accuracy: 0.9953 - val_loss: 0.0384 - val_accuracy: 0.9896 - lr: 0.0100\n",
            "Epoch 18/100\n",
            "16/16 [==============================] - 2s 99ms/step - loss: 0.0152 - accuracy: 0.9959 - val_loss: 0.0401 - val_accuracy: 0.9895 - lr: 0.0100\n",
            "Epoch 19/100\n",
            "16/16 [==============================] - 2s 99ms/step - loss: 0.0136 - accuracy: 0.9964 - val_loss: 0.0396 - val_accuracy: 0.9896 - lr: 0.0100\n",
            "Epoch 20/100\n",
            "16/16 [==============================] - 2s 99ms/step - loss: 0.0124 - accuracy: 0.9968 - val_loss: 0.0412 - val_accuracy: 0.9896 - lr: 0.0100\n",
            "Epoch 21/100\n",
            "16/16 [==============================] - 2s 100ms/step - loss: 0.0102 - accuracy: 0.9974 - val_loss: 0.0384 - val_accuracy: 0.9899 - lr: 1.0000e-03\n",
            "Epoch 22/100\n",
            "16/16 [==============================] - 2s 99ms/step - loss: 0.0092 - accuracy: 0.9977 - val_loss: 0.0379 - val_accuracy: 0.9901 - lr: 1.0000e-03\n",
            "Epoch 23/100\n",
            "16/16 [==============================] - 2s 100ms/step - loss: 0.0089 - accuracy: 0.9978 - val_loss: 0.0378 - val_accuracy: 0.9900 - lr: 1.0000e-03\n",
            "Epoch 24/100\n",
            "16/16 [==============================] - 2s 100ms/step - loss: 0.0087 - accuracy: 0.9979 - val_loss: 0.0378 - val_accuracy: 0.9900 - lr: 1.0000e-03\n",
            "Epoch 25/100\n",
            "16/16 [==============================] - 2s 100ms/step - loss: 0.0086 - accuracy: 0.9979 - val_loss: 0.0381 - val_accuracy: 0.9900 - lr: 1.0000e-03\n",
            "Epoch 26/100\n",
            "16/16 [==============================] - 2s 99ms/step - loss: 0.0084 - accuracy: 0.9980 - val_loss: 0.0379 - val_accuracy: 0.9900 - lr: 1.0000e-04\n",
            "Epoch 27/100\n",
            "16/16 [==============================] - 2s 100ms/step - loss: 0.0083 - accuracy: 0.9980 - val_loss: 0.0378 - val_accuracy: 0.9900 - lr: 1.0000e-04\n",
            "Epoch 28/100\n",
            "16/16 [==============================] - 2s 101ms/step - loss: 0.0083 - accuracy: 0.9980 - val_loss: 0.0380 - val_accuracy: 0.9900 - lr: 1.0000e-04\n",
            "Epoch 29/100\n",
            "16/16 [==============================] - 2s 100ms/step - loss: 0.0083 - accuracy: 0.9980 - val_loss: 0.0380 - val_accuracy: 0.9900 - lr: 1.0000e-05\n"
          ]
        }
      ],
      "source": [
        "# Grid-search over possible units.\n",
        "double_dense_units = [32, 64, 128, 256]\n",
        "double_dense_models, double_dense_model_histories = grid_search(models_name[3], double_dense_units, baseline_best_units)"
      ]
    },
    {
      "cell_type": "markdown",
      "source": [
        "After having fitted each of the four models, the best one is chosen by executing the `get_best_model` function."
      ],
      "metadata": {
        "id": "pWLsBRLsjsrd"
      }
    },
    {
      "cell_type": "code",
      "execution_count": null,
      "metadata": {
        "id": "bSvZYbeoQTnv",
        "colab": {
          "base_uri": "https://localhost:8080/"
        },
        "outputId": "d0a4bb0f-c9d3-4930-a089-b91582648995"
      },
      "outputs": [
        {
          "output_type": "stream",
          "name": "stdout",
          "text": [
            "41/41 [==============================] - 1s 13ms/step\n",
            "41/41 [==============================] - 2s 22ms/step\n",
            "41/41 [==============================] - 2s 17ms/step\n",
            "41/41 [==============================] - 1s 13ms/step\n",
            "The best number of units is: 128.\n"
          ]
        }
      ],
      "source": [
        "_, double_dense_f1_scores, models[models_name[3]] = get_best_model(double_dense_models, double_dense_units)"
      ]
    },
    {
      "cell_type": "markdown",
      "source": [
        "Lastly, both the validation loss curves and the macro F1-scores are plotted using the `plot_loss` and `plot_f1_scores` functions."
      ],
      "metadata": {
        "id": "WTfK6rJnjv9c"
      }
    },
    {
      "cell_type": "code",
      "execution_count": null,
      "metadata": {
        "id": "2a2RUiMSdRca",
        "colab": {
          "base_uri": "https://localhost:8080/",
          "height": 279
        },
        "outputId": "5eed88a8-e41c-416e-da74-81e948d14c7b"
      },
      "outputs": [
        {
          "output_type": "display_data",
          "data": {
            "text/plain": [
              "<Figure size 288x288 with 1 Axes>"
            ],
            "image/png": "[encoded data removed]"
          },
          "metadata": {
            "needs_background": "light"
          }
        }
      ],
      "source": [
        "plot_loss(models_name[3], double_dense_units, double_dense_model_histories)"
      ]
    },
    {
      "cell_type": "code",
      "execution_count": null,
      "metadata": {
        "id": "WW_w2k22livM",
        "colab": {
          "base_uri": "https://localhost:8080/",
          "height": 286
        },
        "outputId": "fc148eae-0222-40a0-dd8f-536dac3cd560"
      },
      "outputs": [
        {
          "output_type": "display_data",
          "data": {
            "text/plain": [
              "<Figure size 288x288 with 1 Axes>"
            ],
            "image/png": "[encoded data removed]"
          },
          "metadata": {
            "needs_background": "light"
          }
        }
      ],
      "source": [
        "plot_f1_scores(models_name[3], double_dense_units, double_dense_f1_scores)"
      ]
    },
    {
      "cell_type": "markdown",
      "metadata": {
        "id": "BXJiM4jgQuAb"
      },
      "source": [
        "## Models Testing"
      ]
    },
    {
      "cell_type": "markdown",
      "source": [
        "The best models, according to the training results, are $m_0^4$, $m_1^4$, $m_2^4$ and $m_3^3$. For each of these models, the macro F1-score on the validation split is printed below. Only the two best models must be tested using the test set."
      ],
      "metadata": {
        "id": "iWgi8b80BB3l"
      }
    },
    {
      "cell_type": "code",
      "source": [
        "# Best validation models.\n",
        "models_val_score = {}\n",
        "best_val_pred = {}\n",
        "models_val_report = {}\n",
        "\n",
        "# Computing macro F1-scores on the four models selected with grid-search.\n",
        "for model in models:\n",
        "  print(f\"{descriptions_dict[model]}\\n\")\n",
        "  models_val_score[model], best_val_pred[model], models_val_report[model] = compute_F1_score(models[model], validation_features, validation_tags, tag_to_index)\n",
        "  print(f\"The macro F1-score for model {model} is: {models_val_score[model]}.\\n\")\n",
        "\n",
        "# Storing the two best models.\n",
        "best_models = sorted(models_val_score, key = models_val_score.get, reverse = True)[:2]"
      ],
      "metadata": {
        "id": "IIJo6bN2wPVm",
        "colab": {
          "base_uri": "https://localhost:8080/"
        },
        "outputId": "d1f34f3d-77c4-4e91-9647-dd3d614e06c5"
      },
      "execution_count": null,
      "outputs": [
        {
          "output_type": "stream",
          "name": "stdout",
          "text": [
            "Baseline model (m_0): \n",
            " - Bi-directional LSTM layer. \n",
            " - Time-distributed dense layer. \n",
            " - Softmax activation function.\n",
            "\n",
            "41/41 [==============================] - 1s 13ms/step\n",
            "The macro F1-score for model m_0 is: 0.7785212201881775.\n",
            "\n",
            "BiGRU model (m_1): \n",
            " - Bi-directional GRU layer. \n",
            " - Time-distributed dense layer. \n",
            " - Softmax activation function.\n",
            "\n",
            "41/41 [==============================] - 1s 13ms/step\n",
            "The macro F1-score for model m_1 is: 0.7654758586112104.\n",
            "\n",
            "Additional bi-directional LSTM model (m_2): \n",
            " - Bi-directional LSTM layer. \n",
            " - Bi-directional LSTM layer. \n",
            " - Time-distributed dense layer. \n",
            " - Softmax activation function.\n",
            "\n",
            "41/41 [==============================] - 1s 25ms/step\n",
            "The macro F1-score for model m_2 is: 0.774168597116443.\n",
            "\n",
            "Additional dense layer model (m_3): \n",
            " - Bi-directional LSTM layer. \n",
            " - Time-distributed dense layer. \n",
            " - ReLU activation function. \n",
            " - Time-distributed dense layer. \n",
            " - Softmax activation function.\n",
            "\n",
            "41/41 [==============================] - 1s 14ms/step\n",
            "The macro F1-score for model m_3 is: 0.7715613062091913.\n",
            "\n"
          ]
        }
      ]
    },
    {
      "cell_type": "markdown",
      "source": [
        "Thus, the two models that will be tested on the test split are $m_0^4$ and $m_2^4$."
      ],
      "metadata": {
        "id": "ZuxrjCo9CvHI"
      }
    },
    {
      "cell_type": "code",
      "execution_count": null,
      "metadata": {
        "id": "Y2BQysorQxR3",
        "colab": {
          "base_uri": "https://localhost:8080/"
        },
        "outputId": "bf141f52-9fad-47c1-b796-fe61e132af32"
      },
      "outputs": [
        {
          "output_type": "stream",
          "name": "stdout",
          "text": [
            "Baseline model (m_0): \n",
            " - Bi-directional LSTM layer. \n",
            " - Time-distributed dense layer. \n",
            " - Softmax activation function.\n",
            "\n",
            "21/21 [==============================] - 0s 13ms/step\n",
            "The macro F1-score, on the test set, for model m_0 is: 0.7828587014572577.\n",
            "\n",
            "Additional bi-directional LSTM model (m_2): \n",
            " - Bi-directional LSTM layer. \n",
            " - Bi-directional LSTM layer. \n",
            " - Time-distributed dense layer. \n",
            " - Softmax activation function.\n",
            "\n",
            "21/21 [==============================] - 1s 26ms/step\n",
            "The macro F1-score, on the test set, for model m_2 is: 0.7556192872287104.\n",
            "\n"
          ]
        }
      ],
      "source": [
        "# Best test models.\n",
        "models_test_score = {}\n",
        "best_test_pred = {}\n",
        "models_test_report = {}\n",
        "\n",
        "# Testing the two best models.\n",
        "for model in best_models:\n",
        "  print(f\"{descriptions_dict[model]}\\n\")\n",
        "  models_test_score[model], best_test_pred[model], models_test_report[model] = compute_F1_score(models[model], test_features, test_tags, tag_to_index)\n",
        "  print(f\"The macro F1-score, on the test set, for model {model} is: {models_test_score[model]}.\\n\")"
      ]
    },
    {
      "cell_type": "markdown",
      "source": [
        "One can notice how, in the case of both $m_0^4$ and $m_2^4$, the macro F1-score computed on the test split in similar to the one computed on the validation split."
      ],
      "metadata": {
        "id": "XYkmQjnbC89Z"
      }
    },
    {
      "cell_type": "markdown",
      "source": [
        "## Error Analysis"
      ],
      "metadata": {
        "id": "mzcYbRABcNfd"
      }
    },
    {
      "cell_type": "markdown",
      "source": [
        "Given the two best models, $m_0^4$ and $m_2^4$, some error analysis is permorfed. In particular, this section highlights the following:\n",
        "\n",
        "*   The error rate computed on both the validation and test splits.\n",
        "*   The macro precision and recall computed on both the validation and test splits.\n",
        "*   The confusion matrices, for both models, computed on the test set.\n",
        "*   Some of the most miss-classified test samples for both models."
      ],
      "metadata": {
        "id": "e5kUDHCGGy96"
      }
    },
    {
      "cell_type": "markdown",
      "source": [
        "The following cell defines the `get_masked_labels` function, that is used to compute a masked version of the vectors containing the true and predicted labels produced by a given model. The result of such function can be used to compute the error rate on a specific data split or on a single sentence."
      ],
      "metadata": {
        "id": "r6dK3LvAIELD"
      }
    },
    {
      "cell_type": "code",
      "source": [
        "# Removes punctuation/symbols tags from true and predicted labels.\n",
        "def get_masked_labels(true_labels, pred_labels, tag_to_index, punctuation_tag_list):\n",
        "\n",
        "  # Tag-to-index transformation.\n",
        "  punctuation_indexes = [tag_to_index[tag] for tag in punctuation_tag_list]\n",
        "\n",
        "  # Removing punctuatin/symbols.\n",
        "  mask = np.isin(true_labels, punctuation_indexes)\n",
        "  true = np.delete(true_labels, mask)\n",
        "  pred = np.delete(pred_labels, mask)\n",
        "\n",
        "  # Returning true, pred and punctuation_indexes.\n",
        "  return true, pred, punctuation_indexes\n",
        "\n",
        "# Plotting error rates for best models.\n",
        "for model in best_models:\n",
        "\n",
        "  # Validation error rate.\n",
        "  model_val_pred = np.argmax(best_val_pred[model], axis = 2).flatten()\n",
        "  true, pred, _ = get_masked_labels(validation_tags.flatten(), model_val_pred, tag_to_index, punctuation_tag_list)\n",
        "  print(\"The error rate, on the validation set, for model {} is: {}%.\".format(model, np.sum(true != pred) * 100 / len(true)))\n",
        "\n",
        "  # Test error rate.\n",
        "  model_test_pred = np.argmax(best_test_pred[model], axis = 2).flatten()\n",
        "  true, pred, _ = get_masked_labels(test_tags.flatten(), model_test_pred, tag_to_index, punctuation_tag_list)\n",
        "  print(\"The error rate, on the test set, for model {} is: {}%.\".format(model, np.sum(true != pred) * 100 / len(true)))"
      ],
      "metadata": {
        "id": "AnfyPX5NN1Z1",
        "colab": {
          "base_uri": "https://localhost:8080/"
        },
        "outputId": "4cfa4d07-c4a5-456c-9510-827bfdd754df"
      },
      "execution_count": null,
      "outputs": [
        {
          "output_type": "stream",
          "name": "stdout",
          "text": [
            "The error rate, on the validation set, for model m_0 is: 10.472369140981215%.\n",
            "The error rate, on the test set, for model m_0 is: 9.578824217607487%.\n",
            "The error rate, on the validation set, for model m_2 is: 10.603684114535838%.\n",
            "The error rate, on the test set, for model m_2 is: 10.105293945598127%.\n"
          ]
        }
      ]
    },
    {
      "cell_type": "markdown",
      "source": [
        "From the computed values, one can notice how the error rates on the test set are lower than the error rates computed on the validation set. This is mainly due to the fact that the test set have more zero-support classes than the validation set. As mentioned above, the only class that has zero support in the validation split is `['SYM']`, while the classes that have zero support in the test set are `['FW', 'UH', 'SYM', 'LS', '#']`. In particular, `SYM`, `LS` and `#` are punctuation/symbols tags, so they are not considered when computing the final results. However, when looking at the training set distribution, one can notice how `FW` and `UH` have low support, and so the models are not able to effectively learn how to correctly classify tokens of these classes. The fact that the classes `FW` and `UH` are only present in the validation split, and not in the test split, makes the error rate for the test set lower than the error rate for the validation set.\n",
        "\n",
        "To prove this, the following cell prints the F1-scores associated with such tags, showing that, indeed, the models are not able to correctly classify samples related to such classes."
      ],
      "metadata": {
        "id": "aXRVyeSAEncJ"
      }
    },
    {
      "cell_type": "code",
      "source": [
        "# Printing F1-score for classes FW and UH, which have little support in training set, and no support in test set.\n",
        "for model in best_models:\n",
        "  print(\"The F1-score, on the validation set, for class FW and model {} is: {}\".format(model, models_val_report[model][\"FW\"][\"f1-score\"]))\n",
        "  print(\"The F1-score, on the validation set, for class UH and model {} is: {}\".format(model, models_val_report[model][\"UH\"][\"f1-score\"]))"
      ],
      "metadata": {
        "id": "pcCYsLSJwPVy",
        "colab": {
          "base_uri": "https://localhost:8080/"
        },
        "outputId": "4448da15-ad91-48f0-baf2-5a4b248bca07"
      },
      "execution_count": null,
      "outputs": [
        {
          "output_type": "stream",
          "name": "stdout",
          "text": [
            "The F1-score, on the validation set, for class FW and model m_0 is: 0.0\n",
            "The F1-score, on the validation set, for class UH and model m_0 is: 0.0\n",
            "The F1-score, on the validation set, for class FW and model m_2 is: 0.0\n",
            "The F1-score, on the validation set, for class UH and model m_2 is: 0.0\n"
          ]
        }
      ]
    },
    {
      "cell_type": "markdown",
      "source": [
        "Indeed, from the results printed above, one can notice how the macro F1-scores are equal to zero.\n",
        "\n",
        "Next, the two most frequent classes (`NN` and `IN`) and the two least frequent classes (`WP$` and `RBS`) are analysed below. In particular, for such classes, the macro F1-score on both the validation and test splits is computed and finally printed."
      ],
      "metadata": {
        "id": "wZYJDzsOL9ui"
      }
    },
    {
      "cell_type": "code",
      "source": [
        "# Printing F1-score for classes NN, IN, WP$ and RBS.\n",
        "for model in best_models:\n",
        "  print(\"The F1-score, on the validation set, for class NN and model {} is: {}\".format(model, models_val_report[model][\"NN\"][\"f1-score\"]))\n",
        "  print(\"The F1-score, on the test set, for class NN and model {} is: {}\".format(model, models_test_report[model][\"NN\"][\"f1-score\"]))\n",
        "  print(\"The F1-score, on the validation set, for class IN and model {} is: {}\".format(model, models_val_report[model][\"IN\"][\"f1-score\"]))\n",
        "  print(\"The F1-score, on the test set, for class IN and model {} is: {}\".format(model, models_test_report[model][\"IN\"][\"f1-score\"]))\n",
        "  print(\"The F1-score, on the validation set, for class WP$ and model {} is: {}\".format(model, models_val_report[model][\"WP$\"][\"f1-score\"]))\n",
        "  print(\"The F1-score, on the test set, for class WP$ and model {} is: {}\".format(model, models_test_report[model][\"WP$\"][\"f1-score\"]))\n",
        "  print(\"The F1-score, on the validation set, for class RBS and model {} is: {}\".format(model, models_val_report[model][\"RBS\"][\"f1-score\"]))\n",
        "  print(\"The F1-score, on the test set, for class RBS and model {} is: {}\".format(model, models_test_report[model][\"RBS\"][\"f1-score\"]))"
      ],
      "metadata": {
        "colab": {
          "base_uri": "https://localhost:8080/"
        },
        "id": "CSIpwfgeL_hm",
        "outputId": "e6a5e352-19eb-4fea-ed8e-078743a1861b"
      },
      "execution_count": null,
      "outputs": [
        {
          "output_type": "stream",
          "name": "stdout",
          "text": [
            "The F1-score, on the validation set, for class NN and model m_0 is: 0.8597646550793479\n",
            "The F1-score, on the test set, for class NN and model m_0 is: 0.8752086811352253\n",
            "The F1-score, on the validation set, for class IN and model m_0 is: 0.9674247080516288\n",
            "The F1-score, on the test set, for class IN and model m_0 is: 0.9692642036634586\n",
            "The F1-score, on the validation set, for class WP$ and model m_0 is: 0.8571428571428571\n",
            "The F1-score, on the test set, for class WP$ and model m_0 is: 1.0\n",
            "The F1-score, on the validation set, for class RBS and model m_0 is: 0.6896551724137931\n",
            "The F1-score, on the test set, for class RBS and model m_0 is: 0.5714285714285715\n",
            "The F1-score, on the validation set, for class NN and model m_2 is: 0.8577373781623043\n",
            "The F1-score, on the test set, for class NN and model m_2 is: 0.8750264326496088\n",
            "The F1-score, on the validation set, for class IN and model m_2 is: 0.9722136461870947\n",
            "The F1-score, on the test set, for class IN and model m_2 is: 0.9693023255813953\n",
            "The F1-score, on the validation set, for class WP$ and model m_2 is: 1.0\n",
            "The F1-score, on the test set, for class WP$ and model m_2 is: 1.0\n",
            "The F1-score, on the validation set, for class RBS and model m_2 is: 0.6153846153846154\n",
            "The F1-score, on the test set, for class RBS and model m_2 is: 0.4\n"
          ]
        }
      ]
    },
    {
      "cell_type": "markdown",
      "source": [
        "Thus, the two most frequent classes, alongside one of the two least frequent classes (`WP$`) show a high macro F1-score. On the other hand, the score for class `RBS` results to be a relatively low score.\n",
        "\n",
        "Then, the macro precision and macro recall values are computed for both the validation and test plits."
      ],
      "metadata": {
        "id": "vgVVWuVyIv4e"
      }
    },
    {
      "cell_type": "code",
      "source": [
        "# Computing macro precision and macro recall for best models.\n",
        "for model in best_models:\n",
        "\n",
        "  val_precision = 0\n",
        "  test_precision = 0\n",
        "  val_recall = 0\n",
        "  test_recall = 0\n",
        "\n",
        "  for tag in list(tag_to_index.keys()):\n",
        "\n",
        "    # Escluding punctuation/symbols.\n",
        "    if tag not in punctuation_tag_list:\n",
        "      val_precision = val_precision + models_val_report[model][tag][\"precision\"]\n",
        "      test_precision = test_precision + models_test_report[model][tag][\"precision\"]\n",
        "      val_recall = val_recall + models_val_report[model][tag][\"recall\"]\n",
        "      test_recall = test_recall + models_test_report[model][tag][\"recall\"]\n",
        "\n",
        "  val_precision = val_precision / (len(list(tag_to_index.keys())) - len(punctuation_tag_list))\n",
        "  test_precision = test_precision / (len(list(tag_to_index.keys())) - len(punctuation_tag_list))\n",
        "  val_recall = val_recall / (len(list(tag_to_index.keys())) - len(punctuation_tag_list))\n",
        "  test_recall = test_recall / (len(list(tag_to_index.keys())) - len(punctuation_tag_list))\n",
        "\n",
        "  print(f\"The macro precision, on the validation set, for model {model} is: {val_precision}.\")\n",
        "  print(f\"The macro precision, on the test set, for model {model} is: {test_precision}.\")\n",
        "  print(f\"The macro recall, on the validation set, for model {model} is: {val_recall}.\")\n",
        "  print(f\"The macro recall, on the test set, for model {model} is: {test_recall}.\")"
      ],
      "metadata": {
        "id": "V46BDGCUElps",
        "colab": {
          "base_uri": "https://localhost:8080/"
        },
        "outputId": "e058180a-1b83-4247-bd76-1629e39ff42b"
      },
      "execution_count": null,
      "outputs": [
        {
          "output_type": "stream",
          "name": "stdout",
          "text": [
            "The macro precision, on the validation set, for model m_0 is: 0.7949423599795876.\n",
            "The macro precision, on the test set, for model m_0 is: 0.7859061522269339.\n",
            "The macro recall, on the validation set, for model m_0 is: 0.7777471631723517.\n",
            "The macro recall, on the test set, for model m_0 is: 0.7872453784448298.\n",
            "The macro precision, on the validation set, for model m_2 is: 0.7795868588428165.\n",
            "The macro precision, on the test set, for model m_2 is: 0.7601004062955243.\n",
            "The macro recall, on the validation set, for model m_2 is: 0.777734976345458.\n",
            "The macro recall, on the test set, for model m_2 is: 0.7575691496206607.\n"
          ]
        }
      ]
    },
    {
      "cell_type": "markdown",
      "source": [
        "Just like in the case of macro F1-scores, also macro precision and macro recall on validation and test splits are similar.\n",
        "\n",
        "The next cell defines the `get_confusion_matrix` function that is able to compute the confusion matrix for a specific data split. In particular, this function is defined in such a way to not consider punctuation, symbols, and zero-support classes. This is done by inserting a specific row/column, called `OTHERS`, which includes all punctuation, symbols and zero-support tags. Lastly, the computed matrices are normalized in a row-wise manner, highlighting recall information about each class."
      ],
      "metadata": {
        "id": "iz0JlmwZJarl"
      }
    },
    {
      "cell_type": "code",
      "source": [
        "# Computes confusion matrix escluding punctuation/symbols.\n",
        "def get_confusion_matrix(true_labels, pred_labels, punctuation_tag_list, zero_support_indexes, tag_to_index, norm = None):\n",
        "\n",
        "  # Computing list of unique classes.\n",
        "  true, pred, punctuation_indexes = get_masked_labels(true_labels, pred_labels, tag_to_index, punctuation_tag_list)\n",
        "  true_classes = np.unique(true)\n",
        "\n",
        "  # List containing indexes of punctuation tags or zero-support tags.\n",
        "  to_be_removed = []\n",
        "  to_be_removed.extend(punctuation_indexes)\n",
        "  to_be_removed.extend(zero_support_indexes)\n",
        "  to_be_removed = list(dict.fromkeys(to_be_removed))\n",
        "\n",
        "  # Defining a dictionary (map) that allows mapping each class to a specific matrix row/column.\n",
        "  keys = list(np.arange(0, len(list(tag_to_index.keys())), 1))\n",
        "  values = list(np.arange(0, len(true_classes), 1))\n",
        "  for i in to_be_removed:\n",
        "    values.insert(i, -1)\n",
        "  map = dict([(key, value) for key, value in zip(keys, values)])\n",
        "\n",
        "  # Computing the confusion matrix. Punctuation/symbols are mapped onto index -1.\n",
        "  confusion_matrix = np.zeros((len(true_classes) + 1, len(true_classes) + 1), dtype = int)\n",
        "  for i in range(len(true)):\n",
        "    confusion_matrix[map[true[i]], map[pred[i]]] = confusion_matrix[map[true[i]], map[pred[i]]] + 1\n",
        "\n",
        "  # Normalizing.\n",
        "  if norm == \"true\": \n",
        "    confusion_matrix = normalize(confusion_matrix, axis = 1, norm = \"l1\")\n",
        "  if norm == \"pred\": \n",
        "    confusion_matrix = normalize(confusion_matrix, axis = 0, norm = \"l1\")\n",
        "\n",
        "  # Returning confusion matrix.\n",
        "  return confusion_matrix, true_classes\n",
        "\n",
        "# Computing zero-support indexes.\n",
        "zero_support_indexes = [index + 1 for index in np.argwhere(np.array(test_counts) == 0).flatten()]\n",
        "\n",
        "# Computing and plotting confusion matrix for each best model.\n",
        "for model in best_models:\n",
        "\n",
        "  # Attributes.\n",
        "  confusion_matrix, true_classes = get_confusion_matrix(test_tags.flatten(),\n",
        "                                                        np.argmax(best_test_pred[model], axis = 2).flatten(),\n",
        "                                                        punctuation_tag_list,\n",
        "                                                        zero_support_indexes,\n",
        "                                                        tag_to_index,\n",
        "                                                        \"true\")\n",
        "  labels = [tag for index in true_classes for tag, value in tag_to_index.items() if value == index]\n",
        "  labels.append(\"OTHERS\")\n",
        "\n",
        "  # Plot.\n",
        "  fig, ax = plt.subplots(figsize = (16, 16))\n",
        "  ConfusionMatrixDisplay(confusion_matrix, display_labels = labels).plot(ax = ax, cmap = plt.cm.Blues, xticks_rotation = \"vertical\", values_format = \".2f\", colorbar = False)\n",
        "\n",
        "  fig.savefig(f\"{figures_path}/confusion_matrix_{model}.pdf\", bbox_inches = \"tight\")\n",
        "  plt.show()"
      ],
      "metadata": {
        "id": "q6tUlpYDGSuf",
        "colab": {
          "base_uri": "https://localhost:8080/",
          "height": 1000
        },
        "outputId": "0fd234aa-56ec-4b27-847b-b772c0680b49"
      },
      "execution_count": null,
      "outputs": [
        {
          "output_type": "display_data",
          "data": {
            "text/plain": [
              "<Figure size 1152x1152 with 1 Axes>"
            ],
            "image/png": "[encoded data removed]"
          },
          "metadata": {
            "needs_background": "light"
          }
        },
        {
          "output_type": "display_data",
          "data": {
            "text/plain": [
              "<Figure size 1152x1152 with 1 Axes>"
            ],
            "image/png": "[encoded data removed]"
          },
          "metadata": {
            "needs_background": "light"
          }
        }
      ]
    },
    {
      "cell_type": "markdown",
      "source": [
        "Laslty, some examples of the most miss-classified sentences, without considering punctuation, are shown below."
      ],
      "metadata": {
        "id": "axujshrMLOsz"
      }
    },
    {
      "cell_type": "code",
      "source": [
        "# Number of top error rates.\n",
        "TOP_ERROR_RATES = 5\n",
        "\n",
        "# Computing sentences with the biggest number of error.\n",
        "for model in best_models:\n",
        "\n",
        "  print(f\"Model {model}:\\n\")\n",
        "\n",
        "  # Error rates.\n",
        "  error_rates = []\n",
        "  for i in range(len(test_tags)):\n",
        "    true, pred, punctuation_indexes = get_masked_labels(test_tags[i], np.argmax(best_test_pred[model], axis = 2)[i], tag_to_index, punctuation_tag_list)\n",
        "    error_rates.append(np.sum(true != pred) * 100 / len(true))\n",
        "\n",
        "  # Computing the top error rates.\n",
        "  most_mistakes = np.argpartition(error_rates, -TOP_ERROR_RATES)[-TOP_ERROR_RATES:]\n",
        "\n",
        "  # Computing and printing sentences, error rates, true tags and predicted tags.\n",
        "  for i in range(TOP_ERROR_RATES):\n",
        "    print(\"The error rate for sentence {} is: {}%.\".format(list(test[\"sentence\"])[most_mistakes[i]], error_rates[most_mistakes[i]]))\n",
        "    true, pred, _ = get_masked_labels(test_tags[most_mistakes[i]], np.argmax(best_test_pred[model], axis = 2)[most_mistakes[i]], tag_to_index, punctuation_tag_list)\n",
        "    true = [tag for index in true for tag, value in tag_to_index.items() if value == index]\n",
        "    pred = [tag for index in pred for tag, value in tag_to_index.items() if value == index]\n",
        "    print(\"The true tags, without punctuation, are {}, while the predicted ones are {}.\\n\".format(true, pred))\n",
        "  print()"
      ],
      "metadata": {
        "id": "moZaeea4EREu",
        "colab": {
          "base_uri": "https://localhost:8080/"
        },
        "outputId": "41869042-f914-4103-f958-7d515a4c6ea8"
      },
      "execution_count": null,
      "outputs": [
        {
          "output_type": "stream",
          "name": "stdout",
          "text": [
            "Model m_0:\n",
            "\n",
            "The error rate for sentence ['Telerate', 'provides', 'an', 'electronic', 'financial', 'information', 'network', '.'] is: 42.857142857142854%.\n",
            "The true tags, without punctuation, are ['NNP', 'VBZ', 'DT', 'JJ', 'JJ', 'NN', 'NN'], while the predicted ones are ['VBZ', 'VBZ', 'DT', 'JJ', 'NNP', 'NN', 'NNS'].\n",
            "\n",
            "The error rate for sentence ['Wedtech', \"'s\", 'scammers', 'simply', 'bribed', 'them', 'to', 'shut', 'up', '.'] is: 44.44444444444444%.\n",
            "The true tags, without punctuation, are ['NNP', 'POS', 'NNS', 'RB', 'VBD', 'PRP', 'TO', 'VB', 'IN'], while the predicted ones are ['NN', 'POS', 'NNS', 'PRP', 'VBD', 'PRP', 'TO', 'RB', 'RP'].\n",
            "\n",
            "The error rate for sentence ['Business', ':', 'Savings', 'and', 'loan'] is: 50.0%.\n",
            "The true tags, without punctuation, are ['NN', 'NNS', 'CC', 'NN'], while the predicted ones are ['NNP', 'NNS', 'CC', 'NNP'].\n",
            "\n",
            "The error rate for sentence ['GRAINS', 'AND', 'SOYBEANS', ':'] is: 66.66666666666667%.\n",
            "The true tags, without punctuation, are ['NNPS', 'NNP', 'NNPS'], while the predicted ones are ['NNS', 'CC', 'NNPS'].\n",
            "\n",
            "The error rate for sentence ['COPPER', ':'] is: 100.0%.\n",
            "The true tags, without punctuation, are ['NNP'], while the predicted ones are ['NNPS'].\n",
            "\n",
            "\n",
            "Model m_2:\n",
            "\n",
            "The error rate for sentence ['Dow', 'Jones', 'industrials', '2645.90', ',', 'up', '0.82', ';', 'transportation', '1206.26', ',', 'up', '1.25', ';', 'utilities', '220.45', ',', 'up', '1.26', '.'] is: 42.857142857142854%.\n",
            "The true tags, without punctuation, are ['NNP', 'NNP', 'NNS', 'CD', 'RB', 'CD', 'NN', 'CD', 'RB', 'CD', 'NNS', 'CD', 'RB', 'CD'], while the predicted ones are ['NNP', 'NNP', 'NNS', 'NNP', 'RB', 'CD', 'NNP', 'NNP', 'IN', 'CD', 'NNPS', 'NNP', 'RB', 'CD'].\n",
            "\n",
            "The error rate for sentence ['Per-share', 'net', 'rose', 'to', '7.84', 'yen', 'from', '6.53', 'yen', '.'] is: 44.44444444444444%.\n",
            "The true tags, without punctuation, are ['JJ', 'NN', 'VBD', 'TO', 'CD', 'NN', 'IN', 'CD', 'NN'], while the predicted ones are ['-LRB-', 'JJ', 'VBD', 'TO', 'CD', 'NNS', 'IN', 'CD', 'NNS'].\n",
            "\n",
            "The error rate for sentence ['Dollar', ':', '143.80', 'yen', ',', 'up', '0.95', ';', '1.8500', 'marks', ',', 'up', '0.0085', '.'] is: 44.44444444444444%.\n",
            "The true tags, without punctuation, are ['NN', 'CD', 'NN', 'RB', 'CD', 'CD', 'NNS', 'RB', 'CD'], while the predicted ones are ['NNP', 'CD', 'NNS', 'IN', 'CD', 'CD', 'VBZ', 'RB', 'CD'].\n",
            "\n",
            "The error rate for sentence ['GRAINS', 'AND', 'SOYBEANS', ':'] is: 100.0%.\n",
            "The true tags, without punctuation, are ['NNPS', 'NNP', 'NNPS'], while the predicted ones are ['NNS', 'CC', 'NNP'].\n",
            "\n",
            "The error rate for sentence ['COPPER', ':'] is: 100.0%.\n",
            "The true tags, without punctuation, are ['NNP'], while the predicted ones are ['NN'].\n",
            "\n",
            "\n"
          ]
        }
      ]
    },
    {
      "cell_type": "markdown",
      "source": [
        "From such sentences, one can notice the following:\n",
        "\n",
        "*   The most miss-classified tags are always very similar to the real tags. For example, in many of these sentences, the models seem to not make a distinction between noun classes (i.e. `NN`, `NNS`, `NNP`, `NNPS` tags). Thus, these classes are miss-classified a lot. This issue is also confirmed by the confusion matrices computed above.\n",
        "\n",
        "  Such problem is discussed in more details by Manning *et al*. (2011)<sup>[[3]](#references)</sup>, who proved that plural nouns are usually mistaken with singular nouns.\n",
        "\n",
        "*   Manning *et al*. (2011)<sup>[[3]](#references)</sup> also proved that proper nouns can be mistaken with non-nouns tags. For example, in the sentence `['Telerate', 'provides', 'an', 'electronic', 'financial', 'information', 'network', '.']`, the $m_0^4$ model classifies `Telerate` with `VBZ` instead of `NNP`. It is interesting how the word `Telerate` indeed resembles a verb, and that the model is able to capture this structural similarity.\n",
        "\n",
        "*   The sentence `['GRAINS', 'AND', 'SOYBEANS', ':']` is labelled with `['NNPS', 'NNP', 'NNPS']`, which seems to be a mistake. Indeed, both models are able to detect such mistake, and to label the word `AND` with the proper tag, namely `CC` (i.e. coordinating conjunction). This may be due to some labelling error of the original dataset.\n",
        "\n",
        "*   The shortest sentences have the highest error rate. Moreover, sentences like `['COPPER', ':']` and `['GRAINS', 'AND', 'SOYBEANS', ':']` seem to be ill-formed English sentences (again, this may be due to some labelling error of the original dataset.), that are among the most miss-classified sentences of both models."
      ],
      "metadata": {
        "id": "uSDNgMe1TiOo"
      }
    },
    {
      "cell_type": "markdown",
      "source": [
        "## References <a name=\"references\"></a>"
      ],
      "metadata": {
        "id": "5L80Ft1EN8bu"
      }
    },
    {
      "cell_type": "markdown",
      "source": [
        "1. NLTK, Dependency Treebank, [https://raw.githubusercontent.com/nltk/nltk_data/gh-pages/packages/corpora/dependency_treebank.zip](https://raw.githubusercontent.com/nltk/nltk_data/gh-pages/packages/corpora/dependency_treebank.zip).\n",
        "\n",
        "2. GloVe: Global Vectors for Word Representation, [https://nlp.stanford.edu/projects/glove/](https://nlp.stanford.edu/projects/glove/).\n",
        "\n",
        "3. Manning, C.D. (2011). *Part-of-Speech Tagging from 97% to 100%: Is It Time for Some Linguistics?*. In: Gelbukh, A.F. (eds) Computational Linguistics and Intelligent Text Processing. CICLing 2011. Lecture Notes in Computer Science, vol 6608. Springer, Berlin, Heidelberg. [https://doi.org/10.1007/978-3-642-19400-9_14](https://doi.org/10.1007/978-3-642-19400-9_14)."
      ],
      "metadata": {
        "id": "Ueo1pGUAODge"
      }
    }
  ],
  "metadata": {
    "accelerator": "GPU",
    "colab": {
      "provenance": [],
      "collapsed_sections": [
        "6OBJyXJaTZzd",
        "c9thEzbNTfiz",
        "T1z-CH3-KqdL",
        "Eefy9o5A6e6x",
        "t4YdLEyuxPuH",
        "jPtlS40Jx9gR",
        "JVqtTIGn9qUo",
        "GIOxs5nNC3yG",
        "BXJiM4jgQuAb",
        "mzcYbRABcNfd",
        "5L80Ft1EN8bu"
      ]
    },
    "gpuClass": "standard",
    "kernelspec": {
      "display_name": "Python 3",
      "name": "python3"
    },
    "language_info": {
      "name": "python"
    }
  },
  "nbformat": 4,
  "nbformat_minor": 0
}